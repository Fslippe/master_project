{
 "cells": [
  {
   "cell_type": "code",
   "execution_count": 1,
   "metadata": {},
   "outputs": [
    {
     "name": "stdout",
     "output_type": "stream",
     "text": [
      "total cores: 256\n"
     ]
    }
   ],
   "source": [
    "import os\n",
    "from keras.layers import Input, Dense, Flatten, Reshape\n",
    "from sklearn.feature_extraction import image as sk_image\n",
    "from concurrent.futures import ProcessPoolExecutor\n",
    "from keras.models import Model\n",
    "import xarray as xr\n",
    "import pandas as pd\n",
    "import numpy as np\n",
    "import matplotlib.pyplot as plt\n",
    "import cartopy.crs as ccrs\n",
    "from sklearn.cluster import AgglomerativeClustering\n",
    "from scipy.signal import convolve2d\n",
    "from sklearn.cluster import KMeans\n",
    "import numpy as np\n",
    "import tensorflow as tf\n",
    "from tensorflow import keras\n",
    "from sklearn.cluster import KMeans\n",
    "import matplotlib.pyplot as plt\n",
    "from sklearn.cluster import DBSCAN\n",
    "from pyhdf.SD import SD, SDC\n",
    "import matplotlib as mpl\n",
    "#tf.config.threading.set_inter_op_parallelism_threads(1)\n",
    "from extract_training_data import *\n",
    "from sklearn.feature_extraction.image import extract_patches_2d, reconstruct_from_patches_2d\n",
    "from pyhdf.error import HDF4Error\n",
    "from functions import *\n",
    "from tensorflow.keras.mixed_precision import experimental as mixed_precision\n",
    "from sklearn.model_selection import train_test_split\n",
    "\n",
    "import random\n"
   ]
  },
  {
   "cell_type": "code",
   "execution_count": 2,
   "metadata": {},
   "outputs": [
    {
     "name": "stdout",
     "output_type": "stream",
     "text": [
      "1 Physical GPUs, 1 Logical GPUs\n"
     ]
    },
    {
     "name": "stderr",
     "output_type": "stream",
     "text": [
      "2023-10-09 19:15:03.961900: I tensorflow/core/common_runtime/gpu/gpu_device.cc:1525] Created device /job:localhost/replica:0/task:0/device:GPU:0 with 21336 MB memory:  -> device: 0, name: Quadro RTX 6000, pci bus id: 0000:25:00.0, compute capability: 7.5\n"
     ]
    }
   ],
   "source": [
    "gpus = tf.config.experimental.list_physical_devices('GPU')\n",
    "if gpus:\n",
    "    try:\n",
    "        # Currently, memory growth needs to be the same across GPUs\n",
    "        for gpu in gpus:\n",
    "            tf.config.experimental.set_memory_growth(gpu, True)\n",
    "        logical_gpus = tf.config.experimental.list_logical_devices('GPU')\n",
    "        print(len(gpus), \"Physical GPUs,\", len(logical_gpus), \"Logical GPUs\")\n",
    "    except RuntimeError as e:\n",
    "        # Memory growth must be set before GPUs have been initialized\n",
    "        print(e)\n",
    "\n",
    "# policy = mixed_precision.Policy('mixed_float16')\n",
    "# mixed_precision.set_policy(policy)\n",
    "\n",
    "#bands = [6, 7, 20, 28, 28, 31]\n"
   ]
  },
  {
   "cell_type": "code",
   "execution_count": 3,
   "metadata": {},
   "outputs": [],
   "source": [
    "#bands = [6,20,29]\n",
    "#bands = [6,7,20,28,29,31]\n",
    "bands = [29]\n"
   ]
  },
  {
   "cell_type": "code",
   "execution_count": 36,
   "metadata": {},
   "outputs": [
    {
     "name": "stdout",
     "output_type": "stream",
     "text": [
      "total cores: 256\n",
      "['/scratch/fslippe/modis/MOD02/daytime_1km/', '/scratch/fslippe/modis/MOD02/night_1km/', '/scratch/fslippe/modis/MOD02/boundary_1km/']\n"
     ]
    },
    {
     "name": "stderr",
     "output_type": "stream",
     "text": [
      "100%|██████████| 151/151 [02:47<00:00,  1.11s/it] \n"
     ]
    },
    {
     "data": {
      "text/plain": [
       "3661"
      ]
     },
     "execution_count": 36,
     "metadata": {},
     "output_type": "execute_result"
    }
   ],
   "source": [
    "### PROCESSING .hdf files\n",
    "import extract_training_data\n",
    "import importlib\n",
    "importlib.reload(extract_training_data)\n",
    "from extract_training_data import *\n",
    "#folder = \"/uio/hume/student-u37/fslippe/data/training_data/MOD02QKM/normalized_data/\"\n",
    "folder = \"/scratch/fslippe/modis/MOD02/daytime_1km/ /scratch/fslippe/modis/MOD02/night_1km/ /scratch/fslippe/modis/MOD02/boundary_1km/\"\n",
    "\n",
    "#folder = \"/uio/hume/student-u37/fslippe/data/nird_mount/MOD02QKM_202012-202104/normalized_data/\"\n",
    "\n",
    "start = \"20201201\"\n",
    "end = \"20210430\"\n",
    "#start = \"20210404\"\n",
    "\n",
    "#end = \"20210406\"\n",
    "\n",
    "#end = \"20201230\"\n",
    "\n",
    "#dates = [\"20210303\"]#, \"20210322\"]#, \"20210323\"]\n",
    "#dates_converted = []\n",
    "#for date in dates:\n",
    "#    dates_converted.append(convert_to_day_of_year(date))\n",
    "#bands = [6,20,29]\n",
    "\n",
    "start_converted = convert_to_day_of_year(start)\n",
    "end_converted = convert_to_day_of_year(end)\n",
    "#print(start_converted)\n",
    "#print(end_converted)\n",
    "#x = [xi for xi in  extract_250m_data(folder, bands=[1], date_list=dates_converted) if xi.shape[0] > 256]\n",
    "x, dates, masks = extract_1km_data(folder, bands=bands, start_date=start_converted, end_date=end_converted)\n",
    "x, dates, masks = zip(*[(xi, date, mask) for xi, date, mask in zip(x, dates, masks) if (xi.shape[0] > 64) and (xi.shape[1] > 64)])\n",
    "x = list(x)\n",
    "dates = list(dates)\n",
    "len(x)\n",
    "#x = extract_250m_data(folder, bands=[1], start_date=start_converted, end_date=end_converted)\n",
    "\n",
    "\n"
   ]
  },
  {
   "cell_type": "code",
   "execution_count": 37,
   "metadata": {},
   "outputs": [
    {
     "name": "stdout",
     "output_type": "stream",
     "text": [
      "Input should already be normalized. Call self.normalize to normalize list of data\n"
     ]
    }
   ],
   "source": [
    "import autoencoder\n",
    "import importlib\n",
    "importlib.reload(autoencoder)\n",
    "from autoencoder import SobelFilterLayer, SimpleAutoencoder\n",
    "patch_size = 64\n",
    "\n",
    "autoencoder = SimpleAutoencoder(len(bands), patch_size, patch_size)\n",
    "#x = autoencoder.normalize(x)\n",
    "#optimizer = mixed_precision.LossScaleOptimizer(tf.keras.optimizers.Adam(learning_rate=1e-4), loss_scale='dynamic')\n",
    "optimizer = tf.keras.optimizers.Adam(learning_rate=1e-4)\n",
    "\n",
    "model = autoencoder.model(optimizer=optimizer, loss=\"combined\")"
   ]
  },
  {
   "cell_type": "code",
   "execution_count": 38,
   "metadata": {},
   "outputs": [
    {
     "data": {
      "text/plain": [
       "(628777, 64, 64, 1)"
      ]
     },
     "execution_count": 38,
     "metadata": {},
     "output_type": "execute_result"
    }
   ],
   "source": [
    "patches = np.concatenate([autoencoder.extract_patches(n_d, np.float32(mask), mask_threshold=0.9) for (n_d, mask) in zip(x, masks)], axis=0)\n",
    "patches = np.where(patches < 0, 0, patches)\n",
    "patches.shape"
   ]
  },
  {
   "cell_type": "code",
   "execution_count": 39,
   "metadata": {},
   "outputs": [
    {
     "name": "stdout",
     "output_type": "stream",
     "text": [
      "finished split\n"
     ]
    }
   ],
   "source": [
    "# Splitting the data\n",
    "patches, val_data = train_test_split(patches, test_size=0.15, random_state=42)\n",
    "print(\"finished split\")"
   ]
  },
  {
   "cell_type": "code",
   "execution_count": 40,
   "metadata": {},
   "outputs": [
    {
     "name": "stdout",
     "output_type": "stream",
     "text": [
      "(534460, 64, 64, 1)\n",
      "(94317, 64, 64, 1)\n"
     ]
    },
    {
     "data": {
      "text/plain": [
       "dtype('float32')"
      ]
     },
     "execution_count": 40,
     "metadata": {},
     "output_type": "execute_result"
    }
   ],
   "source": [
    "print(patches.shape)\n",
    "print(val_data.shape)\n",
    "patches.dtype"
   ]
  },
  {
   "cell_type": "code",
   "execution_count": 41,
   "metadata": {},
   "outputs": [
    {
     "name": "stdout",
     "output_type": "stream",
     "text": [
      "[[[[10.833669]]]]\n"
     ]
    }
   ],
   "source": [
    "min_val = 0\n",
    "max_val = np.max(patches, axis=(0,1,2), keepdims=True)\n",
    "print(max_val)\n",
    "patches = (patches) / (max_val)\n",
    "val_data = (val_data) / (max_val)\n",
    "np.save(\"/uio/hume/student-u37/fslippe/data/models/winter_2020_21_dnb_landmask_band(29)_max_vals\", max_val)"
   ]
  },
  {
   "cell_type": "code",
   "execution_count": 42,
   "metadata": {},
   "outputs": [
    {
     "name": "stdout",
     "output_type": "stream",
     "text": [
      "1 Physical GPUs, 1 Logical GPUs\n",
      "0\n",
      "150000\n",
      "300000\n",
      "450000\n"
     ]
    }
   ],
   "source": [
    "from write_to_tf import * \n",
    "patches_per_file = 150000 \n",
    "\n",
    "for i in range(0, len(patches), patches_per_file):\n",
    "    print(i)\n",
    "    chunk = patches[i: i+patches_per_file]\n",
    "    write_tfrecord(f'/scratch/fslippe/modis/MOD02/training_data/tf_data/normalized_trainingpatches_dnb_landmask_150k_band(29)_winter20_21_{i//patches_per_file}.tfrecord', chunk)\n"
   ]
  },
  {
   "cell_type": "code",
   "execution_count": 43,
   "metadata": {},
   "outputs": [],
   "source": [
    "np.save(\"/scratch/fslippe/modis/MOD02/test_data/normalized_testpatches_dnb_landmask_150k_band(29)_winter20_21.npy\", val_data)\n",
    "#np.save(\"/scratch/fslippe/modis/MOD02/training_data/normalized_trainingpatches_band(1)_winter20_21.npy\", patches)\n",
    "# val_data = np.load(\"/uio/hume/student-u37/fslippe/data/models/winter_2020_21_val_patches.npy\")\n",
    "# patches = np.load(\"/uio/hume/student-u37/fslippe/data/models/winter_2020_21_train_patches.npy\")[:int(170e3)]\n"
   ]
  },
  {
   "cell_type": "code",
   "execution_count": 10,
   "metadata": {},
   "outputs": [
    {
     "name": "stdout",
     "output_type": "stream",
     "text": [
      "float32\n"
     ]
    }
   ],
   "source": [
    "### SAVE TRAIN TEST PATCHES \n",
    "# patches = np.load(\"/scratch/fslippe/modis/MOD02/training_data/normalized_trainingpatches_bands6,20,29_winter20_21.npy\")[::4]\n",
    "# val_data  = np.load(\"/scratch/fslippe/modis/MOD02/test_data/normalized_testpatches_bands6,20,29_winter20_21.npy\")[::4]\n",
    "# patches.shape\n",
    "\n",
    "# print(np.mean(patches, axis=(0,1,2)))\n"
   ]
  },
  {
   "cell_type": "code",
   "execution_count": 44,
   "metadata": {},
   "outputs": [
    {
     "name": "stderr",
     "output_type": "stream",
     "text": [
      "2023-10-09 20:36:10.046965: W tensorflow/core/common_runtime/bfc_allocator.cc:462] Allocator (GPU_0_bfc) ran out of memory trying to allocate 8.15GiB (rounded to 8756592640)requested by op _EagerConst\n",
      "If the cause is memory fragmentation maybe the environment variable 'TF_GPU_ALLOCATOR=cuda_malloc_async' will improve the situation. \n",
      "Current allocation summary follows.\n",
      "Current allocation summary follows.\n",
      "2023-10-09 20:36:10.047087: I tensorflow/core/common_runtime/bfc_allocator.cc:1010] BFCAllocator dump for GPU_0_bfc\n",
      "2023-10-09 20:36:10.047239: I tensorflow/core/common_runtime/bfc_allocator.cc:1017] Bin (256): \tTotal Chunks: 49, Chunks in use: 47. 12.2KiB allocated for chunks. 11.8KiB in use in bin. 3.6KiB client-requested in use in bin.\n",
      "2023-10-09 20:36:10.047247: I tensorflow/core/common_runtime/bfc_allocator.cc:1017] Bin (512): \tTotal Chunks: 14, Chunks in use: 11. 8.0KiB allocated for chunks. 6.2KiB in use in bin. 5.7KiB client-requested in use in bin.\n",
      "2023-10-09 20:36:10.047253: I tensorflow/core/common_runtime/bfc_allocator.cc:1017] Bin (1024): \tTotal Chunks: 6, Chunks in use: 1. 8.8KiB allocated for chunks. 1.2KiB in use in bin. 1.0KiB client-requested in use in bin.\n",
      "2023-10-09 20:36:10.047259: I tensorflow/core/common_runtime/bfc_allocator.cc:1017] Bin (2048): \tTotal Chunks: 2, Chunks in use: 0. 5.0KiB allocated for chunks. 0B in use in bin. 0B client-requested in use in bin.\n",
      "2023-10-09 20:36:10.047266: I tensorflow/core/common_runtime/bfc_allocator.cc:1017] Bin (4096): \tTotal Chunks: 0, Chunks in use: 0. 0B allocated for chunks. 0B in use in bin. 0B client-requested in use in bin.\n",
      "2023-10-09 20:36:10.047272: I tensorflow/core/common_runtime/bfc_allocator.cc:1017] Bin (8192): \tTotal Chunks: 1, Chunks in use: 1. 9.0KiB allocated for chunks. 9.0KiB in use in bin. 9.0KiB client-requested in use in bin.\n",
      "2023-10-09 20:36:10.047279: I tensorflow/core/common_runtime/bfc_allocator.cc:1017] Bin (16384): \tTotal Chunks: 3, Chunks in use: 3. 54.0KiB allocated for chunks. 54.0KiB in use in bin. 54.0KiB client-requested in use in bin.\n",
      "2023-10-09 20:36:10.047285: I tensorflow/core/common_runtime/bfc_allocator.cc:1017] Bin (32768): \tTotal Chunks: 1, Chunks in use: 1. 36.0KiB allocated for chunks. 36.0KiB in use in bin. 36.0KiB client-requested in use in bin.\n",
      "2023-10-09 20:36:10.047304: I tensorflow/core/common_runtime/bfc_allocator.cc:1017] Bin (65536): \tTotal Chunks: 3, Chunks in use: 3. 229.5KiB allocated for chunks. 229.5KiB in use in bin. 216.0KiB client-requested in use in bin.\n",
      "2023-10-09 20:36:10.047310: I tensorflow/core/common_runtime/bfc_allocator.cc:1017] Bin (131072): \tTotal Chunks: 3, Chunks in use: 1. 450.0KiB allocated for chunks. 144.0KiB in use in bin. 144.0KiB client-requested in use in bin.\n",
      "2023-10-09 20:36:10.047316: I tensorflow/core/common_runtime/bfc_allocator.cc:1017] Bin (262144): \tTotal Chunks: 4, Chunks in use: 3. 1.12MiB allocated for chunks. 864.0KiB in use in bin. 864.0KiB client-requested in use in bin.\n",
      "2023-10-09 20:36:10.047322: I tensorflow/core/common_runtime/bfc_allocator.cc:1017] Bin (524288): \tTotal Chunks: 4, Chunks in use: 1. 2.95MiB allocated for chunks. 576.0KiB in use in bin. 576.0KiB client-requested in use in bin.\n",
      "2023-10-09 20:36:10.047328: I tensorflow/core/common_runtime/bfc_allocator.cc:1017] Bin (1048576): \tTotal Chunks: 2, Chunks in use: 1. 2.78MiB allocated for chunks. 1.09MiB in use in bin. 576.0KiB client-requested in use in bin.\n",
      "2023-10-09 20:36:10.047334: I tensorflow/core/common_runtime/bfc_allocator.cc:1017] Bin (2097152): \tTotal Chunks: 1, Chunks in use: 0. 2.88MiB allocated for chunks. 0B in use in bin. 0B client-requested in use in bin.\n",
      "2023-10-09 20:36:10.047340: I tensorflow/core/common_runtime/bfc_allocator.cc:1017] Bin (4194304): \tTotal Chunks: 2, Chunks in use: 0. 9.79MiB allocated for chunks. 0B in use in bin. 0B client-requested in use in bin.\n",
      "2023-10-09 20:36:10.047346: I tensorflow/core/common_runtime/bfc_allocator.cc:1017] Bin (8388608): \tTotal Chunks: 2, Chunks in use: 0. 20.94MiB allocated for chunks. 0B in use in bin. 0B client-requested in use in bin.\n",
      "2023-10-09 20:36:10.047351: I tensorflow/core/common_runtime/bfc_allocator.cc:1017] Bin (16777216): \tTotal Chunks: 1, Chunks in use: 0. 20.75MiB allocated for chunks. 0B in use in bin. 0B client-requested in use in bin.\n",
      "2023-10-09 20:36:10.047356: I tensorflow/core/common_runtime/bfc_allocator.cc:1017] Bin (33554432): \tTotal Chunks: 0, Chunks in use: 0. 0B allocated for chunks. 0B in use in bin. 0B client-requested in use in bin.\n",
      "2023-10-09 20:36:10.047364: I tensorflow/core/common_runtime/bfc_allocator.cc:1017] Bin (67108864): \tTotal Chunks: 0, Chunks in use: 0. 0B allocated for chunks. 0B in use in bin. 0B client-requested in use in bin.\n",
      "2023-10-09 20:36:10.047369: I tensorflow/core/common_runtime/bfc_allocator.cc:1017] Bin (134217728): \tTotal Chunks: 0, Chunks in use: 0. 0B allocated for chunks. 0B in use in bin. 0B client-requested in use in bin.\n",
      "2023-10-09 20:36:10.047375: I tensorflow/core/common_runtime/bfc_allocator.cc:1017] Bin (268435456): \tTotal Chunks: 2, Chunks in use: 1. 16.00GiB allocated for chunks. 8.15GiB in use in bin. 8.15GiB client-requested in use in bin.\n",
      "2023-10-09 20:36:10.047381: I tensorflow/core/common_runtime/bfc_allocator.cc:1033] Bin for 8.15GiB was 256.00MiB, Chunk State: \n",
      "2023-10-09 20:36:10.047393: I tensorflow/core/common_runtime/bfc_allocator.cc:1039]   Size: 7.84GiB | Requested Size: 128B | in_use: 0 | bin_num: 20, prev:   Size: 8.15GiB | Requested Size: 8.15GiB | in_use: 1 | bin_num: -1\n",
      "2023-10-09 20:36:10.047398: I tensorflow/core/common_runtime/bfc_allocator.cc:1046] Next region of size 17179869184\n",
      "2023-10-09 20:36:10.047405: I tensorflow/core/common_runtime/bfc_allocator.cc:1066] InUse at 7f2bfc000000 of size 8756592640 next 587\n",
      "2023-10-09 20:36:10.047415: I tensorflow/core/common_runtime/bfc_allocator.cc:1066] Free  at 7f2e05ef0000 of size 8423276544 next 18446744073709551615\n",
      "2023-10-09 20:36:10.047420: I tensorflow/core/common_runtime/bfc_allocator.cc:1046] Next region of size 33554432\n",
      "2023-10-09 20:36:10.047425: I tensorflow/core/common_runtime/bfc_allocator.cc:1066] Free  at 7f4342000000 of size 4939776 next 683\n",
      "2023-10-09 20:36:10.047430: I tensorflow/core/common_runtime/bfc_allocator.cc:1066] InUse at 7f43424b6000 of size 36864 next 564\n",
      "2023-10-09 20:36:10.047435: I tensorflow/core/common_runtime/bfc_allocator.cc:1066] InUse at 7f43424bf000 of size 18432 next 563\n",
      "2023-10-09 20:36:10.047439: I tensorflow/core/common_runtime/bfc_allocator.cc:1066] Free  at 7f43424c3800 of size 165888 next 530\n",
      "2023-10-09 20:36:10.047444: I tensorflow/core/common_runtime/bfc_allocator.cc:1066] InUse at 7f43424ec000 of size 73728 next 641\n",
      "2023-10-09 20:36:10.047448: I tensorflow/core/common_runtime/bfc_allocator.cc:1066] Free  at 7f43424fe000 of size 1025024 next 547\n",
      "2023-10-09 20:36:10.047453: I tensorflow/core/common_runtime/bfc_allocator.cc:1066] InUse at 7f43425f8400 of size 256 next 551\n",
      "2023-10-09 20:36:10.047457: I tensorflow/core/common_runtime/bfc_allocator.cc:1066] InUse at 7f43425f8500 of size 256 next 558\n",
      "2023-10-09 20:36:10.047462: I tensorflow/core/common_runtime/bfc_allocator.cc:1066] InUse at 7f43425f8600 of size 256 next 492\n",
      "2023-10-09 20:36:10.047466: I tensorflow/core/common_runtime/bfc_allocator.cc:1066] InUse at 7f43425f8700 of size 256 next 552\n",
      "2023-10-09 20:36:10.047471: I tensorflow/core/common_runtime/bfc_allocator.cc:1066] Free  at 7f43425f8800 of size 768 next 555\n",
      "2023-10-09 20:36:10.047475: I tensorflow/core/common_runtime/bfc_allocator.cc:1066] InUse at 7f43425f8b00 of size 256 next 568\n",
      "2023-10-09 20:36:10.047480: I tensorflow/core/common_runtime/bfc_allocator.cc:1066] InUse at 7f43425f8c00 of size 256 next 550\n",
      "2023-10-09 20:36:10.047484: I tensorflow/core/common_runtime/bfc_allocator.cc:1066] InUse at 7f43425f8d00 of size 256 next 570\n",
      "2023-10-09 20:36:10.047489: I tensorflow/core/common_runtime/bfc_allocator.cc:1066] InUse at 7f43425f8e00 of size 256 next 553\n",
      "2023-10-09 20:36:10.047493: I tensorflow/core/common_runtime/bfc_allocator.cc:1066] InUse at 7f43425f8f00 of size 768 next 559\n",
      "2023-10-09 20:36:10.047498: I tensorflow/core/common_runtime/bfc_allocator.cc:1066] InUse at 7f43425f9200 of size 256 next 549\n",
      "2023-10-09 20:36:10.047502: I tensorflow/core/common_runtime/bfc_allocator.cc:1066] InUse at 7f43425f9300 of size 256 next 565\n",
      "2023-10-09 20:36:10.047507: I tensorflow/core/common_runtime/bfc_allocator.cc:1066] InUse at 7f43425f9400 of size 256 next 560\n",
      "2023-10-09 20:36:10.047512: I tensorflow/core/common_runtime/bfc_allocator.cc:1066] InUse at 7f43425f9500 of size 768 next 561\n",
      "2023-10-09 20:36:10.047516: I tensorflow/core/common_runtime/bfc_allocator.cc:1066] InUse at 7f43425f9800 of size 256 next 569\n",
      "2023-10-09 20:36:10.047521: I tensorflow/core/common_runtime/bfc_allocator.cc:1066] InUse at 7f43425f9900 of size 256 next 425\n",
      "2023-10-09 20:36:10.047525: I tensorflow/core/common_runtime/bfc_allocator.cc:1066] InUse at 7f43425f9a00 of size 256 next 541\n",
      "2023-10-09 20:36:10.047529: I tensorflow/core/common_runtime/bfc_allocator.cc:1066] InUse at 7f43425f9b00 of size 256 next 542\n",
      "2023-10-09 20:36:10.047534: I tensorflow/core/common_runtime/bfc_allocator.cc:1066] InUse at 7f43425f9c00 of size 256 next 545\n",
      "2023-10-09 20:36:10.047538: I tensorflow/core/common_runtime/bfc_allocator.cc:1066] InUse at 7f43425f9d00 of size 256 next 510\n",
      "2023-10-09 20:36:10.047542: I tensorflow/core/common_runtime/bfc_allocator.cc:1066] InUse at 7f43425f9e00 of size 256 next 502\n",
      "2023-10-09 20:36:10.047547: I tensorflow/core/common_runtime/bfc_allocator.cc:1066] InUse at 7f43425f9f00 of size 256 next 704\n",
      "2023-10-09 20:36:10.047551: I tensorflow/core/common_runtime/bfc_allocator.cc:1066] Free  at 7f43425fa000 of size 147456 next 687\n",
      "2023-10-09 20:36:10.047556: I tensorflow/core/common_runtime/bfc_allocator.cc:1066] InUse at 7f434261e000 of size 9216 next 557\n",
      "2023-10-09 20:36:10.047560: I tensorflow/core/common_runtime/bfc_allocator.cc:1066] InUse at 7f4342620400 of size 256 next 538\n",
      "2023-10-09 20:36:10.047565: I tensorflow/core/common_runtime/bfc_allocator.cc:1066] InUse at 7f4342620500 of size 256 next 548\n",
      "2023-10-09 20:36:10.047569: I tensorflow/core/common_runtime/bfc_allocator.cc:1066] InUse at 7f4342620600 of size 512 next 500\n",
      "2023-10-09 20:36:10.047574: I tensorflow/core/common_runtime/bfc_allocator.cc:1066] InUse at 7f4342620800 of size 512 next 504\n",
      "2023-10-09 20:36:10.047578: I tensorflow/core/common_runtime/bfc_allocator.cc:1066] InUse at 7f4342620a00 of size 512 next 505\n",
      "2023-10-09 20:36:10.047582: I tensorflow/core/common_runtime/bfc_allocator.cc:1066] InUse at 7f4342620c00 of size 512 next 499\n",
      "2023-10-09 20:36:10.047587: I tensorflow/core/common_runtime/bfc_allocator.cc:1066] InUse at 7f4342620e00 of size 512 next 497\n",
      "2023-10-09 20:36:10.047591: I tensorflow/core/common_runtime/bfc_allocator.cc:1066] InUse at 7f4342621000 of size 512 next 508\n",
      "2023-10-09 20:36:10.047596: I tensorflow/core/common_runtime/bfc_allocator.cc:1066] InUse at 7f4342621200 of size 512 next 467\n",
      "2023-10-09 20:36:10.047600: I tensorflow/core/common_runtime/bfc_allocator.cc:1066] InUse at 7f4342621400 of size 512 next 470\n",
      "2023-10-09 20:36:10.047605: I tensorflow/core/common_runtime/bfc_allocator.cc:1066] InUse at 7f4342621600 of size 256 next 515\n",
      "2023-10-09 20:36:10.047609: I tensorflow/core/common_runtime/bfc_allocator.cc:1066] InUse at 7f4342621700 of size 256 next 516\n",
      "2023-10-09 20:36:10.047613: I tensorflow/core/common_runtime/bfc_allocator.cc:1066] InUse at 7f4342621800 of size 256 next 514\n",
      "2023-10-09 20:36:10.047618: I tensorflow/core/common_runtime/bfc_allocator.cc:1066] Free  at 7f4342621900 of size 1792 next 517\n",
      "2023-10-09 20:36:10.047622: I tensorflow/core/common_runtime/bfc_allocator.cc:1066] InUse at 7f4342622000 of size 768 next 519\n",
      "2023-10-09 20:36:10.047627: I tensorflow/core/common_runtime/bfc_allocator.cc:1066] InUse at 7f4342622300 of size 256 next 503\n",
      "2023-10-09 20:36:10.047631: I tensorflow/core/common_runtime/bfc_allocator.cc:1066] InUse at 7f4342622400 of size 256 next 364\n",
      "2023-10-09 20:36:10.047635: I tensorflow/core/common_runtime/bfc_allocator.cc:1066] InUse at 7f4342622500 of size 256 next 520\n",
      "2023-10-09 20:36:10.047640: I tensorflow/core/common_runtime/bfc_allocator.cc:1066] Free  at 7f4342622600 of size 5327360 next 591\n",
      "2023-10-09 20:36:10.047644: I tensorflow/core/common_runtime/bfc_allocator.cc:1066] InUse at 7f4342b37000 of size 18432 next 562\n",
      "2023-10-09 20:36:10.047649: I tensorflow/core/common_runtime/bfc_allocator.cc:1066] InUse at 7f4342b3b800 of size 18432 next 686\n",
      "2023-10-09 20:36:10.047654: I tensorflow/core/common_runtime/bfc_allocator.cc:1066] Free  at 7f4342b40000 of size 21757952 next 18446744073709551615\n",
      "2023-10-09 20:36:10.047658: I tensorflow/core/common_runtime/bfc_allocator.cc:1046] Next region of size 16777216\n",
      "2023-10-09 20:36:10.047663: I tensorflow/core/common_runtime/bfc_allocator.cc:1066] Free  at 7f4352000000 of size 13565952 next 507\n",
      "2023-10-09 20:36:10.047667: I tensorflow/core/common_runtime/bfc_allocator.cc:1066] InUse at 7f4352cf0000 of size 294912 next 539\n",
      "2023-10-09 20:36:10.047672: I tensorflow/core/common_runtime/bfc_allocator.cc:1066] Free  at 7f4352d38000 of size 589824 next 583\n",
      "2023-10-09 20:36:10.047677: I tensorflow/core/common_runtime/bfc_allocator.cc:1066] InUse at 7f4352dc8000 of size 294912 next 506\n",
      "2023-10-09 20:36:10.047684: I tensorflow/core/common_runtime/bfc_allocator.cc:1066] Free  at 7f4352e10000 of size 884736 next 457\n",
      "2023-10-09 20:36:10.047695: I tensorflow/core/common_runtime/bfc_allocator.cc:1066] InUse at 7f4352ee8000 of size 1146880 next 18446744073709551615\n",
      "2023-10-09 20:36:10.047700: I tensorflow/core/common_runtime/bfc_allocator.cc:1046] Next region of size 2097152\n",
      "2023-10-09 20:36:10.047705: I tensorflow/core/common_runtime/bfc_allocator.cc:1066] InUse at 7f4823200000 of size 1280 next 1\n",
      "2023-10-09 20:36:10.047712: I tensorflow/core/common_runtime/bfc_allocator.cc:1066] InUse at 7f4823200500 of size 256 next 2\n",
      "2023-10-09 20:36:10.047720: I tensorflow/core/common_runtime/bfc_allocator.cc:1066] InUse at 7f4823200600 of size 256 next 3\n",
      "2023-10-09 20:36:10.047728: I tensorflow/core/common_runtime/bfc_allocator.cc:1066] InUse at 7f4823200700 of size 256 next 4\n",
      "2023-10-09 20:36:10.047736: I tensorflow/core/common_runtime/bfc_allocator.cc:1066] Free  at 7f4823200800 of size 256 next 5\n",
      "2023-10-09 20:36:10.047753: I tensorflow/core/common_runtime/bfc_allocator.cc:1066] InUse at 7f4823200900 of size 256 next 8\n",
      "2023-10-09 20:36:10.047766: I tensorflow/core/common_runtime/bfc_allocator.cc:1066] InUse at 7f4823200a00 of size 256 next 9\n",
      "2023-10-09 20:36:10.047774: I tensorflow/core/common_runtime/bfc_allocator.cc:1066] Free  at 7f4823200b00 of size 512 next 13\n",
      "2023-10-09 20:36:10.047783: I tensorflow/core/common_runtime/bfc_allocator.cc:1066] InUse at 7f4823200d00 of size 256 next 6\n",
      "2023-10-09 20:36:10.047791: I tensorflow/core/common_runtime/bfc_allocator.cc:1066] Free  at 7f4823200e00 of size 1792 next 19\n",
      "2023-10-09 20:36:10.047801: I tensorflow/core/common_runtime/bfc_allocator.cc:1066] InUse at 7f4823201500 of size 256 next 20\n",
      "2023-10-09 20:36:10.047806: I tensorflow/core/common_runtime/bfc_allocator.cc:1066] InUse at 7f4823201600 of size 256 next 15\n",
      "2023-10-09 20:36:10.047811: I tensorflow/core/common_runtime/bfc_allocator.cc:1066] Free  at 7f4823201700 of size 1024 next 21\n",
      "2023-10-09 20:36:10.047815: I tensorflow/core/common_runtime/bfc_allocator.cc:1066] InUse at 7f4823201b00 of size 256 next 24\n",
      "2023-10-09 20:36:10.047820: I tensorflow/core/common_runtime/bfc_allocator.cc:1066] InUse at 7f4823201c00 of size 256 next 25\n",
      "2023-10-09 20:36:10.047824: I tensorflow/core/common_runtime/bfc_allocator.cc:1066] Free  at 7f4823201d00 of size 1536 next 34\n",
      "2023-10-09 20:36:10.047829: I tensorflow/core/common_runtime/bfc_allocator.cc:1066] InUse at 7f4823202300 of size 256 next 35\n",
      "2023-10-09 20:36:10.047833: I tensorflow/core/common_runtime/bfc_allocator.cc:1066] InUse at 7f4823202400 of size 256 next 36\n",
      "2023-10-09 20:36:10.047837: I tensorflow/core/common_runtime/bfc_allocator.cc:1066] Free  at 7f4823202500 of size 256 next 37\n",
      "2023-10-09 20:36:10.047842: I tensorflow/core/common_runtime/bfc_allocator.cc:1066] InUse at 7f4823202600 of size 256 next 40\n",
      "2023-10-09 20:36:10.047846: I tensorflow/core/common_runtime/bfc_allocator.cc:1066] InUse at 7f4823202700 of size 256 next 41\n",
      "2023-10-09 20:36:10.047851: I tensorflow/core/common_runtime/bfc_allocator.cc:1066] Free  at 7f4823202800 of size 1536 next 50\n",
      "2023-10-09 20:36:10.047855: I tensorflow/core/common_runtime/bfc_allocator.cc:1066] InUse at 7f4823202e00 of size 256 next 51\n",
      "2023-10-09 20:36:10.047862: I tensorflow/core/common_runtime/bfc_allocator.cc:1066] InUse at 7f4823202f00 of size 256 next 52\n",
      "2023-10-09 20:36:10.047867: I tensorflow/core/common_runtime/bfc_allocator.cc:1066] Free  at 7f4823203000 of size 512 next 53\n",
      "2023-10-09 20:36:10.047871: I tensorflow/core/common_runtime/bfc_allocator.cc:1066] InUse at 7f4823203200 of size 256 next 56\n",
      "2023-10-09 20:36:10.047876: I tensorflow/core/common_runtime/bfc_allocator.cc:1066] InUse at 7f4823203300 of size 256 next 57\n",
      "2023-10-09 20:36:10.047880: I tensorflow/core/common_runtime/bfc_allocator.cc:1066] Free  at 7f4823203400 of size 3072 next 67\n",
      "2023-10-09 20:36:10.047884: I tensorflow/core/common_runtime/bfc_allocator.cc:1066] InUse at 7f4823204000 of size 256 next 68\n",
      "2023-10-09 20:36:10.047889: I tensorflow/core/common_runtime/bfc_allocator.cc:1066] Free  at 7f4823204100 of size 2048 next 82\n",
      "2023-10-09 20:36:10.047893: I tensorflow/core/common_runtime/bfc_allocator.cc:1066] InUse at 7f4823204900 of size 256 next 83\n",
      "2023-10-09 20:36:10.047898: I tensorflow/core/common_runtime/bfc_allocator.cc:1066] Free  at 7f4823204a00 of size 1769472 next 582\n",
      "2023-10-09 20:36:10.047903: I tensorflow/core/common_runtime/bfc_allocator.cc:1066] InUse at 7f48233b4a00 of size 147456 next 429\n",
      "2023-10-09 20:36:10.047908: I tensorflow/core/common_runtime/bfc_allocator.cc:1066] InUse at 7f48233d8a00 of size 73728 next 546\n",
      "2023-10-09 20:36:10.047912: I tensorflow/core/common_runtime/bfc_allocator.cc:1066] InUse at 7f48233eaa00 of size 87552 next 18446744073709551615\n",
      "2023-10-09 20:36:10.047917: I tensorflow/core/common_runtime/bfc_allocator.cc:1046] Next region of size 4194304\n",
      "2023-10-09 20:36:10.047922: I tensorflow/core/common_runtime/bfc_allocator.cc:1066] InUse at 7f4823400000 of size 294912 next 435\n",
      "2023-10-09 20:36:10.047928: I tensorflow/core/common_runtime/bfc_allocator.cc:1066] Free  at 7f4823448000 of size 294912 next 512\n",
      "2023-10-09 20:36:10.047932: I tensorflow/core/common_runtime/bfc_allocator.cc:1066] InUse at 7f4823490000 of size 589824 next 509\n",
      "2023-10-09 20:36:10.047938: I tensorflow/core/common_runtime/bfc_allocator.cc:1066] Free  at 7f4823520000 of size 3014656 next 18446744073709551615\n",
      "2023-10-09 20:36:10.047943: I tensorflow/core/common_runtime/bfc_allocator.cc:1046] Next region of size 8388608\n",
      "2023-10-09 20:36:10.047948: I tensorflow/core/common_runtime/bfc_allocator.cc:1066] Free  at 7f4823800000 of size 8388608 next 18446744073709551615\n",
      "2023-10-09 20:36:10.047952: I tensorflow/core/common_runtime/bfc_allocator.cc:1071]      Summary of in-use Chunks by size: \n",
      "2023-10-09 20:36:10.047959: I tensorflow/core/common_runtime/bfc_allocator.cc:1074] 47 Chunks of size 256 totalling 11.8KiB\n",
      "2023-10-09 20:36:10.047964: I tensorflow/core/common_runtime/bfc_allocator.cc:1074] 8 Chunks of size 512 totalling 4.0KiB\n",
      "2023-10-09 20:36:10.047969: I tensorflow/core/common_runtime/bfc_allocator.cc:1074] 3 Chunks of size 768 totalling 2.2KiB\n",
      "2023-10-09 20:36:10.047974: I tensorflow/core/common_runtime/bfc_allocator.cc:1074] 1 Chunks of size 1280 totalling 1.2KiB\n",
      "2023-10-09 20:36:10.047979: I tensorflow/core/common_runtime/bfc_allocator.cc:1074] 1 Chunks of size 9216 totalling 9.0KiB\n",
      "2023-10-09 20:36:10.047984: I tensorflow/core/common_runtime/bfc_allocator.cc:1074] 3 Chunks of size 18432 totalling 54.0KiB\n",
      "2023-10-09 20:36:10.047989: I tensorflow/core/common_runtime/bfc_allocator.cc:1074] 1 Chunks of size 36864 totalling 36.0KiB\n",
      "2023-10-09 20:36:10.047994: I tensorflow/core/common_runtime/bfc_allocator.cc:1074] 2 Chunks of size 73728 totalling 144.0KiB\n",
      "2023-10-09 20:36:10.048000: I tensorflow/core/common_runtime/bfc_allocator.cc:1074] 1 Chunks of size 87552 totalling 85.5KiB\n",
      "2023-10-09 20:36:10.048005: I tensorflow/core/common_runtime/bfc_allocator.cc:1074] 1 Chunks of size 147456 totalling 144.0KiB\n",
      "2023-10-09 20:36:10.048010: I tensorflow/core/common_runtime/bfc_allocator.cc:1074] 3 Chunks of size 294912 totalling 864.0KiB\n",
      "2023-10-09 20:36:10.048015: I tensorflow/core/common_runtime/bfc_allocator.cc:1074] 1 Chunks of size 589824 totalling 576.0KiB\n",
      "2023-10-09 20:36:10.048021: I tensorflow/core/common_runtime/bfc_allocator.cc:1074] 1 Chunks of size 1146880 totalling 1.09MiB\n",
      "2023-10-09 20:36:10.048026: I tensorflow/core/common_runtime/bfc_allocator.cc:1074] 1 Chunks of size 8756592640 totalling 8.15GiB\n",
      "2023-10-09 20:36:10.048031: I tensorflow/core/common_runtime/bfc_allocator.cc:1078] Sum Total of in-use chunks: 8.16GiB\n",
      "2023-10-09 20:36:10.048035: I tensorflow/core/common_runtime/bfc_allocator.cc:1080] total_region_allocated_bytes_: 17244880896 memory_limit_: 22372548608 available bytes: 5127667712 curr_region_allocation_bytes_: 17179869184\n",
      "2023-10-09 20:36:10.048045: I tensorflow/core/common_runtime/bfc_allocator.cc:1086] Stats: \n",
      "Limit:                     22372548608\n",
      "InUse:                      8759717632\n",
      "MaxInUse:                   8759717632\n",
      "NumAllocs:                        2494\n",
      "MaxAllocSize:               8756592640\n",
      "Reserved:                            0\n",
      "PeakReserved:                        0\n",
      "LargestFreeBlock:                    0\n",
      "\n",
      "2023-10-09 20:36:10.048055: W tensorflow/core/common_runtime/bfc_allocator.cc:474] ***************************************************________________________________________________*\n"
     ]
    },
    {
     "ename": "InternalError",
     "evalue": "Failed copying input tensor from /job:localhost/replica:0/task:0/device:CPU:0 to /job:localhost/replica:0/task:0/device:GPU:0 in order to run _EagerConst: Dst tensor is not initialized.",
     "output_type": "error",
     "traceback": [
      "\u001b[0;31m---------------------------------------------------------------------------\u001b[0m",
      "\u001b[0;31mInternalError\u001b[0m                             Traceback (most recent call last)",
      "\u001b[1;32m/uio/hume/student-u37/fslippe/master_project/code/new_autoencoder.ipynb Cell 13\u001b[0m line \u001b[0;36m6\n\u001b[1;32m      <a href='vscode-notebook-cell://ssh-remote%2Bmimi/uio/hume/student-u37/fslippe/master_project/code/new_autoencoder.ipynb#X15sdnNjb2RlLXJlbW90ZQ%3D%3D?line=1'>2</a>\u001b[0m gc\u001b[39m.\u001b[39mcollect()\n\u001b[1;32m      <a href='vscode-notebook-cell://ssh-remote%2Bmimi/uio/hume/student-u37/fslippe/master_project/code/new_autoencoder.ipynb#X15sdnNjb2RlLXJlbW90ZQ%3D%3D?line=3'>4</a>\u001b[0m early_stopping \u001b[39m=\u001b[39m EarlyStopping(monitor\u001b[39m=\u001b[39m\u001b[39m'\u001b[39m\u001b[39mval_loss\u001b[39m\u001b[39m'\u001b[39m, patience\u001b[39m=\u001b[39m\u001b[39m20\u001b[39m, verbose\u001b[39m=\u001b[39m\u001b[39m1\u001b[39m, restore_best_weights\u001b[39m=\u001b[39m\u001b[39mTrue\u001b[39;00m)\n\u001b[0;32m----> <a href='vscode-notebook-cell://ssh-remote%2Bmimi/uio/hume/student-u37/fslippe/master_project/code/new_autoencoder.ipynb#X15sdnNjb2RlLXJlbW90ZQ%3D%3D?line=5'>6</a>\u001b[0m model\u001b[39m.\u001b[39;49mfit(patches, patches, validation_data\u001b[39m=\u001b[39;49m(val_data, val_data), epochs\u001b[39m=\u001b[39;49m\u001b[39m500\u001b[39;49m, batch_size\u001b[39m=\u001b[39;49m\u001b[39m32\u001b[39;49m, callbacks\u001b[39m=\u001b[39;49m[early_stopping])\n",
      "File \u001b[0;32m/opt/software/easybuild/software/TensorFlow/2.7.1-foss-2021b-CUDA-11.4.1/lib/python3.9/site-packages/keras/utils/traceback_utils.py:67\u001b[0m, in \u001b[0;36mfilter_traceback.<locals>.error_handler\u001b[0;34m(*args, **kwargs)\u001b[0m\n\u001b[1;32m     65\u001b[0m \u001b[39mexcept\u001b[39;00m \u001b[39mException\u001b[39;00m \u001b[39mas\u001b[39;00m e:  \u001b[39m# pylint: disable=broad-except\u001b[39;00m\n\u001b[1;32m     66\u001b[0m   filtered_tb \u001b[39m=\u001b[39m _process_traceback_frames(e\u001b[39m.\u001b[39m__traceback__)\n\u001b[0;32m---> 67\u001b[0m   \u001b[39mraise\u001b[39;00m e\u001b[39m.\u001b[39mwith_traceback(filtered_tb) \u001b[39mfrom\u001b[39;00m \u001b[39mNone\u001b[39;00m\n\u001b[1;32m     68\u001b[0m \u001b[39mfinally\u001b[39;00m:\n\u001b[1;32m     69\u001b[0m   \u001b[39mdel\u001b[39;00m filtered_tb\n",
      "File \u001b[0;32m/opt/software/easybuild/software/TensorFlow/2.7.1-foss-2021b-CUDA-11.4.1/lib/python3.9/site-packages/tensorflow/python/framework/constant_op.py:106\u001b[0m, in \u001b[0;36mconvert_to_eager_tensor\u001b[0;34m(value, ctx, dtype)\u001b[0m\n\u001b[1;32m    104\u001b[0m     dtype \u001b[39m=\u001b[39m dtypes\u001b[39m.\u001b[39mas_dtype(dtype)\u001b[39m.\u001b[39mas_datatype_enum\n\u001b[1;32m    105\u001b[0m ctx\u001b[39m.\u001b[39mensure_initialized()\n\u001b[0;32m--> 106\u001b[0m \u001b[39mreturn\u001b[39;00m ops\u001b[39m.\u001b[39;49mEagerTensor(value, ctx\u001b[39m.\u001b[39;49mdevice_name, dtype)\n",
      "\u001b[0;31mInternalError\u001b[0m: Failed copying input tensor from /job:localhost/replica:0/task:0/device:CPU:0 to /job:localhost/replica:0/task:0/device:GPU:0 in order to run _EagerConst: Dst tensor is not initialized."
     ]
    }
   ],
   "source": [
    "from tensorflow.keras.callbacks import EarlyStopping\n",
    "gc.collect()\n",
    "\n",
    "early_stopping = EarlyStopping(monitor='val_loss', patience=20, verbose=1, restore_best_weights=True)\n",
    "\n",
    "model.fit(patches, patches, validation_data=(val_data, val_data), epochs=500, batch_size=32, callbacks=[early_stopping])\n"
   ]
  },
  {
   "cell_type": "code",
   "execution_count": null,
   "metadata": {},
   "outputs": [],
   "source": [
    "\n",
    "def data_generator():\n",
    "    \"\"\"Generator to yield data from files.\"\"\"\n",
    "    file_list = ['file1.npy', 'file2.npy', ...]\n",
    "    random.shuffle(file_list)  # Shuffle files at the beginning of each epoch\n",
    "    for file_name in file_list:\n",
    "        data = np.load(file_name)\n",
    "        for item in data:\n",
    "            yield item\n",
    "\n",
    "# Define your dataset\n",
    "dataset = tf.data.Dataset.from_generator(data_generator,\n",
    "                                         output_signature=(tf.TensorSpec(shape=(...), dtype=tf.float32)))  # Fill in the shape and type\n",
    "dataset = dataset.shuffle(buffer_size=10000)  # Shuffle data\n",
    "dataset = dataset.batch(32)  # Batch data\n",
    "dataset = dataset.repeat()  # Repeat dataset indefinitely\n",
    "dataset = dataset.prefetch(buffer_size=tf.data.experimental.AUTOTUNE)  # Prefetch data\n",
    "steps_per_epoch = ...  \n",
    "\n",
    "model.fit(dataset, epochs=200, steps_per_epoch=steps_per_epoch, validation_data=(val_data, val_data))"
   ]
  },
  {
   "cell_type": "code",
   "execution_count": 11,
   "metadata": {},
   "outputs": [
    {
     "name": "stderr",
     "output_type": "stream",
     "text": [
      "2023-10-02 18:30:42.644659: W tensorflow/python/util/util.cc:368] Sets are not currently considered sequences, but this may change in the future, so consider avoiding using them.\n"
     ]
    },
    {
     "name": "stdout",
     "output_type": "stream",
     "text": [
      "INFO:tensorflow:Assets written to: /uio/hume/student-u37/fslippe/data/models/winter_2020_21_band(29)_filter_autoencoder/assets\n",
      "WARNING:tensorflow:Compiled the loaded model, but the compiled metrics have yet to be built. `model.compile_metrics` will be empty until you train or evaluate the model.\n"
     ]
    },
    {
     "name": "stderr",
     "output_type": "stream",
     "text": [
      "/opt/software/easybuild/software/TensorFlow/2.7.1-foss-2021b-CUDA-11.4.1/lib/python3.9/site-packages/keras/engine/functional.py:1410: CustomMaskWarning: Custom mask layers require a config and must override get_config. When loading, the custom mask layer must be passed to the custom_objects argument.\n",
      "  layer_config = serialize_layer_fn(layer)\n",
      "/opt/software/easybuild/software/TensorFlow/2.7.1-foss-2021b-CUDA-11.4.1/lib/python3.9/site-packages/keras/saving/saved_model/layer_serialization.py:112: CustomMaskWarning: Custom mask layers require a config and must override get_config. When loading, the custom mask layer must be passed to the custom_objects argument.\n",
      "  return generic_utils.serialize_keras_object(obj)\n"
     ]
    },
    {
     "name": "stdout",
     "output_type": "stream",
     "text": [
      "INFO:tensorflow:Assets written to: /uio/hume/student-u37/fslippe/data/models/winter_2020_21_band(29)_filter_encoder/assets\n",
      "WARNING:tensorflow:Compiled the loaded model, but the compiled metrics have yet to be built. `model.compile_metrics` will be empty until you train or evaluate the model.\n"
     ]
    },
    {
     "name": "stderr",
     "output_type": "stream",
     "text": [
      "/opt/software/easybuild/software/TensorFlow/2.7.1-foss-2021b-CUDA-11.4.1/lib/python3.9/site-packages/keras/engine/functional.py:1410: CustomMaskWarning: Custom mask layers require a config and must override get_config. When loading, the custom mask layer must be passed to the custom_objects argument.\n",
      "  layer_config = serialize_layer_fn(layer)\n",
      "/opt/software/easybuild/software/TensorFlow/2.7.1-foss-2021b-CUDA-11.4.1/lib/python3.9/site-packages/keras/saving/saved_model/layer_serialization.py:112: CustomMaskWarning: Custom mask layers require a config and must override get_config. When loading, the custom mask layer must be passed to the custom_objects argument.\n",
      "  return generic_utils.serialize_keras_object(obj)\n"
     ]
    },
    {
     "name": "stdout",
     "output_type": "stream",
     "text": [
      "INFO:tensorflow:Assets written to: /uio/hume/student-u37/fslippe/data/models/winter_2020_21_band(29)_filter_decoder/assets\n"
     ]
    }
   ],
   "source": [
    "model.save(\"/uio/hume/student-u37/fslippe/data/models/winter_2020_21_band(29)_filter_autoencoder\")\n",
    "autoencoder.encoder.save(\"/uio/hume/student-u37/fslippe/data/models/winter_2020_21_band(29)_filter_encoder\")\n",
    "autoencoder.decoder.save(\"/uio/hume/student-u37/fslippe/data/models/winter_2020_21_band(29)_filter_decoder\")\n"
   ]
  }
 ],
 "metadata": {
  "kernelspec": {
   "display_name": "base",
   "language": "python",
   "name": "python3"
  },
  "language_info": {
   "codemirror_mode": {
    "name": "ipython",
    "version": 3
   },
   "file_extension": ".py",
   "mimetype": "text/x-python",
   "name": "python",
   "nbconvert_exporter": "python",
   "pygments_lexer": "ipython3",
   "version": "3.9.16"
  },
  "orig_nbformat": 4
 },
 "nbformat": 4,
 "nbformat_minor": 2
}
