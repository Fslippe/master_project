{
 "cells": [
  {
   "cell_type": "code",
   "execution_count": 8,
   "metadata": {},
   "outputs": [
    {
     "data": {
      "text/plain": [
       "(2030, 1354)"
      ]
     },
     "execution_count": 8,
     "metadata": {},
     "output_type": "execute_result"
    }
   ],
   "source": [
    "import numpy as np \n",
    "arr = np.load(\"/uio/hume/student-u37/fslippe/MOD021KM.A2020090.1150.061.2020090200615_ll_band_29.npy\", allow_pickle=True).item()\n"
   ]
  },
  {
   "cell_type": "code",
   "execution_count": 12,
   "metadata": {},
   "outputs": [],
   "source": [
    "np.savez_compressed(\"/uio/hume/student-u37/fslippe/compressed_arr.npz\", **arr)\n",
    "    "
   ]
  },
  {
   "cell_type": "code",
   "execution_count": 14,
   "metadata": {},
   "outputs": [
    {
     "data": {
      "text/plain": [
       "{'lon': array([[-65.26655 , -62.526596, -59.64706 , ...,  62.44605 ,  62.532764,\n",
       "          62.620926],\n",
       "        [-64.181694, -61.46509 , -58.618526, ...,  62.17055 ,  62.256054,\n",
       "          62.342957],\n",
       "        [-64.24097 , -61.508526, -58.647015, ...,  62.16413 ,  62.253857,\n",
       "          62.345078],\n",
       "        ...,\n",
       "        [-29.304266, -28.69901 , -28.134586, ...,  20.23115 ,  20.563122,\n",
       "          20.904646],\n",
       "        [-29.308794, -28.703705, -28.139093, ...,  20.226076,  20.560015,\n",
       "          20.903603],\n",
       "        [-29.289074, -28.684095, -28.112392, ...,  20.10046 ,  20.432348,\n",
       "          20.77379 ]], dtype=float32),\n",
       " 'lat': array([[86.66214 , 86.809105, 86.94305 , ..., 71.59197 , 71.38923 ,\n",
       "         71.178665],\n",
       "        [86.59747 , 86.74249 , 86.87456 , ..., 71.58006 , 71.377266,\n",
       "         71.16665 ],\n",
       "        [86.59873 , 86.742836, 86.87395 , ..., 71.580765, 71.378174,\n",
       "         71.16777 ],\n",
       "        ...,\n",
       "        [69.7237  , 69.740456, 69.75417 , ..., 62.66205 , 62.52684 ,\n",
       "         62.385624],\n",
       "        [69.726105, 69.74143 , 69.75386 , ..., 62.661022, 62.526817,\n",
       "         62.38663 ],\n",
       "        [69.63608 , 69.65276 , 69.66658 , ..., 62.59499 , 62.46011 ,\n",
       "         62.319237]], dtype=float32),\n",
       " 'data': array([[2.1269746, 2.1860807, 2.1669111, ..., 3.7111232, 3.6344452,\n",
       "         3.6887589],\n",
       "        [2.1248448, 2.2004578, 2.234537 , ..., 3.7079284, 3.6530821,\n",
       "         3.6855638],\n",
       "        [2.0950253, 2.1780934, 2.239862 , ..., 3.6919537, 3.6498873,\n",
       "         3.6930187],\n",
       "        ...,\n",
       "        [1.7936378, 1.7957678, 1.7888454, ..., 4.8298783, 4.852775 ,\n",
       "         4.885257 ],\n",
       "        [1.8410292, 1.7867155, 1.785118 , ..., 4.740953 , 4.769707 ,\n",
       "         4.8192286],\n",
       "        [1.887888 , 1.805885 , 1.8085474, ..., 4.6658726, 4.7984614,\n",
       "         4.8410606]], dtype=float32)}"
      ]
     },
     "execution_count": 14,
     "metadata": {},
     "output_type": "execute_result"
    }
   ],
   "source": [
    "# Load the compressed npz file\n",
    "data = np.load(\"/uio/hume/student-u37/fslippe/compressed_arr.npz\")\n",
    "\n",
    "# If you want to work with the loaded data as a dictionary\n",
    "# Use dict() to convert to a dictionary, where keys are array names and values are arrays\n",
    "loaded_arr = dict(data)\n",
    "\n",
    "# Alternatively, you can also access the arrays directly using the keys\n",
    "# For example, if your dict had keys 'array1', 'array2', 'array3':\n",
    "# loaded_array1 = data['array1']\n",
    "# loaded_array2 = data['array2']\n",
    "# loaded_array3 = data['array3']\n",
    "\n",
    "# Make sure you close the npz file after loading the arrays\n",
    "data.close()\n",
    "loaded_arr"
   ]
  }
 ],
 "metadata": {
  "kernelspec": {
   "display_name": "base",
   "language": "python",
   "name": "python3"
  },
  "language_info": {
   "codemirror_mode": {
    "name": "ipython",
    "version": 3
   },
   "file_extension": ".py",
   "mimetype": "text/x-python",
   "name": "python",
   "nbconvert_exporter": "python",
   "pygments_lexer": "ipython3",
   "version": "3.9.16"
  }
 },
 "nbformat": 4,
 "nbformat_minor": 2
}
