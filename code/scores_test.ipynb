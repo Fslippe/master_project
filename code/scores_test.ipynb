{
 "cells": [
  {
   "cell_type": "code",
   "execution_count": 1,
   "metadata": {},
   "outputs": [
    {
     "name": "stdout",
     "output_type": "stream",
     "text": [
      "total cores: 256\n",
      "1 Physical GPUs, 1 Logical GPUs\n"
     ]
    },
    {
     "name": "stderr",
     "output_type": "stream",
     "text": [
      "2024-03-13 12:24:07.442509: I tensorflow/core/common_runtime/gpu/gpu_process_state.cc:214] Using CUDA malloc Async allocator for GPU: 0\n",
      "2024-03-13 12:24:07.442743: I tensorflow/core/common_runtime/gpu/gpu_device.cc:1525] Created device /job:localhost/replica:0/task:0/device:GPU:0 with 21321 MB memory:  -> device: 0, name: Quadro RTX 6000, pci bus id: 0000:25:00.0, compute capability: 7.5\n"
     ]
    }
   ],
   "source": [
    "from calculate_scores import *"
   ]
  },
  {
   "cell_type": "code",
   "execution_count": 2,
   "metadata": {},
   "outputs": [
    {
     "name": "stdout",
     "output_type": "stream",
     "text": [
      "41/42\r"
     ]
    }
   ],
   "source": [
    "bands=[29]\n",
    "patch_size = 128\n",
    "last_filter = 128\n",
    "strides = 32    #patch_size\n",
    "dates, times, labeled_data, x_cao, masks_cao, lon_lats_cao , max_vals, min_vals  = import_label_data(\"/uio/hume/student-u37/fslippe/data/labeled_data/results_backup_20240221\")  \n",
    "autoencoder_predict = SimpleAutoencoder(len(bands), patch_size, patch_size)\n",
    "\n",
    "patches_cao, all_lon_patches_cao, all_lat_patches_cao, starts_cao, ends_cao, shapes_cao, n_patches_tot_cao, indices_cao = generate_patches([x[:,:,0] for x in x_cao],\n",
    "                                                                                                                                            masks_cao,\n",
    "                                                                                                                                            lon_lats_cao,\n",
    "                                                                                                                                            max_vals,\n",
    "                                                                                                                                            min_vals,\n",
    "                                                                                                                                            autoencoder_predict,\n",
    "                                                                                                                                            strides=[1, strides, strides,1])\n",
    "\n"
   ]
  },
  {
   "cell_type": "code",
   "execution_count": null,
   "metadata": {},
   "outputs": [],
   "source": [
    "dates, times, labeled_data, x_cao, masks_cao, lon_lats_cao , max_vals, min_vals  = import_label_data(\"/uio/hume/student-u37/fslippe/data/labeled_data/results_backup_20240221\")  \n",
    "\n"
   ]
  },
  {
   "cell_type": "code",
   "execution_count": 3,
   "metadata": {},
   "outputs": [],
   "source": [
    "labeled_data['created_at'] = pd.to_datetime(labeled_data['created_at'])\n",
    "\n",
    "# Define the cutoff time\n",
    "cutoff_time = pd.Timestamp('2024-02-01', tz='UTC')  # Specify UTC timezone\n",
    "\n",
    "\n",
    "# Split the DataFrame\n",
    "before_cutoff = labeled_data[labeled_data['created_at'] < cutoff_time]\n",
    "after_cutoff = labeled_data[labeled_data['created_at'] >= cutoff_time]\n",
    "\n",
    "# Convert DataFrames back to JSON format\n",
    "before_cutoff_json = before_cutoff.to_json(orient='records')\n",
    "after_cutoff_json = after_cutoff.to_json(orient='records')\n",
    "\n",
    "\n",
    "# Save the JSON files\n",
    "with open(\"/uio/hume/student-u37/fslippe/data/labeled_data/lavterskel.json\", 'w') as f_before:\n",
    "    f_before.write(before_cutoff_json)\n",
    "\n",
    "with open(\"/uio/hume/student-u37/fslippe/data/labeled_data/expert_group.json\", 'w') as f_after:\n",
    "    f_after.write(after_cutoff_json)\n"
   ]
  },
  {
   "cell_type": "code",
   "execution_count": 20,
   "metadata": {},
   "outputs": [
    {
     "name": "stdout",
     "output_type": "stream",
     "text": [
      "WARNING:tensorflow:No training configuration found in the save file, so the model was *not* compiled. Compile it manually.\n"
     ]
    }
   ],
   "source": [
    "last_filter = 128\n",
    "with tf.device('/CPU:0'):   \n",
    "    encoded_patches_flat_cao = load_and_predict_encoder(patch_size, last_filter, patches_cao)\n"
   ]
  },
  {
   "cell_type": "code",
   "execution_count": 22,
   "metadata": {},
   "outputs": [
    {
     "name": "stdout",
     "output_type": "stream",
     "text": [
      "1 Physical GPUs, 1 Logical GPUs\n",
      "open 4\n",
      "closed 7\n",
      "cluster load loc: /uio/hume/student-u37/fslippe/data/models/patch_size128/filter128/clustering/cluster_dnb_l95_z50_ps128_band29_filter128_K10.pkl\n",
      "10\n"
     ]
    },
    {
     "name": "stderr",
     "output_type": "stream",
     "text": [
      "/uio/hume/student-u37/fslippe/master_project/code/functions.py:348: VisibleDeprecationWarning: Creating an ndarray from ragged nested sequences (which is a list-or-tuple of lists-or-tuples-or ndarrays with different lengths or shapes) is deprecated. If you meant to do this, you must specify 'dtype=object' when creating the ndarray.\n",
      "  pat_lon = np.concatenate(np.array(pat_lon), axis=0)\n",
      "/uio/hume/student-u37/fslippe/master_project/code/functions.py:349: VisibleDeprecationWarning: Creating an ndarray from ragged nested sequences (which is a list-or-tuple of lists-or-tuples-or ndarrays with different lengths or shapes) is deprecated. If you meant to do this, you must specify 'dtype=object' when creating the ndarray.\n",
      "  pat_lat = np.concatenate(np.array(pat_lat), axis=0)\n"
     ]
    },
    {
     "name": "stdout",
     "output_type": "stream",
     "text": [
      "178.22037\n",
      "180.09615624544423\n",
      "nan\n",
      "nan\n",
      "nan\n",
      "nan\n"
     ]
    },
    {
     "name": "stderr",
     "output_type": "stream",
     "text": [
      "/opt/software/easybuild/software/SciPy-bundle/2021.10-foss-2021b/lib/python3.9/site-packages/numpy/core/fromnumeric.py:3440: RuntimeWarning: Mean of empty slice.\n",
      "  return _methods._mean(a, axis=axis, dtype=dtype,\n",
      "/opt/software/easybuild/software/SciPy-bundle/2021.10-foss-2021b/lib/python3.9/site-packages/numpy/core/_methods.py:189: RuntimeWarning: invalid value encountered in double_scalars\n",
      "  ret = ret.dtype.type(ret / rcount)\n"
     ]
    },
    {
     "name": "stdout",
     "output_type": "stream",
     "text": [
      "245.34851\n",
      "195.30852327717403\n",
      "nan\n",
      "nan\n",
      "nan\n",
      "nan\n",
      "nan\n",
      "nan\n"
     ]
    },
    {
     "name": "stderr",
     "output_type": "stream",
     "text": [
      "/opt/software/easybuild/software/SciPy-bundle/2021.10-foss-2021b/lib/python3.9/site-packages/numpy/core/fromnumeric.py:3440: RuntimeWarning: Mean of empty slice.\n",
      "  return _methods._mean(a, axis=axis, dtype=dtype,\n",
      "/opt/software/easybuild/software/SciPy-bundle/2021.10-foss-2021b/lib/python3.9/site-packages/numpy/core/_methods.py:189: RuntimeWarning: invalid value encountered in double_scalars\n",
      "  ret = ret.dtype.type(ret / rcount)\n"
     ]
    },
    {
     "name": "stdout",
     "output_type": "stream",
     "text": [
      "158.66373\n",
      "164.4723361987692\n",
      "172.53027\n",
      "288.28242257094035\n",
      "nan\n",
      "nan\n"
     ]
    },
    {
     "name": "stderr",
     "output_type": "stream",
     "text": [
      "/opt/software/easybuild/software/SciPy-bundle/2021.10-foss-2021b/lib/python3.9/site-packages/numpy/core/fromnumeric.py:3440: RuntimeWarning: Mean of empty slice.\n",
      "  return _methods._mean(a, axis=axis, dtype=dtype,\n",
      "/opt/software/easybuild/software/SciPy-bundle/2021.10-foss-2021b/lib/python3.9/site-packages/numpy/core/_methods.py:189: RuntimeWarning: invalid value encountered in double_scalars\n",
      "  ret = ret.dtype.type(ret / rcount)\n"
     ]
    },
    {
     "name": "stdout",
     "output_type": "stream",
     "text": [
      "192.84392\n",
      "171.84617450343944\n",
      "nan\n",
      "nan\n",
      "nan\n",
      "nan\n"
     ]
    },
    {
     "name": "stderr",
     "output_type": "stream",
     "text": [
      "/opt/software/easybuild/software/SciPy-bundle/2021.10-foss-2021b/lib/python3.9/site-packages/numpy/core/fromnumeric.py:3440: RuntimeWarning: Mean of empty slice.\n",
      "  return _methods._mean(a, axis=axis, dtype=dtype,\n",
      "/opt/software/easybuild/software/SciPy-bundle/2021.10-foss-2021b/lib/python3.9/site-packages/numpy/core/_methods.py:189: RuntimeWarning: invalid value encountered in double_scalars\n",
      "  ret = ret.dtype.type(ret / rcount)\n"
     ]
    },
    {
     "name": "stdout",
     "output_type": "stream",
     "text": [
      "263.98688\n",
      "192.21252258491822\n",
      "201.52403\n",
      "179.98281922288217\n",
      "177.45723\n",
      "223.67883672283702\n",
      "188.43344\n",
      "184.55021346798225\n",
      "nan\n",
      "nan\n"
     ]
    },
    {
     "name": "stderr",
     "output_type": "stream",
     "text": [
      "/opt/software/easybuild/software/SciPy-bundle/2021.10-foss-2021b/lib/python3.9/site-packages/numpy/core/fromnumeric.py:3440: RuntimeWarning: Mean of empty slice.\n",
      "  return _methods._mean(a, axis=axis, dtype=dtype,\n",
      "/opt/software/easybuild/software/SciPy-bundle/2021.10-foss-2021b/lib/python3.9/site-packages/numpy/core/_methods.py:189: RuntimeWarning: invalid value encountered in double_scalars\n",
      "  ret = ret.dtype.type(ret / rcount)\n"
     ]
    },
    {
     "name": "stdout",
     "output_type": "stream",
     "text": [
      "53.87094\n",
      "190.9198112358819\n",
      "131.369\n",
      "173.31499024054776\n",
      "214.2063\n",
      "173.00357227907736\n",
      "182.84213\n",
      "163.89808328684208\n",
      "nan\n",
      "nan\n",
      "75.48781\n",
      "160.16558051279733\n",
      "145.54681\n",
      "252.07662239671436\n",
      "nan\n",
      "nan\n"
     ]
    },
    {
     "name": "stderr",
     "output_type": "stream",
     "text": [
      "/opt/software/easybuild/software/SciPy-bundle/2021.10-foss-2021b/lib/python3.9/site-packages/numpy/core/fromnumeric.py:3440: RuntimeWarning: Mean of empty slice.\n",
      "  return _methods._mean(a, axis=axis, dtype=dtype,\n",
      "/opt/software/easybuild/software/SciPy-bundle/2021.10-foss-2021b/lib/python3.9/site-packages/numpy/core/_methods.py:189: RuntimeWarning: invalid value encountered in double_scalars\n",
      "  ret = ret.dtype.type(ret / rcount)\n",
      "/opt/software/easybuild/software/SciPy-bundle/2021.10-foss-2021b/lib/python3.9/site-packages/numpy/core/fromnumeric.py:3440: RuntimeWarning: Mean of empty slice.\n",
      "  return _methods._mean(a, axis=axis, dtype=dtype,\n",
      "/opt/software/easybuild/software/SciPy-bundle/2021.10-foss-2021b/lib/python3.9/site-packages/numpy/core/_methods.py:189: RuntimeWarning: invalid value encountered in double_scalars\n",
      "  ret = ret.dtype.type(ret / rcount)\n"
     ]
    },
    {
     "name": "stdout",
     "output_type": "stream",
     "text": [
      "199.29816\n",
      "195.42558098756723\n",
      "nan\n",
      "nan\n"
     ]
    },
    {
     "name": "stderr",
     "output_type": "stream",
     "text": [
      "/opt/software/easybuild/software/SciPy-bundle/2021.10-foss-2021b/lib/python3.9/site-packages/numpy/core/fromnumeric.py:3440: RuntimeWarning: Mean of empty slice.\n",
      "  return _methods._mean(a, axis=axis, dtype=dtype,\n",
      "/opt/software/easybuild/software/SciPy-bundle/2021.10-foss-2021b/lib/python3.9/site-packages/numpy/core/_methods.py:189: RuntimeWarning: invalid value encountered in double_scalars\n",
      "  ret = ret.dtype.type(ret / rcount)\n"
     ]
    },
    {
     "name": "stdout",
     "output_type": "stream",
     "text": [
      "168.91783\n",
      "215.41834419608873\n",
      "nan\n",
      "nan\n",
      "nan\n",
      "nan\n"
     ]
    },
    {
     "name": "stderr",
     "output_type": "stream",
     "text": [
      "/opt/software/easybuild/software/SciPy-bundle/2021.10-foss-2021b/lib/python3.9/site-packages/numpy/core/fromnumeric.py:3440: RuntimeWarning: Mean of empty slice.\n",
      "  return _methods._mean(a, axis=axis, dtype=dtype,\n",
      "/opt/software/easybuild/software/SciPy-bundle/2021.10-foss-2021b/lib/python3.9/site-packages/numpy/core/_methods.py:189: RuntimeWarning: invalid value encountered in double_scalars\n",
      "  ret = ret.dtype.type(ret / rcount)\n"
     ]
    },
    {
     "name": "stdout",
     "output_type": "stream",
     "text": [
      "101.51913\n",
      "203.49022736810002\n",
      "nan\n",
      "nan\n"
     ]
    },
    {
     "name": "stderr",
     "output_type": "stream",
     "text": [
      "/opt/software/easybuild/software/SciPy-bundle/2021.10-foss-2021b/lib/python3.9/site-packages/numpy/core/fromnumeric.py:3440: RuntimeWarning: Mean of empty slice.\n",
      "  return _methods._mean(a, axis=axis, dtype=dtype,\n",
      "/opt/software/easybuild/software/SciPy-bundle/2021.10-foss-2021b/lib/python3.9/site-packages/numpy/core/_methods.py:189: RuntimeWarning: invalid value encountered in double_scalars\n",
      "  ret = ret.dtype.type(ret / rcount)\n"
     ]
    },
    {
     "name": "stdout",
     "output_type": "stream",
     "text": [
      "165.94681\n",
      "197.35341661839956\n",
      "215.83339\n",
      "192.7692973760856\n",
      "nan\n",
      "nan\n",
      "nan\n",
      "nan\n"
     ]
    },
    {
     "name": "stderr",
     "output_type": "stream",
     "text": [
      "/opt/software/easybuild/software/SciPy-bundle/2021.10-foss-2021b/lib/python3.9/site-packages/numpy/core/fromnumeric.py:3440: RuntimeWarning: Mean of empty slice.\n",
      "  return _methods._mean(a, axis=axis, dtype=dtype,\n",
      "/opt/software/easybuild/software/SciPy-bundle/2021.10-foss-2021b/lib/python3.9/site-packages/numpy/core/_methods.py:189: RuntimeWarning: invalid value encountered in double_scalars\n",
      "  ret = ret.dtype.type(ret / rcount)\n"
     ]
    },
    {
     "name": "stdout",
     "output_type": "stream",
     "text": [
      "146.6292\n",
      "167.71559967462878\n",
      "81.93648\n",
      "181.42405973247827\n",
      "66.83811\n",
      "181.8264071546082\n",
      "165.97198\n",
      "175.67434870713467\n",
      "nan\n",
      "nan\n"
     ]
    },
    {
     "name": "stderr",
     "output_type": "stream",
     "text": [
      "/opt/software/easybuild/software/SciPy-bundle/2021.10-foss-2021b/lib/python3.9/site-packages/numpy/core/fromnumeric.py:3440: RuntimeWarning: Mean of empty slice.\n",
      "  return _methods._mean(a, axis=axis, dtype=dtype,\n",
      "/opt/software/easybuild/software/SciPy-bundle/2021.10-foss-2021b/lib/python3.9/site-packages/numpy/core/_methods.py:189: RuntimeWarning: invalid value encountered in double_scalars\n",
      "  ret = ret.dtype.type(ret / rcount)\n",
      "/uio/hume/student-u37/fslippe/master_project/code/functions.py:673: VisibleDeprecationWarning: Creating an ndarray from ragged nested sequences (which is a list-or-tuple of lists-or-tuples-or ndarrays with different lengths or shapes) is deprecated. If you meant to do this, you must specify 'dtype=object' when creating the ndarray.\n",
      "  border_lines = np.array(di[\"data.borderLines\"], dtype=object)\n",
      "/uio/hume/student-u37/fslippe/master_project/code/functions.py:482: RuntimeWarning: divide by zero encountered in true_divide\n",
      "  border_weighted_frac = np.where(m_preds, abs(m_border - l_border) / tot_border_preds, np.nan)\n",
      "/uio/hume/student-u37/fslippe/master_project/code/functions.py:482: RuntimeWarning: invalid value encountered in true_divide\n",
      "  border_weighted_frac = np.where(m_preds, abs(m_border - l_border) / tot_border_preds, np.nan)\n",
      "/uio/hume/student-u37/fslippe/master_project/code/functions.py:483: RuntimeWarning: divide by zero encountered in true_divide\n",
      "  border_frac = np.where(m_preds, abs(m_border - l_yes_no_border) / tot_border_preds, np.nan)\n",
      "/uio/hume/student-u37/fslippe/master_project/code/functions.py:483: RuntimeWarning: invalid value encountered in true_divide\n",
      "  border_frac = np.where(m_preds, abs(m_border - l_yes_no_border) / tot_border_preds, np.nan)\n"
     ]
    },
    {
     "name": "stdout",
     "output_type": "stream",
     "text": [
      "open 5\n",
      "closed 0\n",
      "cluster load loc: /uio/hume/student-u37/fslippe/data/models/patch_size128/filter128/clustering/cluster_dnb_l95_z50_ps128_band29_filter128_K11.pkl\n",
      "11\n"
     ]
    },
    {
     "name": "stderr",
     "output_type": "stream",
     "text": [
      "/uio/hume/student-u37/fslippe/master_project/code/functions.py:348: VisibleDeprecationWarning: Creating an ndarray from ragged nested sequences (which is a list-or-tuple of lists-or-tuples-or ndarrays with different lengths or shapes) is deprecated. If you meant to do this, you must specify 'dtype=object' when creating the ndarray.\n",
      "  pat_lon = np.concatenate(np.array(pat_lon), axis=0)\n",
      "/uio/hume/student-u37/fslippe/master_project/code/functions.py:349: VisibleDeprecationWarning: Creating an ndarray from ragged nested sequences (which is a list-or-tuple of lists-or-tuples-or ndarrays with different lengths or shapes) is deprecated. If you meant to do this, you must specify 'dtype=object' when creating the ndarray.\n",
      "  pat_lat = np.concatenate(np.array(pat_lat), axis=0)\n"
     ]
    },
    {
     "name": "stdout",
     "output_type": "stream",
     "text": [
      "179.01033\n",
      "185.55326962214522\n",
      "169.85857\n",
      "211.70480420989077\n",
      "nan\n",
      "nan\n"
     ]
    },
    {
     "name": "stderr",
     "output_type": "stream",
     "text": [
      "/opt/software/easybuild/software/SciPy-bundle/2021.10-foss-2021b/lib/python3.9/site-packages/numpy/core/fromnumeric.py:3440: RuntimeWarning: Mean of empty slice.\n",
      "  return _methods._mean(a, axis=axis, dtype=dtype,\n",
      "/opt/software/easybuild/software/SciPy-bundle/2021.10-foss-2021b/lib/python3.9/site-packages/numpy/core/_methods.py:189: RuntimeWarning: invalid value encountered in double_scalars\n",
      "  ret = ret.dtype.type(ret / rcount)\n"
     ]
    },
    {
     "name": "stdout",
     "output_type": "stream",
     "text": [
      "211.08534\n",
      "190.52728517698188\n",
      "nan\n",
      "nan\n",
      "nan\n",
      "nan\n",
      "nan\n",
      "nan\n"
     ]
    },
    {
     "name": "stderr",
     "output_type": "stream",
     "text": [
      "/opt/software/easybuild/software/SciPy-bundle/2021.10-foss-2021b/lib/python3.9/site-packages/numpy/core/fromnumeric.py:3440: RuntimeWarning: Mean of empty slice.\n",
      "  return _methods._mean(a, axis=axis, dtype=dtype,\n",
      "/opt/software/easybuild/software/SciPy-bundle/2021.10-foss-2021b/lib/python3.9/site-packages/numpy/core/_methods.py:189: RuntimeWarning: invalid value encountered in double_scalars\n",
      "  ret = ret.dtype.type(ret / rcount)\n"
     ]
    },
    {
     "name": "stdout",
     "output_type": "stream",
     "text": [
      "161.23906\n",
      "179.92550872750886\n",
      "161.4086\n",
      "268.1308224886162\n",
      "nan\n",
      "nan\n"
     ]
    },
    {
     "name": "stderr",
     "output_type": "stream",
     "text": [
      "/opt/software/easybuild/software/SciPy-bundle/2021.10-foss-2021b/lib/python3.9/site-packages/numpy/core/fromnumeric.py:3440: RuntimeWarning: Mean of empty slice.\n",
      "  return _methods._mean(a, axis=axis, dtype=dtype,\n",
      "/opt/software/easybuild/software/SciPy-bundle/2021.10-foss-2021b/lib/python3.9/site-packages/numpy/core/_methods.py:189: RuntimeWarning: invalid value encountered in double_scalars\n",
      "  ret = ret.dtype.type(ret / rcount)\n"
     ]
    },
    {
     "name": "stdout",
     "output_type": "stream",
     "text": [
      "205.57974\n",
      "175.70765469186844\n",
      "nan\n",
      "nan\n",
      "nan\n",
      "nan\n",
      "266.9331\n",
      "155.9165206149676\n"
     ]
    },
    {
     "name": "stderr",
     "output_type": "stream",
     "text": [
      "/opt/software/easybuild/software/SciPy-bundle/2021.10-foss-2021b/lib/python3.9/site-packages/numpy/core/fromnumeric.py:3440: RuntimeWarning: Mean of empty slice.\n",
      "  return _methods._mean(a, axis=axis, dtype=dtype,\n",
      "/opt/software/easybuild/software/SciPy-bundle/2021.10-foss-2021b/lib/python3.9/site-packages/numpy/core/_methods.py:189: RuntimeWarning: invalid value encountered in double_scalars\n",
      "  ret = ret.dtype.type(ret / rcount)\n"
     ]
    },
    {
     "name": "stdout",
     "output_type": "stream",
     "text": [
      "204.07933\n",
      "187.83765886980314\n",
      "202.8489\n",
      "193.43930070248166\n",
      "173.64359\n",
      "182.65826622250938\n",
      "nan\n",
      "nan\n"
     ]
    },
    {
     "name": "stderr",
     "output_type": "stream",
     "text": [
      "/opt/software/easybuild/software/SciPy-bundle/2021.10-foss-2021b/lib/python3.9/site-packages/numpy/core/fromnumeric.py:3440: RuntimeWarning: Mean of empty slice.\n",
      "  return _methods._mean(a, axis=axis, dtype=dtype,\n",
      "/opt/software/easybuild/software/SciPy-bundle/2021.10-foss-2021b/lib/python3.9/site-packages/numpy/core/_methods.py:189: RuntimeWarning: invalid value encountered in double_scalars\n",
      "  ret = ret.dtype.type(ret / rcount)\n"
     ]
    },
    {
     "name": "stdout",
     "output_type": "stream",
     "text": [
      "69.02206\n",
      "173.84594299336618\n",
      "131.89972\n",
      "179.79048227048864\n",
      "220.95029\n",
      "193.00912633608738\n",
      "178.09744\n",
      "180.5792934428286\n",
      "nan\n",
      "nan\n"
     ]
    },
    {
     "name": "stderr",
     "output_type": "stream",
     "text": [
      "/opt/software/easybuild/software/SciPy-bundle/2021.10-foss-2021b/lib/python3.9/site-packages/numpy/core/fromnumeric.py:3440: RuntimeWarning: Mean of empty slice.\n",
      "  return _methods._mean(a, axis=axis, dtype=dtype,\n",
      "/opt/software/easybuild/software/SciPy-bundle/2021.10-foss-2021b/lib/python3.9/site-packages/numpy/core/_methods.py:189: RuntimeWarning: invalid value encountered in double_scalars\n",
      "  ret = ret.dtype.type(ret / rcount)\n"
     ]
    },
    {
     "name": "stdout",
     "output_type": "stream",
     "text": [
      "69.58784\n",
      "238.91489321124754\n",
      "144.51067\n",
      "188.3902354102486\n",
      "nan\n",
      "nan\n"
     ]
    },
    {
     "name": "stderr",
     "output_type": "stream",
     "text": [
      "/opt/software/easybuild/software/SciPy-bundle/2021.10-foss-2021b/lib/python3.9/site-packages/numpy/core/fromnumeric.py:3440: RuntimeWarning: Mean of empty slice.\n",
      "  return _methods._mean(a, axis=axis, dtype=dtype,\n",
      "/opt/software/easybuild/software/SciPy-bundle/2021.10-foss-2021b/lib/python3.9/site-packages/numpy/core/_methods.py:189: RuntimeWarning: invalid value encountered in double_scalars\n",
      "  ret = ret.dtype.type(ret / rcount)\n"
     ]
    },
    {
     "name": "stdout",
     "output_type": "stream",
     "text": [
      "210.49857\n",
      "181.60815561639242\n",
      "nan\n",
      "nan\n"
     ]
    },
    {
     "name": "stderr",
     "output_type": "stream",
     "text": [
      "/opt/software/easybuild/software/SciPy-bundle/2021.10-foss-2021b/lib/python3.9/site-packages/numpy/core/fromnumeric.py:3440: RuntimeWarning: Mean of empty slice.\n",
      "  return _methods._mean(a, axis=axis, dtype=dtype,\n",
      "/opt/software/easybuild/software/SciPy-bundle/2021.10-foss-2021b/lib/python3.9/site-packages/numpy/core/_methods.py:189: RuntimeWarning: invalid value encountered in double_scalars\n",
      "  ret = ret.dtype.type(ret / rcount)\n"
     ]
    },
    {
     "name": "stdout",
     "output_type": "stream",
     "text": [
      "170.49042\n",
      "215.97938242643102\n",
      "nan\n",
      "nan\n",
      "nan\n",
      "nan\n"
     ]
    },
    {
     "name": "stderr",
     "output_type": "stream",
     "text": [
      "/opt/software/easybuild/software/SciPy-bundle/2021.10-foss-2021b/lib/python3.9/site-packages/numpy/core/fromnumeric.py:3440: RuntimeWarning: Mean of empty slice.\n",
      "  return _methods._mean(a, axis=axis, dtype=dtype,\n",
      "/opt/software/easybuild/software/SciPy-bundle/2021.10-foss-2021b/lib/python3.9/site-packages/numpy/core/_methods.py:189: RuntimeWarning: invalid value encountered in double_scalars\n",
      "  ret = ret.dtype.type(ret / rcount)\n"
     ]
    },
    {
     "name": "stdout",
     "output_type": "stream",
     "text": [
      "96.701225\n",
      "202.06567020828803\n",
      "299.95682\n",
      "27.80541756834566\n",
      "153.90192\n",
      "193.00832168083014\n",
      "209.5072\n",
      "198.34278169619304\n",
      "109.17064\n",
      "239.66529958554324\n",
      "120.35228\n",
      "102.99683568855866\n",
      "135.25723\n",
      "194.05726350481245\n",
      "77.856125\n",
      "177.90586850424648\n",
      "80.95209\n",
      "177.54103435751034\n",
      "173.05731\n",
      "189.53955020704205\n",
      "nan\n",
      "nan\n"
     ]
    },
    {
     "name": "stderr",
     "output_type": "stream",
     "text": [
      "/opt/software/easybuild/software/SciPy-bundle/2021.10-foss-2021b/lib/python3.9/site-packages/numpy/core/fromnumeric.py:3440: RuntimeWarning: Mean of empty slice.\n",
      "  return _methods._mean(a, axis=axis, dtype=dtype,\n",
      "/opt/software/easybuild/software/SciPy-bundle/2021.10-foss-2021b/lib/python3.9/site-packages/numpy/core/_methods.py:189: RuntimeWarning: invalid value encountered in double_scalars\n",
      "  ret = ret.dtype.type(ret / rcount)\n",
      "/uio/hume/student-u37/fslippe/master_project/code/functions.py:673: VisibleDeprecationWarning: Creating an ndarray from ragged nested sequences (which is a list-or-tuple of lists-or-tuples-or ndarrays with different lengths or shapes) is deprecated. If you meant to do this, you must specify 'dtype=object' when creating the ndarray.\n",
      "  border_lines = np.array(di[\"data.borderLines\"], dtype=object)\n",
      "/uio/hume/student-u37/fslippe/master_project/code/functions.py:482: RuntimeWarning: invalid value encountered in true_divide\n",
      "  border_weighted_frac = np.where(m_preds, abs(m_border - l_border) / tot_border_preds, np.nan)\n",
      "/uio/hume/student-u37/fslippe/master_project/code/functions.py:483: RuntimeWarning: invalid value encountered in true_divide\n",
      "  border_frac = np.where(m_preds, abs(m_border - l_yes_no_border) / tot_border_preds, np.nan)\n",
      "/uio/hume/student-u37/fslippe/master_project/code/functions.py:482: RuntimeWarning: divide by zero encountered in true_divide\n",
      "  border_weighted_frac = np.where(m_preds, abs(m_border - l_border) / tot_border_preds, np.nan)\n",
      "/uio/hume/student-u37/fslippe/master_project/code/functions.py:483: RuntimeWarning: divide by zero encountered in true_divide\n",
      "  border_frac = np.where(m_preds, abs(m_border - l_yes_no_border) / tot_border_preds, np.nan)\n"
     ]
    },
    {
     "name": "stdout",
     "output_type": "stream",
     "text": [
      "open 8\n",
      "closed 10\n",
      "cluster load loc: /uio/hume/student-u37/fslippe/data/models/patch_size128/filter128/clustering/cluster_dnb_l95_z50_ps128_band29_filter128_K12.pkl\n",
      "12\n"
     ]
    },
    {
     "name": "stderr",
     "output_type": "stream",
     "text": [
      "/uio/hume/student-u37/fslippe/master_project/code/functions.py:348: VisibleDeprecationWarning: Creating an ndarray from ragged nested sequences (which is a list-or-tuple of lists-or-tuples-or ndarrays with different lengths or shapes) is deprecated. If you meant to do this, you must specify 'dtype=object' when creating the ndarray.\n",
      "  pat_lon = np.concatenate(np.array(pat_lon), axis=0)\n",
      "/uio/hume/student-u37/fslippe/master_project/code/functions.py:349: VisibleDeprecationWarning: Creating an ndarray from ragged nested sequences (which is a list-or-tuple of lists-or-tuples-or ndarrays with different lengths or shapes) is deprecated. If you meant to do this, you must specify 'dtype=object' when creating the ndarray.\n",
      "  pat_lat = np.concatenate(np.array(pat_lat), axis=0)\n"
     ]
    },
    {
     "name": "stdout",
     "output_type": "stream",
     "text": [
      "178.89282\n",
      "231.71397020958253\n",
      "nan\n",
      "nan\n",
      "nan\n",
      "nan\n"
     ]
    },
    {
     "name": "stderr",
     "output_type": "stream",
     "text": [
      "/opt/software/easybuild/software/SciPy-bundle/2021.10-foss-2021b/lib/python3.9/site-packages/numpy/core/fromnumeric.py:3440: RuntimeWarning: Mean of empty slice.\n",
      "  return _methods._mean(a, axis=axis, dtype=dtype,\n",
      "/opt/software/easybuild/software/SciPy-bundle/2021.10-foss-2021b/lib/python3.9/site-packages/numpy/core/_methods.py:189: RuntimeWarning: invalid value encountered in double_scalars\n",
      "  ret = ret.dtype.type(ret / rcount)\n"
     ]
    },
    {
     "name": "stdout",
     "output_type": "stream",
     "text": [
      "244.67053\n",
      "238.20594872582842\n",
      "nan\n",
      "nan\n",
      "nan\n",
      "nan\n",
      "nan\n",
      "nan\n"
     ]
    },
    {
     "name": "stderr",
     "output_type": "stream",
     "text": [
      "/opt/software/easybuild/software/SciPy-bundle/2021.10-foss-2021b/lib/python3.9/site-packages/numpy/core/fromnumeric.py:3440: RuntimeWarning: Mean of empty slice.\n",
      "  return _methods._mean(a, axis=axis, dtype=dtype,\n",
      "/opt/software/easybuild/software/SciPy-bundle/2021.10-foss-2021b/lib/python3.9/site-packages/numpy/core/_methods.py:189: RuntimeWarning: invalid value encountered in double_scalars\n",
      "  ret = ret.dtype.type(ret / rcount)\n"
     ]
    },
    {
     "name": "stdout",
     "output_type": "stream",
     "text": [
      "155.60266\n",
      "198.42195195220552\n",
      "174.22127\n",
      "261.43789616732914\n",
      "nan\n",
      "nan\n"
     ]
    },
    {
     "name": "stderr",
     "output_type": "stream",
     "text": [
      "/opt/software/easybuild/software/SciPy-bundle/2021.10-foss-2021b/lib/python3.9/site-packages/numpy/core/fromnumeric.py:3440: RuntimeWarning: Mean of empty slice.\n",
      "  return _methods._mean(a, axis=axis, dtype=dtype,\n",
      "/opt/software/easybuild/software/SciPy-bundle/2021.10-foss-2021b/lib/python3.9/site-packages/numpy/core/_methods.py:189: RuntimeWarning: invalid value encountered in double_scalars\n",
      "  ret = ret.dtype.type(ret / rcount)\n"
     ]
    },
    {
     "name": "stdout",
     "output_type": "stream",
     "text": [
      "190.84377\n",
      "195.57583622894833\n",
      "nan\n",
      "nan\n",
      "nan\n",
      "nan\n"
     ]
    },
    {
     "name": "stderr",
     "output_type": "stream",
     "text": [
      "/opt/software/easybuild/software/SciPy-bundle/2021.10-foss-2021b/lib/python3.9/site-packages/numpy/core/fromnumeric.py:3440: RuntimeWarning: Mean of empty slice.\n",
      "  return _methods._mean(a, axis=axis, dtype=dtype,\n",
      "/opt/software/easybuild/software/SciPy-bundle/2021.10-foss-2021b/lib/python3.9/site-packages/numpy/core/_methods.py:189: RuntimeWarning: invalid value encountered in double_scalars\n",
      "  ret = ret.dtype.type(ret / rcount)\n"
     ]
    },
    {
     "name": "stdout",
     "output_type": "stream",
     "text": [
      "264.20905\n",
      "161.1980774166408\n",
      "202.44525\n",
      "191.22063083484537\n",
      "191.02348\n",
      "269.106322776207\n",
      "182.5157\n",
      "201.447311254141\n",
      "nan\n",
      "nan\n"
     ]
    },
    {
     "name": "stderr",
     "output_type": "stream",
     "text": [
      "/opt/software/easybuild/software/SciPy-bundle/2021.10-foss-2021b/lib/python3.9/site-packages/numpy/core/fromnumeric.py:3440: RuntimeWarning: Mean of empty slice.\n",
      "  return _methods._mean(a, axis=axis, dtype=dtype,\n",
      "/opt/software/easybuild/software/SciPy-bundle/2021.10-foss-2021b/lib/python3.9/site-packages/numpy/core/_methods.py:189: RuntimeWarning: invalid value encountered in double_scalars\n",
      "  ret = ret.dtype.type(ret / rcount)\n"
     ]
    },
    {
     "name": "stdout",
     "output_type": "stream",
     "text": [
      "59.223213\n",
      "162.43060249446333\n",
      "130.51643\n",
      "186.45223189528014\n",
      "217.6111\n",
      "224.7265536712747\n",
      "183.40921\n",
      "187.94169871193847\n",
      "nan\n",
      "nan\n",
      "75.338936\n",
      "204.14674644660627\n"
     ]
    },
    {
     "name": "stderr",
     "output_type": "stream",
     "text": [
      "/opt/software/easybuild/software/SciPy-bundle/2021.10-foss-2021b/lib/python3.9/site-packages/numpy/core/fromnumeric.py:3440: RuntimeWarning: Mean of empty slice.\n",
      "  return _methods._mean(a, axis=axis, dtype=dtype,\n",
      "/opt/software/easybuild/software/SciPy-bundle/2021.10-foss-2021b/lib/python3.9/site-packages/numpy/core/_methods.py:189: RuntimeWarning: invalid value encountered in double_scalars\n",
      "  ret = ret.dtype.type(ret / rcount)\n"
     ]
    },
    {
     "name": "stdout",
     "output_type": "stream",
     "text": [
      "145.43407\n",
      "262.76559044829634\n",
      "nan\n",
      "nan\n"
     ]
    },
    {
     "name": "stderr",
     "output_type": "stream",
     "text": [
      "/opt/software/easybuild/software/SciPy-bundle/2021.10-foss-2021b/lib/python3.9/site-packages/numpy/core/fromnumeric.py:3440: RuntimeWarning: Mean of empty slice.\n",
      "  return _methods._mean(a, axis=axis, dtype=dtype,\n",
      "/opt/software/easybuild/software/SciPy-bundle/2021.10-foss-2021b/lib/python3.9/site-packages/numpy/core/_methods.py:189: RuntimeWarning: invalid value encountered in double_scalars\n",
      "  ret = ret.dtype.type(ret / rcount)\n"
     ]
    },
    {
     "name": "stdout",
     "output_type": "stream",
     "text": [
      "207.0346\n",
      "195.01120016492325\n",
      "nan\n",
      "nan\n"
     ]
    },
    {
     "name": "stderr",
     "output_type": "stream",
     "text": [
      "/opt/software/easybuild/software/SciPy-bundle/2021.10-foss-2021b/lib/python3.9/site-packages/numpy/core/fromnumeric.py:3440: RuntimeWarning: Mean of empty slice.\n",
      "  return _methods._mean(a, axis=axis, dtype=dtype,\n",
      "/opt/software/easybuild/software/SciPy-bundle/2021.10-foss-2021b/lib/python3.9/site-packages/numpy/core/_methods.py:189: RuntimeWarning: invalid value encountered in double_scalars\n",
      "  ret = ret.dtype.type(ret / rcount)\n"
     ]
    },
    {
     "name": "stdout",
     "output_type": "stream",
     "text": [
      "168.61716\n",
      "231.52634678373246\n",
      "nan\n",
      "nan\n",
      "nan\n",
      "nan\n"
     ]
    },
    {
     "name": "stderr",
     "output_type": "stream",
     "text": [
      "/opt/software/easybuild/software/SciPy-bundle/2021.10-foss-2021b/lib/python3.9/site-packages/numpy/core/fromnumeric.py:3440: RuntimeWarning: Mean of empty slice.\n",
      "  return _methods._mean(a, axis=axis, dtype=dtype,\n",
      "/opt/software/easybuild/software/SciPy-bundle/2021.10-foss-2021b/lib/python3.9/site-packages/numpy/core/_methods.py:189: RuntimeWarning: invalid value encountered in double_scalars\n",
      "  ret = ret.dtype.type(ret / rcount)\n"
     ]
    },
    {
     "name": "stdout",
     "output_type": "stream",
     "text": [
      "102.94376\n",
      "227.90036503554563\n",
      "nan\n",
      "nan\n"
     ]
    },
    {
     "name": "stderr",
     "output_type": "stream",
     "text": [
      "/opt/software/easybuild/software/SciPy-bundle/2021.10-foss-2021b/lib/python3.9/site-packages/numpy/core/fromnumeric.py:3440: RuntimeWarning: Mean of empty slice.\n",
      "  return _methods._mean(a, axis=axis, dtype=dtype,\n",
      "/opt/software/easybuild/software/SciPy-bundle/2021.10-foss-2021b/lib/python3.9/site-packages/numpy/core/_methods.py:189: RuntimeWarning: invalid value encountered in double_scalars\n",
      "  ret = ret.dtype.type(ret / rcount)\n"
     ]
    },
    {
     "name": "stdout",
     "output_type": "stream",
     "text": [
      "164.99622\n",
      "210.7888199729448\n",
      "210.20729\n",
      "225.9554335847008\n",
      "nan\n",
      "nan\n",
      "nan\n",
      "nan\n"
     ]
    },
    {
     "name": "stderr",
     "output_type": "stream",
     "text": [
      "/opt/software/easybuild/software/SciPy-bundle/2021.10-foss-2021b/lib/python3.9/site-packages/numpy/core/fromnumeric.py:3440: RuntimeWarning: Mean of empty slice.\n",
      "  return _methods._mean(a, axis=axis, dtype=dtype,\n",
      "/opt/software/easybuild/software/SciPy-bundle/2021.10-foss-2021b/lib/python3.9/site-packages/numpy/core/_methods.py:189: RuntimeWarning: invalid value encountered in double_scalars\n",
      "  ret = ret.dtype.type(ret / rcount)\n"
     ]
    },
    {
     "name": "stdout",
     "output_type": "stream",
     "text": [
      "145.9849\n",
      "193.10055691646042\n",
      "69.38288\n",
      "178.54042963558862\n",
      "72.37136\n",
      "194.66309744453775\n",
      "166.9446\n",
      "205.55538985679357\n",
      "nan\n",
      "nan\n"
     ]
    },
    {
     "name": "stderr",
     "output_type": "stream",
     "text": [
      "/opt/software/easybuild/software/SciPy-bundle/2021.10-foss-2021b/lib/python3.9/site-packages/numpy/core/fromnumeric.py:3440: RuntimeWarning: Mean of empty slice.\n",
      "  return _methods._mean(a, axis=axis, dtype=dtype,\n",
      "/opt/software/easybuild/software/SciPy-bundle/2021.10-foss-2021b/lib/python3.9/site-packages/numpy/core/_methods.py:189: RuntimeWarning: invalid value encountered in double_scalars\n",
      "  ret = ret.dtype.type(ret / rcount)\n",
      "/uio/hume/student-u37/fslippe/master_project/code/functions.py:673: VisibleDeprecationWarning: Creating an ndarray from ragged nested sequences (which is a list-or-tuple of lists-or-tuples-or ndarrays with different lengths or shapes) is deprecated. If you meant to do this, you must specify 'dtype=object' when creating the ndarray.\n",
      "  border_lines = np.array(di[\"data.borderLines\"], dtype=object)\n",
      "/uio/hume/student-u37/fslippe/master_project/code/functions.py:482: RuntimeWarning: divide by zero encountered in true_divide\n",
      "  border_weighted_frac = np.where(m_preds, abs(m_border - l_border) / tot_border_preds, np.nan)\n",
      "/uio/hume/student-u37/fslippe/master_project/code/functions.py:482: RuntimeWarning: invalid value encountered in true_divide\n",
      "  border_weighted_frac = np.where(m_preds, abs(m_border - l_border) / tot_border_preds, np.nan)\n",
      "/uio/hume/student-u37/fslippe/master_project/code/functions.py:483: RuntimeWarning: divide by zero encountered in true_divide\n",
      "  border_frac = np.where(m_preds, abs(m_border - l_yes_no_border) / tot_border_preds, np.nan)\n",
      "/uio/hume/student-u37/fslippe/master_project/code/functions.py:483: RuntimeWarning: invalid value encountered in true_divide\n",
      "  border_frac = np.where(m_preds, abs(m_border - l_yes_no_border) / tot_border_preds, np.nan)\n"
     ]
    },
    {
     "name": "stdout",
     "output_type": "stream",
     "text": [
      "open 5\n",
      "closed 4\n",
      "cluster load loc: /uio/hume/student-u37/fslippe/data/models/patch_size128/filter128/clustering/cluster_dnb_l95_z50_ps128_band29_filter128_K13.pkl\n",
      "13\n"
     ]
    },
    {
     "name": "stderr",
     "output_type": "stream",
     "text": [
      "/uio/hume/student-u37/fslippe/master_project/code/functions.py:348: VisibleDeprecationWarning: Creating an ndarray from ragged nested sequences (which is a list-or-tuple of lists-or-tuples-or ndarrays with different lengths or shapes) is deprecated. If you meant to do this, you must specify 'dtype=object' when creating the ndarray.\n",
      "  pat_lon = np.concatenate(np.array(pat_lon), axis=0)\n",
      "/uio/hume/student-u37/fslippe/master_project/code/functions.py:349: VisibleDeprecationWarning: Creating an ndarray from ragged nested sequences (which is a list-or-tuple of lists-or-tuples-or ndarrays with different lengths or shapes) is deprecated. If you meant to do this, you must specify 'dtype=object' when creating the ndarray.\n",
      "  pat_lat = np.concatenate(np.array(pat_lat), axis=0)\n"
     ]
    },
    {
     "name": "stdout",
     "output_type": "stream",
     "text": [
      "179.37991\n",
      "182.78418102902725\n",
      "nan\n",
      "nan\n",
      "nan\n",
      "nan\n"
     ]
    },
    {
     "name": "stderr",
     "output_type": "stream",
     "text": [
      "/opt/software/easybuild/software/SciPy-bundle/2021.10-foss-2021b/lib/python3.9/site-packages/numpy/core/fromnumeric.py:3440: RuntimeWarning: Mean of empty slice.\n",
      "  return _methods._mean(a, axis=axis, dtype=dtype,\n",
      "/opt/software/easybuild/software/SciPy-bundle/2021.10-foss-2021b/lib/python3.9/site-packages/numpy/core/_methods.py:189: RuntimeWarning: invalid value encountered in double_scalars\n",
      "  ret = ret.dtype.type(ret / rcount)\n"
     ]
    },
    {
     "name": "stdout",
     "output_type": "stream",
     "text": [
      "243.2489\n",
      "220.82796649224355\n",
      "nan\n",
      "nan\n",
      "nan\n",
      "nan\n",
      "nan\n",
      "nan\n"
     ]
    },
    {
     "name": "stderr",
     "output_type": "stream",
     "text": [
      "/opt/software/easybuild/software/SciPy-bundle/2021.10-foss-2021b/lib/python3.9/site-packages/numpy/core/fromnumeric.py:3440: RuntimeWarning: Mean of empty slice.\n",
      "  return _methods._mean(a, axis=axis, dtype=dtype,\n",
      "/opt/software/easybuild/software/SciPy-bundle/2021.10-foss-2021b/lib/python3.9/site-packages/numpy/core/_methods.py:189: RuntimeWarning: invalid value encountered in double_scalars\n",
      "  ret = ret.dtype.type(ret / rcount)\n"
     ]
    },
    {
     "name": "stdout",
     "output_type": "stream",
     "text": [
      "154.76724\n",
      "192.44229162742198\n",
      "175.92448\n",
      "300.827838008669\n",
      "nan\n",
      "nan\n"
     ]
    },
    {
     "name": "stderr",
     "output_type": "stream",
     "text": [
      "/opt/software/easybuild/software/SciPy-bundle/2021.10-foss-2021b/lib/python3.9/site-packages/numpy/core/fromnumeric.py:3440: RuntimeWarning: Mean of empty slice.\n",
      "  return _methods._mean(a, axis=axis, dtype=dtype,\n",
      "/opt/software/easybuild/software/SciPy-bundle/2021.10-foss-2021b/lib/python3.9/site-packages/numpy/core/_methods.py:189: RuntimeWarning: invalid value encountered in double_scalars\n",
      "  ret = ret.dtype.type(ret / rcount)\n"
     ]
    },
    {
     "name": "stdout",
     "output_type": "stream",
     "text": [
      "188.91292\n",
      "195.77814813788254\n",
      "nan\n",
      "nan\n",
      "nan\n",
      "nan\n"
     ]
    },
    {
     "name": "stderr",
     "output_type": "stream",
     "text": [
      "/opt/software/easybuild/software/SciPy-bundle/2021.10-foss-2021b/lib/python3.9/site-packages/numpy/core/fromnumeric.py:3440: RuntimeWarning: Mean of empty slice.\n",
      "  return _methods._mean(a, axis=axis, dtype=dtype,\n",
      "/opt/software/easybuild/software/SciPy-bundle/2021.10-foss-2021b/lib/python3.9/site-packages/numpy/core/_methods.py:189: RuntimeWarning: invalid value encountered in double_scalars\n",
      "  ret = ret.dtype.type(ret / rcount)\n"
     ]
    },
    {
     "name": "stdout",
     "output_type": "stream",
     "text": [
      "264.71594\n",
      "170.53832100309552\n",
      "202.81274\n",
      "185.95930523944065\n",
      "148.71863\n",
      "213.68509732250646\n",
      "186.83072\n",
      "196.24114002374154\n",
      "nan\n",
      "nan\n"
     ]
    },
    {
     "name": "stderr",
     "output_type": "stream",
     "text": [
      "/opt/software/easybuild/software/SciPy-bundle/2021.10-foss-2021b/lib/python3.9/site-packages/numpy/core/fromnumeric.py:3440: RuntimeWarning: Mean of empty slice.\n",
      "  return _methods._mean(a, axis=axis, dtype=dtype,\n",
      "/opt/software/easybuild/software/SciPy-bundle/2021.10-foss-2021b/lib/python3.9/site-packages/numpy/core/_methods.py:189: RuntimeWarning: invalid value encountered in double_scalars\n",
      "  ret = ret.dtype.type(ret / rcount)\n"
     ]
    },
    {
     "name": "stdout",
     "output_type": "stream",
     "text": [
      "54.356003\n",
      "175.73499898987217\n",
      "130.63823\n",
      "181.18434074614592\n",
      "216.38617\n",
      "206.0545864068099\n",
      "182.76923\n",
      "186.3089355750909\n",
      "nan\n",
      "nan\n",
      "75.38973\n",
      "151.37043173292273\n",
      "nan\n",
      "nan\n",
      "nan\n",
      "nan\n"
     ]
    },
    {
     "name": "stderr",
     "output_type": "stream",
     "text": [
      "/opt/software/easybuild/software/SciPy-bundle/2021.10-foss-2021b/lib/python3.9/site-packages/numpy/core/fromnumeric.py:3440: RuntimeWarning: Mean of empty slice.\n",
      "  return _methods._mean(a, axis=axis, dtype=dtype,\n",
      "/opt/software/easybuild/software/SciPy-bundle/2021.10-foss-2021b/lib/python3.9/site-packages/numpy/core/_methods.py:189: RuntimeWarning: invalid value encountered in double_scalars\n",
      "  ret = ret.dtype.type(ret / rcount)\n",
      "/opt/software/easybuild/software/SciPy-bundle/2021.10-foss-2021b/lib/python3.9/site-packages/numpy/core/fromnumeric.py:3440: RuntimeWarning: Mean of empty slice.\n",
      "  return _methods._mean(a, axis=axis, dtype=dtype,\n",
      "/opt/software/easybuild/software/SciPy-bundle/2021.10-foss-2021b/lib/python3.9/site-packages/numpy/core/_methods.py:189: RuntimeWarning: invalid value encountered in double_scalars\n",
      "  ret = ret.dtype.type(ret / rcount)\n"
     ]
    },
    {
     "name": "stdout",
     "output_type": "stream",
     "text": [
      "200.61922\n",
      "194.56369993308266\n",
      "nan\n",
      "nan\n"
     ]
    },
    {
     "name": "stderr",
     "output_type": "stream",
     "text": [
      "/opt/software/easybuild/software/SciPy-bundle/2021.10-foss-2021b/lib/python3.9/site-packages/numpy/core/fromnumeric.py:3440: RuntimeWarning: Mean of empty slice.\n",
      "  return _methods._mean(a, axis=axis, dtype=dtype,\n",
      "/opt/software/easybuild/software/SciPy-bundle/2021.10-foss-2021b/lib/python3.9/site-packages/numpy/core/_methods.py:189: RuntimeWarning: invalid value encountered in double_scalars\n",
      "  ret = ret.dtype.type(ret / rcount)\n"
     ]
    },
    {
     "name": "stdout",
     "output_type": "stream",
     "text": [
      "167.19919\n",
      "229.44746671915567\n",
      "nan\n",
      "nan\n",
      "nan\n",
      "nan\n"
     ]
    },
    {
     "name": "stderr",
     "output_type": "stream",
     "text": [
      "/opt/software/easybuild/software/SciPy-bundle/2021.10-foss-2021b/lib/python3.9/site-packages/numpy/core/fromnumeric.py:3440: RuntimeWarning: Mean of empty slice.\n",
      "  return _methods._mean(a, axis=axis, dtype=dtype,\n",
      "/opt/software/easybuild/software/SciPy-bundle/2021.10-foss-2021b/lib/python3.9/site-packages/numpy/core/_methods.py:189: RuntimeWarning: invalid value encountered in double_scalars\n",
      "  ret = ret.dtype.type(ret / rcount)\n"
     ]
    },
    {
     "name": "stdout",
     "output_type": "stream",
     "text": [
      "103.879616\n",
      "233.73077718670467\n",
      "nan\n",
      "nan\n"
     ]
    },
    {
     "name": "stderr",
     "output_type": "stream",
     "text": [
      "/opt/software/easybuild/software/SciPy-bundle/2021.10-foss-2021b/lib/python3.9/site-packages/numpy/core/fromnumeric.py:3440: RuntimeWarning: Mean of empty slice.\n",
      "  return _methods._mean(a, axis=axis, dtype=dtype,\n",
      "/opt/software/easybuild/software/SciPy-bundle/2021.10-foss-2021b/lib/python3.9/site-packages/numpy/core/_methods.py:189: RuntimeWarning: invalid value encountered in double_scalars\n",
      "  ret = ret.dtype.type(ret / rcount)\n"
     ]
    },
    {
     "name": "stdout",
     "output_type": "stream",
     "text": [
      "168.93326\n",
      "210.789966417855\n",
      "212.69464\n",
      "236.29721973672903\n",
      "nan\n",
      "nan\n",
      "nan\n",
      "nan\n"
     ]
    },
    {
     "name": "stderr",
     "output_type": "stream",
     "text": [
      "/opt/software/easybuild/software/SciPy-bundle/2021.10-foss-2021b/lib/python3.9/site-packages/numpy/core/fromnumeric.py:3440: RuntimeWarning: Mean of empty slice.\n",
      "  return _methods._mean(a, axis=axis, dtype=dtype,\n",
      "/opt/software/easybuild/software/SciPy-bundle/2021.10-foss-2021b/lib/python3.9/site-packages/numpy/core/_methods.py:189: RuntimeWarning: invalid value encountered in double_scalars\n",
      "  ret = ret.dtype.type(ret / rcount)\n"
     ]
    },
    {
     "name": "stdout",
     "output_type": "stream",
     "text": [
      "152.55603\n",
      "166.98562166105975\n",
      "71.88411\n",
      "178.3160900381897\n",
      "67.697975\n",
      "190.31598902112498\n",
      "168.3663\n",
      "204.1994498563925\n",
      "nan\n",
      "nan\n"
     ]
    },
    {
     "name": "stderr",
     "output_type": "stream",
     "text": [
      "/opt/software/easybuild/software/SciPy-bundle/2021.10-foss-2021b/lib/python3.9/site-packages/numpy/core/fromnumeric.py:3440: RuntimeWarning: Mean of empty slice.\n",
      "  return _methods._mean(a, axis=axis, dtype=dtype,\n",
      "/opt/software/easybuild/software/SciPy-bundle/2021.10-foss-2021b/lib/python3.9/site-packages/numpy/core/_methods.py:189: RuntimeWarning: invalid value encountered in double_scalars\n",
      "  ret = ret.dtype.type(ret / rcount)\n",
      "/uio/hume/student-u37/fslippe/master_project/code/functions.py:673: VisibleDeprecationWarning: Creating an ndarray from ragged nested sequences (which is a list-or-tuple of lists-or-tuples-or ndarrays with different lengths or shapes) is deprecated. If you meant to do this, you must specify 'dtype=object' when creating the ndarray.\n",
      "  border_lines = np.array(di[\"data.borderLines\"], dtype=object)\n",
      "/uio/hume/student-u37/fslippe/master_project/code/functions.py:482: RuntimeWarning: divide by zero encountered in true_divide\n",
      "  border_weighted_frac = np.where(m_preds, abs(m_border - l_border) / tot_border_preds, np.nan)\n",
      "/uio/hume/student-u37/fslippe/master_project/code/functions.py:482: RuntimeWarning: invalid value encountered in true_divide\n",
      "  border_weighted_frac = np.where(m_preds, abs(m_border - l_border) / tot_border_preds, np.nan)\n",
      "/uio/hume/student-u37/fslippe/master_project/code/functions.py:483: RuntimeWarning: divide by zero encountered in true_divide\n",
      "  border_frac = np.where(m_preds, abs(m_border - l_yes_no_border) / tot_border_preds, np.nan)\n",
      "/uio/hume/student-u37/fslippe/master_project/code/functions.py:483: RuntimeWarning: invalid value encountered in true_divide\n",
      "  border_frac = np.where(m_preds, abs(m_border - l_yes_no_border) / tot_border_preds, np.nan)\n"
     ]
    },
    {
     "name": "stdout",
     "output_type": "stream",
     "text": [
      "open 9\n",
      "closed 13\n",
      "cluster load loc: /uio/hume/student-u37/fslippe/data/models/patch_size128/filter128/clustering/cluster_dnb_l95_z50_ps128_band29_filter128_K14.pkl\n",
      "14\n"
     ]
    },
    {
     "name": "stderr",
     "output_type": "stream",
     "text": [
      "/uio/hume/student-u37/fslippe/master_project/code/functions.py:348: VisibleDeprecationWarning: Creating an ndarray from ragged nested sequences (which is a list-or-tuple of lists-or-tuples-or ndarrays with different lengths or shapes) is deprecated. If you meant to do this, you must specify 'dtype=object' when creating the ndarray.\n",
      "  pat_lon = np.concatenate(np.array(pat_lon), axis=0)\n",
      "/uio/hume/student-u37/fslippe/master_project/code/functions.py:349: VisibleDeprecationWarning: Creating an ndarray from ragged nested sequences (which is a list-or-tuple of lists-or-tuples-or ndarrays with different lengths or shapes) is deprecated. If you meant to do this, you must specify 'dtype=object' when creating the ndarray.\n",
      "  pat_lat = np.concatenate(np.array(pat_lat), axis=0)\n"
     ]
    },
    {
     "name": "stdout",
     "output_type": "stream",
     "text": [
      "179.32056\n",
      "197.2744132776476\n",
      "nan\n",
      "nan\n",
      "nan\n",
      "nan\n"
     ]
    },
    {
     "name": "stderr",
     "output_type": "stream",
     "text": [
      "/opt/software/easybuild/software/SciPy-bundle/2021.10-foss-2021b/lib/python3.9/site-packages/numpy/core/fromnumeric.py:3440: RuntimeWarning: Mean of empty slice.\n",
      "  return _methods._mean(a, axis=axis, dtype=dtype,\n",
      "/opt/software/easybuild/software/SciPy-bundle/2021.10-foss-2021b/lib/python3.9/site-packages/numpy/core/_methods.py:189: RuntimeWarning: invalid value encountered in double_scalars\n",
      "  ret = ret.dtype.type(ret / rcount)\n"
     ]
    },
    {
     "name": "stdout",
     "output_type": "stream",
     "text": [
      "244.68506\n",
      "202.72818859072189\n",
      "nan\n",
      "nan\n",
      "nan\n",
      "nan\n",
      "nan\n",
      "nan\n"
     ]
    },
    {
     "name": "stderr",
     "output_type": "stream",
     "text": [
      "/opt/software/easybuild/software/SciPy-bundle/2021.10-foss-2021b/lib/python3.9/site-packages/numpy/core/fromnumeric.py:3440: RuntimeWarning: Mean of empty slice.\n",
      "  return _methods._mean(a, axis=axis, dtype=dtype,\n",
      "/opt/software/easybuild/software/SciPy-bundle/2021.10-foss-2021b/lib/python3.9/site-packages/numpy/core/_methods.py:189: RuntimeWarning: invalid value encountered in double_scalars\n",
      "  ret = ret.dtype.type(ret / rcount)\n"
     ]
    },
    {
     "name": "stdout",
     "output_type": "stream",
     "text": [
      "159.34988\n",
      "181.35026573941894\n",
      "175.92448\n",
      "300.827838008669\n",
      "nan\n",
      "nan\n"
     ]
    },
    {
     "name": "stderr",
     "output_type": "stream",
     "text": [
      "/opt/software/easybuild/software/SciPy-bundle/2021.10-foss-2021b/lib/python3.9/site-packages/numpy/core/fromnumeric.py:3440: RuntimeWarning: Mean of empty slice.\n",
      "  return _methods._mean(a, axis=axis, dtype=dtype,\n",
      "/opt/software/easybuild/software/SciPy-bundle/2021.10-foss-2021b/lib/python3.9/site-packages/numpy/core/_methods.py:189: RuntimeWarning: invalid value encountered in double_scalars\n",
      "  ret = ret.dtype.type(ret / rcount)\n"
     ]
    },
    {
     "name": "stdout",
     "output_type": "stream",
     "text": [
      "191.84462\n",
      "203.8991368554534\n",
      "nan\n",
      "nan\n",
      "nan\n",
      "nan\n",
      "266.9331\n",
      "155.9165206149676\n"
     ]
    },
    {
     "name": "stderr",
     "output_type": "stream",
     "text": [
      "/opt/software/easybuild/software/SciPy-bundle/2021.10-foss-2021b/lib/python3.9/site-packages/numpy/core/fromnumeric.py:3440: RuntimeWarning: Mean of empty slice.\n",
      "  return _methods._mean(a, axis=axis, dtype=dtype,\n",
      "/opt/software/easybuild/software/SciPy-bundle/2021.10-foss-2021b/lib/python3.9/site-packages/numpy/core/_methods.py:189: RuntimeWarning: invalid value encountered in double_scalars\n",
      "  ret = ret.dtype.type(ret / rcount)\n"
     ]
    },
    {
     "name": "stdout",
     "output_type": "stream",
     "text": [
      "205.92328\n",
      "186.43867282315333\n",
      "124.29713\n",
      "201.7517636484907\n",
      "185.29587\n",
      "195.1012329832218\n",
      "nan\n",
      "nan\n"
     ]
    },
    {
     "name": "stderr",
     "output_type": "stream",
     "text": [
      "/opt/software/easybuild/software/SciPy-bundle/2021.10-foss-2021b/lib/python3.9/site-packages/numpy/core/fromnumeric.py:3440: RuntimeWarning: Mean of empty slice.\n",
      "  return _methods._mean(a, axis=axis, dtype=dtype,\n",
      "/opt/software/easybuild/software/SciPy-bundle/2021.10-foss-2021b/lib/python3.9/site-packages/numpy/core/_methods.py:189: RuntimeWarning: invalid value encountered in double_scalars\n",
      "  ret = ret.dtype.type(ret / rcount)\n"
     ]
    },
    {
     "name": "stdout",
     "output_type": "stream",
     "text": [
      "54.258724\n",
      "178.4203285665622\n",
      "130.13196\n",
      "184.08204001991433\n",
      "216.41565\n",
      "204.83331925813474\n",
      "182.88763\n",
      "176.27452121723763\n",
      "nan\n",
      "nan\n",
      "75.510925\n",
      "198.48983341205584\n",
      "nan\n",
      "nan\n",
      "nan\n",
      "nan\n"
     ]
    },
    {
     "name": "stderr",
     "output_type": "stream",
     "text": [
      "/opt/software/easybuild/software/SciPy-bundle/2021.10-foss-2021b/lib/python3.9/site-packages/numpy/core/fromnumeric.py:3440: RuntimeWarning: Mean of empty slice.\n",
      "  return _methods._mean(a, axis=axis, dtype=dtype,\n",
      "/opt/software/easybuild/software/SciPy-bundle/2021.10-foss-2021b/lib/python3.9/site-packages/numpy/core/_methods.py:189: RuntimeWarning: invalid value encountered in double_scalars\n",
      "  ret = ret.dtype.type(ret / rcount)\n",
      "/opt/software/easybuild/software/SciPy-bundle/2021.10-foss-2021b/lib/python3.9/site-packages/numpy/core/fromnumeric.py:3440: RuntimeWarning: Mean of empty slice.\n",
      "  return _methods._mean(a, axis=axis, dtype=dtype,\n",
      "/opt/software/easybuild/software/SciPy-bundle/2021.10-foss-2021b/lib/python3.9/site-packages/numpy/core/_methods.py:189: RuntimeWarning: invalid value encountered in double_scalars\n",
      "  ret = ret.dtype.type(ret / rcount)\n"
     ]
    },
    {
     "name": "stdout",
     "output_type": "stream",
     "text": [
      "207.98415\n",
      "186.19736438074972\n",
      "nan\n",
      "nan\n"
     ]
    },
    {
     "name": "stderr",
     "output_type": "stream",
     "text": [
      "/opt/software/easybuild/software/SciPy-bundle/2021.10-foss-2021b/lib/python3.9/site-packages/numpy/core/fromnumeric.py:3440: RuntimeWarning: Mean of empty slice.\n",
      "  return _methods._mean(a, axis=axis, dtype=dtype,\n",
      "/opt/software/easybuild/software/SciPy-bundle/2021.10-foss-2021b/lib/python3.9/site-packages/numpy/core/_methods.py:189: RuntimeWarning: invalid value encountered in double_scalars\n",
      "  ret = ret.dtype.type(ret / rcount)\n"
     ]
    },
    {
     "name": "stdout",
     "output_type": "stream",
     "text": [
      "169.98138\n",
      "219.36178151144918\n",
      "nan\n",
      "nan\n",
      "nan\n",
      "nan\n"
     ]
    },
    {
     "name": "stderr",
     "output_type": "stream",
     "text": [
      "/opt/software/easybuild/software/SciPy-bundle/2021.10-foss-2021b/lib/python3.9/site-packages/numpy/core/fromnumeric.py:3440: RuntimeWarning: Mean of empty slice.\n",
      "  return _methods._mean(a, axis=axis, dtype=dtype,\n",
      "/opt/software/easybuild/software/SciPy-bundle/2021.10-foss-2021b/lib/python3.9/site-packages/numpy/core/_methods.py:189: RuntimeWarning: invalid value encountered in double_scalars\n",
      "  ret = ret.dtype.type(ret / rcount)\n"
     ]
    },
    {
     "name": "stdout",
     "output_type": "stream",
     "text": [
      "102.6865\n",
      "211.07583933136357\n",
      "nan\n",
      "nan\n"
     ]
    },
    {
     "name": "stderr",
     "output_type": "stream",
     "text": [
      "/opt/software/easybuild/software/SciPy-bundle/2021.10-foss-2021b/lib/python3.9/site-packages/numpy/core/fromnumeric.py:3440: RuntimeWarning: Mean of empty slice.\n",
      "  return _methods._mean(a, axis=axis, dtype=dtype,\n",
      "/opt/software/easybuild/software/SciPy-bundle/2021.10-foss-2021b/lib/python3.9/site-packages/numpy/core/_methods.py:189: RuntimeWarning: invalid value encountered in double_scalars\n",
      "  ret = ret.dtype.type(ret / rcount)\n"
     ]
    },
    {
     "name": "stdout",
     "output_type": "stream",
     "text": [
      "167.38087\n",
      "202.1988469633549\n",
      "209.88612\n",
      "225.30221483250014\n",
      "nan\n",
      "nan\n",
      "nan\n",
      "nan\n"
     ]
    },
    {
     "name": "stderr",
     "output_type": "stream",
     "text": [
      "/opt/software/easybuild/software/SciPy-bundle/2021.10-foss-2021b/lib/python3.9/site-packages/numpy/core/fromnumeric.py:3440: RuntimeWarning: Mean of empty slice.\n",
      "  return _methods._mean(a, axis=axis, dtype=dtype,\n",
      "/opt/software/easybuild/software/SciPy-bundle/2021.10-foss-2021b/lib/python3.9/site-packages/numpy/core/_methods.py:189: RuntimeWarning: invalid value encountered in double_scalars\n",
      "  ret = ret.dtype.type(ret / rcount)\n"
     ]
    },
    {
     "name": "stdout",
     "output_type": "stream",
     "text": [
      "147.81111\n",
      "163.30617655194422\n",
      "72.96592\n",
      "176.12001360091912\n",
      "65.758\n",
      "183.85915933586384\n",
      "167.26666\n",
      "190.1062685464532\n",
      "nan\n",
      "nan\n"
     ]
    },
    {
     "name": "stderr",
     "output_type": "stream",
     "text": [
      "/opt/software/easybuild/software/SciPy-bundle/2021.10-foss-2021b/lib/python3.9/site-packages/numpy/core/fromnumeric.py:3440: RuntimeWarning: Mean of empty slice.\n",
      "  return _methods._mean(a, axis=axis, dtype=dtype,\n",
      "/opt/software/easybuild/software/SciPy-bundle/2021.10-foss-2021b/lib/python3.9/site-packages/numpy/core/_methods.py:189: RuntimeWarning: invalid value encountered in double_scalars\n",
      "  ret = ret.dtype.type(ret / rcount)\n",
      "/uio/hume/student-u37/fslippe/master_project/code/functions.py:673: VisibleDeprecationWarning: Creating an ndarray from ragged nested sequences (which is a list-or-tuple of lists-or-tuples-or ndarrays with different lengths or shapes) is deprecated. If you meant to do this, you must specify 'dtype=object' when creating the ndarray.\n",
      "  border_lines = np.array(di[\"data.borderLines\"], dtype=object)\n",
      "/uio/hume/student-u37/fslippe/master_project/code/functions.py:482: RuntimeWarning: divide by zero encountered in true_divide\n",
      "  border_weighted_frac = np.where(m_preds, abs(m_border - l_border) / tot_border_preds, np.nan)\n",
      "/uio/hume/student-u37/fslippe/master_project/code/functions.py:482: RuntimeWarning: invalid value encountered in true_divide\n",
      "  border_weighted_frac = np.where(m_preds, abs(m_border - l_border) / tot_border_preds, np.nan)\n",
      "/uio/hume/student-u37/fslippe/master_project/code/functions.py:483: RuntimeWarning: divide by zero encountered in true_divide\n",
      "  border_frac = np.where(m_preds, abs(m_border - l_yes_no_border) / tot_border_preds, np.nan)\n",
      "/uio/hume/student-u37/fslippe/master_project/code/functions.py:483: RuntimeWarning: invalid value encountered in true_divide\n",
      "  border_frac = np.where(m_preds, abs(m_border - l_yes_no_border) / tot_border_preds, np.nan)\n"
     ]
    },
    {
     "name": "stdout",
     "output_type": "stream",
     "text": [
      "open 9\n",
      "closed 6\n",
      "cluster load loc: /uio/hume/student-u37/fslippe/data/models/patch_size128/filter128/clustering/cluster_dnb_l95_z50_ps128_band29_filter128_K15.pkl\n",
      "15\n"
     ]
    },
    {
     "name": "stderr",
     "output_type": "stream",
     "text": [
      "/uio/hume/student-u37/fslippe/master_project/code/functions.py:348: VisibleDeprecationWarning: Creating an ndarray from ragged nested sequences (which is a list-or-tuple of lists-or-tuples-or ndarrays with different lengths or shapes) is deprecated. If you meant to do this, you must specify 'dtype=object' when creating the ndarray.\n",
      "  pat_lon = np.concatenate(np.array(pat_lon), axis=0)\n",
      "/uio/hume/student-u37/fslippe/master_project/code/functions.py:349: VisibleDeprecationWarning: Creating an ndarray from ragged nested sequences (which is a list-or-tuple of lists-or-tuples-or ndarrays with different lengths or shapes) is deprecated. If you meant to do this, you must specify 'dtype=object' when creating the ndarray.\n",
      "  pat_lat = np.concatenate(np.array(pat_lat), axis=0)\n"
     ]
    },
    {
     "name": "stdout",
     "output_type": "stream",
     "text": [
      "182.7288\n",
      "123.08747614418607\n",
      "nan\n",
      "nan\n",
      "nan\n",
      "nan\n"
     ]
    },
    {
     "name": "stderr",
     "output_type": "stream",
     "text": [
      "/opt/software/easybuild/software/SciPy-bundle/2021.10-foss-2021b/lib/python3.9/site-packages/numpy/core/fromnumeric.py:3440: RuntimeWarning: Mean of empty slice.\n",
      "  return _methods._mean(a, axis=axis, dtype=dtype,\n",
      "/opt/software/easybuild/software/SciPy-bundle/2021.10-foss-2021b/lib/python3.9/site-packages/numpy/core/_methods.py:189: RuntimeWarning: invalid value encountered in double_scalars\n",
      "  ret = ret.dtype.type(ret / rcount)\n"
     ]
    },
    {
     "name": "stdout",
     "output_type": "stream",
     "text": [
      "243.77429\n",
      "134.96087112548605\n",
      "nan\n",
      "nan\n",
      "nan\n",
      "nan\n",
      "nan\n",
      "nan\n"
     ]
    },
    {
     "name": "stderr",
     "output_type": "stream",
     "text": [
      "/opt/software/easybuild/software/SciPy-bundle/2021.10-foss-2021b/lib/python3.9/site-packages/numpy/core/fromnumeric.py:3440: RuntimeWarning: Mean of empty slice.\n",
      "  return _methods._mean(a, axis=axis, dtype=dtype,\n",
      "/opt/software/easybuild/software/SciPy-bundle/2021.10-foss-2021b/lib/python3.9/site-packages/numpy/core/_methods.py:189: RuntimeWarning: invalid value encountered in double_scalars\n",
      "  ret = ret.dtype.type(ret / rcount)\n"
     ]
    },
    {
     "name": "stdout",
     "output_type": "stream",
     "text": [
      "170.59138\n",
      "117.82066284245754\n",
      "nan\n",
      "nan\n",
      "nan\n",
      "nan\n"
     ]
    },
    {
     "name": "stderr",
     "output_type": "stream",
     "text": [
      "/opt/software/easybuild/software/SciPy-bundle/2021.10-foss-2021b/lib/python3.9/site-packages/numpy/core/fromnumeric.py:3440: RuntimeWarning: Mean of empty slice.\n",
      "  return _methods._mean(a, axis=axis, dtype=dtype,\n",
      "/opt/software/easybuild/software/SciPy-bundle/2021.10-foss-2021b/lib/python3.9/site-packages/numpy/core/_methods.py:189: RuntimeWarning: invalid value encountered in double_scalars\n",
      "  ret = ret.dtype.type(ret / rcount)\n"
     ]
    },
    {
     "name": "stdout",
     "output_type": "stream",
     "text": [
      "202.03963\n",
      "132.06303730189288\n",
      "nan\n",
      "nan\n",
      "nan\n",
      "nan\n",
      "nan\n",
      "nan\n"
     ]
    },
    {
     "name": "stderr",
     "output_type": "stream",
     "text": [
      "/opt/software/easybuild/software/SciPy-bundle/2021.10-foss-2021b/lib/python3.9/site-packages/numpy/core/fromnumeric.py:3440: RuntimeWarning: Mean of empty slice.\n",
      "  return _methods._mean(a, axis=axis, dtype=dtype,\n",
      "/opt/software/easybuild/software/SciPy-bundle/2021.10-foss-2021b/lib/python3.9/site-packages/numpy/core/_methods.py:189: RuntimeWarning: invalid value encountered in double_scalars\n",
      "  ret = ret.dtype.type(ret / rcount)\n"
     ]
    },
    {
     "name": "stdout",
     "output_type": "stream",
     "text": [
      "192.49272\n",
      "130.00733555272197\n",
      "158.50035\n",
      "124.47633311865113\n",
      "184.64645\n",
      "122.1894343584666\n",
      "nan\n",
      "nan\n"
     ]
    },
    {
     "name": "stderr",
     "output_type": "stream",
     "text": [
      "/opt/software/easybuild/software/SciPy-bundle/2021.10-foss-2021b/lib/python3.9/site-packages/numpy/core/fromnumeric.py:3440: RuntimeWarning: Mean of empty slice.\n",
      "  return _methods._mean(a, axis=axis, dtype=dtype,\n",
      "/opt/software/easybuild/software/SciPy-bundle/2021.10-foss-2021b/lib/python3.9/site-packages/numpy/core/_methods.py:189: RuntimeWarning: invalid value encountered in double_scalars\n",
      "  ret = ret.dtype.type(ret / rcount)\n"
     ]
    },
    {
     "name": "stdout",
     "output_type": "stream",
     "text": [
      "40.841827\n",
      "249.43287467449014\n",
      "129.88304\n",
      "111.80128834132199\n",
      "219.13316\n",
      "140.6827738307838\n",
      "180.16447\n",
      "104.93222367127821\n",
      "nan\n",
      "nan\n",
      "nan\n",
      "nan\n",
      "143.80794\n",
      "137.7669204190889\n",
      "nan\n",
      "nan\n"
     ]
    },
    {
     "name": "stderr",
     "output_type": "stream",
     "text": [
      "/opt/software/easybuild/software/SciPy-bundle/2021.10-foss-2021b/lib/python3.9/site-packages/numpy/core/fromnumeric.py:3440: RuntimeWarning: Mean of empty slice.\n",
      "  return _methods._mean(a, axis=axis, dtype=dtype,\n",
      "/opt/software/easybuild/software/SciPy-bundle/2021.10-foss-2021b/lib/python3.9/site-packages/numpy/core/_methods.py:189: RuntimeWarning: invalid value encountered in double_scalars\n",
      "  ret = ret.dtype.type(ret / rcount)\n",
      "/opt/software/easybuild/software/SciPy-bundle/2021.10-foss-2021b/lib/python3.9/site-packages/numpy/core/fromnumeric.py:3440: RuntimeWarning: Mean of empty slice.\n",
      "  return _methods._mean(a, axis=axis, dtype=dtype,\n",
      "/opt/software/easybuild/software/SciPy-bundle/2021.10-foss-2021b/lib/python3.9/site-packages/numpy/core/_methods.py:189: RuntimeWarning: invalid value encountered in double_scalars\n",
      "  ret = ret.dtype.type(ret / rcount)\n"
     ]
    },
    {
     "name": "stdout",
     "output_type": "stream",
     "text": [
      "232.655\n",
      "133.68985176843856\n",
      "nan\n",
      "nan\n"
     ]
    },
    {
     "name": "stderr",
     "output_type": "stream",
     "text": [
      "/opt/software/easybuild/software/SciPy-bundle/2021.10-foss-2021b/lib/python3.9/site-packages/numpy/core/fromnumeric.py:3440: RuntimeWarning: Mean of empty slice.\n",
      "  return _methods._mean(a, axis=axis, dtype=dtype,\n",
      "/opt/software/easybuild/software/SciPy-bundle/2021.10-foss-2021b/lib/python3.9/site-packages/numpy/core/_methods.py:189: RuntimeWarning: invalid value encountered in double_scalars\n",
      "  ret = ret.dtype.type(ret / rcount)\n"
     ]
    },
    {
     "name": "stdout",
     "output_type": "stream",
     "text": [
      "174.67303\n",
      "129.03511986673138\n",
      "nan\n",
      "nan\n",
      "nan\n",
      "nan\n"
     ]
    },
    {
     "name": "stderr",
     "output_type": "stream",
     "text": [
      "/opt/software/easybuild/software/SciPy-bundle/2021.10-foss-2021b/lib/python3.9/site-packages/numpy/core/fromnumeric.py:3440: RuntimeWarning: Mean of empty slice.\n",
      "  return _methods._mean(a, axis=axis, dtype=dtype,\n",
      "/opt/software/easybuild/software/SciPy-bundle/2021.10-foss-2021b/lib/python3.9/site-packages/numpy/core/_methods.py:189: RuntimeWarning: invalid value encountered in double_scalars\n",
      "  ret = ret.dtype.type(ret / rcount)\n"
     ]
    },
    {
     "name": "stdout",
     "output_type": "stream",
     "text": [
      "92.322395\n",
      "117.05864821210045\n",
      "nan\n",
      "nan\n"
     ]
    },
    {
     "name": "stderr",
     "output_type": "stream",
     "text": [
      "/opt/software/easybuild/software/SciPy-bundle/2021.10-foss-2021b/lib/python3.9/site-packages/numpy/core/fromnumeric.py:3440: RuntimeWarning: Mean of empty slice.\n",
      "  return _methods._mean(a, axis=axis, dtype=dtype,\n",
      "/opt/software/easybuild/software/SciPy-bundle/2021.10-foss-2021b/lib/python3.9/site-packages/numpy/core/_methods.py:189: RuntimeWarning: invalid value encountered in double_scalars\n",
      "  ret = ret.dtype.type(ret / rcount)\n"
     ]
    },
    {
     "name": "stdout",
     "output_type": "stream",
     "text": [
      "158.71864\n",
      "136.44234287959873\n",
      "226.87209\n",
      "132.85471826960378\n",
      "nan\n",
      "nan\n",
      "nan\n",
      "nan\n"
     ]
    },
    {
     "name": "stderr",
     "output_type": "stream",
     "text": [
      "/opt/software/easybuild/software/SciPy-bundle/2021.10-foss-2021b/lib/python3.9/site-packages/numpy/core/fromnumeric.py:3440: RuntimeWarning: Mean of empty slice.\n",
      "  return _methods._mean(a, axis=axis, dtype=dtype,\n",
      "/opt/software/easybuild/software/SciPy-bundle/2021.10-foss-2021b/lib/python3.9/site-packages/numpy/core/_methods.py:189: RuntimeWarning: invalid value encountered in double_scalars\n",
      "  ret = ret.dtype.type(ret / rcount)\n"
     ]
    },
    {
     "name": "stdout",
     "output_type": "stream",
     "text": [
      "142.0723\n",
      "161.14047068627957\n",
      "186.73581\n",
      "122.76043413386203\n",
      "65.52298\n",
      "134.46849226528823\n",
      "168.02979\n",
      "122.01784463370912\n",
      "nan\n",
      "nan\n"
     ]
    },
    {
     "name": "stderr",
     "output_type": "stream",
     "text": [
      "/opt/software/easybuild/software/SciPy-bundle/2021.10-foss-2021b/lib/python3.9/site-packages/numpy/core/fromnumeric.py:3440: RuntimeWarning: Mean of empty slice.\n",
      "  return _methods._mean(a, axis=axis, dtype=dtype,\n",
      "/opt/software/easybuild/software/SciPy-bundle/2021.10-foss-2021b/lib/python3.9/site-packages/numpy/core/_methods.py:189: RuntimeWarning: invalid value encountered in double_scalars\n",
      "  ret = ret.dtype.type(ret / rcount)\n",
      "/uio/hume/student-u37/fslippe/master_project/code/functions.py:673: VisibleDeprecationWarning: Creating an ndarray from ragged nested sequences (which is a list-or-tuple of lists-or-tuples-or ndarrays with different lengths or shapes) is deprecated. If you meant to do this, you must specify 'dtype=object' when creating the ndarray.\n",
      "  border_lines = np.array(di[\"data.borderLines\"], dtype=object)\n",
      "/uio/hume/student-u37/fslippe/master_project/code/functions.py:482: RuntimeWarning: divide by zero encountered in true_divide\n",
      "  border_weighted_frac = np.where(m_preds, abs(m_border - l_border) / tot_border_preds, np.nan)\n",
      "/uio/hume/student-u37/fslippe/master_project/code/functions.py:482: RuntimeWarning: invalid value encountered in true_divide\n",
      "  border_weighted_frac = np.where(m_preds, abs(m_border - l_border) / tot_border_preds, np.nan)\n",
      "/uio/hume/student-u37/fslippe/master_project/code/functions.py:483: RuntimeWarning: divide by zero encountered in true_divide\n",
      "  border_frac = np.where(m_preds, abs(m_border - l_yes_no_border) / tot_border_preds, np.nan)\n",
      "/uio/hume/student-u37/fslippe/master_project/code/functions.py:483: RuntimeWarning: invalid value encountered in true_divide\n",
      "  border_frac = np.where(m_preds, abs(m_border - l_yes_no_border) / tot_border_preds, np.nan)\n"
     ]
    },
    {
     "name": "stdout",
     "output_type": "stream",
     "text": [
      "open 12\n",
      "closed 2\n",
      "cluster load loc: /uio/hume/student-u37/fslippe/data/models/patch_size128/filter128/clustering/cluster_dnb_l95_z50_ps128_band29_filter128_K16.pkl\n",
      "16\n"
     ]
    },
    {
     "name": "stderr",
     "output_type": "stream",
     "text": [
      "/uio/hume/student-u37/fslippe/master_project/code/functions.py:348: VisibleDeprecationWarning: Creating an ndarray from ragged nested sequences (which is a list-or-tuple of lists-or-tuples-or ndarrays with different lengths or shapes) is deprecated. If you meant to do this, you must specify 'dtype=object' when creating the ndarray.\n",
      "  pat_lon = np.concatenate(np.array(pat_lon), axis=0)\n",
      "/uio/hume/student-u37/fslippe/master_project/code/functions.py:349: VisibleDeprecationWarning: Creating an ndarray from ragged nested sequences (which is a list-or-tuple of lists-or-tuples-or ndarrays with different lengths or shapes) is deprecated. If you meant to do this, you must specify 'dtype=object' when creating the ndarray.\n",
      "  pat_lat = np.concatenate(np.array(pat_lat), axis=0)\n"
     ]
    },
    {
     "name": "stdout",
     "output_type": "stream",
     "text": [
      "179.69173\n",
      "196.68601564040296\n",
      "nan\n",
      "nan\n",
      "nan\n",
      "nan\n"
     ]
    },
    {
     "name": "stderr",
     "output_type": "stream",
     "text": [
      "/opt/software/easybuild/software/SciPy-bundle/2021.10-foss-2021b/lib/python3.9/site-packages/numpy/core/fromnumeric.py:3440: RuntimeWarning: Mean of empty slice.\n",
      "  return _methods._mean(a, axis=axis, dtype=dtype,\n",
      "/opt/software/easybuild/software/SciPy-bundle/2021.10-foss-2021b/lib/python3.9/site-packages/numpy/core/_methods.py:189: RuntimeWarning: invalid value encountered in double_scalars\n",
      "  ret = ret.dtype.type(ret / rcount)\n"
     ]
    },
    {
     "name": "stdout",
     "output_type": "stream",
     "text": [
      "249.36899\n",
      "244.64280143174798\n",
      "nan\n",
      "nan\n",
      "nan\n",
      "nan\n",
      "nan\n",
      "nan\n"
     ]
    },
    {
     "name": "stderr",
     "output_type": "stream",
     "text": [
      "/opt/software/easybuild/software/SciPy-bundle/2021.10-foss-2021b/lib/python3.9/site-packages/numpy/core/fromnumeric.py:3440: RuntimeWarning: Mean of empty slice.\n",
      "  return _methods._mean(a, axis=axis, dtype=dtype,\n",
      "/opt/software/easybuild/software/SciPy-bundle/2021.10-foss-2021b/lib/python3.9/site-packages/numpy/core/_methods.py:189: RuntimeWarning: invalid value encountered in double_scalars\n",
      "  ret = ret.dtype.type(ret / rcount)\n"
     ]
    },
    {
     "name": "stdout",
     "output_type": "stream",
     "text": [
      "160.70137\n",
      "202.04297139950145\n",
      "163.17441\n",
      "255.7538974661021\n",
      "nan\n",
      "nan\n"
     ]
    },
    {
     "name": "stderr",
     "output_type": "stream",
     "text": [
      "/opt/software/easybuild/software/SciPy-bundle/2021.10-foss-2021b/lib/python3.9/site-packages/numpy/core/fromnumeric.py:3440: RuntimeWarning: Mean of empty slice.\n",
      "  return _methods._mean(a, axis=axis, dtype=dtype,\n",
      "/opt/software/easybuild/software/SciPy-bundle/2021.10-foss-2021b/lib/python3.9/site-packages/numpy/core/_methods.py:189: RuntimeWarning: invalid value encountered in double_scalars\n",
      "  ret = ret.dtype.type(ret / rcount)\n"
     ]
    },
    {
     "name": "stdout",
     "output_type": "stream",
     "text": [
      "200.08679\n",
      "204.98959166634708\n",
      "nan\n",
      "nan\n",
      "nan\n",
      "nan\n",
      "nan\n",
      "nan\n"
     ]
    },
    {
     "name": "stderr",
     "output_type": "stream",
     "text": [
      "/opt/software/easybuild/software/SciPy-bundle/2021.10-foss-2021b/lib/python3.9/site-packages/numpy/core/fromnumeric.py:3440: RuntimeWarning: Mean of empty slice.\n",
      "  return _methods._mean(a, axis=axis, dtype=dtype,\n",
      "/opt/software/easybuild/software/SciPy-bundle/2021.10-foss-2021b/lib/python3.9/site-packages/numpy/core/_methods.py:189: RuntimeWarning: invalid value encountered in double_scalars\n",
      "  ret = ret.dtype.type(ret / rcount)\n"
     ]
    },
    {
     "name": "stdout",
     "output_type": "stream",
     "text": [
      "207.49245\n",
      "199.05451481836562\n",
      "130.11537\n",
      "251.24240153851537\n",
      "182.98288\n",
      "208.35016116423043\n",
      "nan\n",
      "nan\n"
     ]
    },
    {
     "name": "stderr",
     "output_type": "stream",
     "text": [
      "/opt/software/easybuild/software/SciPy-bundle/2021.10-foss-2021b/lib/python3.9/site-packages/numpy/core/fromnumeric.py:3440: RuntimeWarning: Mean of empty slice.\n",
      "  return _methods._mean(a, axis=axis, dtype=dtype,\n",
      "/opt/software/easybuild/software/SciPy-bundle/2021.10-foss-2021b/lib/python3.9/site-packages/numpy/core/_methods.py:189: RuntimeWarning: invalid value encountered in double_scalars\n",
      "  ret = ret.dtype.type(ret / rcount)\n"
     ]
    },
    {
     "name": "stdout",
     "output_type": "stream",
     "text": [
      "63.670383\n",
      "153.48164888976657\n",
      "129.93799\n",
      "183.14278906601248\n",
      "222.64883\n",
      "238.73963595595492\n",
      "180.2292\n",
      "189.1463365632259\n",
      "nan\n",
      "nan\n",
      "75.038475\n",
      "182.75570066466804\n",
      "143.85706\n",
      "251.74088955016677\n",
      "nan\n",
      "nan\n"
     ]
    },
    {
     "name": "stderr",
     "output_type": "stream",
     "text": [
      "/opt/software/easybuild/software/SciPy-bundle/2021.10-foss-2021b/lib/python3.9/site-packages/numpy/core/fromnumeric.py:3440: RuntimeWarning: Mean of empty slice.\n",
      "  return _methods._mean(a, axis=axis, dtype=dtype,\n",
      "/opt/software/easybuild/software/SciPy-bundle/2021.10-foss-2021b/lib/python3.9/site-packages/numpy/core/_methods.py:189: RuntimeWarning: invalid value encountered in double_scalars\n",
      "  ret = ret.dtype.type(ret / rcount)\n",
      "/opt/software/easybuild/software/SciPy-bundle/2021.10-foss-2021b/lib/python3.9/site-packages/numpy/core/fromnumeric.py:3440: RuntimeWarning: Mean of empty slice.\n",
      "  return _methods._mean(a, axis=axis, dtype=dtype,\n",
      "/opt/software/easybuild/software/SciPy-bundle/2021.10-foss-2021b/lib/python3.9/site-packages/numpy/core/_methods.py:189: RuntimeWarning: invalid value encountered in double_scalars\n",
      "  ret = ret.dtype.type(ret / rcount)\n"
     ]
    },
    {
     "name": "stdout",
     "output_type": "stream",
     "text": [
      "212.04759\n",
      "193.15530231226074\n",
      "nan\n",
      "nan\n"
     ]
    },
    {
     "name": "stderr",
     "output_type": "stream",
     "text": [
      "/opt/software/easybuild/software/SciPy-bundle/2021.10-foss-2021b/lib/python3.9/site-packages/numpy/core/fromnumeric.py:3440: RuntimeWarning: Mean of empty slice.\n",
      "  return _methods._mean(a, axis=axis, dtype=dtype,\n",
      "/opt/software/easybuild/software/SciPy-bundle/2021.10-foss-2021b/lib/python3.9/site-packages/numpy/core/_methods.py:189: RuntimeWarning: invalid value encountered in double_scalars\n",
      "  ret = ret.dtype.type(ret / rcount)\n"
     ]
    },
    {
     "name": "stdout",
     "output_type": "stream",
     "text": [
      "169.40099\n",
      "233.7043955788019\n",
      "nan\n",
      "nan\n",
      "nan\n",
      "nan\n"
     ]
    },
    {
     "name": "stderr",
     "output_type": "stream",
     "text": [
      "/opt/software/easybuild/software/SciPy-bundle/2021.10-foss-2021b/lib/python3.9/site-packages/numpy/core/fromnumeric.py:3440: RuntimeWarning: Mean of empty slice.\n",
      "  return _methods._mean(a, axis=axis, dtype=dtype,\n",
      "/opt/software/easybuild/software/SciPy-bundle/2021.10-foss-2021b/lib/python3.9/site-packages/numpy/core/_methods.py:189: RuntimeWarning: invalid value encountered in double_scalars\n",
      "  ret = ret.dtype.type(ret / rcount)\n"
     ]
    },
    {
     "name": "stdout",
     "output_type": "stream",
     "text": [
      "105.42989\n",
      "231.0598630289032\n",
      "nan\n",
      "nan\n"
     ]
    },
    {
     "name": "stderr",
     "output_type": "stream",
     "text": [
      "/opt/software/easybuild/software/SciPy-bundle/2021.10-foss-2021b/lib/python3.9/site-packages/numpy/core/fromnumeric.py:3440: RuntimeWarning: Mean of empty slice.\n",
      "  return _methods._mean(a, axis=axis, dtype=dtype,\n",
      "/opt/software/easybuild/software/SciPy-bundle/2021.10-foss-2021b/lib/python3.9/site-packages/numpy/core/_methods.py:189: RuntimeWarning: invalid value encountered in double_scalars\n",
      "  ret = ret.dtype.type(ret / rcount)\n"
     ]
    },
    {
     "name": "stdout",
     "output_type": "stream",
     "text": [
      "163.73222\n",
      "216.95978091845504\n",
      "210.36807\n",
      "216.96859123737966\n",
      "8.271177\n",
      "160.65448310671115\n",
      "nan\n",
      "nan\n"
     ]
    },
    {
     "name": "stderr",
     "output_type": "stream",
     "text": [
      "/opt/software/easybuild/software/SciPy-bundle/2021.10-foss-2021b/lib/python3.9/site-packages/numpy/core/fromnumeric.py:3440: RuntimeWarning: Mean of empty slice.\n",
      "  return _methods._mean(a, axis=axis, dtype=dtype,\n",
      "/opt/software/easybuild/software/SciPy-bundle/2021.10-foss-2021b/lib/python3.9/site-packages/numpy/core/_methods.py:189: RuntimeWarning: invalid value encountered in double_scalars\n",
      "  ret = ret.dtype.type(ret / rcount)\n"
     ]
    },
    {
     "name": "stdout",
     "output_type": "stream",
     "text": [
      "142.744\n",
      "196.30365054399616\n",
      "58.055557\n",
      "187.65130397515657\n",
      "81.65582\n",
      "217.60334517234622\n",
      "168.51204\n",
      "211.22279789400415\n",
      "nan\n",
      "nan\n"
     ]
    },
    {
     "name": "stderr",
     "output_type": "stream",
     "text": [
      "/opt/software/easybuild/software/SciPy-bundle/2021.10-foss-2021b/lib/python3.9/site-packages/numpy/core/fromnumeric.py:3440: RuntimeWarning: Mean of empty slice.\n",
      "  return _methods._mean(a, axis=axis, dtype=dtype,\n",
      "/opt/software/easybuild/software/SciPy-bundle/2021.10-foss-2021b/lib/python3.9/site-packages/numpy/core/_methods.py:189: RuntimeWarning: invalid value encountered in double_scalars\n",
      "  ret = ret.dtype.type(ret / rcount)\n",
      "/uio/hume/student-u37/fslippe/master_project/code/functions.py:673: VisibleDeprecationWarning: Creating an ndarray from ragged nested sequences (which is a list-or-tuple of lists-or-tuples-or ndarrays with different lengths or shapes) is deprecated. If you meant to do this, you must specify 'dtype=object' when creating the ndarray.\n",
      "  border_lines = np.array(di[\"data.borderLines\"], dtype=object)\n",
      "/uio/hume/student-u37/fslippe/master_project/code/functions.py:482: RuntimeWarning: divide by zero encountered in true_divide\n",
      "  border_weighted_frac = np.where(m_preds, abs(m_border - l_border) / tot_border_preds, np.nan)\n",
      "/uio/hume/student-u37/fslippe/master_project/code/functions.py:482: RuntimeWarning: invalid value encountered in true_divide\n",
      "  border_weighted_frac = np.where(m_preds, abs(m_border - l_border) / tot_border_preds, np.nan)\n",
      "/uio/hume/student-u37/fslippe/master_project/code/functions.py:483: RuntimeWarning: divide by zero encountered in true_divide\n",
      "  border_frac = np.where(m_preds, abs(m_border - l_yes_no_border) / tot_border_preds, np.nan)\n",
      "/uio/hume/student-u37/fslippe/master_project/code/functions.py:483: RuntimeWarning: invalid value encountered in true_divide\n",
      "  border_frac = np.where(m_preds, abs(m_border - l_yes_no_border) / tot_border_preds, np.nan)\n"
     ]
    }
   ],
   "source": [
    "import functions \n",
    "importlib.reload(functions)\n",
    "from functions import * \n",
    "import calculate_scores \n",
    "importlib.reload(calculate_scores)\n",
    "from calculate_scores import * \n",
    "size_threshold = None#0\n",
    "label_source = \"only_lavterskel\"\n",
    "#label_source = \"only_experts\"\n",
    "\n",
    "if label_source == \"only_lavterskel\":\n",
    "    labeled_data = before_cutoff\n",
    "elif label_source == \"only_experts\":\n",
    "    labeled_data = after_cutoff\n",
    "\n",
    "index_list = range(len(x_cao))\n",
    "for n_K in [10, 11, 12, 13, 14, 15, 16]:#, 11, 12, 13, 14, 15, 16]:\n",
    "    open_label = np.load(f\"/uio/hume/student-u37/fslippe/data/models/patch_size{patch_size}/filter{last_filter}/clustering/cluster_dnb_l95_z50_ps{patch_size}_band29_filter{last_filter}_K{n_K}_opencell_label.npy\")\n",
    "    closed_label = np.load(f\"/uio/hume/student-u37/fslippe/data/models/patch_size{patch_size}/filter{last_filter}/clustering/cluster_dnb_l95_z50_ps{patch_size}_band29_filter{last_filter}_K{n_K}_closedcell_label.npy\")\n",
    "    \n",
    "    print(\"open\", open_label)\n",
    "    print(\"closed\", closed_label)\n",
    "\n",
    "    if not os.path.exists(f\"/uio/hume/student-u37/fslippe/data/models/patch_size{patch_size}/filter{last_filter}/clustering/cluster_dnb_l95_z50_ps{patch_size}_band29_filter{last_filter}_K{n_K}_opencell_label.npy\"):\n",
    "        manually_find_cloud_labels(min_vals, max_vals, autoencoder_predict, patch_size, last_filter, n_K)\n",
    "    if not os.path.exists(f\"/uio/hume/student-u37/fslippe/data/models/patch_size{patch_size}/filter{last_filter}/clustering/cluster_dnb_l95_z50_ps{patch_size}_band29_filter{last_filter}_K{n_K}_closedcell_label.npy\"):\n",
    "        manually_find_cloud_labels(min_vals, max_vals, autoencoder_predict, patch_size, last_filter, n_K)\n",
    "\n",
    "    open_label = np.load(f\"/uio/hume/student-u37/fslippe/data/models/patch_size{patch_size}/filter{last_filter}/clustering/cluster_dnb_l95_z50_ps{patch_size}_band29_filter{last_filter}_K{n_K}_opencell_label.npy\")\n",
    "    closed_label = np.load(f\"/uio/hume/student-u37/fslippe/data/models/patch_size{patch_size}/filter{last_filter}/clustering/cluster_dnb_l95_z50_ps{patch_size}_band29_filter{last_filter}_K{n_K}_closedcell_label.npy\")\n",
    "    \n",
    "    \n",
    "    labels, global_min, global_max = get_cluster_results(encoded_patches_flat_cao, patch_size, last_filter, n_K)\n",
    "    print(global_max)\n",
    "    \n",
    "    label_map, lon_map, lat_map = process_label_maps(labels,\n",
    "                                                    all_lon_patches_cao,\n",
    "                                                    all_lat_patches_cao,\n",
    "                                                    starts_cao,                 \n",
    "                                                    ends_cao,\n",
    "                                                    shapes_cao,         \n",
    "                                                    indices_cao,\n",
    "                                                    global_max,             \n",
    "                                                    n_patches_tot_cao,              \n",
    "                                                    patch_size,\n",
    "                                                    strides,\n",
    "                                                    closed_label, \n",
    "                                                    open_label, \n",
    "                                                    size_thr_1=size_threshold, \n",
    "                                                    size_thr_2=size_threshold)\n",
    "\n",
    "        # Example usage of the function\n",
    "    extent = [-15, 25, 58, 84]\n",
    "    # plot_filtered_map(label_map, lon_map, lat_map, idx, extent, global_max, dates)\n",
    "    # plt.show()\n",
    "    valid_lons = []\n",
    "    valid_lats = []\n",
    "\n",
    "    for i in index_list:\n",
    "        valid_lon, valid_lat = get_valid_lons_lats(x_cao[i][:,:,0],\n",
    "                                                    lon_lats_cao[i],\n",
    "                                                    label_map[i],\n",
    "                                                    lon_map[i],\n",
    "                                                    lat_map[i],\n",
    "                                                    dates[i],\n",
    "                                                    times[i],\n",
    "                                                    open_label=open_label,\n",
    "                                                    closed_label=closed_label,\n",
    "                                                    p_level=950,\n",
    "                                                    angle_thr=5,\n",
    "                                                    size_threshold_1=None,\n",
    "                                                    size_threshold_2=None,\n",
    "                                                    plot=False,\n",
    "                                                    extent= [-15, 25, 58, 84])\n",
    "        valid_lons.append(valid_lon)\n",
    "        valid_lats.append(valid_lat)                                            \n",
    "\n",
    "\n",
    "    model_borders, model_areas = process_model_masks(index_list, lon_map, lat_map, valid_lons, valid_lats, indices_cao, label_map, closed_label, open_label, brush=False, plot=False)\n",
    "\n",
    "    labeled_areas, labeled_borders = get_area_and_border_mask(x_cao, dates, times, masks_cao, labeled_data, reduction=strides, index_list=index_list, plot=False)\n",
    "\n",
    "\n",
    "\n",
    "    # cmap_tab10 = plt.cm.tab10\n",
    "    # cmap_tab20 = plt.cm.tab20\n",
    "    # colors_tab20 = cmap_tab20(np.arange(cmap_tab20.N))[1::2]\n",
    "    # colors_tab10 = cmap_tab10(np.arange(cmap_tab10.N))\n",
    "    # extra_colors = colors_tab20\n",
    "    # black = np.array([0, 0, 0, 1])\n",
    "    # colors_new = np.vstack((colors_tab10, colors_tab20))[:np.max(global_max)-1]\n",
    "    # colors_new = np.vstack((colors_new, black))\n",
    "    # label_cmap = mcolors.ListedColormap(colors_new)\n",
    "\n",
    "    # for i in index_list:\n",
    "    #     plot_areas_w_scores(x_cao[i], label_map[i], label_cmap, labeled_areas[i], model_areas[i], area_scores[i], weighted_area_scores[i])\n",
    "    # fig, axs = plt.subplots(1,2, figsize=[10,10])\n",
    "    # cb = axs[0].imshow(labeled_areas[0])\n",
    "    # plt.colorbar(cb)\n",
    "    # cb = axs[1].imshow(labeled_borders[0])\n",
    "    # plt.colorbar(cb)\n",
    "\n",
    "\n",
    "    all_area_scores, all_border_scores= calculate_scores_and_plot(model_borders, model_areas, labeled_borders, labeled_areas, plot=False)\n",
    "\n",
    "    \n",
    "    folder = f\"/uio/hume/student-u37/fslippe/data/models/patch_size{patch_size}/filter{last_filter}/clustering/scores/\"\n",
    "    if not os.path.exists(folder):\n",
    "        os.makedirs(folder)\n",
    "\n",
    "    np.save(folder + f\"area_scores_cluster_dnb_l95_z50_ps{patch_size}_band29_filter{last_filter}_K{n_K}_res{strides}_thr{size_threshold}_{label_source}\", all_area_scores)\n",
    "    np.save(folder + f\"border_scores_cluster_dnb_l95_z50_ps{patch_size}_band29_filter{last_filter}_K{n_K}_res{strides}_thr{size_threshold}_{label_source}\", all_border_scores)\n",
    "    "
   ]
  },
  {
   "cell_type": "code",
   "execution_count": null,
   "metadata": {},
   "outputs": [],
   "source": [
    "print(all_area_scores.keys())\n",
    "\n",
    "for key, item in all_area_scores.items():\n",
    "    print(key, np.mean(item)/ np.mean(all_area_scores[\"tot_points\"]))"
   ]
  },
  {
   "cell_type": "code",
   "execution_count": null,
   "metadata": {},
   "outputs": [],
   "source": [
    "cmap_tab10 = plt.cm.tab10\n",
    "cmap_tab20 = plt.cm.tab20\n",
    "colors_tab20 = cmap_tab20(np.arange(cmap_tab20.N))[1::2]\n",
    "colors_tab10 = cmap_tab10(np.arange(cmap_tab10.N))\n",
    "extra_colors = colors_tab20\n",
    "black = np.array([0, 0, 0, 1])\n",
    "colors_new = np.vstack((colors_tab10, colors_tab20))[:np.max(global_max)-1]\n",
    "colors_new = np.vstack((colors_new, black))\n",
    "label_cmap = mcolors.ListedColormap(colors_new)\n",
    "\n",
    "\n",
    "def plot_areas_w_scores(x_cao, label_map, label_cmap, labeled_area, model_area, score, weighted_score):\n",
    "    fig, axs = plt.subplots(1, 4, figsize=[20,10])\n",
    "    fig.suptitle(\"Score: %.4f    Weighted score %.4f\" %(score, weighted_score))\n",
    "\n",
    "    cb = axs[0].imshow(x_cao, cmap=\"gray_r\")\n",
    "    plt.colorbar(cb)\n",
    "\n",
    "    cb = axs[1].imshow(label_map, cmap=label_cmap)\n",
    "    plt.colorbar(cb)\n",
    "\n",
    "    axs[2].set_title(\"Labeled area\")\n",
    "    cb = axs[2].imshow(labeled_area, vmin=0, vmax=1)\n",
    "    plt.colorbar(cb)\n",
    "\n",
    "    axs[3].set_title(\"Model area\")\n",
    "    cb = axs[3].imshow(model_area, vmin=0, vmax=1)\n",
    "    plt.colorbar(cb)\n",
    "    \n",
    "    plt.show()\n",
    "\n",
    "def plot_borders_w_scores(x_cao, label_map, label_cmap, labeled_border, model_border, score, weighted_score):\n",
    "    fig, axs = plt.subplots(1, 4, figsize=[20,10])\n",
    "    fig.suptitle(\"Score: %.4f    Weighted score %.4f\" %(score, weighted_score))\n",
    "\n",
    "    cb = axs[0].imshow(x_cao, cmap=\"gray_r\")\n",
    "    plt.colorbar(cb)\n",
    "\n",
    "    cb = axs[1].imshow(label_map, cmap=label_cmap)\n",
    "    plt.colorbar(cb)\n",
    "\n",
    "    axs[2].set_title(\"Labeled border\")\n",
    "    cb = axs[2].imshow(labeled_border, vmin=0, vmax=1)\n",
    "    plt.colorbar(cb)\n",
    "\n",
    "    axs[3].set_title(\"Model border\")\n",
    "    cb = axs[3].imshow(model_border, vmin=0, vmax=1)\n",
    "    plt.colorbar(cb)\n",
    "\n",
    "    plt.show()\n",
    "\n",
    "for i in index_list:\n",
    "    plot_areas_w_scores(x_cao[i], label_map[i], label_cmap, labeled_areas[i], model_areas[i], area_scores[i], weighted_area_scores[i])\n",
    "    #plot_borders_w_scores(x_cao[i], label_map[i], label_cmap, labeled_borders[i], model_borders[i], border_scores[i], weighted_border_scores[i])\n",
    "\n",
    "\n"
   ]
  },
  {
   "cell_type": "code",
   "execution_count": null,
   "metadata": {},
   "outputs": [],
   "source": [
    "cmap_tab10 = plt.cm.tab10\n",
    "cmap_tab20 = plt.cm.tab20\n",
    "colors_tab20 = cmap_tab20(np.arange(cmap_tab20.N))[1::2]\n",
    "colors_tab10 = cmap_tab10(np.arange(cmap_tab10.N))\n",
    "extra_colors = colors_tab20\n",
    "black = np.array([0, 0, 0, 1])\n",
    "colors_new = np.vstack((colors_tab10, colors_tab20))[:np.max(global_max)-1]\n",
    "colors_new = np.vstack((colors_new, black))\n",
    "\n",
    "new_cmap = mcolors.ListedColormap(colors_new)\n",
    "label_map, lon_map, lat_map = process_label_maps(labels,\n",
    "                                                    all_lon_patches_cao,\n",
    "                                                    all_lat_patches_cao,\n",
    "                                                    starts_cao,\n",
    "                                                    ends_cao,\n",
    "                                                    shapes_cao,\n",
    "                                                    indices_cao,\n",
    "                                                    global_max,\n",
    "                                                    n_patches_tot_cao,\n",
    "                                                    patch_size,\n",
    "                                                    strides,\n",
    "                                                    closed_label, \n",
    "                                                    open_label, \n",
    "                                                    size_thr_1=0, \n",
    "                                                    size_thr_2=0)\n",
    "for i in range(0, 30):\n",
    "    print(np.load(f\"/uio/hume/student-u37/fslippe/data/models/patch_size128/filter{last_filter}/clustering/cluster_dnb_l95_z50_ps128_band29_filter{last_filter}_K{n_K}_opencell_label.npy\"))\n",
    "    print(np.load(f\"/uio/hume/student-u37/fslippe/data/models/patch_size128/filter{last_filter}/clustering/cluster_dnb_l95_z50_ps128_band29_filter{last_filter}_K{n_K}_closedcell_label.npy\"))\n",
    "\n",
    "    fig, axs = plt.subplots(1, 2, figsize=[10,10])\n",
    "    axs[0].imshow(x_cao[i], cmap=\"gray_r\")\n",
    "    cb = axs[1].imshow(label_map[i], cmap=new_cmap)\n",
    "    plt.colorbar(cb)\n",
    "    plt.show()"
   ]
  },
  {
   "cell_type": "code",
   "execution_count": null,
   "metadata": {},
   "outputs": [],
   "source": [
    "index_list = [10]\n",
    "\n",
    "import functions \n",
    "importlib.reload(functions)\n",
    "from functions import *\n",
    "# label_map, lon_map, lat_map = process_label_maps(labels,\n",
    "#                                                     all_lon_patches_cao,\n",
    "#                                                     all_lat_patches_cao,\n",
    "#                                                     starts_cao,\n",
    "#                                                     ends_cao,\n",
    "#                                                     shapes_cao,\n",
    "#                                                     indices_cao,\n",
    "#                                                     global_max,\n",
    "#                                                     n_patches_tot_cao,\n",
    "#                                                     patch_size,\n",
    "#                                                     strides,\n",
    "#                                                     closed_label, \n",
    "#                                                     open_label, \n",
    "#                                                     size_thr_1=20, \n",
    "#                                                     size_thr_2=20)\n",
    "\n",
    "    # Example usage of the function\n",
    "extent = [-15, 25, 58, 84]\n",
    "# plot_filtered_map(label_map, lon_map, lat_map, idx, extent, global_max, dates)\n",
    "# plt.show()\n",
    "# valid_lons = np.empty(index_list[-1]+1, dtype=object)\n",
    "# valid_lats = np.empty(index_list[-1]+1, dtype=object)\n",
    "\n",
    "# for i in index_list:\n",
    "#     plt.imshow(masks_cao[i])\n",
    "#     plt.show()\n",
    "#     plt.imshow(label_map[i], cmap=\"tab10\")\n",
    "#     plt.colorbar()\n",
    "#     plt.show()\n",
    "#     plt.imshow(x_cao[i], cmap=\"gray_r\")\n",
    "#     plt.show()\n",
    "#     valid_lon, valid_lat = get_valid_lons_lats(x_cao[i][:,:,0],\n",
    "#                                                 lon_lats_cao[i],\n",
    "#                                                 label_map[i],\n",
    "#                                                 lon_map[i],\n",
    "#                                                 lat_map[i],\n",
    "#                                                 dates[i],\n",
    "#                                                 times[i],\n",
    "#                                                 open_label=closed_label,\n",
    "#                                                 closed_label=open_label,\n",
    "#                                                 p_level=950,\n",
    "#                                                 angle_thr=5,\n",
    "#                                                 size_threshold_1=None,\n",
    "#                                                 size_threshold_2=None,\n",
    "#                                                 plot=True,\n",
    "#                                                 extent= [-15, 25, 58, 84])\n",
    "#     valid_lons[i] = (valid_lon)\n",
    "#     valid_lats[i] = (valid_lat)\n",
    "\n",
    "model_boundaries, model_areas = process_model_masks(index_list, lon_map, lat_map, valid_lons, valid_lats, indices_cao, label_map, closed_label, open_label, brush=False, plot=True)\n",
    "#model_borders, model_areas = process_model_masks(index_list, lon_map, lat_map, valid_lons, valid_lats, indices_cao, label_map, closed_label, open_label, brush=False, plot=False)\n",
    "\n",
    "dates_idx = [dates[idx] for idx in index_list]\n",
    "times_idx = [times[idx] for idx in index_list]\n",
    "\n",
    "#labeled_areas, labeled_boundaries = get_area_and_border_mask(x_cao, dates, times, masks_cao, labeled_data, reduction=strides, index_list=index_list, plot=True)\n",
    "# fig, axs = plt.subplots(1,2, figsize=[10,10])\n",
    "# cb = axs[0].imshow(labeled_areas[0])\n",
    "# plt.colorbar(cb)\n",
    "# cb = axs[1].imshow(labeled_boundaries[0])\n",
    "# plt.colorbar(cb)\n",
    "\n",
    "\n",
    "#area_scores, border_scores, weighted_area_score, weighted_border_score = calculate_scores_and_plot(model_boundaries, model_areas, labeled_boundaries, labeled_areas, plot=True)"
   ]
  },
  {
   "cell_type": "code",
   "execution_count": null,
   "metadata": {},
   "outputs": [],
   "source": [
    "bands=[29]\n",
    "patch_size = 128\n",
    "last_filter = 128\n",
    "strides = 32    #patch_size\n",
    "dates, times, labeled_data, x_cao, masks_cao, lon_lats_cao , max_vals, min_vals  = import_label_data(\"/uio/hume/student-u37/fslippe/data/labeled_data/results_backup_20240221\")  \n",
    "autoencoder_predict = SimpleAutoencoder(len(bands), patch_size, patch_size)\n",
    "\n",
    "patches_cao, all_lon_patches_cao, all_lat_patches_cao, starts_cao, ends_cao, shapes_cao, n_patches_tot_cao, indices_cao = generate_patches([x[:,:,0] for x in x_cao],\n",
    "                                                                                                                                            masks_cao,\n",
    "                                                                                                                                            lon_lats_cao,\n",
    "                                                                                                                                            max_vals,\n",
    "                                                                                                                                            min_vals,\n",
    "                                                                                                                                            autoencoder_predict,\n",
    "                                                                                                                                            strides=[1, strides, strides,1])\n",
    "\n"
   ]
  },
  {
   "cell_type": "code",
   "execution_count": null,
   "metadata": {},
   "outputs": [],
   "source": [
    "labeled_data['created_at'] = pd.to_datetime(labeled_data['created_at'])\n",
    "\n",
    "# Define the cutoff time\n",
    "cutoff_time = pd.Timestamp('2024-02-01', tz='UTC')  # Specify UTC timezone\n",
    "\n",
    "\n",
    "# Split the DataFrame\n",
    "before_cutoff = labeled_data[labeled_data['created_at'] < cutoff_time]\n",
    "after_cutoff = labeled_data[labeled_data['created_at'] >= cutoff_time]\n",
    "\n",
    "# Convert DataFrames back to JSON format\n",
    "before_cutoff_json = before_cutoff.to_json(orient='records')\n",
    "after_cutoff_json = after_cutoff.to_json(orient='records')\n",
    "\n",
    "\n",
    "# Save the JSON files\n",
    "with open(\"/uio/hume/student-u37/fslippe/data/labeled_data/lavterskel.json\", 'w') as f_before:\n",
    "    f_before.write(before_cutoff_json)\n",
    "\n",
    "with open(\"/uio/hume/student-u37/fslippe/data/labeled_data/expert_group.json\", 'w') as f_after:\n",
    "    f_after.write(after_cutoff_json)\n"
   ]
  },
  {
   "cell_type": "code",
   "execution_count": null,
   "metadata": {},
   "outputs": [],
   "source": [
    "bands=[29]\n",
    "patch_size = 128\n",
    "last_filter = 128\n",
    "strides = 32    #patch_size\n",
    "dates, times, labeled_data, x_cao, masks_cao, lon_lats_cao , max_vals, min_vals  = import_label_data(\"/uio/hume/student-u37/fslippe/data/labeled_data/results_backup_20240221\")  \n",
    "autoencoder_predict = SimpleAutoencoder(len(bands), patch_size, patch_size)\n",
    "\n",
    "patches_cao, all_lon_patches_cao, all_lat_patches_cao, starts_cao, ends_cao, shapes_cao, n_patches_tot_cao, indices_cao = generate_patches([x[:,:,0] for x in x_cao],\n",
    "                                                                                                                                            masks_cao,\n",
    "                                                                                                                                            lon_lats_cao,\n",
    "                                                                                                                                            max_vals,\n",
    "                                                                                                                                            min_vals,\n",
    "                                                                                                                                            autoencoder_predict,\n",
    "                                                                                                                                            strides=[1, strides, strides,1])\n",
    "\n"
   ]
  },
  {
   "cell_type": "code",
   "execution_count": null,
   "metadata": {},
   "outputs": [],
   "source": [
    "labeled_data['created_at'] = pd.to_datetime(labeled_data['created_at'])\n",
    "\n",
    "# Define the cutoff time\n",
    "cutoff_time = pd.Timestamp('2024-02-01', tz='UTC')  # Specify UTC timezone\n",
    "\n",
    "\n",
    "# Split the DataFrame\n",
    "before_cutoff = labeled_data[labeled_data['created_at'] < cutoff_time]\n",
    "after_cutoff = labeled_data[labeled_data['created_at'] >= cutoff_time]\n",
    "\n",
    "# Convert DataFrames back to JSON format\n",
    "before_cutoff_json = before_cutoff.to_json(orient='records')\n",
    "after_cutoff_json = after_cutoff.to_json(orient='records')\n",
    "\n",
    "\n",
    "# Save the JSON files\n",
    "with open(\"/uio/hume/student-u37/fslippe/data/labeled_data/lavterskel.json\", 'w') as f_before:\n",
    "    f_before.write(before_cutoff_json)\n",
    "\n",
    "with open(\"/uio/hume/student-u37/fslippe/data/labeled_data/expert_group.json\", 'w') as f_after:\n",
    "    f_after.write(after_cutoff_json)\n"
   ]
  },
  {
   "cell_type": "code",
   "execution_count": null,
   "metadata": {},
   "outputs": [],
   "source": [
    "import functions \n",
    "importlib.reload(functions)\n",
    "from functions import *\n",
    "labeled_areas, labeled_boundaries = get_area_and_border_mask(x_cao, dates, times, masks_cao, labeled_data, reduction=strides, index_list=index_list, plot=True)\n"
   ]
  }
 ],
 "metadata": {
  "kernelspec": {
   "display_name": "base",
   "language": "python",
   "name": "python3"
  },
  "language_info": {
   "codemirror_mode": {
    "name": "ipython",
    "version": 3
   },
   "file_extension": ".py",
   "mimetype": "text/x-python",
   "name": "python",
   "nbconvert_exporter": "python",
   "pygments_lexer": "ipython3",
   "version": "3.9.6"
  }
 },
 "nbformat": 4,
 "nbformat_minor": 2
}
