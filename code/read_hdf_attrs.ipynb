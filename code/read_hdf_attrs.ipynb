{
 "cells": [
  {
   "cell_type": "code",
   "execution_count": 23,
   "metadata": {},
   "outputs": [
    {
     "name": "stdout",
     "output_type": "stream",
     "text": [
      "total cores: 256\n",
      "1 Physical GPUs, 1 Logical GPUs\n"
     ]
    },
    {
     "name": "stderr",
     "output_type": "stream",
     "text": [
      "2024-04-26 13:03:01.780234: I tensorflow/core/common_runtime/gpu/gpu_process_state.cc:214] Using CUDA malloc Async allocator for GPU: 0\n",
      "2024-04-26 13:03:01.780506: I tensorflow/core/common_runtime/gpu/gpu_device.cc:1525] Created device /job:localhost/replica:0/task:0/device:GPU:0 with 33 MB memory:  -> device: 0, name: Quadro RTX 6000, pci bus id: 0000:25:00.0, compute capability: 7.5\n"
     ]
    },
    {
     "ename": "",
     "evalue": "",
     "output_type": "error",
     "traceback": [
      "\u001b[1;31mThe Kernel crashed while executing code in the current cell or a previous cell. \n",
      "\u001b[1;31mPlease review the code in the cell(s) to identify a possible cause of the failure. \n",
      "\u001b[1;31mClick <a href='https://aka.ms/vscodeJupyterKernelCrash'>here</a> for more info. \n",
      "\u001b[1;31mView Jupyter <a href='command:jupyter.viewOutput'>log</a> for further details."
     ]
    }
   ],
   "source": [
    "from pyhdf.SD import SD, SDC\n",
    "import numpy as np \n",
    "import os \n",
    "from calculate_scores import * \n"
   ]
  },
  {
   "cell_type": "code",
   "execution_count": null,
   "metadata": {},
   "outputs": [],
   "source": []
  },
  {
   "cell_type": "code",
   "execution_count": 3,
   "metadata": {},
   "outputs": [],
   "source": [
    "\n",
    "folder=\"/uio/hume/student-u37/fslippe/data/\"\n",
    "all_files = [f for f in os.listdir(folder) if f.endswith('.hdf')]\n"
   ]
  },
  {
   "cell_type": "code",
   "execution_count": 22,
   "metadata": {},
   "outputs": [
    {
     "name": "stdout",
     "output_type": "stream",
     "text": [
      "/uio/hume/student-u37/fslippe/data/MOD021KM.A2021080.1120.061.2021080190936.hdf\n",
      "Latitude\n",
      "Longitude\n",
      "EV_1KM_RefSB\n",
      "EV_1KM_RefSB_Uncert_Indexes\n",
      "EV_1KM_Emissive\n",
      "EV_1KM_Emissive_Uncert_Indexes\n",
      "EV_250_Aggr1km_RefSB\n",
      "EV_250_Aggr1km_RefSB_Uncert_Indexes\n",
      "EV_250_Aggr1km_RefSB_Samples_Used\n",
      "EV_500_Aggr1km_RefSB\n",
      "EV_500_Aggr1km_RefSB_Uncert_Indexes\n",
      "EV_500_Aggr1km_RefSB_Samples_Used\n",
      "Height\n",
      "SensorZenith\n",
      "SensorAzimuth\n",
      "Range\n",
      "SolarZenith\n",
      "SolarAzimuth\n",
      "gflags\n",
      "EV_Band26\n",
      "EV_Band26_Uncert_Indexes\n",
      "Band_250M\n",
      "Band_500M\n",
      "Band_1KM_RefSB\n",
      "Band_1KM_Emissive\n",
      "Noise in Thermal Detectors\n",
      "Change in relative responses of thermal detectors\n",
      "DC Restore Change for Thermal Bands\n",
      "DC Restore Change for Reflective 250m Bands\n",
      "DC Restore Change for Reflective 500m Bands\n",
      "DC Restore Change for Reflective 1km Bands\n"
     ]
    }
   ],
   "source": [
    "\n",
    "print(folder + all_files[0])\n",
    "hdf = SD(folder + all_files[0], SDC.READ)\n",
    "#keys = hdf.field_list()\n",
    "datasets = hdf.datasets()\n",
    "\n",
    "# Print all the dataset names (keys)\n",
    "for dataset in datasets:\n",
    "    print(dataset)"
   ]
  },
  {
   "cell_type": "code",
   "execution_count": 10,
   "metadata": {},
   "outputs": [
    {
     "ename": "TypeError",
     "evalue": "select() missing 1 required positional argument: 'name_or_index'",
     "output_type": "error",
     "traceback": [
      "\u001b[0;31m---------------------------------------------------------------------------\u001b[0m",
      "\u001b[0;31mTypeError\u001b[0m                                 Traceback (most recent call last)",
      "Cell \u001b[0;32mIn[10], line 1\u001b[0m\n\u001b[0;32m----> 1\u001b[0m \u001b[43mhdf\u001b[49m\u001b[38;5;241;43m.\u001b[39;49m\u001b[43mselect\u001b[49m\u001b[43m(\u001b[49m\u001b[43m)\u001b[49m\u001b[38;5;66;03m#[:].T)*attrs[\"radiance_scales\"]\u001b[39;00m\n",
      "\u001b[0;31mTypeError\u001b[0m: select() missing 1 required positional argument: 'name_or_index'"
     ]
    }
   ],
   "source": [
    "hdf.select()#[:].T)*attrs[\"radiance_scales\"]\n"
   ]
  }
 ],
 "metadata": {
  "kernelspec": {
   "display_name": "base",
   "language": "python",
   "name": "python3"
  },
  "language_info": {
   "codemirror_mode": {
    "name": "ipython",
    "version": 3
   },
   "file_extension": ".py",
   "mimetype": "text/x-python",
   "name": "python",
   "nbconvert_exporter": "python",
   "pygments_lexer": "ipython3",
   "version": "3.9.16"
  },
  "orig_nbformat": 4
 },
 "nbformat": 4,
 "nbformat_minor": 2
}
