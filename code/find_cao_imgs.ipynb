{
 "cells": [
  {
   "cell_type": "code",
   "execution_count": 1,
   "metadata": {},
   "outputs": [
    {
     "name": "stdout",
     "output_type": "stream",
     "text": [
      "total cores: 256\n"
     ]
    }
   ],
   "source": [
    "import os\n",
    "os.environ[\"OPENBLAS_NUM_THREADS\"] = \"4\"\n",
    "os.environ[\"NUM_THREADS\"] = \"4\"\n",
    "os.environ[\"OMP_NUM_THREADS\"] = \"4\"\n",
    "from keras.layers import Input, Dense, Flatten, Reshape\n",
    "from sklearn.feature_extraction import image as sk_image\n",
    "from concurrent.futures import ProcessPoolExecutor\n",
    "import cartopy.feature as cfeature\n",
    "from keras.models import Model\n",
    "import xarray as xr\n",
    "import pandas as pd\n",
    "import numpy as np\n",
    "import matplotlib.pyplot as plt\n",
    "import cartopy.crs as ccrs\n",
    "from sklearn.cluster import AgglomerativeClustering\n",
    "from scipy.signal import convolve2d \n",
    "from scipy import ndimage\n",
    "from sklearn.cluster import KMeans\n",
    "import numpy as np\n",
    "import tensorflow as tf\n",
    "from tensorflow import keras    \n",
    "from sklearn.cluster import KMeans\n",
    "import matplotlib.pyplot as plt\n",
    "from matplotlib.colors import Normalize\n",
    "from sklearn.cluster import DBSCAN\n",
    "from pyhdf.SD import SD, SDC\n",
    "import matplotlib as mpl\n",
    "#tf.config.threading.set_inter_op_parallelism_threads(1)\n",
    "from extract_training_data import *\n",
    "from sklearn.feature_extraction.image import extract_patches_2d, reconstruct_from_patches_2d\n",
    "from pyhdf.error import HDF4Error\n",
    "from functions import *\n",
    "from tensorflow.keras.models import load_model\n",
    "from sklearn.cluster import KMeans, MiniBatchKMeans\n",
    "import joblib\n",
    "import plot_functions\n",
    "import importlib \n",
    "importlib.reload(plot_functions)\n",
    "from plot_functions import *\n",
    "from sklearn.model_selection import train_test_split\n",
    "from keras.callbacks import LearningRateScheduler\n",
    "from tensorflow.keras.callbacks import EarlyStopping\n",
    "# Visualize the result"
   ]
  },
  {
   "cell_type": "code",
   "execution_count": 2,
   "metadata": {},
   "outputs": [
    {
     "name": "stdout",
     "output_type": "stream",
     "text": [
      "1 Physical GPUs, 1 Logical GPUs\n"
     ]
    },
    {
     "name": "stderr",
     "output_type": "stream",
     "text": [
      "2023-11-25 15:20:14.984414: I tensorflow/core/common_runtime/gpu/gpu_device.cc:1525] Created device /job:localhost/replica:0/task:0/device:GPU:0 with 20122 MB memory:  -> device: 0, name: Quadro RTX 6000, pci bus id: 0000:25:00.0, compute capability: 7.5\n"
     ]
    }
   ],
   "source": [
    "gpus = tf.config.experimental.list_physical_devices('GPU')\n",
    "if gpus:\n",
    "    try:\n",
    "        # Currently, memory growth needs to be the same across GPUs\n",
    "        for gpu in gpus:\n",
    "            tf.config.experimental.set_memory_growth(gpu, True)\n",
    "        logical_gpus = tf.config.experimental.list_logical_devices('GPU')\n",
    "        print(len(gpus), \"Physical GPUs,\"  , len(logical_gpus), \"Logical GPUs\")\n",
    "        tf.config.experimental.set_memory_growth(gpu, True)\n",
    "    except RuntimeError as e:\n",
    "        # Memory growth must be set before GPUs have been initialized\n",
    "        print(e)\n",
    "\n",
    "import socket\n",
    "hostname = socket.gethostname()\n",
    "if \"nird\" in hostname:\n",
    "    tf.config.threading.set_inter_op_parallelism_threads(8)\n",
    "    data_loc = \"/nird/projects/NS9600K/fslippe/data/\"\n",
    "    folder = \"/nird/projects/NS9600K/data/modis/cao/MOD02/2020/ /nird/projects/NS9600K/data/modis/cao/MOD02/2021/ /nird/projects/NS9600K/data/modis/cao/MOD02/2023/\"\n",
    "if \"mimi\" in hostname:\n",
    "    data_loc = \"/uio/hume/student-u37/fslippe/data/\"\n",
    "    folder = \"/scratch/fslippe/modis/MOD02/daytime_1km/ /scratch/fslippe/modis/MOD02/boundary_1km/ /scratch/fslippe/modis/MOD02/night_1km/ /scratch/fslippe/modis/MOD02/may-nov_2021/ /scratch/fslippe/modis/MOD02/cao_test_data/\"\n",
    "\n",
    "\n",
    "bands=[29]\n",
    "max_vals = np.load(\"%smodels/max_vals_dnb_l95_z50_ps128_(29)_cao_months_202012-202111.npy\" %data_loc)\n"
   ]
  },
  {
   "cell_type": "code",
   "execution_count": 3,
   "metadata": {},
   "outputs": [
    {
     "name": "stdout",
     "output_type": "stream",
     "text": [
      "1\n",
      "WARNING:tensorflow:No training configuration found in save file, so the model was *not* compiled. Compile it manually.\n"
     ]
    }
   ],
   "source": [
    "from autoencoder import SobelFilterLayer, SimpleAutoencoder\n",
    "print(len(bands))\n",
    "\n",
    "#encoder = load_model(\"/uio/hume/student-u37/fslippe/data/models/winter_2020_21_band(6,20,29)_encoder\")\n",
    "encoder = load_model(\"%smodels/encoder_scheduler_250k_dnb_l90_z50_fcao_months_202012_(29)_202111-64\" %data_loc)"
   ]
  },
  {
   "cell_type": "code",
   "execution_count": 4,
   "metadata": {},
   "outputs": [
    {
     "name": "stdout",
     "output_type": "stream",
     "text": [
      "total cores: 256\n",
      "['/scratch/fslippe/modis/MOD02/2019/', '/scratch/fslippe/modis/MOD02/2020/', '/scratch/fslippe/modis/MOD02/2021/', '/scratch/fslippe/modis/MOD02/2022/', '/scratch/fslippe/modis/MOD02/2023/']\n",
      "['2019001', '2019002', '2019003', '2019004', '2019005', '2019006', '2019007', '2019008', '2019009', '2019010', '2019011', '2019012', '2019013', '2019014', '2019015', '2019016', '2019017', '2019018', '2019019', '2019020', '2019021', '2019022', '2019023', '2019024', '2019025', '2019026', '2019027', '2019028', '2019029', '2019030', '2019031', '2019032', '2019033', '2019034', '2019035', '2019036', '2019037', '2019038', '2019039', '2019040', '2019041', '2019042', '2019043', '2019044', '2019045', '2019046', '2019047', '2019048', '2019049', '2019050', '2019051', '2019052', '2019053', '2019054', '2019055', '2019056', '2019057', '2019058', '2019059', '2019060', '2019061', '2019062', '2019063', '2019064', '2019065', '2019066', '2019067', '2019068', '2019069', '2019070', '2019071', '2019072', '2019073', '2019074', '2019075', '2019076', '2019077', '2019078', '2019079', '2019080', '2019081', '2019082', '2019083', '2019084', '2019085', '2019086', '2019087', '2019088', '2019089', '2019090', '2019091', '2019092', '2019093', '2019094', '2019095', '2019096', '2019097', '2019098', '2019099', '2019100', '2019101', '2019102', '2019103', '2019104', '2019105', '2019106', '2019107', '2019108', '2019109', '2019110', '2019111', '2019112', '2019113', '2019114', '2019115', '2019116', '2019117', '2019118', '2019119', '2019120', '2019274', '2019275', '2019276', '2019277', '2019278', '2019279', '2019280', '2019281', '2019282', '2019283', '2019284', '2019285', '2019286', '2019287', '2019288', '2019289', '2019290', '2019291', '2019292', '2019293', '2019294', '2019295', '2019296', '2019297', '2019298', '2019299', '2019300', '2019301', '2019302', '2019303', '2019304', '2019305', '2019306', '2019307', '2019308', '2019309', '2019310', '2019311', '2019312', '2019313', '2019314', '2019315', '2019316', '2019317', '2019318', '2019319', '2019335', '2019336', '2019337', '2019338', '2019339', '2019340', '2019341', '2019342', '2019343', '2019344', '2019345', '2019346', '2019347', '2019348', '2019349', '2019350', '2019351', '2019352', '2019353', '2019354', '2019355', '2019356', '2019357', '2019358', '2019359', '2019360', '2019361', '2019362', '2019363', '2019364', '2019365', '2020001', '2020002', '2020003', '2020004', '2020005', '2020006', '2020007', '2020008', '2020009', '2020010', '2020011', '2020012', '2020013', '2020014', '2020015', '2020016', '2020017', '2020018', '2020019', '2020020', '2020021', '2020022', '2020023', '2020024', '2020025', '2020026', '2020027', '2020028', '2020029', '2020030', '2020031', '2020032', '2020033', '2020034', '2020035', '2020036', '2020037', '2020038', '2020039', '2020040', '2020041', '2020042', '2020043', '2020044', '2020045', '2020046', '2020047', '2020048', '2020049', '2020050', '2020051', '2020052', '2020053', '2020054', '2020055', '2020056', '2020057', '2020058', '2020059', '2020060', '2020061', '2020062', '2020063', '2020064', '2020065', '2020066', '2020067', '2020068', '2020069', '2020070', '2020071', '2020072', '2020073', '2020074', '2020075', '2020076', '2020077', '2020078', '2020079', '2020080', '2020081', '2020082', '2020083', '2020084', '2020085', '2020086', '2020087', '2020088', '2020089', '2020090', '2020091', '2020092', '2020093', '2020094', '2020095', '2020096', '2020097', '2020098', '2020099', '2020100', '2020101', '2020102', '2020103', '2020104', '2020105', '2020106', '2020107', '2020108', '2020109', '2020110', '2020111', '2020112', '2020113', '2020114', '2020115', '2020116', '2020117', '2020118', '2020119', '2020120', '2020121', '2020275', '2020276', '2020277', '2020278', '2020279', '2020280', '2020281', '2020282', '2020283', '2020284', '2020285', '2020286', '2020287', '2020288', '2020289', '2020290', '2020291', '2020292', '2020293', '2020294', '2020295', '2020296', '2020297', '2020298', '2020299', '2020300', '2020301', '2020302', '2020303', '2020304', '2020305', '2020306', '2020307', '2020308', '2020309', '2020310', '2020311', '2020312', '2020313', '2020314', '2020315', '2020316', '2020317', '2020318', '2020319', '2020320', '2020321', '2020322', '2020323', '2020324', '2020325', '2020326', '2020327', '2020328', '2020329', '2020330', '2020331', '2020332', '2020333', '2020334', '2020335', '2020336', '2020337', '2020338', '2020339', '2020340', '2020341', '2020342', '2020343', '2020344', '2020345', '2020346', '2020347', '2020348', '2020349', '2020350', '2020351', '2020352', '2020353', '2020354', '2020355', '2020356', '2020357', '2020358', '2020359', '2020360', '2020361', '2020362', '2020363', '2020364', '2020365', '2020366', '2021001', '2021002', '2021003', '2021004', '2021005', '2021006', '2021007', '2021008', '2021009', '2021010', '2021011', '2021012', '2021013', '2021014', '2021015', '2021016', '2021017', '2021018', '2021019', '2021020', '2021021', '2021022', '2021023', '2021024', '2021025', '2021026', '2021027', '2021028', '2021029', '2021030', '2021031', '2021032', '2021033', '2021034', '2021035', '2021036', '2021037', '2021038', '2021039', '2021040', '2021041', '2021042', '2021043', '2021044', '2021045', '2021046', '2021047', '2021048', '2021049', '2021050', '2021051', '2021052', '2021053', '2021054', '2021055', '2021056', '2021057', '2021058', '2021059', '2021060', '2021061', '2021062', '2021063', '2021064', '2021065', '2021066', '2021067', '2021068', '2021069', '2021070', '2021071', '2021072', '2021073', '2021074', '2021075', '2021076', '2021077', '2021078', '2021079', '2021080', '2021081', '2021082', '2021083', '2021084', '2021085', '2021086', '2021087', '2021088', '2021089', '2021090', '2021091', '2021092', '2021093', '2021094', '2021095', '2021096', '2021097', '2021098', '2021099', '2021100', '2021101', '2021102', '2021103', '2021104', '2021105', '2021106', '2021107', '2021108', '2021109', '2021110', '2021111', '2021112', '2021113', '2021114', '2021115', '2021116', '2021117', '2021118', '2021119', '2021120', '2021274', '2021275', '2021276', '2021277', '2021278', '2021279', '2021280', '2021281', '2021282', '2021283', '2021284', '2021285', '2021286', '2021287', '2021288', '2021289', '2021290', '2021291', '2021292', '2021293', '2021294', '2021295', '2021296', '2021297', '2021298', '2021299', '2021300', '2021301', '2021302', '2021303', '2021304', '2021305', '2021306', '2021307', '2021308', '2021309', '2021310', '2021311', '2021312', '2021313', '2021314', '2021315', '2021316', '2021317', '2021318', '2021319', '2021320', '2021321', '2021322', '2021323', '2021324', '2021325', '2021326', '2021327', '2021328', '2021329', '2021330', '2021331', '2021332', '2021333', '2021334', '2021335', '2021336', '2021337', '2021338', '2021339', '2021340', '2021341', '2021342', '2021343', '2021344', '2021345', '2021346', '2021347', '2021348', '2021349', '2021350', '2021351', '2021352', '2021353', '2021354', '2021355', '2021356', '2021357', '2021358', '2021359', '2021360', '2021361', '2021362', '2021363', '2021364', '2021365', '2022001', '2022002', '2022003', '2022004', '2022005', '2022006', '2022007', '2022008', '2022009', '2022010', '2022011', '2022012', '2022013', '2022014', '2022015', '2022016', '2022017', '2022018', '2022019', '2022020', '2022021', '2022022', '2022023', '2022024', '2022025', '2022026', '2022027', '2022028', '2022029', '2022030', '2022031', '2022032', '2022033', '2022034', '2022035', '2022036', '2022037', '2022038', '2022039', '2022040', '2022041', '2022042', '2022043', '2022044', '2022045', '2022046', '2022047', '2022048', '2022049', '2022050', '2022051', '2022052', '2022053', '2022054', '2022055', '2022056', '2022057', '2022058', '2022059', '2022060', '2022061', '2022062', '2022063', '2022064', '2022065', '2022066', '2022067', '2022068', '2022069', '2022070', '2022071', '2022072', '2022073', '2022074', '2022075', '2022076', '2022077', '2022078', '2022079', '2022080', '2022081', '2022082', '2022083', '2022084', '2022085', '2022086', '2022087', '2022088', '2022089', '2022090', '2022091', '2022092', '2022093', '2022094', '2022095', '2022096', '2022097', '2022098', '2022099', '2022100', '2022101', '2022102', '2022103', '2022104', '2022105', '2022106', '2022107', '2022108', '2022109', '2022110', '2022111', '2022112', '2022113', '2022114', '2022115', '2022116', '2022117', '2022118', '2022119', '2022120', '2022274', '2022275', '2022276', '2022277', '2022278', '2022279', '2022280', '2022281', '2022282', '2022283', '2022296', '2022297', '2022298', '2022299', '2022300', '2022301', '2022302', '2022303', '2022304', '2022305', '2022306', '2022307', '2022308', '2022309', '2022310', '2022311', '2022312', '2022313', '2022314', '2022315', '2022316', '2022317', '2022318', '2022319', '2022320', '2022321', '2022322', '2022323', '2022324', '2022325', '2022326', '2022327', '2022328', '2022329', '2022330', '2022331', '2022332', '2022333', '2022334', '2022335', '2022336', '2022337', '2022338', '2022339', '2022340', '2022341', '2022342', '2022343', '2022344', '2022345', '2022346', '2022347', '2022348', '2022349', '2022350', '2022351', '2022352', '2022353', '2022354', '2022355', '2022356', '2022357', '2022358', '2022359', '2022360', '2022361', '2022362', '2022363', '2022364', '2022365', '2023001', '2023002', '2023003', '2023004', '2023005', '2023006', '2023007', '2023008', '2023009', '2023010', '2023011', '2023012', '2023013', '2023014', '2023015', '2023016', '2023017', '2023018', '2023019', '2023020', '2023021', '2023022', '2023023', '2023024', '2023025', '2023026', '2023027', '2023028', '2023029', '2023030', '2023031', '2023032', '2023033', '2023034', '2023035', '2023036', '2023037', '2023038', '2023039', '2023040', '2023041', '2023042', '2023043', '2023044', '2023045', '2023046', '2023047', '2023048', '2023049', '2023050', '2023051', '2023052', '2023053', '2023054', '2023055', '2023056', '2023057', '2023058', '2023059', '2023060', '2023061', '2023062', '2023063', '2023064', '2023065', '2023066', '2023067', '2023068', '2023069', '2023070', '2023071', '2023072', '2023073', '2023074', '2023075', '2023076', '2023077', '2023078', '2023079', '2023080', '2023081', '2023082', '2023083', '2023084', '2023085', '2023086', '2023087', '2023088', '2023089', '2023090', '2023091', '2023092', '2023093', '2023094', '2023095', '2023096', '2023097', '2023098', '2023099', '2023100', '2023101', '2023102', '2023103', '2023104', '2023105', '2023106', '2023107', '2023108', '2023109', '2023110', '2023111', '2023112', '2023113', '2023114', '2023115', '2023116', '2023117', '2023118', '2023119', '2023120']\n",
      "['2023001', '2023002', '2023003', '2023004', '2023005', '2023006', '2023007', '2023008', '2023009', '2023010', '2023011', '2023012', '2023013', '2023014', '2023015', '2023016', '2023017', '2023018', '2023019', '2023020', '2023021', '2023022', '2023023', '2023024', '2023025', '2023026', '2023027', '2023028', '2023029', '2023030', '2023031', '2023032', '2023033', '2023034', '2023035', '2023036', '2023037', '2023038', '2023039', '2023040', '2023041', '2023042', '2023043', '2023044', '2023045', '2023046', '2023047', '2023048', '2023049', '2023050', '2023051', '2023052', '2023053', '2023054', '2023055', '2023056', '2023057', '2023058', '2023059', '2023060', '2023061', '2023062', '2023063', '2023064', '2023065', '2023066', '2023067', '2023068', '2023069', '2023070', '2023071', '2023072', '2023073', '2023074', '2023075', '2023076', '2023077', '2023078', '2023079', '2023080', '2023081', '2023082', '2023083', '2023084', '2023085', '2023086', '2023087', '2023088', '2023089', '2023090', '2023091', '2023092', '2023093', '2023094', '2023095', '2023096', '2023097', '2023098', '2023099', '2023100', '2023101', '2023102', '2023103', '2023104', '2023105', '2023106', '2023107', '2023108', '2023109', '2023110', '2023111', '2023112', '2023113', '2023114', '2023115', '2023116', '2023117', '2023118', '2023119', '2023120']\n"
     ]
    },
    {
     "name": "stderr",
     "output_type": "stream",
     "text": [
      "100%|██████████| 120/120 [01:44<00:00,  1.15it/s]\n"
     ]
    },
    {
     "name": "stdout",
     "output_type": "stream",
     "text": [
      "1438\n",
      "1438\n"
     ]
    },
    {
     "data": {
      "text/plain": [
       "1229"
      ]
     },
     "execution_count": 4,
     "metadata": {},
     "output_type": "execute_result"
    }
   ],
   "source": [
    "### EXTRACT CAO AND NOn CAO CASES\n",
    "import importlib\n",
    "import extract_training_data\n",
    "importlib.reload(extract_training_data)\n",
    "from extract_training_data import *\n",
    "patch_size = 128\n",
    "\n",
    "start = \"20230101\"\n",
    "end = \"20230430\"\n",
    "dates = generate_date_list(start, end)\n",
    "start = \"20231001\"\n",
    "end = \"20231231\"\n",
    "year_chosen = start[:4]\n",
    "dates.extend(generate_date_list(start, end))\n",
    "#x_cao, dates_cao, masks_cao = extract_1km_data(\"/scratch/fslippe/modis/MOD02/july_2021/\", bands=bands, start_date=start_converted, end_date=end_converted)\n",
    "bands = [29]\n",
    "# x_cao, dates_cao, masks_cao, lon_lats_cao, mod_min = extract_1km_data(\"/scratch/fslippe/modis/MOD02/cao_test_data/\",\n",
    "#                                                            bands=bands,\n",
    "#                                                          start_date=start_converted,\n",
    "#                                                          end_date=end_converted,\n",
    "#                                                          return_lon_lat=True)\n",
    "folder = \"/scratch/fslippe/modis/MOD02/2019/ /scratch/fslippe/modis/MOD02/2020/ /scratch/fslippe/modis/MOD02/2021/ /scratch/fslippe/modis/MOD02/2022/ /scratch/fslippe/modis/MOD02/2023/\"\n",
    "#folder = \"/scratch/fslippe/modis/MOD02/2020/\"\n",
    "x_cao, dates_cao, masks_cao, lon_lats_cao, mod_min_cao = extract_1km_data(folder,\n",
    "                                                         bands=bands,\n",
    "                                                         #start_date=start_converted,\n",
    "                                                         #end_date=end_converted,\n",
    "                                                         date_list=dates,\n",
    "                                                         return_lon_lat=True,\n",
    "                                                         data_loc=data_loc,\n",
    "                                                         data_type=\"npy\",\n",
    "                                                         combine_pics=True)\n",
    "\n",
    "x_cao, dates_cao, masks_cao, lon_lats_cao, mod_min_cao = zip(*[(xi, date, mask, lon_lat, mod_min) for xi, date, mask, lon_lat, mod_min in zip(x_cao, dates_cao, masks_cao, lon_lats_cao, mod_min_cao) if (xi.shape[0] > patch_size) and (xi.shape[1] > patch_size)])\n",
    "x_cao = list(x_cao)\n",
    "dates_cao = list(dates_cao)\n",
    "len(x_cao)\n"
   ]
  },
  {
   "cell_type": "code",
   "execution_count": 5,
   "metadata": {},
   "outputs": [
    {
     "name": "stdout",
     "output_type": "stream",
     "text": [
      "['2023009', '2023008', '2023009', '2023022', '2023040', '2023077', '2023088', '2023050', '2023015', '2023082', '2023044', '2023076', '2023005', '2023041', '2023114', '2023065', '2023057', '2023016', '2023002', '2023010']\n",
      "[905, 1140, 1045, 1305, 1045, 1130, 910, 1100, 955, 1135, 830, 1225, 940, 1125, 855, 1305, 915, 1040, 915, 810]\n"
     ]
    }
   ],
   "source": [
    "n_pics = 0\n",
    "random_dates = []\n",
    "random_times = []\n",
    "for i in range(len(x_cao)):\n",
    "    while n_pics < 20:\n",
    "        idx = np.random.randint(len(x_cao))\n",
    "        if mod_min_cao[idx] > 800 and mod_min_cao[idx] < 1400:\n",
    "            random_dates.append(dates_cao[idx])\n",
    "            random_times.append(mod_min_cao[idx])\n",
    "            n_pics +=1\n",
    "            \n",
    "print(random_dates)\n",
    "print(random_times)\n",
    "\n",
    "np.save(\"/uio/hume/student-u37/fslippe/data/dates_for_labeling/random_sample_8-14_%s_dates\" %(year_chosen), random_dates)\n",
    "np.save(\"/uio/hume/student-u37/fslippe/data/dates_for_labeling/random_sample_8-14_%s_times\" %(year_chosen), random_times)"
   ]
  },
  {
   "cell_type": "code",
   "execution_count": 6,
   "metadata": {},
   "outputs": [
    {
     "name": "stdout",
     "output_type": "stream",
     "text": [
      "1228/1229\r"
     ]
    }
   ],
   "source": [
    "#### EXTRACTING AND ENCODING PATCHES + SAVING indexes of belonging files\n",
    "autoencoder_predict = SimpleAutoencoder(len(bands), patch_size, patch_size)\n",
    "stride = patch_size\n",
    "patches_cao, all_lon_patches_cao, all_lat_patches_cao, starts_cao, ends_cao, shapes_cao, n_patches_tot_cao, indices_cao = generate_patches([x[:,:,0] for x in x_cao],\n",
    "                                                                                                                                       masks_cao,\n",
    "                                                                                                                                       lon_lats_cao,\n",
    "                                                                                                                                       max_vals,\n",
    "                                                                                                                                       autoencoder_predict,\n",
    "                                                                                                                                       strides=[1, stride, stride,1])\n",
    "n_patches = len(patches_cao)"
   ]
  },
  {
   "cell_type": "code",
   "execution_count": 7,
   "metadata": {},
   "outputs": [
    {
     "name": "stderr",
     "output_type": "stream",
     "text": [
      "2023-11-25 15:27:44.829580: I tensorflow/stream_executor/cuda/cuda_dnn.cc:366] Loaded cuDNN version 8202\n"
     ]
    },
    {
     "data": {
      "text/plain": [
       "8180"
      ]
     },
     "execution_count": 7,
     "metadata": {},
     "output_type": "execute_result"
    }
   ],
   "source": [
    "n_chunks = 10\n",
    "chunk_size = n_patches // n_chunks\n",
    "\n",
    "patch_chunks = [patches_cao[i * chunk_size : (i + 1) * chunk_size] for i in range(n_chunks)]\n",
    "\n",
    "# Handle the remaining patches for the case where n_patches is not exactly divisible by n_chunks\n",
    "if n_patches % n_chunks != 0:\n",
    "    patch_chunks.append(patches_cao[n_chunks * chunk_size:])\n",
    "\n",
    "encoded_patch_chunks = [encoder.predict(chunk) for chunk in patch_chunks]\n",
    "encoded_patches_cao = np.concatenate(encoded_patch_chunks)\n",
    "\n",
    "encoded_patches_flat_cao = encoded_patches_cao.reshape(encoded_patches_cao.shape[0], -1)\n",
    "gc.collect()\n"
   ]
  },
  {
   "cell_type": "code",
   "execution_count": 8,
   "metadata": {},
   "outputs": [
    {
     "name": "stdout",
     "output_type": "stream",
     "text": [
      "12\n"
     ]
    }
   ],
   "source": [
    "cluster = joblib.load(\"/uio/hume/student-u37/fslippe/data/models/cluster_dnb_l90_z50_ps128_f64_(29)_%s-%s.pkl\" %(\"cao_months_202012\", \"202111\"))\n",
    "global_min = np.min([np.min(cm) for cm in cluster.labels_])\n",
    "global_max = np.max([np.max(cm) for cm in cluster.labels_])+1\n",
    "print(global_max)\n",
    "labels = cluster.predict(encoded_patches_flat_cao)"
   ]
  },
  {
   "cell_type": "code",
   "execution_count": 9,
   "metadata": {},
   "outputs": [
    {
     "name": "stdout",
     "output_type": "stream",
     "text": [
      "17\n",
      "13\n",
      "8\n",
      "9\n",
      "7\n",
      "1\n"
     ]
    }
   ],
   "source": [
    "import plot_functions \n",
    "importlib.reload(plot_functions)\n",
    "from plot_functions import * \n",
    "size_threshold = 30\n",
    "less_than = False\n",
    "save_img_with_labels(x_cao, lon_lats_cao, n_patches_tot_cao,\n",
    "                      indices_cao,\n",
    "                      labels,\n",
    "                      starts_cao,\n",
    "                      ends_cao,  \n",
    "                      shapes_cao,\n",
    "                      dates_cao,\n",
    "                      mod_min_cao,\n",
    "                      desired_label = [3, 0],\n",
    "                      size_threshold = size_threshold,\n",
    "                      less_than=less_than,\n",
    "                      patch_size = patch_size,\n",
    "                      global_max = global_max,\n",
    "                      max_pics =50,\n",
    "                      shuffle=True,\n",
    "                      plot=False,\n",
    "                      save_np=\"%scao_thr%s_%s\" %(\"no\" if less_than else \"\", size_threshold, year_chosen))\n",
    "size_threshold = 35\n",
    "less_than = False\n",
    "save_img_with_labels(x_cao, lon_lats_cao, n_patches_tot_cao,\n",
    "                      indices_cao,\n",
    "                      labels,\n",
    "                      starts_cao,\n",
    "                      ends_cao,  \n",
    "                      shapes_cao,\n",
    "                      dates_cao,\n",
    "                      mod_min_cao,\n",
    "                      desired_label = [3, 0],\n",
    "                      size_threshold = size_threshold,\n",
    "                      less_than=less_than,\n",
    "                      patch_size = patch_size,\n",
    "                      global_max = global_max,\n",
    "                      max_pics =50,\n",
    "                      shuffle=True,\n",
    "                      plot=False,\n",
    "                      save_np=\"%scao_thr%s_%s\" %(\"no\" if less_than else \"\", size_threshold, year_chosen))            \n",
    "\n",
    "size_threshold = 40\n",
    "less_than = False\n",
    "save_img_with_labels(x_cao, lon_lats_cao, n_patches_tot_cao,\n",
    "                      indices_cao,\n",
    "                      labels,\n",
    "                      starts_cao,\n",
    "                      ends_cao,  \n",
    "                      shapes_cao,\n",
    "                      dates_cao,\n",
    "                      mod_min_cao,\n",
    "                      desired_label = [3, 0],\n",
    "                      size_threshold = size_threshold,\n",
    "                      less_than=less_than,\n",
    "                      patch_size = patch_size,\n",
    "                      global_max = global_max,\n",
    "                      max_pics =50,\n",
    "                      shuffle=True,\n",
    "                      plot=False,\n",
    "                      save_np=\"%scao_thr%s_%s\" %(\"no\" if less_than else \"\", size_threshold, year_chosen))           \n",
    "                      \n",
    "size_threshold = 2\n",
    "less_than = True\n",
    "save_img_with_labels(x_cao, lon_lats_cao, n_patches_tot_cao,\n",
    "                      indices_cao,\n",
    "                      labels,\n",
    "                      starts_cao,\n",
    "                      ends_cao,  \n",
    "                      shapes_cao,\n",
    "                      dates_cao,\n",
    "                      mod_min_cao,\n",
    "                      desired_label = [3, 0],\n",
    "                      size_threshold = size_threshold,\n",
    "                      less_than=less_than,\n",
    "                      patch_size = patch_size,\n",
    "                      global_max = global_max,\n",
    "                      max_pics =50,\n",
    "                      shuffle=True,\n",
    "                      plot=False,\n",
    "                      save_np=\"%scao_thr%s_%s\" %(\"no\" if less_than else \"\", size_threshold, year_chosen))     \n",
    "size_threshold = 1\n",
    "less_than = True\n",
    "save_img_with_labels(x_cao, lon_lats_cao, n_patches_tot_cao,\n",
    "                      indices_cao,\n",
    "                      labels,\n",
    "                      starts_cao,\n",
    "                      ends_cao,  \n",
    "                      shapes_cao,\n",
    "                      dates_cao,\n",
    "                      mod_min_cao,\n",
    "                      desired_label = [3, 0],\n",
    "                      size_threshold = size_threshold,\n",
    "                      less_than=less_than,\n",
    "                      patch_size = patch_size,\n",
    "                      global_max = global_max,\n",
    "                      max_pics =50,\n",
    "                      shuffle=True,\n",
    "                      plot=False,\n",
    "                      save_np=\"%scao_thr%s_%s\" %(\"no\" if less_than else \"\", size_threshold, year_chosen))     \n",
    "size_threshold = 0\n",
    "less_than = True\n",
    "save_img_with_labels(x_cao, lon_lats_cao, n_patches_tot_cao,\n",
    "                      indices_cao,\n",
    "                      labels,\n",
    "                      starts_cao,\n",
    "                      ends_cao,  \n",
    "                      shapes_cao,\n",
    "                      dates_cao,\n",
    "                      mod_min_cao,\n",
    "                      desired_label = [3, 0],\n",
    "                      size_threshold = size_threshold,\n",
    "                      less_than=less_than,\n",
    "                      patch_size = patch_size,\n",
    "                      global_max = global_max,\n",
    "                      max_pics =50,\n",
    "                      shuffle=True,\n",
    "                      plot=False,\n",
    "                      save_np=\"%scao_thr%s_%s\" %(\"no\" if less_than else \"\", size_threshold, year_chosen))     "
   ]
  },
  {
   "cell_type": "code",
   "execution_count": 10,
   "metadata": {},
   "outputs": [
    {
     "data": {
      "text/plain": [
       "16"
      ]
     },
     "execution_count": 10,
     "metadata": {},
     "output_type": "execute_result"
    }
   ],
   "source": [
    "d2 =np.load(\"/uio/hume/student-u37/fslippe/data/dates_for_labeling/nocao_thr2_2020_dates.npy\")\n",
    "t2 =np.load(\"/uio/hume/student-u37/fslippe/data/dates_for_labeling/nocao_thr2_2020_times.npy\")\n",
    "len(t2)"
   ]
  },
  {
   "cell_type": "code",
   "execution_count": 11,
   "metadata": {},
   "outputs": [
    {
     "ename": "IndexError",
     "evalue": "index 0 is out of bounds for axis 0 with size 0",
     "output_type": "error",
     "traceback": [
      "\u001b[0;31m---------------------------------------------------------------------------\u001b[0m",
      "\u001b[0;31mIndexError\u001b[0m                                Traceback (most recent call last)",
      "\u001b[1;32m/uio/hume/student-u37/fslippe/master_project/code/find_cao_imgs.ipynb Cell 11\u001b[0m line \u001b[0;36m1\n\u001b[0;32m----> <a href='vscode-notebook-cell://ssh-remote%2Bmimi/uio/hume/student-u37/fslippe/master_project/code/find_cao_imgs.ipynb#X15sdnNjb2RlLXJlbW90ZQ%3D%3D?line=0'>1</a>\u001b[0m i \u001b[39m=\u001b[39m np\u001b[39m.\u001b[39;49mwhere((np\u001b[39m.\u001b[39;49marray(dates_cao) \u001b[39m==\u001b[39;49m d2[\u001b[39m1\u001b[39;49m]) \u001b[39m&\u001b[39;49m (np\u001b[39m.\u001b[39;49marray(mod_min_cao) \u001b[39m==\u001b[39;49m t2[\u001b[39m1\u001b[39;49m]))[\u001b[39m0\u001b[39;49m][\u001b[39m0\u001b[39;49m]\n\u001b[1;32m      <a href='vscode-notebook-cell://ssh-remote%2Bmimi/uio/hume/student-u37/fslippe/master_project/code/find_cao_imgs.ipynb#X15sdnNjb2RlLXJlbW90ZQ%3D%3D?line=1'>2</a>\u001b[0m plt\u001b[39m.\u001b[39mimshow(x_cao[i], cmap\u001b[39m=\u001b[39m\u001b[39m\"\u001b[39m\u001b[39mgray\u001b[39m\u001b[39m\"\u001b[39m)\n\u001b[1;32m      <a href='vscode-notebook-cell://ssh-remote%2Bmimi/uio/hume/student-u37/fslippe/master_project/code/find_cao_imgs.ipynb#X15sdnNjb2RlLXJlbW90ZQ%3D%3D?line=2'>3</a>\u001b[0m plt\u001b[39m.\u001b[39mshow()\n",
      "\u001b[0;31mIndexError\u001b[0m: index 0 is out of bounds for axis 0 with size 0"
     ]
    },
    {
     "ename": "",
     "evalue": "",
     "output_type": "error",
     "traceback": [
      "\u001b[1;31mThe Kernel crashed while executing code in the the current cell or a previous cell. Please review the code in the cell(s) to identify a possible cause of the failure. Click <a href='https://aka.ms/vscodeJupyterKernelCrash'>here</a> for more info. View Jupyter <a href='command:jupyter.viewOutput'>log</a> for further details."
     ]
    }
   ],
   "source": [
    "i = np.where((np.array(dates_cao) == d2[1]) & (np.array(mod_min_cao) == t2[1]))[0][0]\n",
    "plt.imshow(x_cao[i], cmap=\"gray\")\n",
    "plt.show()\n",
    "plt.imshow(masks_cao[i], cmap=\"gray\")\n",
    "\n",
    "\n",
    "\n"
   ]
  }
 ],
 "metadata": {
  "kernelspec": {
   "display_name": "base",
   "language": "python",
   "name": "python3"
  },
  "language_info": {
   "codemirror_mode": {
    "name": "ipython",
    "version": 3
   },
   "file_extension": ".py",
   "mimetype": "text/x-python",
   "name": "python",
   "nbconvert_exporter": "python",
   "pygments_lexer": "ipython3",
   "version": "3.9.16"
  },
  "orig_nbformat": 4
 },
 "nbformat": 4,
 "nbformat_minor": 2
}
