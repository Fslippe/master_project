{
 "cells": [
  {
   "cell_type": "code",
   "execution_count": 1,
   "metadata": {},
   "outputs": [
    {
     "ename": "ModuleNotFoundError",
     "evalue": "No module named 'cartyoy'",
     "output_type": "error",
     "traceback": [
      "\u001b[0;31m---------------------------------------------------------------------------\u001b[0m",
      "\u001b[0;31mModuleNotFoundError\u001b[0m                       Traceback (most recent call last)",
      "\u001b[1;32m/uio/hume/student-u37/fslippe/master_project/code/find_dist_at_zenith.ipynb Cell 1\u001b[0m line \u001b[0;36m3\n\u001b[1;32m      <a href='vscode-notebook-cell://ssh-remote%2Bmimi/uio/hume/student-u37/fslippe/master_project/code/find_dist_at_zenith.ipynb#W0sdnNjb2RlLXJlbW90ZQ%3D%3D?line=0'>1</a>\u001b[0m \u001b[39mimport\u001b[39;00m \u001b[39mnumpy\u001b[39;00m \u001b[39mas\u001b[39;00m \u001b[39mnp\u001b[39;00m \n\u001b[1;32m      <a href='vscode-notebook-cell://ssh-remote%2Bmimi/uio/hume/student-u37/fslippe/master_project/code/find_dist_at_zenith.ipynb#W0sdnNjb2RlLXJlbW90ZQ%3D%3D?line=1'>2</a>\u001b[0m \u001b[39mimport\u001b[39;00m \u001b[39mmatplotlib\u001b[39;00m\u001b[39m.\u001b[39;00m\u001b[39mpyplot\u001b[39;00m \u001b[39mas\u001b[39;00m \u001b[39mplt\u001b[39;00m \n\u001b[0;32m----> <a href='vscode-notebook-cell://ssh-remote%2Bmimi/uio/hume/student-u37/fslippe/master_project/code/find_dist_at_zenith.ipynb#W0sdnNjb2RlLXJlbW90ZQ%3D%3D?line=2'>3</a>\u001b[0m \u001b[39mimport\u001b[39;00m \u001b[39mcartyoy\u001b[39;00m\u001b[39m.\u001b[39;00m\u001b[39mcrs\u001b[39;00m \u001b[39mas\u001b[39;00m \u001b[39mccrs\u001b[39;00m\n\u001b[1;32m      <a href='vscode-notebook-cell://ssh-remote%2Bmimi/uio/hume/student-u37/fslippe/master_project/code/find_dist_at_zenith.ipynb#W0sdnNjb2RlLXJlbW90ZQ%3D%3D?line=3'>4</a>\u001b[0m \u001b[39mfrom\u001b[39;00m \u001b[39mpyhdf\u001b[39;00m \u001b[39mimport\u001b[39;00m SD, SDC\n\u001b[1;32m      <a href='vscode-notebook-cell://ssh-remote%2Bmimi/uio/hume/student-u37/fslippe/master_project/code/find_dist_at_zenith.ipynb#W0sdnNjb2RlLXJlbW90ZQ%3D%3D?line=4'>5</a>\u001b[0m \u001b[39mimport\u001b[39;00m \u001b[39mos\u001b[39;00m\n",
      "\u001b[0;31mModuleNotFoundError\u001b[0m: No module named 'cartyoy'"
     ]
    }
   ],
   "source": [
    "import numpy as np \n",
    "import matplotlib.pyplot as plt \n",
    "import cartopy.crs as ccrs\n",
    "from pyhdf import SD, SDC\n",
    "import os\n",
    "\n"
   ]
  },
  {
   "cell_type": "code",
   "execution_count": 3,
   "metadata": {},
   "outputs": [
    {
     "name": "stdout",
     "output_type": "stream",
     "text": [
      "total cores: 256\n",
      "['/scratch/fslippe/modis/MOD02/daytime_1km/']\n"
     ]
    },
    {
     "name": "stderr",
     "output_type": "stream",
     "text": [
      "  0%|          | 0/1 [00:00<?, ?it/s]"
     ]
    },
    {
     "name": "stdout",
     "output_type": "stream",
     "text": [
      "49.950474\n",
      "46.316917\n",
      "58.510036\n",
      "42.61129\n",
      "55.163307\n",
      "38.930687\n"
     ]
    },
    {
     "name": "stderr",
     "output_type": "stream",
     "text": [
      "100%|██████████| 1/1 [00:12<00:00, 12.66s/it]\n"
     ]
    }
   ],
   "source": [
    "#all_files = os.listdir(\"/scratch/fslippe/modis/MOD02/cao_test_data/\")\n",
    "#hdf = SD(\"/scratch/fslippe/modis/MOD02/cao_test_data/%s\" %(all_files[2]) , SDC.READ)\n",
    "import importlib\n",
    "import extract_training_data\n",
    "importlib.reload(extract_training_data)\n",
    "from extract_training_data import *\n",
    "start = \"20210321\"\n",
    "end = \"20210321\"\n",
    "#start = \"20210701\"\n",
    "#end = \"20210702\"\n",
    "start_converted = convert_to_day_of_year(start)\n",
    "end_converted = convert_to_day_of_year(end)\n",
    "folder = \"/scratch/fslippe/modis/MOD02/daytime_1km/\"\n",
    "\n",
    "#x_cao, dates_cao, masks_cao = extract_1km_data(\"/scratch/fslippe/modis/MOD02/july_2021/\", bands=bands, start_date=start_converted, end_date=end_converted)\n",
    "\n",
    "# x_cao, dates_cao, masks_cao, lon_lats = extract_1km_data(\"/scratch/fslippe/modis/MOD02/cao_test_data/\",\n",
    "#                                                          bands=bands,\n",
    "#                                                          start_date=start_converted,\n",
    "#                                                          end_date=end_converted,\n",
    "#                                                          return_lon_lat=True)\n",
    "\n",
    "x_cao, dates_cao, masks_cao, lon_lats = extract_1km_data(folder,\n",
    "                                                         bands=[29],\n",
    "                                                         start_date=start_converted,\n",
    "                                                         end_date=end_converted,\n",
    "                                                         return_lon_lat=True,\n",
    "                                                         max_zenith=45,\n",
    "                                                         workers=1)\n",
    "x_cao, dates_cao, masks_cao, lon_lats = zip(*[(xi, date, mask, lon_lat) for xi, date, mask, lon_lat in zip(x_cao, dates_cao, masks_cao, lon_lats) if (xi.shape[0] > 64) and (xi.shape[1] > 64)])\n",
    "\n",
    "x_cao = list(x_cao)\n",
    "dates_cao = list(dates_cao)"
   ]
  },
  {
   "cell_type": "code",
   "execution_count": 66,
   "metadata": {},
   "outputs": [
    {
     "name": "stdout",
     "output_type": "stream",
     "text": [
      "(2040, 1354)\n"
     ]
    }
   ],
   "source": [
    "import cartopy.geodesic as cgeo\n",
    "\n",
    "all_files = os.listdir(\"/scratch/fslippe/modis/MOD02/cao_test_data/\")\n",
    "hdf = SD(\"/scratch/fslippe/modis/MOD02/cao_test_data/%s\" %(all_files[2]) , SDC.READ)\n",
    "\n",
    "lon = hdf.select(\"Longitude\")[:]\n",
    "lat = hdf.select(\"Latitude\")[:]\n",
    "data = hdf.select(\"EV_1KM_Emissive\")[:][0]\n",
    "print(data.shape)\n",
    "zoom_factor_y = data.shape[0] / lat.shape[0]\n",
    "zoom_factor_x = data.shape[1] / lat.shape[1]\n",
    "\n",
    "zoom_factors = (zoom_factor_y, zoom_factor_x)  # Now considering only 2 dimensions\n",
    "\n",
    "lon = zoom(lon, zoom_factors, order=1)  # order=0 for nearest neighbor interpolation\n",
    "lat = zoom(lat, zoom_factors, order=1)  # order=0 for nearest neighbor interpolation\n",
    "zenith_row = np.load(\"/uio/hume/student-u37/fslippe/master_project/code/data/sensor_zenith_bilinear_1km.npy\")\n",
    "\n",
    "import cartopy.geodesic as cgeo\n",
    "# Sample data\n",
    "pic = 3\n",
    "lat_row = lat[0, :]  # Taking the first row of latitudes\n",
    "lon_row = lon[0, :]  # Taking the first row of longitudes\n",
    "zenith_angle_deg = 45  # example value\n",
    "\n",
    "# Geodesic computation\n",
    "geod = cgeo.Geodesic()\n",
    "\n",
    "# Pre-allocate an array for distances (size will be one less than the number of points)\n",
    "distances = np.zeros(len(lon_row) - 1)\n",
    "\n",
    "for i in range(len(lon_row) - 1):\n",
    "    # Using zenith angle for correction. I2f zenith is an array, use zenith_row[i]\n",
    "    distance, _, _ = geod.inverse([lon_row[i], lat_row[i]], [lon_row[i + 1], lat_row[i + 1]])[0]\n",
    "    distances[i] = distance / np.cos(np.deg2rad(zenith_angle_deg))  # Correcting for zenith angle\n",
    "\n"
   ]
  },
  {
   "cell_type": "code",
   "execution_count": 68,
   "metadata": {},
   "outputs": [
    {
     "data": {
      "image/png": "[encoded data removed]",
      "text/plain": [
       "<Figure size 640x480 with 1 Axes>"
      ]
     },
     "metadata": {},
     "output_type": "display_data"
    }
   ],
   "source": [
    "plt.plot(zenith_row[1:][int(1354/2):], distances[:][int(1354/2):])\n",
    "plt.gca().set_xlim(0,50)\n",
    "plt.gca().set_ylim(0,3e3)\n",
    "\n",
    "plt.show()"
   ]
  },
  {
   "cell_type": "code",
   "execution_count": 47,
   "metadata": {},
   "outputs": [
    {
     "data": {
      "text/plain": [
       "array([False, False, False, ..., False, False, False])"
      ]
     },
     "execution_count": 47,
     "metadata": {},
     "output_type": "execute_result"
    }
   ],
   "source": [
    "(zenith_row < 50)"
   ]
  }
 ],
 "metadata": {
  "kernelspec": {
   "display_name": "base",
   "language": "python",
   "name": "python3"
  },
  "language_info": {
   "codemirror_mode": {
    "name": "ipython",
    "version": 3
   },
   "file_extension": ".py",
   "mimetype": "text/x-python",
   "name": "python",
   "nbconvert_exporter": "python",
   "pygments_lexer": "ipython3",
   "version": "3.9.16"
  }
 },
 "nbformat": 4,
 "nbformat_minor": 2
}
