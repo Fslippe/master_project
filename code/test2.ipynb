{
 "cells": [
  {
   "cell_type": "code",
   "execution_count": 2,
   "metadata": {},
   "outputs": [],
   "source": [
    "import os \n",
    "\n",
    "directory = \"/uio/hume/student-u37/fslippe/master_project/figures/comparison_plots/\"\n",
    "files = os.listdir(directory)\n",
    "\n",
    "for file in files:\n",
    "    if file.endswith(\".png\"):  # Check if the file extension is '.png'\n",
    "        filename, ext = os.path.splitext(file)  # Split the file into name and extension\n",
    "        new_file = filename + \"_f128_nK12\" + ext  # Create new file name\n",
    "        source = os.path.join(directory, file)  # Current absolute path\n",
    "        destination = os.path.join(directory, new_file)  # New absolute path\n",
    "        os.rename(source, destination)\n"
   ]
  }
 ],
 "metadata": {
  "kernelspec": {
   "display_name": "base",
   "language": "python",
   "name": "python3"
  },
  "language_info": {
   "codemirror_mode": {
    "name": "ipython",
    "version": 3
   },
   "file_extension": ".py",
   "mimetype": "text/x-python",
   "name": "python",
   "nbconvert_exporter": "python",
   "pygments_lexer": "ipython3",
   "version": "3.9.16"
  }
 },
 "nbformat": 4,
 "nbformat_minor": 2
}
