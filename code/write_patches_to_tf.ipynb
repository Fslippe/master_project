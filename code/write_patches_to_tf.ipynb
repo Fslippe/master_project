{
 "cells": [
  {
   "cell_type": "code",
   "execution_count": 1,
   "metadata": {},
   "outputs": [
    {
     "name": "stderr",
     "output_type": "stream",
     "text": [
      "2023-11-10 14:56:58.835807: I tensorflow/tsl/cuda/cudart_stub.cc:28] Could not find cuda drivers on your machine, GPU will not be used.\n",
      "2023-11-10 14:56:58.861893: E tensorflow/compiler/xla/stream_executor/cuda/cuda_dnn.cc:9342] Unable to register cuDNN factory: Attempting to register factory for plugin cuDNN when one has already been registered\n",
      "2023-11-10 14:56:58.861909: E tensorflow/compiler/xla/stream_executor/cuda/cuda_fft.cc:609] Unable to register cuFFT factory: Attempting to register factory for plugin cuFFT when one has already been registered\n",
      "2023-11-10 14:56:58.861928: E tensorflow/compiler/xla/stream_executor/cuda/cuda_blas.cc:1518] Unable to register cuBLAS factory: Attempting to register factory for plugin cuBLAS when one has already been registered\n",
      "2023-11-10 14:56:58.868201: I tensorflow/tsl/cuda/cudart_stub.cc:28] Could not find cuda drivers on your machine, GPU will not be used.\n",
      "2023-11-10 14:56:58.868444: I tensorflow/core/platform/cpu_feature_guard.cc:182] This TensorFlow binary is optimized to use available CPU instructions in performance-critical operations.\n",
      "To enable the following instructions: AVX2 FMA, in other operations, rebuild TensorFlow with the appropriate compiler flags.\n",
      "2023-11-10 14:56:59.723965: W tensorflow/compiler/tf2tensorrt/utils/py_utils.cc:38] TF-TRT Warning: Could not find TensorRT\n"
     ]
    },
    {
     "name": "stdout",
     "output_type": "stream",
     "text": [
      "total cores: 255\n"
     ]
    }
   ],
   "source": [
    "import os\n",
    "os.environ[\"OPENBLAS_NUM_THREADS\"] = \"4\"\n",
    "os.environ[\"NUM_THREADS\"] = \"4\"\n",
    "os.environ[\"OMP_NUM_THREADS\"] = \"4\"\n",
    "os.environ[\"PYTHONNOUSERSITE\"] = \"1\"\n",
    "import numpy\n",
    "from write_to_tf import * \n",
    "from sklearn.model_selection import train_test_split\n",
    "from datetime import datetime, timedelta\n",
    "\n"
   ]
  },
  {
   "cell_type": "code",
   "execution_count": 2,
   "metadata": {},
   "outputs": [],
   "source": [
    "import socket\n",
    "hostname = socket.gethostname()\n",
    "if \"nird\" in hostname:\n",
    "    tf.config.threading.set_inter_op_parallelism_threads(1)\n",
    "\n",
    "    data_loc = \"/nird/projects/NS9600K/fslippe/data/\"\n",
    "    folder = \"/nird/projects/NS9600K/data/modis/cao/MOD02/2020/ /nird/projects/NS9600K/data/modis/cao/MOD02/2021/ /nird/projects/NS9600K/data/modis/cao/MOD02/2023/\"\n",
    "if \"mimi\" in hostname:\n",
    "    data_loc = \"/uio/hume/student-u37/fslippe/data/\"\n",
    "    folder = \"/scratch/fslippe/modis/MOD02/daytime_1km/ /scratch/fslippe/modis/MOD02/boundary_1km/ /scratch/fslippe/modis/MOD02/night_1km/ /scratch/fslippe/modis/MOD02/may-nov_2021/\"\n",
    "\n"
   ]
  },
  {
   "cell_type": "code",
   "execution_count": 3,
   "metadata": {},
   "outputs": [
    {
     "name": "stdout",
     "output_type": "stream",
     "text": [
      "['/nird/projects/NS9600K/data/modis/cao/MOD02/2020/', '/nird/projects/NS9600K/data/modis/cao/MOD02/2021/', '/nird/projects/NS9600K/data/modis/cao/MOD02/2023/']\n",
      "['2020001', '2020002', '2020003', '2020004', '2020005', '2020006', '2020007', '2020008', '2020009', '2020010', '2020011', '2020012', '2020013', '2020014', '2020015', '2020016', '2020017', '2020018', '2020019', '2020020', '2020021', '2020022', '2020023', '2020024', '2020025', '2020026', '2020027', '2020028', '2020029', '2020030', '2020031', '2020032', '2020033', '2020034', '2020035', '2020036', '2020037', '2020038', '2020039', '2020040', '2020041', '2020042', '2020043', '2020044', '2020045', '2020046', '2020047', '2020048', '2020049', '2020050', '2020051', '2020052', '2020053', '2020054', '2020055', '2020056', '2020057', '2020058', '2020059', '2020060', '2020061', '2020062', '2020063', '2020064', '2020065', '2020066', '2020067', '2020068', '2020069', '2020070', '2020071', '2020072', '2020073', '2020074', '2020075', '2020076', '2020077', '2020078', '2020079', '2020080', '2020081', '2020082', '2020083', '2020084', '2020085', '2020086', '2020087', '2020088', '2020089', '2020090', '2020091', '2020092', '2020093', '2020094', '2020095', '2020096', '2020097', '2020098', '2020099', '2020100', '2020101', '2020102', '2020103', '2020104', '2020105', '2020106', '2020107', '2020108', '2020109', '2020110', '2020111', '2020112', '2020113', '2020114', '2020115', '2020116', '2020117', '2020118', '2020119', '2020120', '2020121', '2020275', '2020276', '2020277', '2020278', '2020279', '2020280', '2020281', '2020282', '2020283', '2020284', '2020285', '2020286', '2020287', '2020288', '2020289', '2020290', '2020291', '2020292', '2020293', '2020294', '2020295', '2020296', '2020297', '2020298', '2020299', '2020300', '2020301', '2020302', '2020303', '2020304', '2020305', '2020306', '2020307', '2020308', '2020309', '2020310', '2020311', '2020312', '2020313', '2020314', '2020315', '2020316', '2020317', '2020318', '2020319', '2020320', '2020321', '2020322', '2020323', '2020324', '2020325', '2020326', '2020327', '2020328', '2020329', '2020330', '2020331', '2020332', '2020333', '2020334', '2020335', '2020336', '2020337', '2020338', '2020339', '2020340', '2020341', '2020342', '2020343', '2020344', '2020345', '2020346', '2020347', '2020348', '2020349', '2020350', '2020351', '2020352', '2020353', '2020354', '2020355', '2020356', '2020357', '2020358', '2020359', '2020360', '2020361', '2020362', '2020363', '2020364', '2020365', '2020366', '2021001', '2021002', '2021003', '2021004', '2021005', '2021006', '2021007', '2021008', '2021009', '2021010', '2021011', '2021012', '2021013', '2021014', '2021015', '2021016', '2021017', '2021018', '2021019', '2021020', '2021021', '2021022', '2021023', '2021024', '2021025', '2021026', '2021027', '2021028', '2021029', '2021030', '2021031', '2021032', '2021033', '2021034', '2021035', '2021036', '2021037', '2021038', '2021039', '2021040', '2021041', '2021042', '2021043', '2021044', '2021045', '2021046', '2021047', '2021048', '2021049', '2021050', '2021051', '2021052', '2021053', '2021054', '2021055', '2021056', '2021057', '2021058', '2021059', '2021060', '2021061', '2021062', '2021063', '2021064', '2021065', '2021066', '2021067', '2021068', '2021069', '2021070', '2021071', '2021072', '2021073', '2021074', '2021075', '2021076', '2021077', '2021078', '2021079', '2021080', '2021081', '2021082', '2021083', '2021084', '2021085', '2021086', '2021087', '2021088', '2021089', '2021090', '2021091', '2021092', '2021093', '2021094', '2021095', '2021096', '2021097', '2021098', '2021099', '2021100', '2021101', '2021102', '2021103', '2021104', '2021105', '2021106', '2021107', '2021108', '2021109', '2021110', '2021111', '2021112', '2021113', '2021114', '2021115', '2021116', '2021117', '2021118', '2021119', '2021120', '2023001', '2023002', '2023003', '2023004', '2023005', '2023006', '2023007', '2023008', '2023009', '2023010', '2023011', '2023012', '2023013', '2023014', '2023015', '2023016', '2023017', '2023018', '2023019', '2023020', '2023021', '2023022', '2023023', '2023024', '2023025', '2023026', '2023027', '2023028', '2023029', '2023030', '2023031', '2023032', '2023033', '2023034', '2023035', '2023036', '2023037', '2023038', '2023039', '2023040', '2023041', '2023042', '2023043', '2023044', '2023045', '2023046', '2023047', '2023048', '2023049', '2023050', '2023051', '2023052', '2023053', '2023054', '2023055', '2023056', '2023057', '2023058', '2023059', '2023060', '2023061', '2023062', '2023063', '2023064', '2023065', '2023066', '2023067', '2023068', '2023069', '2023070', '2023071', '2023072', '2023073', '2023074', '2023075', '2023076', '2023077', '2023078', '2023079', '2023080', '2023081', '2023082', '2023083', '2023084', '2023085', '2023086', '2023087', '2023088', '2023089', '2023090', '2023091', '2023092', '2023093', '2023094', '2023095', '2023096', '2023097', '2023098', '2023099', '2023100', '2023101', '2023102', '2023103', '2023104', '2023105', '2023106', '2023107', '2023108', '2023109', '2023110', '2023111', '2023112', '2023113', '2023114', '2023115', '2023116', '2023117', '2023118', '2023119', '2023120']\n",
      "['2020336', '2020337']\n"
     ]
    },
    {
     "name": "stderr",
     "output_type": "stream",
     "text": [
      "100%|██████████| 2/2 [00:59<00:00, 29.57s/it]\n"
     ]
    }
   ],
   "source": [
    "#folder = \"/scratch/fslippe/modis/MOD02/daytime_1km/ /scratch/fslippe/modis/MOD02/boundary_1km/ /scratch/fslippe/modis/MOD02/night_1km/ /scratch/fslippe/modis/MOD02/may-nov_2021/\"\n",
    "patch_size = 256\n",
    "bands = [29]\n",
    "start = \"20201001\"\n",
    "end = \"20210430\"\n",
    "# start = \"20210401\"\n",
    "# end = \"20210430\"\n",
    "start = \"20201201\"\n",
    "end = \"20210430\"\n",
    "dates = generate_date_list(start, end)\n",
    "start = \"20211001\"\n",
    "end = \"20211130\"\n",
    "dates.extend(generate_date_list(start, end))\n",
    "\n",
    "start = \"20201201\"\n",
    "end = \"20201202\"\n",
    "dates = generate_date_list(start, end)\n",
    "# start_converted = convert_to_day_of_year(start)\n",
    "# end_converted = convert_to_day_of_year(end)\n",
    "# print(start_converted)\n",
    "# print(end_converted)\n",
    "x, dates, masks = extract_1km_data(folder, bands=bands, date_list=dates, data_loc=data_loc)\n",
    "x, dates, masks = zip(*[(xi, date, mask) for xi, date, mask in zip(x, dates, masks) if (xi.shape[0] > patch_size) and (xi.shape[1] > patch_size)])\n",
    "x = list(x)\n",
    "dates = list(dates)\n"
   ]
  },
  {
   "cell_type": "code",
   "execution_count": 4,
   "metadata": {},
   "outputs": [
    {
     "ename": "InvalidArgumentError",
     "evalue": "{{function_node __wrapped__ExtractImagePatches_device_/job:localhost/replica:0/task:0/device:CPU:0}} input must be 4-dimensional[] [Op:ExtractImagePatches]",
     "output_type": "error",
     "traceback": [
      "\u001b[0;31m---------------------------------------------------------------------------\u001b[0m",
      "\u001b[0;31mInvalidArgumentError\u001b[0m                      Traceback (most recent call last)",
      "\u001b[1;32m/nird/projects/NS9600K/fslippe/master_project/code/write_patches_to_tf.ipynb Cell 4\u001b[0m line \u001b[0;36m9\n\u001b[1;32m      <a href='vscode-notebook-cell://ssh-remote%2Bnird/nird/projects/NS9600K/fslippe/master_project/code/write_patches_to_tf.ipynb#W3sdnNjb2RlLXJlbW90ZQ%3D%3D?line=5'>6</a>\u001b[0m \u001b[39mimport\u001b[39;00m \u001b[39mtensorflow\u001b[39;00m \u001b[39mas\u001b[39;00m \u001b[39mtf\u001b[39;00m \n\u001b[1;32m      <a href='vscode-notebook-cell://ssh-remote%2Bnird/nird/projects/NS9600K/fslippe/master_project/code/write_patches_to_tf.ipynb#W3sdnNjb2RlLXJlbW90ZQ%3D%3D?line=7'>8</a>\u001b[0m x \u001b[39m=\u001b[39m np\u001b[39m.\u001b[39marray([\u001b[39m1\u001b[39m,\u001b[39m1\u001b[39m,\u001b[39m1\u001b[39m])\n\u001b[0;32m----> <a href='vscode-notebook-cell://ssh-remote%2Bnird/nird/projects/NS9600K/fslippe/master_project/code/write_patches_to_tf.ipynb#W3sdnNjb2RlLXJlbW90ZQ%3D%3D?line=8'>9</a>\u001b[0m patches \u001b[39m=\u001b[39m tf\u001b[39m.\u001b[39;49mimage\u001b[39m.\u001b[39;49mextract_patches(images\u001b[39m=\u001b[39;49mx[\u001b[39m0\u001b[39;49m],\n\u001b[1;32m     <a href='vscode-notebook-cell://ssh-remote%2Bnird/nird/projects/NS9600K/fslippe/master_project/code/write_patches_to_tf.ipynb#W3sdnNjb2RlLXJlbW90ZQ%3D%3D?line=9'>10</a>\u001b[0m                                             sizes\u001b[39m=\u001b[39;49m[\u001b[39m1\u001b[39;49m,\u001b[39m128\u001b[39;49m,\u001b[39m128\u001b[39;49m, \u001b[39m1\u001b[39;49m],\n\u001b[1;32m     <a href='vscode-notebook-cell://ssh-remote%2Bnird/nird/projects/NS9600K/fslippe/master_project/code/write_patches_to_tf.ipynb#W3sdnNjb2RlLXJlbW90ZQ%3D%3D?line=10'>11</a>\u001b[0m                                             strides\u001b[39m=\u001b[39;49m[\u001b[39m1\u001b[39;49m,\u001b[39m128\u001b[39;49m,\u001b[39m128\u001b[39;49m, \u001b[39m1\u001b[39;49m],\n\u001b[1;32m     <a href='vscode-notebook-cell://ssh-remote%2Bnird/nird/projects/NS9600K/fslippe/master_project/code/write_patches_to_tf.ipynb#W3sdnNjb2RlLXJlbW90ZQ%3D%3D?line=11'>12</a>\u001b[0m                                             rates\u001b[39m=\u001b[39;49m[\u001b[39m1\u001b[39;49m,\u001b[39m1\u001b[39;49m,\u001b[39m1\u001b[39;49m, \u001b[39m1\u001b[39;49m],\n\u001b[1;32m     <a href='vscode-notebook-cell://ssh-remote%2Bnird/nird/projects/NS9600K/fslippe/master_project/code/write_patches_to_tf.ipynb#W3sdnNjb2RlLXJlbW90ZQ%3D%3D?line=12'>13</a>\u001b[0m                                             padding\u001b[39m=\u001b[39;49m\u001b[39m\"\u001b[39;49m\u001b[39mVALID\u001b[39;49m\u001b[39m\"\u001b[39;49m)\n",
      "File \u001b[0;32m~/env_4/lib/python3.9/site-packages/tensorflow/python/util/traceback_utils.py:153\u001b[0m, in \u001b[0;36mfilter_traceback.<locals>.error_handler\u001b[0;34m(*args, **kwargs)\u001b[0m\n\u001b[1;32m    151\u001b[0m \u001b[39mexcept\u001b[39;00m \u001b[39mException\u001b[39;00m \u001b[39mas\u001b[39;00m e:\n\u001b[1;32m    152\u001b[0m   filtered_tb \u001b[39m=\u001b[39m _process_traceback_frames(e\u001b[39m.\u001b[39m__traceback__)\n\u001b[0;32m--> 153\u001b[0m   \u001b[39mraise\u001b[39;00m e\u001b[39m.\u001b[39mwith_traceback(filtered_tb) \u001b[39mfrom\u001b[39;00m \u001b[39mNone\u001b[39;00m\n\u001b[1;32m    154\u001b[0m \u001b[39mfinally\u001b[39;00m:\n\u001b[1;32m    155\u001b[0m   \u001b[39mdel\u001b[39;00m filtered_tb\n",
      "File \u001b[0;32m~/env_4/lib/python3.9/site-packages/tensorflow/python/eager/execute.py:60\u001b[0m, in \u001b[0;36mquick_execute\u001b[0;34m(op_name, num_outputs, inputs, attrs, ctx, name)\u001b[0m\n\u001b[1;32m     53\u001b[0m   \u001b[39m# Convert any objects of type core_types.Tensor to Tensor.\u001b[39;00m\n\u001b[1;32m     54\u001b[0m   inputs \u001b[39m=\u001b[39m [\n\u001b[1;32m     55\u001b[0m       tensor_conversion_registry\u001b[39m.\u001b[39mconvert(t)\n\u001b[1;32m     56\u001b[0m       \u001b[39mif\u001b[39;00m \u001b[39misinstance\u001b[39m(t, core_types\u001b[39m.\u001b[39mTensor)\n\u001b[1;32m     57\u001b[0m       \u001b[39melse\u001b[39;00m t\n\u001b[1;32m     58\u001b[0m       \u001b[39mfor\u001b[39;00m t \u001b[39min\u001b[39;00m inputs\n\u001b[1;32m     59\u001b[0m   ]\n\u001b[0;32m---> 60\u001b[0m   tensors \u001b[39m=\u001b[39m pywrap_tfe\u001b[39m.\u001b[39mTFE_Py_Execute(ctx\u001b[39m.\u001b[39m_handle, device_name, op_name,\n\u001b[1;32m     61\u001b[0m                                       inputs, attrs, num_outputs)\n\u001b[1;32m     62\u001b[0m \u001b[39mexcept\u001b[39;00m core\u001b[39m.\u001b[39m_NotOkStatusException \u001b[39mas\u001b[39;00m e:\n\u001b[1;32m     63\u001b[0m   \u001b[39mif\u001b[39;00m name \u001b[39mis\u001b[39;00m \u001b[39mnot\u001b[39;00m \u001b[39mNone\u001b[39;00m:\n",
      "\u001b[0;31mInvalidArgumentError\u001b[0m: {{function_node __wrapped__ExtractImagePatches_device_/job:localhost/replica:0/task:0/device:CPU:0}} input must be 4-dimensional[] [Op:ExtractImagePatches]"
     ]
    }
   ],
   "source": [
    "import os\n",
    "os.environ[\"OPENBLAS_NUM_THREADS\"] = \"4\"\n",
    "os.environ[\"NUM_THREADS\"] = \"4\"\n",
    "os.environ[\"OMP_NUM_THREADS\"] = \"4\"\n",
    "import numpy as np \n",
    "import tensorflow as tf \n",
    "\n",
    "x = np.array([1,1,1])\n",
    "patches = tf.image.extract_patches(images=x[0],\n",
    "                                            sizes=[1,128,128, 1],\n",
    "                                            strides=[1,128,128, 1],\n",
    "                                            rates=[1,1,1, 1],\n",
    "                                            padding=\"VALID\")"
   ]
  },
  {
   "cell_type": "code",
   "execution_count": 6,
   "metadata": {},
   "outputs": [
    {
     "name": "stdout",
     "output_type": "stream",
     "text": [
      "0/3\n",
      "no EXTRACT\n"
     ]
    },
    {
     "ename": "InvalidArgumentError",
     "evalue": "{{function_node __wrapped__ExtractImagePatches_device_/job:localhost/replica:0/task:0/device:CPU:0}} input must be 4-dimensional[] [Op:ExtractImagePatches]",
     "output_type": "error",
     "traceback": [
      "\u001b[0;31m---------------------------------------------------------------------------\u001b[0m",
      "\u001b[0;31mInvalidArgumentError\u001b[0m                      Traceback (most recent call last)",
      "\u001b[1;32m/nird/projects/NS9600K/fslippe/master_project/code/write_patches_to_tf.ipynb Cell 5\u001b[0m line \u001b[0;36m1\n\u001b[1;32m     <a href='vscode-notebook-cell://ssh-remote%2Bnird/nird/projects/NS9600K/fslippe/master_project/code/write_patches_to_tf.ipynb#W4sdnNjb2RlLXJlbW90ZQ%3D%3D?line=10'>11</a>\u001b[0m \u001b[39mfor\u001b[39;00m (image, mask) \u001b[39min\u001b[39;00m \u001b[39mzip\u001b[39m(x, masks):\n\u001b[1;32m     <a href='vscode-notebook-cell://ssh-remote%2Bnird/nird/projects/NS9600K/fslippe/master_project/code/write_patches_to_tf.ipynb#W4sdnNjb2RlLXJlbW90ZQ%3D%3D?line=11'>12</a>\u001b[0m     \u001b[39mprint\u001b[39m(\u001b[39m\"\u001b[39m\u001b[39m%s\u001b[39;00m\u001b[39m/\u001b[39m\u001b[39m%s\u001b[39;00m\u001b[39m\"\u001b[39m \u001b[39m%\u001b[39m(i, tot))\n\u001b[0;32m---> <a href='vscode-notebook-cell://ssh-remote%2Bnird/nird/projects/NS9600K/fslippe/master_project/code/write_patches_to_tf.ipynb#W4sdnNjb2RlLXJlbW90ZQ%3D%3D?line=12'>13</a>\u001b[0m     patches, idx, n_patches \u001b[39m=\u001b[39m autoencoder\u001b[39m.\u001b[39;49mextract_patches(image, mask, mask_threshold\u001b[39m=\u001b[39;49m\u001b[39m0.95\u001b[39;49m)  \u001b[39m# Assuming this function extracts and reshapes patches for a single image\u001b[39;00m\n\u001b[1;32m     <a href='vscode-notebook-cell://ssh-remote%2Bnird/nird/projects/NS9600K/fslippe/master_project/code/write_patches_to_tf.ipynb#W4sdnNjb2RlLXJlbW90ZQ%3D%3D?line=13'>14</a>\u001b[0m     all_patches\u001b[39m.\u001b[39mappend(patches)\n\u001b[1;32m     <a href='vscode-notebook-cell://ssh-remote%2Bnird/nird/projects/NS9600K/fslippe/master_project/code/write_patches_to_tf.ipynb#W4sdnNjb2RlLXJlbW90ZQ%3D%3D?line=14'>15</a>\u001b[0m     i\u001b[39m+\u001b[39m\u001b[39m=\u001b[39m\u001b[39m1\u001b[39m\n",
      "File \u001b[0;32m/nird/projects/NS9600K/fslippe/master_project/code/autoencoder.py:77\u001b[0m, in \u001b[0;36mSimpleAutoencoder.extract_patches\u001b[0;34m(self, image, mask, lon_lat, mask_threshold, extract_lon_lat, strides, lon_lat_min_max)\u001b[0m\n\u001b[1;32m     75\u001b[0m padding \u001b[39m=\u001b[39m \u001b[39m'\u001b[39m\u001b[39mVALID\u001b[39m\u001b[39m'\u001b[39m\n\u001b[1;32m     76\u001b[0m \u001b[39mprint\u001b[39m(\u001b[39m\"\u001b[39m\u001b[39mno EXTRACT\u001b[39m\u001b[39m\"\u001b[39m)\n\u001b[0;32m---> 77\u001b[0m patches \u001b[39m=\u001b[39m tf\u001b[39m.\u001b[39;49mimage\u001b[39m.\u001b[39;49mextract_patches(images\u001b[39m=\u001b[39;49mimage,\n\u001b[1;32m     78\u001b[0m                                 sizes\u001b[39m=\u001b[39;49msizes,\n\u001b[1;32m     79\u001b[0m                                 strides\u001b[39m=\u001b[39;49mstrides,\n\u001b[1;32m     80\u001b[0m                                 rates\u001b[39m=\u001b[39;49mrates,\n\u001b[1;32m     81\u001b[0m                                 padding\u001b[39m=\u001b[39;49mpadding)\n\u001b[1;32m     82\u001b[0m \u001b[39mprint\u001b[39m(\u001b[39m\"\u001b[39m\u001b[39mfirst EXTRACT\u001b[39m\u001b[39m\"\u001b[39m)\n\u001b[1;32m     84\u001b[0m \u001b[39mif\u001b[39;00m mask_threshold \u001b[39m!=\u001b[39m \u001b[39mNone\u001b[39;00m:\n",
      "File \u001b[0;32m~/env_4/lib/python3.9/site-packages/tensorflow/python/util/traceback_utils.py:153\u001b[0m, in \u001b[0;36mfilter_traceback.<locals>.error_handler\u001b[0;34m(*args, **kwargs)\u001b[0m\n\u001b[1;32m    151\u001b[0m \u001b[39mexcept\u001b[39;00m \u001b[39mException\u001b[39;00m \u001b[39mas\u001b[39;00m e:\n\u001b[1;32m    152\u001b[0m   filtered_tb \u001b[39m=\u001b[39m _process_traceback_frames(e\u001b[39m.\u001b[39m__traceback__)\n\u001b[0;32m--> 153\u001b[0m   \u001b[39mraise\u001b[39;00m e\u001b[39m.\u001b[39mwith_traceback(filtered_tb) \u001b[39mfrom\u001b[39;00m \u001b[39mNone\u001b[39;00m\n\u001b[1;32m    154\u001b[0m \u001b[39mfinally\u001b[39;00m:\n\u001b[1;32m    155\u001b[0m   \u001b[39mdel\u001b[39;00m filtered_tb\n",
      "File \u001b[0;32m~/env_4/lib/python3.9/site-packages/tensorflow/python/eager/execute.py:60\u001b[0m, in \u001b[0;36mquick_execute\u001b[0;34m(op_name, num_outputs, inputs, attrs, ctx, name)\u001b[0m\n\u001b[1;32m     53\u001b[0m   \u001b[39m# Convert any objects of type core_types.Tensor to Tensor.\u001b[39;00m\n\u001b[1;32m     54\u001b[0m   inputs \u001b[39m=\u001b[39m [\n\u001b[1;32m     55\u001b[0m       tensor_conversion_registry\u001b[39m.\u001b[39mconvert(t)\n\u001b[1;32m     56\u001b[0m       \u001b[39mif\u001b[39;00m \u001b[39misinstance\u001b[39m(t, core_types\u001b[39m.\u001b[39mTensor)\n\u001b[1;32m     57\u001b[0m       \u001b[39melse\u001b[39;00m t\n\u001b[1;32m     58\u001b[0m       \u001b[39mfor\u001b[39;00m t \u001b[39min\u001b[39;00m inputs\n\u001b[1;32m     59\u001b[0m   ]\n\u001b[0;32m---> 60\u001b[0m   tensors \u001b[39m=\u001b[39m pywrap_tfe\u001b[39m.\u001b[39mTFE_Py_Execute(ctx\u001b[39m.\u001b[39m_handle, device_name, op_name,\n\u001b[1;32m     61\u001b[0m                                       inputs, attrs, num_outputs)\n\u001b[1;32m     62\u001b[0m \u001b[39mexcept\u001b[39;00m core\u001b[39m.\u001b[39m_NotOkStatusException \u001b[39mas\u001b[39;00m e:\n\u001b[1;32m     63\u001b[0m   \u001b[39mif\u001b[39;00m name \u001b[39mis\u001b[39;00m \u001b[39mnot\u001b[39;00m \u001b[39mNone\u001b[39;00m:\n",
      "\u001b[0;31mInvalidArgumentError\u001b[0m: {{function_node __wrapped__ExtractImagePatches_device_/job:localhost/replica:0/task:0/device:CPU:0}} input must be 4-dimensional[] [Op:ExtractImagePatches]"
     ]
    }
   ],
   "source": [
    "bands = [1]\n",
    "patch_size = 128\n",
    "import autoencoder\n",
    "import importlib\n",
    "importlib.reload(autoencoder)\n",
    "from autoencoder import * \n",
    "autoencoder = SimpleAutoencoder(len(bands), patch_size, patch_size)\n",
    "all_patches = []\n",
    "i=0\n",
    "tot = len(x)\n",
    "for (image, mask) in zip(x, masks):\n",
    "    print(\"%s/%s\" %(i, tot))\n",
    "    patches, idx, n_patches = autoencoder.extract_patches(image, mask, mask_threshold=0.95)  # Assuming this function extracts and reshapes patches for a single image\n",
    "    all_patches.append(patches)\n",
    "    i+=1\n",
    "\n",
    "patches = np.concatenate(all_patches, axis=0)"
   ]
  },
  {
   "cell_type": "code",
   "execution_count": 4,
   "metadata": {},
   "outputs": [
    {
     "data": {
      "text/plain": [
       "147641"
      ]
     },
     "execution_count": 4,
     "metadata": {},
     "output_type": "execute_result"
    }
   ],
   "source": [
    "len(patches)"
   ]
  },
  {
   "cell_type": "code",
   "execution_count": 5,
   "metadata": {},
   "outputs": [],
   "source": [
    "# TRAIN TEST SPLIT\n",
    "patches, val_data = train_test_split(patches, test_size=0.15, random_state=42, shuffle=True)"
   ]
  },
  {
   "cell_type": "code",
   "execution_count": 6,
   "metadata": {},
   "outputs": [
    {
     "name": "stdout",
     "output_type": "stream",
     "text": [
      "dnb_l95_z50_ps128_(29)_cao_months_202012-202111\n"
     ]
    }
   ],
   "source": [
    "###  NORMALIZE PATCHES \n",
    "model_run_name = \"dnb_l95_z50_ps128_(29)_%s-%s\" %(\"cao_months_202012\", \"202111\")\n",
    "print(model_run_name)\n",
    "max_val = np.max(patches)\n",
    "patches = patches / max_val\n",
    "val_data = val_data / max_val"
   ]
  },
  {
   "cell_type": "code",
   "execution_count": 9,
   "metadata": {},
   "outputs": [
    {
     "name": "stdout",
     "output_type": "stream",
     "text": [
      "0\n",
      "50000\n",
      "100000\n"
     ]
    }
   ],
   "source": [
    "patches_per_file = 50000 \n",
    "\n",
    "for i in range(0, len(patches), patches_per_file):\n",
    "    print(i)\n",
    "    chunk = patches[i: i+patches_per_file]\n",
    "    write_tfrecord(f'/scratch/fslippe/modis/MOD02/training_data/tf_data/normalized_trainingpatches_{model_run_name}_{i//patches_per_file}.tfrecord', chunk)\n",
    "\n",
    "np.save(\"/uio/hume/student-u37/fslippe/data/models/max_vals_%s.npy\" %(model_run_name), max_val)\n",
    "np.save(\"/scratch/fslippe/modis/MOD02/training_data/tf_data/normalized_valpatches_%s\" %(model_run_name), val_data)"
   ]
  }
 ],
 "metadata": {
  "kernelspec": {
   "display_name": "base",
   "language": "python",
   "name": "python3"
  },
  "language_info": {
   "codemirror_mode": {
    "name": "ipython",
    "version": 3
   },
   "file_extension": ".py",
   "mimetype": "text/x-python",
   "name": "python",
   "nbconvert_exporter": "python",
   "pygments_lexer": "ipython3",
   "version": "3.9.16"
  },
  "orig_nbformat": 4
 },
 "nbformat": 4,
 "nbformat_minor": 2
}
