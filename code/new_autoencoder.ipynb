{
 "cells": [
  {
   "cell_type": "code",
   "execution_count": 1,
   "metadata": {},
   "outputs": [
    {
     "name": "stdout",
     "output_type": "stream",
     "text": [
      "total cores: 256\n"
     ]
    }
   ],
   "source": [
    "import os\n",
    "from keras.layers import Input, Dense, Flatten, Reshape\n",
    "from sklearn.feature_extraction import image as sk_image\n",
    "from concurrent.futures import ProcessPoolExecutor\n",
    "from keras.models import Model\n",
    "import xarray as xr\n",
    "import pandas as pd\n",
    "import numpy as np\n",
    "import matplotlib.pyplot as plt\n",
    "import cartopy.crs as ccrs\n",
    "from sklearn.cluster import AgglomerativeClustering\n",
    "from scipy.signal import convolve2d\n",
    "from sklearn.cluster import KMeans\n",
    "import numpy as np\n",
    "import tensorflow as tf\n",
    "from tensorflow import keras\n",
    "from sklearn.cluster import KMeans\n",
    "import matplotlib.pyplot as plt\n",
    "from sklearn.cluster import DBSCAN\n",
    "from pyhdf.SD import SD, SDC\n",
    "import matplotlib as mpl\n",
    "#tf.config.threading.set_inter_op_parallelism_threads(1)\n",
    "from extract_training_data import *\n",
    "from sklearn.feature_extraction.image import extract_patches_2d, reconstruct_from_patches_2d\n",
    "from pyhdf.error import HDF4Error\n",
    "from functions import *\n",
    "from tensorflow.keras.mixed_precision import experimental as mixed_precision\n",
    "from sklearn.model_selection import train_test_split\n",
    "\n",
    "import random\n"
   ]
  },
  {
   "cell_type": "code",
   "execution_count": 2,
   "metadata": {},
   "outputs": [
    {
     "name": "stdout",
     "output_type": "stream",
     "text": [
      "1 Physical GPUs, 1 Logical GPUs\n"
     ]
    },
    {
     "name": "stderr",
     "output_type": "stream",
     "text": [
      "2023-09-28 12:15:43.858833: I tensorflow/core/common_runtime/gpu/gpu_device.cc:1525] Created device /job:localhost/replica:0/task:0/device:GPU:0 with 21336 MB memory:  -> device: 0, name: Quadro RTX 6000, pci bus id: 0000:25:00.0, compute capability: 7.5\n"
     ]
    }
   ],
   "source": [
    "gpus = tf.config.experimental.list_physical_devices('GPU')\n",
    "if gpus:\n",
    "    try:\n",
    "        # Currently, memory growth needs to be the same across GPUs\n",
    "        for gpu in gpus:\n",
    "            tf.config.experimental.set_memory_growth(gpu, True)\n",
    "        logical_gpus = tf.config.experimental.list_logical_devices('GPU')\n",
    "        print(len(gpus), \"Physical GPUs,\", len(logical_gpus), \"Logical GPUs\")\n",
    "    except RuntimeError as e:\n",
    "        # Memory growth must be set before GPUs have been initialized\n",
    "        print(e)\n",
    "\n",
    "# policy = mixed_precision.Policy('mixed_float16')\n",
    "# mixed_precision.set_policy(policy)\n",
    "\n",
    "#bands = [6, 7, 20, 28, 28, 31]\n"
   ]
  },
  {
   "cell_type": "code",
   "execution_count": 3,
   "metadata": {},
   "outputs": [],
   "source": [
    "#bands = [6,20,29]\n",
    "bands = [6,7,20,28,29,31]\n"
   ]
  },
  {
   "cell_type": "code",
   "execution_count": 4,
   "metadata": {},
   "outputs": [
    {
     "name": "stdout",
     "output_type": "stream",
     "text": [
      "total cores: 256\n",
      "/scratch/fslippe/modis/MOD02/daytime_1km/MOD021KM.A2020336.0800.061.2020337214455.hdf\n",
      "0 Latitude\n",
      "1 Longitude\n",
      "2 EV_1KM_RefSB\n",
      "3 EV_1KM_RefSB_Uncert_Indexes\n",
      "4 EV_1KM_Emissive\n",
      "5 EV_1KM_Emissive_Uncert_Indexes\n",
      "6 EV_250_Aggr1km_RefSB\n",
      "7 EV_250_Aggr1km_RefSB_Uncert_Indexes\n",
      "8 EV_250_Aggr1km_RefSB_Samples_Used\n",
      "9 EV_500_Aggr1km_RefSB\n",
      "10 EV_500_Aggr1km_RefSB_Uncert_Indexes\n",
      "11 EV_500_Aggr1km_RefSB_Samples_Used\n",
      "12 Height\n",
      "13 SensorZenith\n",
      "14 SensorAzimuth\n",
      "15 Range\n",
      "16 SolarZenith\n",
      "17 SolarAzimuth\n",
      "18 gflags\n",
      "19 EV_Band26\n",
      "20 EV_Band26_Uncert_Indexes\n",
      "21 Band_250M\n",
      "22 Band_500M\n",
      "23 Band_1KM_RefSB\n",
      "24 Band_1KM_Emissive\n",
      "25 Noise in Thermal Detectors\n",
      "26 Change in relative responses of thermal detectors\n",
      "27 DC Restore Change for Thermal Bands\n",
      "28 DC Restore Change for Reflective 250m Bands\n",
      "29 DC Restore Change for Reflective 500m Bands\n",
      "30 DC Restore Change for Reflective 1km Bands\n"
     ]
    },
    {
     "name": "stderr",
     "output_type": "stream",
     "text": [
      "  0%|          | 0/110 [00:00<?, ?it/s]/opt/software/easybuild/software/SciPy-bundle/2021.10-foss-2021b/lib/python3.9/site-packages/numpy/core/fromnumeric.py:3440: RuntimeWarning: Mean of empty slice.\n",
      "  return _methods._mean(a, axis=axis, dtype=dtype,\n",
      "/opt/software/easybuild/software/SciPy-bundle/2021.10-foss-2021b/lib/python3.9/site-packages/numpy/core/_methods.py:189: RuntimeWarning: invalid value encountered in true_divide\n",
      "  ret = ret.dtype.type(ret / rcount)\n",
      "100%|██████████| 110/110 [01:22<00:00,  1.34it/s]\n"
     ]
    },
    {
     "data": {
      "text/plain": [
       "518"
      ]
     },
     "execution_count": 4,
     "metadata": {},
     "output_type": "execute_result"
    }
   ],
   "source": [
    "### PROCESSING .hdf files\n",
    "import extract_training_data\n",
    "import importlib\n",
    "importlib.reload(extract_training_data)\n",
    "from extract_training_data import *\n",
    "#folder = \"/uio/hume/student-u37/fslippe/data/training_data/MOD02QKM/normalized_data/\"\n",
    "folder = \"/scratch/fslippe/modis/MOD02/daytime_1km/\"\n",
    "\n",
    "#folder = \"/uio/hume/student-u37/fslippe/data/nird_mount/MOD02QKM_202012-202104/normalized_data/\"\n",
    "\n",
    "start = \"20201201\"\n",
    "end = \"20210416\"\n",
    "#end = \"20201230\"\n",
    "\n",
    "#dates = [\"20210303\"]#, \"20210322\"]#, \"20210323\"]\n",
    "#dates_converted = []\n",
    "#for date in dates:\n",
    "#    dates_converted.append(convert_to_day_of_year(date))\n",
    "#bands = [6,20,29]\n",
    "\n",
    "start_converted = convert_to_day_of_year(start)\n",
    "end_converted = convert_to_day_of_year(end)\n",
    "#print(start_converted)\n",
    "#print(end_converted)\n",
    "#x = [xi for xi in  extract_250m_data(folder, bands=[1], date_list=dates_converted) if xi.shape[0] > 256]\n",
    "x = [xi for xi in  extract_1km_data(folder, bands=bands, start_date=start_converted, end_date=end_converted) if xi.shape[0] > 64]\n",
    "\n",
    "len(x)\n",
    "#x = extract_250m_data(folder, bands=[1], start_date=start_converted, end_date=end_converted)\n"
   ]
  },
  {
   "cell_type": "code",
   "execution_count": 5,
   "metadata": {},
   "outputs": [
    {
     "name": "stdout",
     "output_type": "stream",
     "text": [
      "Input should already be normalized. Call self.normalize to normalize list of data\n"
     ]
    }
   ],
   "source": [
    "import autoencoder\n",
    "import importlib\n",
    "importlib.reload(autoencoder)\n",
    "from autoencoder import SobelFilterLayer, SimpleAutoencoder\n",
    "patch_size = 64\n",
    "\n",
    "autoencoder = SimpleAutoencoder(len(bands), patch_size, patch_size)\n",
    "#x = autoencoder.normalize(x)\n",
    "#optimizer = mixed_precision.LossScaleOptimizer(tf.keras.optimizers.Adam(learning_rate=1e-4), loss_scale='dynamic')\n",
    "optimizer = tf.keras.optimizers.Adam(learning_rate=1e-4)\n",
    "\n",
    "model = autoencoder.model(optimizer=optimizer, loss=\"combined\")\n"
   ]
  },
  {
   "cell_type": "code",
   "execution_count": 6,
   "metadata": {},
   "outputs": [],
   "source": [
    "patches = np.concatenate([autoencoder.extract_patches(n_d) for n_d in x], axis=0)\n"
   ]
  },
  {
   "cell_type": "code",
   "execution_count": 7,
   "metadata": {},
   "outputs": [
    {
     "name": "stdout",
     "output_type": "stream",
     "text": [
      "finished split\n"
     ]
    }
   ],
   "source": [
    "# Splitting the data\n",
    "patches, val_data = train_test_split(patches, test_size=0.1, random_state=42)\n",
    "print(\"finished split\")"
   ]
  },
  {
   "cell_type": "code",
   "execution_count": 8,
   "metadata": {},
   "outputs": [
    {
     "name": "stdout",
     "output_type": "stream",
     "text": [
      "(300169, 64, 64, 6)\n",
      "(33353, 64, 64, 6)\n"
     ]
    }
   ],
   "source": [
    "print(patches.shape)\n",
    "print(val_data.shape)\n"
   ]
  },
  {
   "cell_type": "code",
   "execution_count": 9,
   "metadata": {},
   "outputs": [
    {
     "name": "stdout",
     "output_type": "stream",
     "text": [
      "[[[[54.087894  17.07861    1.8587686  4.011136  15.703261  12.105271 ]]]]\n"
     ]
    }
   ],
   "source": [
    "min_val = 0\n",
    "max_val = np.max(patches, axis=(0,1,2), keepdims=True)\n",
    "print(max_val)\n",
    "patches = (patches - min_val) / (max_val - min_val)\n",
    "val_data = (val_data - min_val) / (max_val - min_val)\n"
   ]
  },
  {
   "cell_type": "code",
   "execution_count": 11,
   "metadata": {},
   "outputs": [],
   "source": [
    "#np.save(\"/scratch/fslippe/modis/MOD02/test_data/normalized_testpatches_band(1)_winter20_21.npy\", val_data)\n",
    "#np.save(\"/scratch/fslippe/modis/MOD02/training_data/normalized_trainingpatches_band(1)_winter20_21.npy\", patches)\n",
    "# val_data = np.load(\"/uio/hume/student-u37/fslippe/data/models/winter_2020_21_val_patches.npy\")\n",
    "# patches = np.load(\"/uio/hume/student-u37/fslippe/data/models/winter_2020_21_train_patches.npy\")[:int(170e3)]\n"
   ]
  },
  {
   "cell_type": "code",
   "execution_count": 10,
   "metadata": {},
   "outputs": [
    {
     "name": "stdout",
     "output_type": "stream",
     "text": [
      "float32\n"
     ]
    }
   ],
   "source": [
    "### SAVE TRAIN TEST PATCHES \n",
    "# patches = np.load(\"/scratch/fslippe/modis/MOD02/training_data/normalized_trainingpatches_bands6,20,29_winter20_21.npy\")[::4]\n",
    "# val_data  = np.load(\"/scratch/fslippe/modis/MOD02/test_data/normalized_testpatches_bands6,20,29_winter20_21.npy\")[::4]\n",
    "# patches.shape\n",
    "\n",
    "# print(np.mean(patches, axis=(0,1,2)))\n"
   ]
  },
  {
   "cell_type": "code",
   "execution_count": 13,
   "metadata": {},
   "outputs": [
    {
     "name": "stderr",
     "output_type": "stream",
     "text": [
      "2023-09-28 12:27:04.130476: W tensorflow/core/framework/cpu_allocator_impl.cc:82] Allocation of 9830400000 exceeds 10% of free system memory.\n",
      "2023-09-28 12:27:20.659459: W tensorflow/core/common_runtime/bfc_allocator.cc:462] Allocator (GPU_0_bfc) ran out of memory trying to allocate 9.16GiB (rounded to 9830400000)requested by op _EagerConst\n",
      "If the cause is memory fragmentation maybe the environment variable 'TF_GPU_ALLOCATOR=cuda_malloc_async' will improve the situation. \n",
      "Current allocation summary follows.\n",
      "Current allocation summary follows.\n",
      "2023-09-28 12:27:20.659525: I tensorflow/core/common_runtime/bfc_allocator.cc:1010] BFCAllocator dump for GPU_0_bfc\n",
      "2023-09-28 12:27:20.659539: I tensorflow/core/common_runtime/bfc_allocator.cc:1017] Bin (256): \tTotal Chunks: 47, Chunks in use: 47. 11.8KiB allocated for chunks. 11.8KiB in use in bin. 3.6KiB client-requested in use in bin.\n",
      "2023-09-28 12:27:20.659547: I tensorflow/core/common_runtime/bfc_allocator.cc:1017] Bin (512): \tTotal Chunks: 8, Chunks in use: 8. 4.2KiB allocated for chunks. 4.2KiB in use in bin. 4.0KiB client-requested in use in bin.\n",
      "2023-09-28 12:27:20.659556: I tensorflow/core/common_runtime/bfc_allocator.cc:1017] Bin (1024): \tTotal Chunks: 1, Chunks in use: 1. 1.2KiB allocated for chunks. 1.2KiB in use in bin. 1.0KiB client-requested in use in bin.\n",
      "2023-09-28 12:27:20.659565: I tensorflow/core/common_runtime/bfc_allocator.cc:1017] Bin (2048): \tTotal Chunks: 3, Chunks in use: 3. 10.5KiB allocated for chunks. 10.5KiB in use in bin. 10.1KiB client-requested in use in bin.\n",
      "2023-09-28 12:27:20.659573: I tensorflow/core/common_runtime/bfc_allocator.cc:1017] Bin (4096): \tTotal Chunks: 1, Chunks in use: 0. 6.2KiB allocated for chunks. 0B in use in bin. 0B client-requested in use in bin.\n",
      "2023-09-28 12:27:20.659581: I tensorflow/core/common_runtime/bfc_allocator.cc:1017] Bin (8192): \tTotal Chunks: 2, Chunks in use: 1. 23.5KiB allocated for chunks. 9.0KiB in use in bin. 9.0KiB client-requested in use in bin.\n",
      "2023-09-28 12:27:20.659590: I tensorflow/core/common_runtime/bfc_allocator.cc:1017] Bin (16384): \tTotal Chunks: 4, Chunks in use: 3. 72.0KiB allocated for chunks. 54.0KiB in use in bin. 54.0KiB client-requested in use in bin.\n",
      "2023-09-28 12:27:20.659598: I tensorflow/core/common_runtime/bfc_allocator.cc:1017] Bin (32768): \tTotal Chunks: 1, Chunks in use: 1. 36.0KiB allocated for chunks. 36.0KiB in use in bin. 36.0KiB client-requested in use in bin.\n",
      "2023-09-28 12:27:20.659607: I tensorflow/core/common_runtime/bfc_allocator.cc:1017] Bin (65536): \tTotal Chunks: 5, Chunks in use: 3. 360.0KiB allocated for chunks. 216.0KiB in use in bin. 216.0KiB client-requested in use in bin.\n",
      "2023-09-28 12:27:20.659615: I tensorflow/core/common_runtime/bfc_allocator.cc:1017] Bin (131072): \tTotal Chunks: 1, Chunks in use: 1. 144.0KiB allocated for chunks. 144.0KiB in use in bin. 144.0KiB client-requested in use in bin.\n",
      "2023-09-28 12:27:20.659624: I tensorflow/core/common_runtime/bfc_allocator.cc:1017] Bin (262144): \tTotal Chunks: 5, Chunks in use: 3. 1.41MiB allocated for chunks. 864.0KiB in use in bin. 864.0KiB client-requested in use in bin.\n",
      "2023-09-28 12:27:20.659632: I tensorflow/core/common_runtime/bfc_allocator.cc:1017] Bin (524288): \tTotal Chunks: 4, Chunks in use: 2. 2.19MiB allocated for chunks. 1.12MiB in use in bin. 1.12MiB client-requested in use in bin.\n",
      "2023-09-28 12:27:20.659639: I tensorflow/core/common_runtime/bfc_allocator.cc:1017] Bin (1048576): \tTotal Chunks: 1, Chunks in use: 0. 1.75MiB allocated for chunks. 0B in use in bin. 0B client-requested in use in bin.\n",
      "2023-09-28 12:27:20.659646: I tensorflow/core/common_runtime/bfc_allocator.cc:1017] Bin (2097152): \tTotal Chunks: 0, Chunks in use: 0. 0B allocated for chunks. 0B in use in bin. 0B client-requested in use in bin.\n",
      "2023-09-28 12:27:20.659654: I tensorflow/core/common_runtime/bfc_allocator.cc:1017] Bin (4194304): \tTotal Chunks: 0, Chunks in use: 0. 0B allocated for chunks. 0B in use in bin. 0B client-requested in use in bin.\n",
      "2023-09-28 12:27:20.659662: I tensorflow/core/common_runtime/bfc_allocator.cc:1017] Bin (8388608): \tTotal Chunks: 0, Chunks in use: 0. 0B allocated for chunks. 0B in use in bin. 0B client-requested in use in bin.\n",
      "2023-09-28 12:27:20.659669: I tensorflow/core/common_runtime/bfc_allocator.cc:1017] Bin (16777216): \tTotal Chunks: 0, Chunks in use: 0. 0B allocated for chunks. 0B in use in bin. 0B client-requested in use in bin.\n",
      "2023-09-28 12:27:20.659684: I tensorflow/core/common_runtime/bfc_allocator.cc:1017] Bin (33554432): \tTotal Chunks: 0, Chunks in use: 0. 0B allocated for chunks. 0B in use in bin. 0B client-requested in use in bin.\n",
      "2023-09-28 12:27:20.659691: I tensorflow/core/common_runtime/bfc_allocator.cc:1017] Bin (67108864): \tTotal Chunks: 0, Chunks in use: 0. 0B allocated for chunks. 0B in use in bin. 0B client-requested in use in bin.\n",
      "2023-09-28 12:27:20.659699: I tensorflow/core/common_runtime/bfc_allocator.cc:1017] Bin (134217728): \tTotal Chunks: 0, Chunks in use: 0. 0B allocated for chunks. 0B in use in bin. 0B client-requested in use in bin.\n",
      "2023-09-28 12:27:20.659708: I tensorflow/core/common_runtime/bfc_allocator.cc:1017] Bin (268435456): \tTotal Chunks: 2, Chunks in use: 1. 16.00GiB allocated for chunks. 9.16GiB in use in bin. 9.16GiB client-requested in use in bin.\n",
      "2023-09-28 12:27:20.659716: I tensorflow/core/common_runtime/bfc_allocator.cc:1033] Bin for 9.16GiB was 256.00MiB, Chunk State: \n",
      "2023-09-28 12:27:20.659767: I tensorflow/core/common_runtime/bfc_allocator.cc:1039]   Size: 6.84GiB | Requested Size: 0B | in_use: 0 | bin_num: 20, prev:   Size: 9.16GiB | Requested Size: 9.16GiB | in_use: 1 | bin_num: -1\n",
      "2023-09-28 12:27:20.659773: I tensorflow/core/common_runtime/bfc_allocator.cc:1046] Next region of size 17179869184\n",
      "2023-09-28 12:27:20.659782: I tensorflow/core/common_runtime/bfc_allocator.cc:1066] InUse at 7fba58000000 of size 9830400000 next 84\n",
      "2023-09-28 12:27:20.659789: I tensorflow/core/common_runtime/bfc_allocator.cc:1066] Free  at 7fbca1f00000 of size 7349469184 next 18446744073709551615\n",
      "2023-09-28 12:27:20.659795: I tensorflow/core/common_runtime/bfc_allocator.cc:1046] Next region of size 2097152\n",
      "2023-09-28 12:27:20.659802: I tensorflow/core/common_runtime/bfc_allocator.cc:1066] InUse at 7fd023200000 of size 1280 next 1\n",
      "2023-09-28 12:27:20.659809: I tensorflow/core/common_runtime/bfc_allocator.cc:1066] InUse at 7fd023200500 of size 256 next 2\n",
      "2023-09-28 12:27:20.659815: I tensorflow/core/common_runtime/bfc_allocator.cc:1066] InUse at 7fd023200600 of size 256 next 3\n",
      "2023-09-28 12:27:20.659822: I tensorflow/core/common_runtime/bfc_allocator.cc:1066] InUse at 7fd023200700 of size 256 next 4\n",
      "2023-09-28 12:27:20.659828: I tensorflow/core/common_runtime/bfc_allocator.cc:1066] InUse at 7fd023200800 of size 256 next 5\n",
      "2023-09-28 12:27:20.659835: I tensorflow/core/common_runtime/bfc_allocator.cc:1066] InUse at 7fd023200900 of size 256 next 8\n",
      "2023-09-28 12:27:20.659840: I tensorflow/core/common_runtime/bfc_allocator.cc:1066] InUse at 7fd023200a00 of size 256 next 9\n",
      "2023-09-28 12:27:20.659846: I tensorflow/core/common_runtime/bfc_allocator.cc:1066] InUse at 7fd023200b00 of size 256 next 10\n",
      "2023-09-28 12:27:20.659853: I tensorflow/core/common_runtime/bfc_allocator.cc:1066] InUse at 7fd023200c00 of size 256 next 34\n",
      "2023-09-28 12:27:20.659858: I tensorflow/core/common_runtime/bfc_allocator.cc:1066] InUse at 7fd023200d00 of size 256 next 35\n",
      "2023-09-28 12:27:20.659864: I tensorflow/core/common_runtime/bfc_allocator.cc:1066] InUse at 7fd023200e00 of size 256 next 36\n",
      "2023-09-28 12:27:20.659870: I tensorflow/core/common_runtime/bfc_allocator.cc:1066] InUse at 7fd023200f00 of size 256 next 37\n",
      "2023-09-28 12:27:20.659876: I tensorflow/core/common_runtime/bfc_allocator.cc:1066] InUse at 7fd023201000 of size 256 next 38\n",
      "2023-09-28 12:27:20.659883: I tensorflow/core/common_runtime/bfc_allocator.cc:1066] InUse at 7fd023201100 of size 256 next 41\n",
      "2023-09-28 12:27:20.659890: I tensorflow/core/common_runtime/bfc_allocator.cc:1066] InUse at 7fd023201200 of size 256 next 42\n",
      "2023-09-28 12:27:20.659896: I tensorflow/core/common_runtime/bfc_allocator.cc:1066] InUse at 7fd023201300 of size 256 next 45\n",
      "2023-09-28 12:27:20.659903: I tensorflow/core/common_runtime/bfc_allocator.cc:1066] InUse at 7fd023201400 of size 256 next 46\n",
      "2023-09-28 12:27:20.659911: I tensorflow/core/common_runtime/bfc_allocator.cc:1066] InUse at 7fd023201500 of size 256 next 48\n",
      "2023-09-28 12:27:20.659922: I tensorflow/core/common_runtime/bfc_allocator.cc:1066] InUse at 7fd023201600 of size 256 next 49\n",
      "2023-09-28 12:27:20.659928: I tensorflow/core/common_runtime/bfc_allocator.cc:1066] InUse at 7fd023201700 of size 256 next 50\n",
      "2023-09-28 12:27:20.659934: I tensorflow/core/common_runtime/bfc_allocator.cc:1066] InUse at 7fd023201800 of size 256 next 51\n",
      "2023-09-28 12:27:20.659940: I tensorflow/core/common_runtime/bfc_allocator.cc:1066] InUse at 7fd023201900 of size 256 next 52\n",
      "2023-09-28 12:27:20.659948: I tensorflow/core/common_runtime/bfc_allocator.cc:1066] InUse at 7fd023201a00 of size 256 next 53\n",
      "2023-09-28 12:27:20.659954: I tensorflow/core/common_runtime/bfc_allocator.cc:1066] InUse at 7fd023201b00 of size 512 next 54\n",
      "2023-09-28 12:27:20.659959: I tensorflow/core/common_runtime/bfc_allocator.cc:1066] InUse at 7fd023201d00 of size 256 next 57\n",
      "2023-09-28 12:27:20.659965: I tensorflow/core/common_runtime/bfc_allocator.cc:1066] InUse at 7fd023201e00 of size 256 next 58\n",
      "2023-09-28 12:27:20.659971: I tensorflow/core/common_runtime/bfc_allocator.cc:1066] InUse at 7fd023201f00 of size 512 next 62\n",
      "2023-09-28 12:27:20.659977: I tensorflow/core/common_runtime/bfc_allocator.cc:1066] InUse at 7fd023202100 of size 768 next 6\n",
      "2023-09-28 12:27:20.659984: I tensorflow/core/common_runtime/bfc_allocator.cc:1066] InUse at 7fd023202400 of size 3584 next 7\n",
      "2023-09-28 12:27:20.659990: I tensorflow/core/common_runtime/bfc_allocator.cc:1066] InUse at 7fd023203200 of size 256 next 13\n",
      "2023-09-28 12:27:20.659997: I tensorflow/core/common_runtime/bfc_allocator.cc:1066] InUse at 7fd023203300 of size 256 next 16\n",
      "2023-09-28 12:27:20.660004: I tensorflow/core/common_runtime/bfc_allocator.cc:1066] InUse at 7fd023203400 of size 256 next 17\n",
      "2023-09-28 12:27:20.660010: I tensorflow/core/common_runtime/bfc_allocator.cc:1066] InUse at 7fd023203500 of size 256 next 18\n",
      "2023-09-28 12:27:20.660016: I tensorflow/core/common_runtime/bfc_allocator.cc:1066] InUse at 7fd023203600 of size 256 next 19\n",
      "2023-09-28 12:27:20.660022: I tensorflow/core/common_runtime/bfc_allocator.cc:1066] InUse at 7fd023203700 of size 256 next 20\n",
      "2023-09-28 12:27:20.660027: I tensorflow/core/common_runtime/bfc_allocator.cc:1066] InUse at 7fd023203800 of size 256 next 21\n",
      "2023-09-28 12:27:20.660033: I tensorflow/core/common_runtime/bfc_allocator.cc:1066] InUse at 7fd023203900 of size 256 next 22\n",
      "2023-09-28 12:27:20.660039: I tensorflow/core/common_runtime/bfc_allocator.cc:1066] InUse at 7fd023203a00 of size 256 next 23\n",
      "2023-09-28 12:27:20.660045: I tensorflow/core/common_runtime/bfc_allocator.cc:1066] InUse at 7fd023203b00 of size 256 next 26\n",
      "2023-09-28 12:27:20.660050: I tensorflow/core/common_runtime/bfc_allocator.cc:1066] InUse at 7fd023203c00 of size 256 next 27\n",
      "2023-09-28 12:27:20.660056: I tensorflow/core/common_runtime/bfc_allocator.cc:1066] InUse at 7fd023203d00 of size 256 next 30\n",
      "2023-09-28 12:27:20.660062: I tensorflow/core/common_runtime/bfc_allocator.cc:1066] InUse at 7fd023203e00 of size 256 next 31\n",
      "2023-09-28 12:27:20.660068: I tensorflow/core/common_runtime/bfc_allocator.cc:1066] InUse at 7fd023203f00 of size 256 next 33\n",
      "2023-09-28 12:27:20.660074: I tensorflow/core/common_runtime/bfc_allocator.cc:1066] InUse at 7fd023204000 of size 256 next 14\n",
      "2023-09-28 12:27:20.660079: I tensorflow/core/common_runtime/bfc_allocator.cc:1066] InUse at 7fd023204100 of size 3584 next 15\n",
      "2023-09-28 12:27:20.660085: I tensorflow/core/common_runtime/bfc_allocator.cc:1066] InUse at 7fd023204f00 of size 512 next 63\n",
      "2023-09-28 12:27:20.660091: I tensorflow/core/common_runtime/bfc_allocator.cc:1066] InUse at 7fd023205100 of size 512 next 65\n",
      "2023-09-28 12:27:20.660097: I tensorflow/core/common_runtime/bfc_allocator.cc:1066] InUse at 7fd023205300 of size 512 next 66\n",
      "2023-09-28 12:27:20.660103: I tensorflow/core/common_runtime/bfc_allocator.cc:1066] InUse at 7fd023205500 of size 512 next 67\n",
      "2023-09-28 12:27:20.660109: I tensorflow/core/common_runtime/bfc_allocator.cc:1066] InUse at 7fd023205700 of size 256 next 68\n",
      "2023-09-28 12:27:20.660116: I tensorflow/core/common_runtime/bfc_allocator.cc:1066] InUse at 7fd023205800 of size 512 next 71\n",
      "2023-09-28 12:27:20.660121: I tensorflow/core/common_runtime/bfc_allocator.cc:1066] InUse at 7fd023205a00 of size 256 next 73\n",
      "2023-09-28 12:27:20.660127: I tensorflow/core/common_runtime/bfc_allocator.cc:1066] InUse at 7fd023205b00 of size 256 next 74\n",
      "2023-09-28 12:27:20.660133: I tensorflow/core/common_runtime/bfc_allocator.cc:1066] InUse at 7fd023205c00 of size 256 next 76\n",
      "2023-09-28 12:27:20.660139: I tensorflow/core/common_runtime/bfc_allocator.cc:1066] InUse at 7fd023205d00 of size 256 next 78\n",
      "2023-09-28 12:27:20.660145: I tensorflow/core/common_runtime/bfc_allocator.cc:1066] InUse at 7fd023205e00 of size 256 next 79\n",
      "2023-09-28 12:27:20.660151: I tensorflow/core/common_runtime/bfc_allocator.cc:1066] InUse at 7fd023205f00 of size 256 next 81\n",
      "2023-09-28 12:27:20.660156: I tensorflow/core/common_runtime/bfc_allocator.cc:1066] InUse at 7fd023206000 of size 256 next 82\n",
      "2023-09-28 12:27:20.660162: I tensorflow/core/common_runtime/bfc_allocator.cc:1066] Free  at 7fd023206100 of size 6400 next 12\n",
      "2023-09-28 12:27:20.660169: I tensorflow/core/common_runtime/bfc_allocator.cc:1066] InUse at 7fd023207a00 of size 9216 next 11\n",
      "2023-09-28 12:27:20.660175: I tensorflow/core/common_runtime/bfc_allocator.cc:1066] InUse at 7fd023209e00 of size 3584 next 80\n",
      "2023-09-28 12:27:20.660181: I tensorflow/core/common_runtime/bfc_allocator.cc:1066] Free  at 7fd02320ac00 of size 14848 next 77\n",
      "2023-09-28 12:27:20.660187: I tensorflow/core/common_runtime/bfc_allocator.cc:1066] InUse at 7fd02320e600 of size 18432 next 25\n",
      "2023-09-28 12:27:20.660196: I tensorflow/core/common_runtime/bfc_allocator.cc:1066] InUse at 7fd023212e00 of size 18432 next 24\n",
      "2023-09-28 12:27:20.660203: I tensorflow/core/common_runtime/bfc_allocator.cc:1066] InUse at 7fd023217600 of size 18432 next 32\n",
      "2023-09-28 12:27:20.660209: I tensorflow/core/common_runtime/bfc_allocator.cc:1066] Free  at 7fd02321be00 of size 18432 next 29\n",
      "2023-09-28 12:27:20.660214: I tensorflow/core/common_runtime/bfc_allocator.cc:1066] InUse at 7fd023220600 of size 36864 next 28\n",
      "2023-09-28 12:27:20.660222: I tensorflow/core/common_runtime/bfc_allocator.cc:1066] Free  at 7fd023229600 of size 73728 next 75\n",
      "2023-09-28 12:27:20.660229: I tensorflow/core/common_runtime/bfc_allocator.cc:1066] InUse at 7fd02323b600 of size 73728 next 40\n",
      "2023-09-28 12:27:20.660236: I tensorflow/core/common_runtime/bfc_allocator.cc:1066] InUse at 7fd02324d600 of size 73728 next 39\n",
      "2023-09-28 12:27:20.660241: I tensorflow/core/common_runtime/bfc_allocator.cc:1066] InUse at 7fd02325f600 of size 73728 next 47\n",
      "2023-09-28 12:27:20.660247: I tensorflow/core/common_runtime/bfc_allocator.cc:1066] Free  at 7fd023271600 of size 73728 next 44\n",
      "2023-09-28 12:27:20.660253: I tensorflow/core/common_runtime/bfc_allocator.cc:1066] InUse at 7fd023283600 of size 147456 next 43\n",
      "2023-09-28 12:27:20.660259: I tensorflow/core/common_runtime/bfc_allocator.cc:1066] Free  at 7fd0232a7600 of size 294912 next 64\n",
      "2023-09-28 12:27:20.660265: I tensorflow/core/common_runtime/bfc_allocator.cc:1066] InUse at 7fd0232ef600 of size 294912 next 56\n",
      "2023-09-28 12:27:20.660271: I tensorflow/core/common_runtime/bfc_allocator.cc:1066] InUse at 7fd023337600 of size 294912 next 55\n",
      "2023-09-28 12:27:20.660278: I tensorflow/core/common_runtime/bfc_allocator.cc:1066] Free  at 7fd02337f600 of size 526848 next 18446744073709551615\n",
      "2023-09-28 12:27:20.660284: I tensorflow/core/common_runtime/bfc_allocator.cc:1046] Next region of size 4194304\n",
      "2023-09-28 12:27:20.660301: I tensorflow/core/common_runtime/bfc_allocator.cc:1066] InUse at 7fd023400000 of size 294912 next 72\n",
      "2023-09-28 12:27:20.660307: I tensorflow/core/common_runtime/bfc_allocator.cc:1066] Free  at 7fd023448000 of size 294912 next 61\n",
      "2023-09-28 12:27:20.660314: I tensorflow/core/common_runtime/bfc_allocator.cc:1066] InUse at 7fd023490000 of size 589824 next 59\n",
      "2023-09-28 12:27:20.660320: I tensorflow/core/common_runtime/bfc_allocator.cc:1066] Free  at 7fd023520000 of size 589824 next 70\n",
      "2023-09-28 12:27:20.660328: I tensorflow/core/common_runtime/bfc_allocator.cc:1066] InUse at 7fd0235b0000 of size 589824 next 69\n",
      "2023-09-28 12:27:20.660334: I tensorflow/core/common_runtime/bfc_allocator.cc:1066] Free  at 7fd023640000 of size 1835008 next 18446744073709551615\n",
      "2023-09-28 12:27:20.660340: I tensorflow/core/common_runtime/bfc_allocator.cc:1071]      Summary of in-use Chunks by size: \n",
      "2023-09-28 12:27:20.660348: I tensorflow/core/common_runtime/bfc_allocator.cc:1074] 47 Chunks of size 256 totalling 11.8KiB\n",
      "2023-09-28 12:27:20.660355: I tensorflow/core/common_runtime/bfc_allocator.cc:1074] 7 Chunks of size 512 totalling 3.5KiB\n",
      "2023-09-28 12:27:20.660361: I tensorflow/core/common_runtime/bfc_allocator.cc:1074] 1 Chunks of size 768 totalling 768B\n",
      "2023-09-28 12:27:20.660368: I tensorflow/core/common_runtime/bfc_allocator.cc:1074] 1 Chunks of size 1280 totalling 1.2KiB\n",
      "2023-09-28 12:27:20.660374: I tensorflow/core/common_runtime/bfc_allocator.cc:1074] 3 Chunks of size 3584 totalling 10.5KiB\n",
      "2023-09-28 12:27:20.660381: I tensorflow/core/common_runtime/bfc_allocator.cc:1074] 1 Chunks of size 9216 totalling 9.0KiB\n",
      "2023-09-28 12:27:20.660387: I tensorflow/core/common_runtime/bfc_allocator.cc:1074] 3 Chunks of size 18432 totalling 54.0KiB\n",
      "2023-09-28 12:27:20.660394: I tensorflow/core/common_runtime/bfc_allocator.cc:1074] 1 Chunks of size 36864 totalling 36.0KiB\n",
      "2023-09-28 12:27:20.660401: I tensorflow/core/common_runtime/bfc_allocator.cc:1074] 3 Chunks of size 73728 totalling 216.0KiB\n",
      "2023-09-28 12:27:20.660410: I tensorflow/core/common_runtime/bfc_allocator.cc:1074] 1 Chunks of size 147456 totalling 144.0KiB\n",
      "2023-09-28 12:27:20.660421: I tensorflow/core/common_runtime/bfc_allocator.cc:1074] 3 Chunks of size 294912 totalling 864.0KiB\n",
      "2023-09-28 12:27:20.660430: I tensorflow/core/common_runtime/bfc_allocator.cc:1074] 2 Chunks of size 589824 totalling 1.12MiB\n",
      "2023-09-28 12:27:20.660438: I tensorflow/core/common_runtime/bfc_allocator.cc:1074] 1 Chunks of size 9830400000 totalling 9.16GiB\n",
      "2023-09-28 12:27:20.660445: I tensorflow/core/common_runtime/bfc_allocator.cc:1078] Sum Total of in-use chunks: 9.16GiB\n",
      "2023-09-28 12:27:20.660451: I tensorflow/core/common_runtime/bfc_allocator.cc:1080] total_region_allocated_bytes_: 17186160640 memory_limit_: 22372548608 available bytes: 5186387968 curr_region_allocation_bytes_: 17179869184\n",
      "2023-09-28 12:27:20.660463: I tensorflow/core/common_runtime/bfc_allocator.cc:1086] Stats: \n",
      "Limit:                     22372548608\n",
      "InUse:                      9832962816\n",
      "MaxInUse:                  14748162816\n",
      "NumAllocs:                         127\n",
      "MaxAllocSize:              14745600000\n",
      "Reserved:                            0\n",
      "PeakReserved:                        0\n",
      "LargestFreeBlock:                    0\n",
      "\n",
      "2023-09-28 12:27:20.660473: W tensorflow/core/common_runtime/bfc_allocator.cc:474] **********************************************************_________________________________________*\n"
     ]
    },
    {
     "ename": "InternalError",
     "evalue": "Failed copying input tensor from /job:localhost/replica:0/task:0/device:CPU:0 to /job:localhost/replica:0/task:0/device:GPU:0 in order to run _EagerConst: Dst tensor is not initialized.",
     "output_type": "error",
     "traceback": [
      "\u001b[0;31m---------------------------------------------------------------------------\u001b[0m",
      "\u001b[0;31mInternalError\u001b[0m                             Traceback (most recent call last)",
      "\u001b[1;32m/uio/hume/student-u37/fslippe/master_project/code/new_autoencoder.ipynb Cell 12\u001b[0m line \u001b[0;36m5\n\u001b[1;32m      <a href='vscode-notebook-cell://ssh-remote%2Bmimi/uio/hume/student-u37/fslippe/master_project/code/new_autoencoder.ipynb#X16sdnNjb2RlLXJlbW90ZQ%3D%3D?line=0'>1</a>\u001b[0m \u001b[39m### STANDARD FIT\u001b[39;00m\n\u001b[1;32m      <a href='vscode-notebook-cell://ssh-remote%2Bmimi/uio/hume/student-u37/fslippe/master_project/code/new_autoencoder.ipynb#X16sdnNjb2RlLXJlbW90ZQ%3D%3D?line=1'>2</a>\u001b[0m gc\u001b[39m.\u001b[39mcollect()\n\u001b[0;32m----> <a href='vscode-notebook-cell://ssh-remote%2Bmimi/uio/hume/student-u37/fslippe/master_project/code/new_autoencoder.ipynb#X16sdnNjb2RlLXJlbW90ZQ%3D%3D?line=4'>5</a>\u001b[0m model\u001b[39m.\u001b[39;49mfit(patches[:\u001b[39m100000\u001b[39;49m], patches[:\u001b[39m100000\u001b[39;49m], epochs\u001b[39m=\u001b[39;49m\u001b[39m200\u001b[39;49m, batch_size\u001b[39m=\u001b[39;49m\u001b[39m32\u001b[39;49m)\n",
      "File \u001b[0;32m/opt/software/easybuild/software/TensorFlow/2.7.1-foss-2021b-CUDA-11.4.1/lib/python3.9/site-packages/keras/utils/traceback_utils.py:67\u001b[0m, in \u001b[0;36mfilter_traceback.<locals>.error_handler\u001b[0;34m(*args, **kwargs)\u001b[0m\n\u001b[1;32m     65\u001b[0m \u001b[39mexcept\u001b[39;00m \u001b[39mException\u001b[39;00m \u001b[39mas\u001b[39;00m e:  \u001b[39m# pylint: disable=broad-except\u001b[39;00m\n\u001b[1;32m     66\u001b[0m   filtered_tb \u001b[39m=\u001b[39m _process_traceback_frames(e\u001b[39m.\u001b[39m__traceback__)\n\u001b[0;32m---> 67\u001b[0m   \u001b[39mraise\u001b[39;00m e\u001b[39m.\u001b[39mwith_traceback(filtered_tb) \u001b[39mfrom\u001b[39;00m \u001b[39mNone\u001b[39;00m\n\u001b[1;32m     68\u001b[0m \u001b[39mfinally\u001b[39;00m:\n\u001b[1;32m     69\u001b[0m   \u001b[39mdel\u001b[39;00m filtered_tb\n",
      "File \u001b[0;32m/opt/software/easybuild/software/TensorFlow/2.7.1-foss-2021b-CUDA-11.4.1/lib/python3.9/site-packages/tensorflow/python/framework/constant_op.py:106\u001b[0m, in \u001b[0;36mconvert_to_eager_tensor\u001b[0;34m(value, ctx, dtype)\u001b[0m\n\u001b[1;32m    104\u001b[0m     dtype \u001b[39m=\u001b[39m dtypes\u001b[39m.\u001b[39mas_dtype(dtype)\u001b[39m.\u001b[39mas_datatype_enum\n\u001b[1;32m    105\u001b[0m ctx\u001b[39m.\u001b[39mensure_initialized()\n\u001b[0;32m--> 106\u001b[0m \u001b[39mreturn\u001b[39;00m ops\u001b[39m.\u001b[39;49mEagerTensor(value, ctx\u001b[39m.\u001b[39;49mdevice_name, dtype)\n",
      "\u001b[0;31mInternalError\u001b[0m: Failed copying input tensor from /job:localhost/replica:0/task:0/device:CPU:0 to /job:localhost/replica:0/task:0/device:GPU:0 in order to run _EagerConst: Dst tensor is not initialized."
     ]
    }
   ],
   "source": [
    "### STANDARD FIT\n",
    "gc.collect()\n",
    "\n",
    "\n",
    "model.fit(patches[:100000], patches[:100000], epochs=200, batch_size=32)\n"
   ]
  },
  {
   "cell_type": "code",
   "execution_count": null,
   "metadata": {},
   "outputs": [],
   "source": [
    "\n",
    "def data_generator():\n",
    "    \"\"\"Generator to yield data from files.\"\"\"\n",
    "    file_list = ['file1.npy', 'file2.npy', ...]\n",
    "    random.shuffle(file_list)  # Shuffle files at the beginning of each epoch\n",
    "    for file_name in file_list:\n",
    "        data = np.load(file_name)\n",
    "        for item in data:\n",
    "            yield item\n",
    "\n",
    "# Define your dataset\n",
    "dataset = tf.data.Dataset.from_generator(data_generator,\n",
    "                                         output_signature=(tf.TensorSpec(shape=(...), dtype=tf.float32)))  # Fill in the shape and type\n",
    "dataset = dataset.shuffle(buffer_size=10000)  # Shuffle data\n",
    "dataset = dataset.batch(32)  # Batch data\n",
    "dataset = dataset.repeat()  # Repeat dataset indefinitely\n",
    "dataset = dataset.prefetch(buffer_size=tf.data.experimental.AUTOTUNE)  # Prefetch data\n",
    "steps_per_epoch = ...  \n",
    "\n",
    "model.fit(dataset, epochs=200, steps_per_epoch=steps_per_epoch, validation_data=(val_data, val_data))"
   ]
  },
  {
   "cell_type": "code",
   "execution_count": null,
   "metadata": {},
   "outputs": [],
   "source": [
    "#model.save(\"/uio/hume/student-u37/fslippe/data/models/winter_2020_21_autoencoder\")\n",
    "autoencoder.encoder.save(\"/uio/hume/student-u37/fslippe/data/models/winter_2020_21_band(6,20,29)_encoder\")\n",
    "autoencoder.decoder.save(\"/uio/hume/student-u37/fslippe/data/models/winter_2020_21_band(6,20,29)_decoder\")\n"
   ]
  },
  {
   "cell_type": "code",
   "execution_count": null,
   "metadata": {},
   "outputs": [],
   "source": []
  }
 ],
 "metadata": {
  "kernelspec": {
   "display_name": "base",
   "language": "python",
   "name": "python3"
  },
  "language_info": {
   "codemirror_mode": {
    "name": "ipython",
    "version": 3
   },
   "file_extension": ".py",
   "mimetype": "text/x-python",
   "name": "python",
   "nbconvert_exporter": "python",
   "pygments_lexer": "ipython3",
   "version": "3.9.16"
  },
  "orig_nbformat": 4
 },
 "nbformat": 4,
 "nbformat_minor": 2
}
