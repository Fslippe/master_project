{
 "cells": [
  {
   "cell_type": "code",
   "execution_count": 1,
   "metadata": {},
   "outputs": [
    {
     "name": "stdout",
     "output_type": "stream",
     "text": [
      "total cores: 256\n"
     ]
    }
   ],
   "source": [
    "import os\n",
    "from keras.layers import Input, Dense, Flatten, Reshape\n",
    "from sklearn.feature_extraction import image as sk_image\n",
    "from concurrent.futures import ProcessPoolExecutor\n",
    "from keras.models import Model\n",
    "import xarray as xr\n",
    "import pandas as pd\n",
    "import numpy as np\n",
    "import matplotlib.pyplot as plt\n",
    "import cartopy.crs as ccrs\n",
    "from sklearn.cluster import AgglomerativeClustering\n",
    "from scipy.signal import convolve2d\n",
    "from sklearn.cluster import KMeans\n",
    "import numpy as np\n",
    "import tensorflow as tf\n",
    "from tensorflow import keras\n",
    "from sklearn.cluster import KMeans\n",
    "import matplotlib.pyplot as plt\n",
    "from sklearn.cluster import DBSCAN\n",
    "from pyhdf.SD import SD, SDC\n",
    "import matplotlib as mpl\n",
    "#tf.config.threading.set_inter_op_parallelism_threads(1)\n",
    "from extract_training_data import *\n",
    "from sklearn.feature_extraction.image import extract_patches_2d, reconstruct_from_patches_2d\n",
    "from pyhdf.error import HDF4Error\n",
    "from functions import *\n",
    "from tensorflow.keras.mixed_precision import experimental as mixed_precision\n",
    "from sklearn.model_selection import train_test_split\n",
    "\n",
    "import random\n"
   ]
  },
  {
   "cell_type": "code",
   "execution_count": 2,
   "metadata": {},
   "outputs": [
    {
     "name": "stdout",
     "output_type": "stream",
     "text": [
      "1 Physical GPUs, 1 Logical GPUs\n"
     ]
    },
    {
     "name": "stderr",
     "output_type": "stream",
     "text": [
      "2023-10-04 19:08:03.108511: I tensorflow/core/common_runtime/gpu/gpu_device.cc:1525] Created device /job:localhost/replica:0/task:0/device:GPU:0 with 11690 MB memory:  -> device: 0, name: Quadro RTX 6000, pci bus id: 0000:25:00.0, compute capability: 7.5\n"
     ]
    }
   ],
   "source": [
    "gpus = tf.config.experimental.list_physical_devices('GPU')\n",
    "if gpus:\n",
    "    try:\n",
    "        # Currently, memory growth needs to be the same across GPUs\n",
    "        for gpu in gpus:\n",
    "            tf.config.experimental.set_memory_growth(gpu, True)\n",
    "        logical_gpus = tf.config.experimental.list_logical_devices('GPU')\n",
    "        print(len(gpus), \"Physical GPUs,\", len(logical_gpus), \"Logical GPUs\")\n",
    "    except RuntimeError as e:\n",
    "        # Memory growth must be set before GPUs have been initialized\n",
    "        print(e)\n",
    "\n",
    "# policy = mixed_precision.Policy('mixed_float16')\n",
    "# mixed_precision.set_policy(policy)\n",
    "\n",
    "#bands = [6, 7, 20, 28, 28, 31]\n"
   ]
  },
  {
   "cell_type": "code",
   "execution_count": 3,
   "metadata": {},
   "outputs": [],
   "source": [
    "#bands = [6,20,29]\n",
    "#bands = [6,7,20,28,29,31]\n",
    "bands = [29]\n"
   ]
  },
  {
   "cell_type": "code",
   "execution_count": 4,
   "metadata": {},
   "outputs": [
    {
     "name": "stdout",
     "output_type": "stream",
     "text": [
      "total cores: 256\n",
      "['/scratch/fslippe/modis/MOD02/daytime_1km/', '/scratch/fslippe/modis/MOD02/night_1km/', '/scratch/fslippe/modis/MOD02/boundary_1km/']\n",
      "0 Latitude\n",
      "1 Longitude\n",
      "2 EV_1KM_RefSB\n",
      "3 EV_1KM_RefSB_Uncert_Indexes\n",
      "4 EV_1KM_Emissive\n",
      "5 EV_1KM_Emissive_Uncert_Indexes\n",
      "6 EV_250_Aggr1km_RefSB\n",
      "7 EV_250_Aggr1km_RefSB_Uncert_Indexes\n",
      "8 EV_250_Aggr1km_RefSB_Samples_Used\n",
      "9 EV_500_Aggr1km_RefSB\n",
      "10 EV_500_Aggr1km_RefSB_Uncert_Indexes\n",
      "11 EV_500_Aggr1km_RefSB_Samples_Used\n",
      "12 Height\n",
      "13 SensorZenith\n",
      "14 SensorAzimuth\n",
      "15 Range\n",
      "16 SolarZenith\n",
      "17 SolarAzimuth\n",
      "18 gflags\n",
      "19 EV_Band26\n",
      "20 EV_Band26_Uncert_Indexes\n",
      "21 Band_250M\n",
      "22 Band_500M\n",
      "23 Band_1KM_RefSB\n",
      "24 Band_1KM_Emissive\n",
      "25 Noise in Thermal Detectors\n",
      "26 Change in relative responses of thermal detectors\n",
      "27 DC Restore Change for Thermal Bands\n",
      "28 DC Restore Change for Reflective 250m Bands\n",
      "29 DC Restore Change for Reflective 500m Bands\n",
      "30 DC Restore Change for Reflective 1km Bands\n"
     ]
    },
    {
     "name": "stderr",
     "output_type": "stream",
     "text": [
      "100%|██████████| 151/151 [00:51<00:00,  2.92it/s]\n"
     ]
    },
    {
     "data": {
      "text/plain": [
       "3661"
      ]
     },
     "execution_count": 4,
     "metadata": {},
     "output_type": "execute_result"
    }
   ],
   "source": [
    "### PROCESSING .hdf files\n",
    "import extract_training_data\n",
    "import importlib\n",
    "importlib.reload(extract_training_data)\n",
    "from extract_training_data import *\n",
    "#folder = \"/uio/hume/student-u37/fslippe/data/training_data/MOD02QKM/normalized_data/\"\n",
    "folder = \"/scratch/fslippe/modis/MOD02/daytime_1km/ /scratch/fslippe/modis/MOD02/night_1km/ /scratch/fslippe/modis/MOD02/boundary_1km/\"\n",
    "\n",
    "#folder = \"/uio/hume/student-u37/fslippe/data/nird_mount/MOD02QKM_202012-202104/normalized_data/\"\n",
    "\n",
    "start = \"20201201\"\n",
    "end = \"20210430\"\n",
    "#end = \"20201230\"\n",
    "\n",
    "#dates = [\"20210303\"]#, \"20210322\"]#, \"20210323\"]\n",
    "#dates_converted = []\n",
    "#for date in dates:\n",
    "#    dates_converted.append(convert_to_day_of_year(date))\n",
    "#bands = [6,20,29]\n",
    "\n",
    "start_converted = convert_to_day_of_year(start)\n",
    "end_converted = convert_to_day_of_year(end)\n",
    "#print(start_converted)\n",
    "#print(end_converted)\n",
    "#x = [xi for xi in  extract_250m_data(folder, bands=[1], date_list=dates_converted) if xi.shape[0] > 256]\n",
    "x, dates = extract_1km_data(folder, bands=bands, start_date=start_converted, end_date=end_converted)\n",
    "x, dates = zip(*[(xi, date) for xi, date in zip(x, dates) if (xi.shape[0] > 64) and (xi.shape[1] > 64)])\n",
    "x = list(x)\n",
    "dates = list(dates)\n",
    "len(x)\n",
    "#x = extract_250m_data(folder, bands=[1], start_date=start_converted, end_date=end_converted)\n"
   ]
  },
  {
   "cell_type": "code",
   "execution_count": 5,
   "metadata": {},
   "outputs": [
    {
     "name": "stdout",
     "output_type": "stream",
     "text": [
      "Input should already be normalized. Call self.normalize to normalize list of data\n"
     ]
    }
   ],
   "source": [
    "import autoencoder\n",
    "import importlib\n",
    "importlib.reload(autoencoder)\n",
    "from autoencoder import SobelFilterLayer, SimpleAutoencoder\n",
    "patch_size = 64\n",
    "\n",
    "autoencoder = SimpleAutoencoder(len(bands), patch_size, patch_size)\n",
    "#x = autoencoder.normalize(x)\n",
    "#optimizer = mixed_precision.LossScaleOptimizer(tf.keras.optimizers.Adam(learning_rate=1e-4), loss_scale='dynamic')\n",
    "optimizer = tf.keras.optimizers.Adam(learning_rate=1e-4)\n",
    "\n",
    "model = autoencoder.model(optimizer=optimizer, loss=\"combined\")\n"
   ]
  },
  {
   "cell_type": "code",
   "execution_count": 12,
   "metadata": {},
   "outputs": [
    {
     "data": {
      "text/plain": [
       "(1033144, 64, 64, 1)"
      ]
     },
     "execution_count": 12,
     "metadata": {},
     "output_type": "execute_result"
    }
   ],
   "source": [
    "patches = np.concatenate([autoencoder.extract_patches(n_d) for n_d in x], axis=0)\n",
    "patches = np.where(patches < 0, 0, patches)\n",
    "\n",
    "patches.shape"
   ]
  },
  {
   "cell_type": "code",
   "execution_count": 13,
   "metadata": {},
   "outputs": [
    {
     "name": "stdout",
     "output_type": "stream",
     "text": [
      "finished split\n"
     ]
    }
   ],
   "source": [
    "# Splitting the data\n",
    "patches, val_data = train_test_split(patches, test_size=0.15, random_state=42)\n",
    "print(\"finished split\")"
   ]
  },
  {
   "cell_type": "code",
   "execution_count": 14,
   "metadata": {},
   "outputs": [
    {
     "name": "stdout",
     "output_type": "stream",
     "text": [
      "(878172, 64, 64, 1)\n",
      "(154972, 64, 64, 1)\n"
     ]
    },
    {
     "data": {
      "text/plain": [
       "dtype('float32')"
      ]
     },
     "execution_count": 14,
     "metadata": {},
     "output_type": "execute_result"
    }
   ],
   "source": [
    "print(patches.shape)\n",
    "print(val_data.shape)\n",
    "patches.dtype"
   ]
  },
  {
   "cell_type": "code",
   "execution_count": 15,
   "metadata": {},
   "outputs": [
    {
     "name": "stdout",
     "output_type": "stream",
     "text": [
      "[[[[15.703261]]]]\n"
     ]
    }
   ],
   "source": [
    "min_val = 0\n",
    "max_val = np.max(patches, axis=(0,1,2), keepdims=True)\n",
    "print(max_val)\n",
    "patches = (patches) / (max_val)\n",
    "val_data = (val_data) / (max_val)\n",
    "np.save(\"/uio/hume/student-u37/fslippe/data/models/winter_2020_21_dnb_band(29)_max_vals\", max_val)"
   ]
  },
  {
   "cell_type": "code",
   "execution_count": 9,
   "metadata": {},
   "outputs": [
    {
     "name": "stdout",
     "output_type": "stream",
     "text": [
      "1 Physical GPUs, 1 Logical GPUs\n",
      "0\n",
      "300000\n",
      "600000\n"
     ]
    }
   ],
   "source": [
    "from write_to_tf import * \n",
    "patches_per_file = 300000 \n",
    "\n",
    "for i in range(0, len(patches), patches_per_file):\n",
    "    print(i)\n",
    "    chunk = patches[i: i+patches_per_file]\n",
    "    write_tfrecord(f'/scratch/fslippe/modis/MOD02/training_data/tf_data/normalized_trainingpatches_dnb_300k_band(29)_winter20_21_{i//patches_per_file}.tfrecord', chunk)\n"
   ]
  },
  {
   "cell_type": "code",
   "execution_count": 10,
   "metadata": {},
   "outputs": [],
   "source": [
    "np.save(\"/scratch/fslippe/modis/MOD02/test_data/normalized_testpatches_dnb_band(29)_winter20_21.npy\", val_data)\n",
    "#np.save(\"/scratch/fslippe/modis/MOD02/training_data/normalized_trainingpatches_band(1)_winter20_21.npy\", patches)\n",
    "# val_data = np.load(\"/uio/hume/student-u37/fslippe/data/models/winter_2020_21_val_patches.npy\")\n",
    "# patches = np.load(\"/uio/hume/student-u37/fslippe/data/models/winter_2020_21_train_patches.npy\")[:int(170e3)]\n"
   ]
  },
  {
   "cell_type": "code",
   "execution_count": 10,
   "metadata": {},
   "outputs": [
    {
     "name": "stdout",
     "output_type": "stream",
     "text": [
      "float32\n"
     ]
    }
   ],
   "source": [
    "### SAVE TRAIN TEST PATCHES \n",
    "# patches = np.load(\"/scratch/fslippe/modis/MOD02/training_data/normalized_trainingpatches_bands6,20,29_winter20_21.npy\")[::4]\n",
    "# val_data  = np.load(\"/scratch/fslippe/modis/MOD02/test_data/normalized_testpatches_bands6,20,29_winter20_21.npy\")[::4]\n",
    "# patches.shape\n",
    "\n",
    "# print(np.mean(patches, axis=(0,1,2)))\n"
   ]
  },
  {
   "cell_type": "code",
   "execution_count": 16,
   "metadata": {},
   "outputs": [
    {
     "name": "stderr",
     "output_type": "stream",
     "text": [
      "2023-10-04 18:35:17.496282: W tensorflow/core/framework/cpu_allocator_impl.cc:82] Allocation of 14387970048 exceeds 10% of free system memory.\n",
      "2023-10-04 18:35:29.251614: W tensorflow/core/common_runtime/bfc_allocator.cc:462] Allocator (GPU_0_bfc) ran out of memory trying to allocate 13.40GiB (rounded to 14387970048)requested by op _EagerConst\n",
      "If the cause is memory fragmentation maybe the environment variable 'TF_GPU_ALLOCATOR=cuda_malloc_async' will improve the situation. \n",
      "Current allocation summary follows.\n",
      "Current allocation summary follows.\n",
      "2023-10-04 18:35:29.251705: I tensorflow/core/common_runtime/bfc_allocator.cc:1010] BFCAllocator dump for GPU_0_bfc\n",
      "2023-10-04 18:35:29.251726: I tensorflow/core/common_runtime/bfc_allocator.cc:1017] Bin (256): \tTotal Chunks: 49, Chunks in use: 47. 12.2KiB allocated for chunks. 11.8KiB in use in bin. 3.6KiB client-requested in use in bin.\n",
      "2023-10-04 18:35:29.251738: I tensorflow/core/common_runtime/bfc_allocator.cc:1017] Bin (512): \tTotal Chunks: 13, Chunks in use: 10. 7.2KiB allocated for chunks. 5.5KiB in use in bin. 5.1KiB client-requested in use in bin.\n",
      "2023-10-04 18:35:29.251749: I tensorflow/core/common_runtime/bfc_allocator.cc:1017] Bin (1024): \tTotal Chunks: 7, Chunks in use: 2. 9.2KiB allocated for chunks. 2.5KiB in use in bin. 1.6KiB client-requested in use in bin.\n",
      "2023-10-04 18:35:29.251761: I tensorflow/core/common_runtime/bfc_allocator.cc:1017] Bin (2048): \tTotal Chunks: 2, Chunks in use: 0. 5.0KiB allocated for chunks. 0B in use in bin. 0B client-requested in use in bin.\n",
      "2023-10-04 18:35:29.251772: I tensorflow/core/common_runtime/bfc_allocator.cc:1017] Bin (4096): \tTotal Chunks: 0, Chunks in use: 0. 0B allocated for chunks. 0B in use in bin. 0B client-requested in use in bin.\n",
      "2023-10-04 18:35:29.251783: I tensorflow/core/common_runtime/bfc_allocator.cc:1017] Bin (8192): \tTotal Chunks: 2, Chunks in use: 1. 18.0KiB allocated for chunks. 9.0KiB in use in bin. 9.0KiB client-requested in use in bin.\n",
      "2023-10-04 18:35:29.251795: I tensorflow/core/common_runtime/bfc_allocator.cc:1017] Bin (16384): \tTotal Chunks: 3, Chunks in use: 3. 54.0KiB allocated for chunks. 54.0KiB in use in bin. 54.0KiB client-requested in use in bin.\n",
      "2023-10-04 18:35:29.251806: I tensorflow/core/common_runtime/bfc_allocator.cc:1017] Bin (32768): \tTotal Chunks: 2, Chunks in use: 1. 90.0KiB allocated for chunks. 36.0KiB in use in bin. 36.0KiB client-requested in use in bin.\n",
      "2023-10-04 18:35:29.251819: I tensorflow/core/common_runtime/bfc_allocator.cc:1017] Bin (65536): \tTotal Chunks: 5, Chunks in use: 3. 357.5KiB allocated for chunks. 216.0KiB in use in bin. 216.0KiB client-requested in use in bin.\n",
      "2023-10-04 18:35:29.251830: I tensorflow/core/common_runtime/bfc_allocator.cc:1017] Bin (131072): \tTotal Chunks: 3, Chunks in use: 1. 612.0KiB allocated for chunks. 144.0KiB in use in bin. 144.0KiB client-requested in use in bin.\n",
      "2023-10-04 18:35:29.251842: I tensorflow/core/common_runtime/bfc_allocator.cc:1017] Bin (262144): \tTotal Chunks: 5, Chunks in use: 3. 1.41MiB allocated for chunks. 864.0KiB in use in bin. 864.0KiB client-requested in use in bin.\n",
      "2023-10-04 18:35:29.251853: I tensorflow/core/common_runtime/bfc_allocator.cc:1017] Bin (524288): \tTotal Chunks: 5, Chunks in use: 2. 3.44MiB allocated for chunks. 1.19MiB in use in bin. 1.12MiB client-requested in use in bin.\n",
      "2023-10-04 18:35:29.251864: I tensorflow/core/common_runtime/bfc_allocator.cc:1017] Bin (1048576): \tTotal Chunks: 1, Chunks in use: 0. 1.14MiB allocated for chunks. 0B in use in bin. 0B client-requested in use in bin.\n",
      "2023-10-04 18:35:29.251874: I tensorflow/core/common_runtime/bfc_allocator.cc:1017] Bin (2097152): \tTotal Chunks: 0, Chunks in use: 0. 0B allocated for chunks. 0B in use in bin. 0B client-requested in use in bin.\n",
      "2023-10-04 18:35:29.251884: I tensorflow/core/common_runtime/bfc_allocator.cc:1017] Bin (4194304): \tTotal Chunks: 1, Chunks in use: 0. 6.88MiB allocated for chunks. 0B in use in bin. 0B client-requested in use in bin.\n",
      "2023-10-04 18:35:29.251894: I tensorflow/core/common_runtime/bfc_allocator.cc:1017] Bin (8388608): \tTotal Chunks: 0, Chunks in use: 0. 0B allocated for chunks. 0B in use in bin. 0B client-requested in use in bin.\n",
      "2023-10-04 18:35:29.251904: I tensorflow/core/common_runtime/bfc_allocator.cc:1017] Bin (16777216): \tTotal Chunks: 0, Chunks in use: 0. 0B allocated for chunks. 0B in use in bin. 0B client-requested in use in bin.\n",
      "2023-10-04 18:35:29.251917: I tensorflow/core/common_runtime/bfc_allocator.cc:1017] Bin (33554432): \tTotal Chunks: 0, Chunks in use: 0. 0B allocated for chunks. 0B in use in bin. 0B client-requested in use in bin.\n",
      "2023-10-04 18:35:29.251927: I tensorflow/core/common_runtime/bfc_allocator.cc:1017] Bin (67108864): \tTotal Chunks: 0, Chunks in use: 0. 0B allocated for chunks. 0B in use in bin. 0B client-requested in use in bin.\n",
      "2023-10-04 18:35:29.251937: I tensorflow/core/common_runtime/bfc_allocator.cc:1017] Bin (134217728): \tTotal Chunks: 0, Chunks in use: 0. 0B allocated for chunks. 0B in use in bin. 0B client-requested in use in bin.\n",
      "2023-10-04 18:35:29.251947: I tensorflow/core/common_runtime/bfc_allocator.cc:1017] Bin (268435456): \tTotal Chunks: 0, Chunks in use: 0. 0B allocated for chunks. 0B in use in bin. 0B client-requested in use in bin.\n",
      "2023-10-04 18:35:29.251959: I tensorflow/core/common_runtime/bfc_allocator.cc:1033] Bin for 13.40GiB was 256.00MiB, Chunk State: \n",
      "2023-10-04 18:35:29.251968: I tensorflow/core/common_runtime/bfc_allocator.cc:1046] Next region of size 2097152\n",
      "2023-10-04 18:35:29.251982: I tensorflow/core/common_runtime/bfc_allocator.cc:1066] InUse at 7f41e3200000 of size 1280 next 1\n",
      "2023-10-04 18:35:29.251992: I tensorflow/core/common_runtime/bfc_allocator.cc:1066] InUse at 7f41e3200500 of size 256 next 2\n",
      "2023-10-04 18:35:29.252009: I tensorflow/core/common_runtime/bfc_allocator.cc:1066] InUse at 7f41e3200600 of size 256 next 3\n",
      "2023-10-04 18:35:29.252017: I tensorflow/core/common_runtime/bfc_allocator.cc:1066] InUse at 7f41e3200700 of size 256 next 4\n",
      "2023-10-04 18:35:29.252025: I tensorflow/core/common_runtime/bfc_allocator.cc:1066] Free  at 7f41e3200800 of size 256 next 5\n",
      "2023-10-04 18:35:29.252034: I tensorflow/core/common_runtime/bfc_allocator.cc:1066] InUse at 7f41e3200900 of size 256 next 8\n",
      "2023-10-04 18:35:29.252042: I tensorflow/core/common_runtime/bfc_allocator.cc:1066] InUse at 7f41e3200a00 of size 256 next 9\n",
      "2023-10-04 18:35:29.252050: I tensorflow/core/common_runtime/bfc_allocator.cc:1066] Free  at 7f41e3200b00 of size 512 next 13\n",
      "2023-10-04 18:35:29.252058: I tensorflow/core/common_runtime/bfc_allocator.cc:1066] InUse at 7f41e3200d00 of size 256 next 6\n",
      "2023-10-04 18:35:29.252066: I tensorflow/core/common_runtime/bfc_allocator.cc:1066] Free  at 7f41e3200e00 of size 1792 next 19\n",
      "2023-10-04 18:35:29.252075: I tensorflow/core/common_runtime/bfc_allocator.cc:1066] InUse at 7f41e3201500 of size 256 next 20\n",
      "2023-10-04 18:35:29.252083: I tensorflow/core/common_runtime/bfc_allocator.cc:1066] InUse at 7f41e3201600 of size 256 next 15\n",
      "2023-10-04 18:35:29.252091: I tensorflow/core/common_runtime/bfc_allocator.cc:1066] Free  at 7f41e3201700 of size 1024 next 21\n",
      "2023-10-04 18:35:29.252099: I tensorflow/core/common_runtime/bfc_allocator.cc:1066] InUse at 7f41e3201b00 of size 256 next 24\n",
      "2023-10-04 18:35:29.252107: I tensorflow/core/common_runtime/bfc_allocator.cc:1066] InUse at 7f41e3201c00 of size 256 next 25\n",
      "2023-10-04 18:35:29.252116: I tensorflow/core/common_runtime/bfc_allocator.cc:1066] Free  at 7f41e3201d00 of size 1536 next 34\n",
      "2023-10-04 18:35:29.252124: I tensorflow/core/common_runtime/bfc_allocator.cc:1066] InUse at 7f41e3202300 of size 256 next 35\n",
      "2023-10-04 18:35:29.252132: I tensorflow/core/common_runtime/bfc_allocator.cc:1066] InUse at 7f41e3202400 of size 256 next 36\n",
      "2023-10-04 18:35:29.252140: I tensorflow/core/common_runtime/bfc_allocator.cc:1066] Free  at 7f41e3202500 of size 256 next 37\n",
      "2023-10-04 18:35:29.252148: I tensorflow/core/common_runtime/bfc_allocator.cc:1066] InUse at 7f41e3202600 of size 256 next 40\n",
      "2023-10-04 18:35:29.252156: I tensorflow/core/common_runtime/bfc_allocator.cc:1066] InUse at 7f41e3202700 of size 256 next 41\n",
      "2023-10-04 18:35:29.252164: I tensorflow/core/common_runtime/bfc_allocator.cc:1066] Free  at 7f41e3202800 of size 1536 next 50\n",
      "2023-10-04 18:35:29.252173: I tensorflow/core/common_runtime/bfc_allocator.cc:1066] InUse at 7f41e3202e00 of size 256 next 51\n",
      "2023-10-04 18:35:29.252184: I tensorflow/core/common_runtime/bfc_allocator.cc:1066] InUse at 7f41e3202f00 of size 256 next 52\n",
      "2023-10-04 18:35:29.252192: I tensorflow/core/common_runtime/bfc_allocator.cc:1066] Free  at 7f41e3203000 of size 512 next 53\n",
      "2023-10-04 18:35:29.252201: I tensorflow/core/common_runtime/bfc_allocator.cc:1066] InUse at 7f41e3203200 of size 256 next 56\n",
      "2023-10-04 18:35:29.252209: I tensorflow/core/common_runtime/bfc_allocator.cc:1066] InUse at 7f41e3203300 of size 256 next 57\n",
      "2023-10-04 18:35:29.252217: I tensorflow/core/common_runtime/bfc_allocator.cc:1066] Free  at 7f41e3203400 of size 3072 next 67\n",
      "2023-10-04 18:35:29.252225: I tensorflow/core/common_runtime/bfc_allocator.cc:1066] InUse at 7f41e3204000 of size 256 next 68\n",
      "2023-10-04 18:35:29.252233: I tensorflow/core/common_runtime/bfc_allocator.cc:1066] Free  at 7f41e3204100 of size 2048 next 82\n",
      "2023-10-04 18:35:29.252242: I tensorflow/core/common_runtime/bfc_allocator.cc:1066] InUse at 7f41e3204900 of size 256 next 83\n",
      "2023-10-04 18:35:29.252250: I tensorflow/core/common_runtime/bfc_allocator.cc:1066] InUse at 7f41e3204a00 of size 256 next 84\n",
      "2023-10-04 18:35:29.252258: I tensorflow/core/common_runtime/bfc_allocator.cc:1066] InUse at 7f41e3204b00 of size 256 next 86\n",
      "2023-10-04 18:35:29.252266: I tensorflow/core/common_runtime/bfc_allocator.cc:1066] InUse at 7f41e3204c00 of size 256 next 80\n",
      "2023-10-04 18:35:29.252274: I tensorflow/core/common_runtime/bfc_allocator.cc:1066] Free  at 7f41e3204d00 of size 768 next 81\n",
      "2023-10-04 18:35:29.252283: I tensorflow/core/common_runtime/bfc_allocator.cc:1066] InUse at 7f41e3205000 of size 256 next 92\n",
      "2023-10-04 18:35:29.252302: I tensorflow/core/common_runtime/bfc_allocator.cc:1066] InUse at 7f41e3205100 of size 256 next 95\n",
      "2023-10-04 18:35:29.252310: I tensorflow/core/common_runtime/bfc_allocator.cc:1066] InUse at 7f41e3205200 of size 256 next 96\n",
      "2023-10-04 18:35:29.252319: I tensorflow/core/common_runtime/bfc_allocator.cc:1066] InUse at 7f41e3205300 of size 256 next 85\n",
      "2023-10-04 18:35:29.252327: I tensorflow/core/common_runtime/bfc_allocator.cc:1066] InUse at 7f41e3205400 of size 1280 next 12\n",
      "2023-10-04 18:35:29.252335: I tensorflow/core/common_runtime/bfc_allocator.cc:1066] Free  at 7f41e3205900 of size 9216 next 11\n",
      "2023-10-04 18:35:29.252343: I tensorflow/core/common_runtime/bfc_allocator.cc:1066] InUse at 7f41e3207d00 of size 256 next 132\n",
      "2023-10-04 18:35:29.252351: I tensorflow/core/common_runtime/bfc_allocator.cc:1066] InUse at 7f41e3207e00 of size 256 next 133\n",
      "2023-10-04 18:35:29.252360: I tensorflow/core/common_runtime/bfc_allocator.cc:1066] InUse at 7f41e3207f00 of size 256 next 136\n",
      "2023-10-04 18:35:29.252368: I tensorflow/core/common_runtime/bfc_allocator.cc:1066] Free  at 7f41e3208000 of size 1024 next 134\n",
      "2023-10-04 18:35:29.252376: I tensorflow/core/common_runtime/bfc_allocator.cc:1066] InUse at 7f41e3208400 of size 768 next 135\n",
      "2023-10-04 18:35:29.252385: I tensorflow/core/common_runtime/bfc_allocator.cc:1066] Free  at 7f41e3208700 of size 71168 next 30\n",
      "2023-10-04 18:35:29.252393: I tensorflow/core/common_runtime/bfc_allocator.cc:1066] InUse at 7f41e3219d00 of size 9216 next 87\n",
      "2023-10-04 18:35:29.252401: I tensorflow/core/common_runtime/bfc_allocator.cc:1066] InUse at 7f41e321c100 of size 256 next 90\n",
      "2023-10-04 18:35:29.252410: I tensorflow/core/common_runtime/bfc_allocator.cc:1066] InUse at 7f41e321c200 of size 256 next 91\n",
      "2023-10-04 18:35:29.252418: I tensorflow/core/common_runtime/bfc_allocator.cc:1066] InUse at 7f41e321c300 of size 256 next 88\n",
      "2023-10-04 18:35:29.252426: I tensorflow/core/common_runtime/bfc_allocator.cc:1066] InUse at 7f41e321c400 of size 768 next 89\n",
      "2023-10-04 18:35:29.252434: I tensorflow/core/common_runtime/bfc_allocator.cc:1066] InUse at 7f41e321c700 of size 256 next 99\n",
      "2023-10-04 18:35:29.252442: I tensorflow/core/common_runtime/bfc_allocator.cc:1066] InUse at 7f41e321c800 of size 256 next 100\n",
      "2023-10-04 18:35:29.252450: I tensorflow/core/common_runtime/bfc_allocator.cc:1066] InUse at 7f41e321c900 of size 256 next 101\n",
      "2023-10-04 18:35:29.252459: I tensorflow/core/common_runtime/bfc_allocator.cc:1066] InUse at 7f41e321ca00 of size 256 next 102\n",
      "2023-10-04 18:35:29.252468: I tensorflow/core/common_runtime/bfc_allocator.cc:1066] InUse at 7f41e321cb00 of size 256 next 103\n",
      "2023-10-04 18:35:29.252476: I tensorflow/core/common_runtime/bfc_allocator.cc:1066] InUse at 7f41e321cc00 of size 256 next 106\n",
      "2023-10-04 18:35:29.252484: I tensorflow/core/common_runtime/bfc_allocator.cc:1066] InUse at 7f41e321cd00 of size 256 next 108\n",
      "2023-10-04 18:35:29.252493: I tensorflow/core/common_runtime/bfc_allocator.cc:1066] InUse at 7f41e321ce00 of size 256 next 110\n",
      "2023-10-04 18:35:29.252501: I tensorflow/core/common_runtime/bfc_allocator.cc:1066] InUse at 7f41e321cf00 of size 256 next 111\n",
      "2023-10-04 18:35:29.252509: I tensorflow/core/common_runtime/bfc_allocator.cc:1066] InUse at 7f41e321d000 of size 256 next 112\n",
      "2023-10-04 18:35:29.252517: I tensorflow/core/common_runtime/bfc_allocator.cc:1066] InUse at 7f41e321d100 of size 256 next 113\n",
      "2023-10-04 18:35:29.252525: I tensorflow/core/common_runtime/bfc_allocator.cc:1066] InUse at 7f41e321d200 of size 512 next 114\n",
      "2023-10-04 18:35:29.252534: I tensorflow/core/common_runtime/bfc_allocator.cc:1066] InUse at 7f41e321d400 of size 512 next 116\n",
      "2023-10-04 18:35:29.252543: I tensorflow/core/common_runtime/bfc_allocator.cc:1066] InUse at 7f41e321d600 of size 512 next 119\n",
      "2023-10-04 18:35:29.252551: I tensorflow/core/common_runtime/bfc_allocator.cc:1066] InUse at 7f41e321d800 of size 512 next 120\n",
      "2023-10-04 18:35:29.252559: I tensorflow/core/common_runtime/bfc_allocator.cc:1066] InUse at 7f41e321da00 of size 512 next 121\n",
      "2023-10-04 18:35:29.252567: I tensorflow/core/common_runtime/bfc_allocator.cc:1066] InUse at 7f41e321dc00 of size 512 next 122\n",
      "2023-10-04 18:35:29.252575: I tensorflow/core/common_runtime/bfc_allocator.cc:1066] InUse at 7f41e321de00 of size 512 next 123\n",
      "2023-10-04 18:35:29.252583: I tensorflow/core/common_runtime/bfc_allocator.cc:1066] InUse at 7f41e321e000 of size 512 next 127\n",
      "2023-10-04 18:35:29.252591: I tensorflow/core/common_runtime/bfc_allocator.cc:1066] InUse at 7f41e321e200 of size 256 next 129\n",
      "2023-10-04 18:35:29.252600: I tensorflow/core/common_runtime/bfc_allocator.cc:1066] InUse at 7f41e321e300 of size 256 next 131\n",
      "2023-10-04 18:35:29.252608: I tensorflow/core/common_runtime/bfc_allocator.cc:1066] InUse at 7f41e321e400 of size 256 next 27\n",
      "2023-10-04 18:35:29.252616: I tensorflow/core/common_runtime/bfc_allocator.cc:1066] Free  at 7f41e321e500 of size 55296 next 94\n",
      "2023-10-04 18:35:29.252625: I tensorflow/core/common_runtime/bfc_allocator.cc:1066] InUse at 7f41e322bd00 of size 18432 next 93\n",
      "2023-10-04 18:35:29.252633: I tensorflow/core/common_runtime/bfc_allocator.cc:1066] InUse at 7f41e3230500 of size 18432 next 98\n",
      "2023-10-04 18:35:29.252639: I tensorflow/core/common_runtime/bfc_allocator.cc:1066] InUse at 7f41e3234d00 of size 18432 next 75\n",
      "2023-10-04 18:35:29.252646: I tensorflow/core/common_runtime/bfc_allocator.cc:1066] Free  at 7f41e3239500 of size 258048 next 97\n",
      "2023-10-04 18:35:29.252652: I tensorflow/core/common_runtime/bfc_allocator.cc:1066] InUse at 7f41e3278500 of size 36864 next 43\n",
      "2023-10-04 18:35:29.252657: I tensorflow/core/common_runtime/bfc_allocator.cc:1066] Free  at 7f41e3281500 of size 221184 next 109\n",
      "2023-10-04 18:35:29.252661: I tensorflow/core/common_runtime/bfc_allocator.cc:1066] InUse at 7f41e32b7500 of size 73728 next 105\n",
      "2023-10-04 18:35:29.252666: I tensorflow/core/common_runtime/bfc_allocator.cc:1066] InUse at 7f41e32c9500 of size 73728 next 104\n",
      "2023-10-04 18:35:29.252671: I tensorflow/core/common_runtime/bfc_allocator.cc:1066] Free  at 7f41e32db500 of size 1198848 next 18446744073709551615\n",
      "2023-10-04 18:35:29.252676: I tensorflow/core/common_runtime/bfc_allocator.cc:1046] Next region of size 4194304\n",
      "2023-10-04 18:35:29.252680: I tensorflow/core/common_runtime/bfc_allocator.cc:1066] Free  at 7f41e3400000 of size 294912 next 72\n",
      "2023-10-04 18:35:29.252685: I tensorflow/core/common_runtime/bfc_allocator.cc:1066] InUse at 7f41e3448000 of size 73728 next 130\n",
      "2023-10-04 18:35:29.252690: I tensorflow/core/common_runtime/bfc_allocator.cc:1066] Free  at 7f41e345a000 of size 73728 next 107\n",
      "2023-10-04 18:35:29.252695: I tensorflow/core/common_runtime/bfc_allocator.cc:1066] InUse at 7f41e346c000 of size 147456 next 60\n",
      "2023-10-04 18:35:29.252699: I tensorflow/core/common_runtime/bfc_allocator.cc:1066] Free  at 7f41e3490000 of size 884736 next 115\n",
      "2023-10-04 18:35:29.252703: I tensorflow/core/common_runtime/bfc_allocator.cc:1066] InUse at 7f41e3568000 of size 294912 next 70\n",
      "2023-10-04 18:35:29.252711: I tensorflow/core/common_runtime/bfc_allocator.cc:1066] Free  at 7f41e35b0000 of size 589824 next 69\n",
      "2023-10-04 18:35:29.252715: I tensorflow/core/common_runtime/bfc_allocator.cc:1066] InUse at 7f41e3640000 of size 294912 next 117\n",
      "2023-10-04 18:35:29.252719: I tensorflow/core/common_runtime/bfc_allocator.cc:1066] Free  at 7f41e3688000 of size 884736 next 118\n",
      "2023-10-04 18:35:29.252724: I tensorflow/core/common_runtime/bfc_allocator.cc:1066] InUse at 7f41e3760000 of size 655360 next 18446744073709551615\n",
      "2023-10-04 18:35:29.252729: I tensorflow/core/common_runtime/bfc_allocator.cc:1046] Next region of size 8388608\n",
      "2023-10-04 18:35:29.252733: I tensorflow/core/common_runtime/bfc_allocator.cc:1066] InUse at 7f41e3800000 of size 294912 next 128\n",
      "2023-10-04 18:35:29.252737: I tensorflow/core/common_runtime/bfc_allocator.cc:1066] Free  at 7f41e3848000 of size 294912 next 126\n",
      "2023-10-04 18:35:29.252742: I tensorflow/core/common_runtime/bfc_allocator.cc:1066] InUse at 7f41e3890000 of size 589824 next 124\n",
      "2023-10-04 18:35:29.252746: I tensorflow/core/common_runtime/bfc_allocator.cc:1066] Free  at 7f41e3920000 of size 7208960 next 18446744073709551615\n",
      "2023-10-04 18:35:29.252751: I tensorflow/core/common_runtime/bfc_allocator.cc:1071]      Summary of in-use Chunks by size: \n",
      "2023-10-04 18:35:29.252757: I tensorflow/core/common_runtime/bfc_allocator.cc:1074] 47 Chunks of size 256 totalling 11.8KiB\n",
      "2023-10-04 18:35:29.252763: I tensorflow/core/common_runtime/bfc_allocator.cc:1074] 8 Chunks of size 512 totalling 4.0KiB\n",
      "2023-10-04 18:35:29.252768: I tensorflow/core/common_runtime/bfc_allocator.cc:1074] 2 Chunks of size 768 totalling 1.5KiB\n",
      "2023-10-04 18:35:29.252773: I tensorflow/core/common_runtime/bfc_allocator.cc:1074] 2 Chunks of size 1280 totalling 2.5KiB\n",
      "2023-10-04 18:35:29.252778: I tensorflow/core/common_runtime/bfc_allocator.cc:1074] 1 Chunks of size 9216 totalling 9.0KiB\n",
      "2023-10-04 18:35:29.252783: I tensorflow/core/common_runtime/bfc_allocator.cc:1074] 3 Chunks of size 18432 totalling 54.0KiB\n",
      "2023-10-04 18:35:29.252789: I tensorflow/core/common_runtime/bfc_allocator.cc:1074] 1 Chunks of size 36864 totalling 36.0KiB\n",
      "2023-10-04 18:35:29.252794: I tensorflow/core/common_runtime/bfc_allocator.cc:1074] 3 Chunks of size 73728 totalling 216.0KiB\n",
      "2023-10-04 18:35:29.252799: I tensorflow/core/common_runtime/bfc_allocator.cc:1074] 1 Chunks of size 147456 totalling 144.0KiB\n",
      "2023-10-04 18:35:29.252804: I tensorflow/core/common_runtime/bfc_allocator.cc:1074] 3 Chunks of size 294912 totalling 864.0KiB\n",
      "2023-10-04 18:35:29.252809: I tensorflow/core/common_runtime/bfc_allocator.cc:1074] 1 Chunks of size 589824 totalling 576.0KiB\n",
      "2023-10-04 18:35:29.252814: I tensorflow/core/common_runtime/bfc_allocator.cc:1074] 1 Chunks of size 655360 totalling 640.0KiB\n",
      "2023-10-04 18:35:29.252819: I tensorflow/core/common_runtime/bfc_allocator.cc:1078] Sum Total of in-use chunks: 2.50MiB\n",
      "2023-10-04 18:35:29.252824: I tensorflow/core/common_runtime/bfc_allocator.cc:1080] total_region_allocated_bytes_: 14680064 memory_limit_: 12859867136 available bytes: 12845187072 curr_region_allocation_bytes_: 16777216\n",
      "2023-10-04 18:35:29.252832: I tensorflow/core/common_runtime/bfc_allocator.cc:1086] Stats: \n",
      "Limit:                     12859867136\n",
      "InUse:                         2620160\n",
      "MaxInUse:                      6252544\n",
      "NumAllocs:                         227\n",
      "MaxAllocSize:                   884736\n",
      "Reserved:                            0\n",
      "PeakReserved:                        0\n",
      "LargestFreeBlock:                    0\n",
      "\n",
      "2023-10-04 18:35:29.252840: W tensorflow/core/common_runtime/bfc_allocator.cc:474] **_*_**_________***_____***___***_____*******_*****_________________________________________________\n"
     ]
    },
    {
     "ename": "InternalError",
     "evalue": "Failed copying input tensor from /job:localhost/replica:0/task:0/device:CPU:0 to /job:localhost/replica:0/task:0/device:GPU:0 in order to run _EagerConst: Dst tensor is not initialized.",
     "output_type": "error",
     "traceback": [
      "\u001b[0;31m---------------------------------------------------------------------------\u001b[0m",
      "\u001b[0;31mInternalError\u001b[0m                             Traceback (most recent call last)",
      "\u001b[1;32m/uio/hume/student-u37/fslippe/master_project/code/new_autoencoder.ipynb Cell 12\u001b[0m line \u001b[0;36m6\n\u001b[1;32m      <a href='vscode-notebook-cell://ssh-remote%2Bmimi/uio/hume/student-u37/fslippe/master_project/code/new_autoencoder.ipynb#X14sdnNjb2RlLXJlbW90ZQ%3D%3D?line=1'>2</a>\u001b[0m gc\u001b[39m.\u001b[39mcollect()\n\u001b[1;32m      <a href='vscode-notebook-cell://ssh-remote%2Bmimi/uio/hume/student-u37/fslippe/master_project/code/new_autoencoder.ipynb#X14sdnNjb2RlLXJlbW90ZQ%3D%3D?line=3'>4</a>\u001b[0m early_stopping \u001b[39m=\u001b[39m EarlyStopping(monitor\u001b[39m=\u001b[39m\u001b[39m'\u001b[39m\u001b[39mval_loss\u001b[39m\u001b[39m'\u001b[39m, patience\u001b[39m=\u001b[39m\u001b[39m20\u001b[39m, verbose\u001b[39m=\u001b[39m\u001b[39m1\u001b[39m, restore_best_weights\u001b[39m=\u001b[39m\u001b[39mTrue\u001b[39;00m)\n\u001b[0;32m----> <a href='vscode-notebook-cell://ssh-remote%2Bmimi/uio/hume/student-u37/fslippe/master_project/code/new_autoencoder.ipynb#X14sdnNjb2RlLXJlbW90ZQ%3D%3D?line=5'>6</a>\u001b[0m model\u001b[39m.\u001b[39;49mfit(patches, patches, validation_data\u001b[39m=\u001b[39;49m(val_data, val_data), epochs\u001b[39m=\u001b[39;49m\u001b[39m500\u001b[39;49m, batch_size\u001b[39m=\u001b[39;49m\u001b[39m32\u001b[39;49m, callbacks\u001b[39m=\u001b[39;49m[early_stopping])\n",
      "File \u001b[0;32m/opt/software/easybuild/software/TensorFlow/2.7.1-foss-2021b-CUDA-11.4.1/lib/python3.9/site-packages/keras/utils/traceback_utils.py:67\u001b[0m, in \u001b[0;36mfilter_traceback.<locals>.error_handler\u001b[0;34m(*args, **kwargs)\u001b[0m\n\u001b[1;32m     65\u001b[0m \u001b[39mexcept\u001b[39;00m \u001b[39mException\u001b[39;00m \u001b[39mas\u001b[39;00m e:  \u001b[39m# pylint: disable=broad-except\u001b[39;00m\n\u001b[1;32m     66\u001b[0m   filtered_tb \u001b[39m=\u001b[39m _process_traceback_frames(e\u001b[39m.\u001b[39m__traceback__)\n\u001b[0;32m---> 67\u001b[0m   \u001b[39mraise\u001b[39;00m e\u001b[39m.\u001b[39mwith_traceback(filtered_tb) \u001b[39mfrom\u001b[39;00m \u001b[39mNone\u001b[39;00m\n\u001b[1;32m     68\u001b[0m \u001b[39mfinally\u001b[39;00m:\n\u001b[1;32m     69\u001b[0m   \u001b[39mdel\u001b[39;00m filtered_tb\n",
      "File \u001b[0;32m/opt/software/easybuild/software/TensorFlow/2.7.1-foss-2021b-CUDA-11.4.1/lib/python3.9/site-packages/tensorflow/python/framework/constant_op.py:106\u001b[0m, in \u001b[0;36mconvert_to_eager_tensor\u001b[0;34m(value, ctx, dtype)\u001b[0m\n\u001b[1;32m    104\u001b[0m     dtype \u001b[39m=\u001b[39m dtypes\u001b[39m.\u001b[39mas_dtype(dtype)\u001b[39m.\u001b[39mas_datatype_enum\n\u001b[1;32m    105\u001b[0m ctx\u001b[39m.\u001b[39mensure_initialized()\n\u001b[0;32m--> 106\u001b[0m \u001b[39mreturn\u001b[39;00m ops\u001b[39m.\u001b[39;49mEagerTensor(value, ctx\u001b[39m.\u001b[39;49mdevice_name, dtype)\n",
      "\u001b[0;31mInternalError\u001b[0m: Failed copying input tensor from /job:localhost/replica:0/task:0/device:CPU:0 to /job:localhost/replica:0/task:0/device:GPU:0 in order to run _EagerConst: Dst tensor is not initialized."
     ]
    }
   ],
   "source": [
    "from tensorflow.keras.callbacks import EarlyStopping\n",
    "gc.collect()\n",
    "\n",
    "early_stopping = EarlyStopping(monitor='val_loss', patience=20, verbose=1, restore_best_weights=True)\n",
    "\n",
    "model.fit(patches, patches, validation_data=(val_data, val_data), epochs=500, batch_size=32, callbacks=[early_stopping])\n"
   ]
  },
  {
   "cell_type": "code",
   "execution_count": null,
   "metadata": {},
   "outputs": [],
   "source": [
    "\n",
    "def data_generator():\n",
    "    \"\"\"Generator to yield data from files.\"\"\"\n",
    "    file_list = ['file1.npy', 'file2.npy', ...]\n",
    "    random.shuffle(file_list)  # Shuffle files at the beginning of each epoch\n",
    "    for file_name in file_list:\n",
    "        data = np.load(file_name)\n",
    "        for item in data:\n",
    "            yield item\n",
    "\n",
    "# Define your dataset\n",
    "dataset = tf.data.Dataset.from_generator(data_generator,\n",
    "                                         output_signature=(tf.TensorSpec(shape=(...), dtype=tf.float32)))  # Fill in the shape and type\n",
    "dataset = dataset.shuffle(buffer_size=10000)  # Shuffle data\n",
    "dataset = dataset.batch(32)  # Batch data\n",
    "dataset = dataset.repeat()  # Repeat dataset indefinitely\n",
    "dataset = dataset.prefetch(buffer_size=tf.data.experimental.AUTOTUNE)  # Prefetch data\n",
    "steps_per_epoch = ...  \n",
    "\n",
    "model.fit(dataset, epochs=200, steps_per_epoch=steps_per_epoch, validation_data=(val_data, val_data))"
   ]
  },
  {
   "cell_type": "code",
   "execution_count": 11,
   "metadata": {},
   "outputs": [
    {
     "name": "stderr",
     "output_type": "stream",
     "text": [
      "2023-10-02 18:30:42.644659: W tensorflow/python/util/util.cc:368] Sets are not currently considered sequences, but this may change in the future, so consider avoiding using them.\n"
     ]
    },
    {
     "name": "stdout",
     "output_type": "stream",
     "text": [
      "INFO:tensorflow:Assets written to: /uio/hume/student-u37/fslippe/data/models/winter_2020_21_band(29)_filter_autoencoder/assets\n",
      "WARNING:tensorflow:Compiled the loaded model, but the compiled metrics have yet to be built. `model.compile_metrics` will be empty until you train or evaluate the model.\n"
     ]
    },
    {
     "name": "stderr",
     "output_type": "stream",
     "text": [
      "/opt/software/easybuild/software/TensorFlow/2.7.1-foss-2021b-CUDA-11.4.1/lib/python3.9/site-packages/keras/engine/functional.py:1410: CustomMaskWarning: Custom mask layers require a config and must override get_config. When loading, the custom mask layer must be passed to the custom_objects argument.\n",
      "  layer_config = serialize_layer_fn(layer)\n",
      "/opt/software/easybuild/software/TensorFlow/2.7.1-foss-2021b-CUDA-11.4.1/lib/python3.9/site-packages/keras/saving/saved_model/layer_serialization.py:112: CustomMaskWarning: Custom mask layers require a config and must override get_config. When loading, the custom mask layer must be passed to the custom_objects argument.\n",
      "  return generic_utils.serialize_keras_object(obj)\n"
     ]
    },
    {
     "name": "stdout",
     "output_type": "stream",
     "text": [
      "INFO:tensorflow:Assets written to: /uio/hume/student-u37/fslippe/data/models/winter_2020_21_band(29)_filter_encoder/assets\n",
      "WARNING:tensorflow:Compiled the loaded model, but the compiled metrics have yet to be built. `model.compile_metrics` will be empty until you train or evaluate the model.\n"
     ]
    },
    {
     "name": "stderr",
     "output_type": "stream",
     "text": [
      "/opt/software/easybuild/software/TensorFlow/2.7.1-foss-2021b-CUDA-11.4.1/lib/python3.9/site-packages/keras/engine/functional.py:1410: CustomMaskWarning: Custom mask layers require a config and must override get_config. When loading, the custom mask layer must be passed to the custom_objects argument.\n",
      "  layer_config = serialize_layer_fn(layer)\n",
      "/opt/software/easybuild/software/TensorFlow/2.7.1-foss-2021b-CUDA-11.4.1/lib/python3.9/site-packages/keras/saving/saved_model/layer_serialization.py:112: CustomMaskWarning: Custom mask layers require a config and must override get_config. When loading, the custom mask layer must be passed to the custom_objects argument.\n",
      "  return generic_utils.serialize_keras_object(obj)\n"
     ]
    },
    {
     "name": "stdout",
     "output_type": "stream",
     "text": [
      "INFO:tensorflow:Assets written to: /uio/hume/student-u37/fslippe/data/models/winter_2020_21_band(29)_filter_decoder/assets\n"
     ]
    }
   ],
   "source": [
    "model.save(\"/uio/hume/student-u37/fslippe/data/models/winter_2020_21_band(29)_filter_autoencoder\")\n",
    "autoencoder.encoder.save(\"/uio/hume/student-u37/fslippe/data/models/winter_2020_21_band(29)_filter_encoder\")\n",
    "autoencoder.decoder.save(\"/uio/hume/student-u37/fslippe/data/models/winter_2020_21_band(29)_filter_decoder\")\n"
   ]
  }
 ],
 "metadata": {
  "kernelspec": {
   "display_name": "base",
   "language": "python",
   "name": "python3"
  },
  "language_info": {
   "codemirror_mode": {
    "name": "ipython",
    "version": 3
   },
   "file_extension": ".py",
   "mimetype": "text/x-python",
   "name": "python",
   "nbconvert_exporter": "python",
   "pygments_lexer": "ipython3",
   "version": "3.9.16"
  },
  "orig_nbformat": 4
 },
 "nbformat": 4,
 "nbformat_minor": 2
}
