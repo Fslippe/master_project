{
 "cells": [
  {
   "cell_type": "code",
   "execution_count": 1,
   "metadata": {},
   "outputs": [],
   "source": [
    "import os\n",
    "from keras.layers import Input, Dense, Flatten, Reshape\n",
    "from sklearn.feature_extraction import image as sk_image\n",
    "from concurrent.futures import ProcessPoolExecutor\n",
    "from keras.models import Model\n",
    "import xarray as xr\n",
    "import pandas as pd\n",
    "import numpy as np\n",
    "import matplotlib.pyplot as plt\n",
    "import cartopy.crs as ccrs\n",
    "from sklearn.cluster import AgglomerativeClustering\n",
    "from scipy.signal import convolve2d\n",
    "from sklearn.cluster import KMeans\n",
    "import numpy as np\n",
    "import tensorflow as tf\n",
    "from tensorflow import keras\n",
    "from sklearn.cluster import KMeans\n",
    "import matplotlib.pyplot as plt\n",
    "from sklearn.cluster import DBSCAN\n",
    "from pyhdf.SD import SD, SDC\n",
    "import matplotlib as mpl\n",
    "#tf.config.threading.set_inter_op_parallelism_threads(1)\n",
    "from extract_training_data import *\n",
    "from sklearn.feature_extraction.image import extract_patches_2d, reconstruct_from_patches_2d\n",
    "from pyhdf.error import HDF4Error\n",
    "from functions import *\n",
    "from tensorflow.keras.mixed_precision import experimental as mixed_precision\n",
    "from sklearn.model_selection import train_test_split\n",
    "\n",
    "\n"
   ]
  },
  {
   "cell_type": "code",
   "execution_count": 2,
   "metadata": {},
   "outputs": [
    {
     "name": "stdout",
     "output_type": "stream",
     "text": [
      "1 Physical GPUs, 1 Logical GPUs\n"
     ]
    },
    {
     "name": "stderr",
     "output_type": "stream",
     "text": [
      "2023-09-25 17:21:35.279801: I tensorflow/core/common_runtime/gpu/gpu_device.cc:1525] Created device /job:localhost/replica:0/task:0/device:GPU:0 with 21336 MB memory:  -> device: 0, name: Quadro RTX 6000, pci bus id: 0000:25:00.0, compute capability: 7.5\n"
     ]
    }
   ],
   "source": [
    "gpus = tf.config.experimental.list_physical_devices('GPU')\n",
    "if gpus:\n",
    "    try:\n",
    "        # Currently, memory growth needs to be the same across GPUs\n",
    "        for gpu in gpus:\n",
    "            tf.config.experimental.set_memory_growth(gpu, True)\n",
    "        logical_gpus = tf.config.experimental.list_logical_devices('GPU')\n",
    "        print(len(gpus), \"Physical GPUs,\", len(logical_gpus), \"Logical GPUs\")\n",
    "    except RuntimeError as e:\n",
    "        # Memory growth must be set before GPUs have been initialized\n",
    "        print(e)\n",
    "\n",
    "# policy = mixed_precision.Policy('mixed_float16')\n",
    "# mixed_precision.set_policy(policy)\n",
    "\n",
    "#bands = [6, 7, 20, 28, 28, 31]\n"
   ]
  },
  {
   "cell_type": "code",
   "execution_count": 3,
   "metadata": {},
   "outputs": [],
   "source": [
    "bands = [6,20,29]\n"
   ]
  },
  {
   "cell_type": "code",
   "execution_count": 4,
   "metadata": {},
   "outputs": [
    {
     "name": "stdout",
     "output_type": "stream",
     "text": [
      "/scratch/fslippe/modis/MOD02/daytime_1km/MOD021KM.A2020336.0800.061.2020337214455.hdf\n",
      "0 Latitude\n",
      "1 Longitude\n",
      "2 EV_1KM_RefSB\n",
      "3 EV_1KM_RefSB_Uncert_Indexes\n",
      "4 EV_1KM_Emissive\n",
      "5 EV_1KM_Emissive_Uncert_Indexes\n",
      "6 EV_250_Aggr1km_RefSB\n",
      "7 EV_250_Aggr1km_RefSB_Uncert_Indexes\n",
      "8 EV_250_Aggr1km_RefSB_Samples_Used\n",
      "9 EV_500_Aggr1km_RefSB\n",
      "10 EV_500_Aggr1km_RefSB_Uncert_Indexes\n",
      "11 EV_500_Aggr1km_RefSB_Samples_Used\n",
      "12 Height\n",
      "13 SensorZenith\n",
      "14 SensorAzimuth\n",
      "15 Range\n",
      "16 SolarZenith\n",
      "17 SolarAzimuth\n",
      "18 gflags\n",
      "19 EV_Band26\n",
      "20 EV_Band26_Uncert_Indexes\n",
      "21 Band_250M\n",
      "22 Band_500M\n",
      "23 Band_1KM_RefSB\n",
      "24 Band_1KM_Emissive\n",
      "25 Noise in Thermal Detectors\n",
      "26 Change in relative responses of thermal detectors\n",
      "27 DC Restore Change for Thermal Bands\n",
      "28 DC Restore Change for Reflective 250m Bands\n",
      "29 DC Restore Change for Reflective 500m Bands\n",
      "30 DC Restore Change for Reflective 1km Bands\n"
     ]
    },
    {
     "name": "stderr",
     "output_type": "stream",
     "text": [
      "  0%|          | 0/110 [00:00<?, ?it/s]/opt/software/easybuild/software/SciPy-bundle/2021.10-foss-2021b/lib/python3.9/site-packages/numpy/core/fromnumeric.py:3440: RuntimeWarning: Mean of empty slice.\n",
      "  return _methods._mean(a, axis=axis, dtype=dtype,\n",
      "/opt/software/easybuild/software/SciPy-bundle/2021.10-foss-2021b/lib/python3.9/site-packages/numpy/core/_methods.py:189: RuntimeWarning: invalid value encountered in double_scalars\n",
      "  ret = ret.dtype.type(ret / rcount)\n",
      "100%|██████████| 110/110 [00:41<00:00,  2.67it/s]\n"
     ]
    },
    {
     "data": {
      "text/plain": [
       "518"
      ]
     },
     "execution_count": 4,
     "metadata": {},
     "output_type": "execute_result"
    }
   ],
   "source": [
    "### PROCESSING .hdf files\n",
    "import extract_training_data\n",
    "import importlib\n",
    "importlib.reload(extract_training_data)\n",
    "from extract_training_data import *\n",
    "#folder = \"/uio/hume/student-u37/fslippe/data/training_data/MOD02QKM/normalized_data/\"\n",
    "folder = \"/scratch/fslippe/modis/MOD02/daytime_1km/\"\n",
    "\n",
    "#folder = \"/uio/hume/student-u37/fslippe/data/nird_mount/MOD02QKM_202012-202104/normalized_data/\"\n",
    "\n",
    "start = \"20201201\"\n",
    "end = \"20210416\"\n",
    "#end = \"20201230\"\n",
    "\n",
    "#dates = [\"20210303\"]#, \"20210322\"]#, \"20210323\"]\n",
    "#dates_converted = []\n",
    "#for date in dates:\n",
    "#    dates_converted.append(convert_to_day_of_year(date))\n",
    "bands = [6,20,29]\n",
    "\n",
    "start_converted = convert_to_day_of_year(start)\n",
    "end_converted = convert_to_day_of_year(end)\n",
    "#print(start_converted)\n",
    "#print(end_converted)\n",
    "#x = [xi for xi in  extract_250m_data(folder, bands=[1], date_list=dates_converted) if xi.shape[0] > 256]\n",
    "x = [xi for xi in  extract_1km_data(folder, bands=bands, start_date=start_converted, end_date=end_converted) if xi.shape[0] > 64]\n",
    "\n",
    "len(x)\n",
    "#x = extract_250m_data(folder, bands=[1], start_date=start_converted, end_date=end_converted)\n"
   ]
  },
  {
   "cell_type": "code",
   "execution_count": null,
   "metadata": {},
   "outputs": [],
   "source": [
    "# x2 = [xi for xi in  extract_1km_data(folder, bands=[6], start_date=start_converted, end_date=end_converted) if xi.shape[0] > 64]\n",
    "# x3 = [xi for xi in  extract_1km_data(folder, bands=[1], start_date=start_converted, end_date=end_converted) if xi.shape[0] > 64]\n",
    "# x4 = [xi for xi in  extract_1km_data(folder, bands=[7], start_date=start_converted, end_date=end_converted) if xi.shape[0] > 64]\n",
    "# x5 = [xi for xi in  extract_1km_data(folder, bands=[20], start_date=start_converted, end_date=end_converted) if xi.shape[0] > 64]\n"
   ]
  },
  {
   "cell_type": "code",
   "execution_count": null,
   "metadata": {},
   "outputs": [],
   "source": [
    "# fig, axs = plt.subplots(1,5, dpi=300)\n",
    "# i = 15\n",
    "# cb = axs[4].imshow(x[i][:,:,0], cmap=\"gray\")\n",
    "# plt.colorbar(cb)\n",
    "# axs[1].imshow(x2[i], cmap=\"gray\")\n",
    "# axs[0].imshow(x3[i], cmap=\"gray\")\n",
    "# axs[2].imshow(x4[i], cmap=\"gray\")\n",
    "# axs[3].imshow(x5[i], cmap=\"gray\")\n",
    "\n"
   ]
  },
  {
   "cell_type": "code",
   "execution_count": 5,
   "metadata": {},
   "outputs": [
    {
     "name": "stdout",
     "output_type": "stream",
     "text": [
      "Input should already be normalized. Call self.normalize to normalize list of data\n"
     ]
    }
   ],
   "source": [
    "import autoencoder\n",
    "import importlib\n",
    "importlib.reload(autoencoder)\n",
    "from autoencoder import SobelFilterLayer, SimpleAutoencoder\n",
    "patch_size = 64\n",
    "\n",
    "autoencoder = SimpleAutoencoder(len(bands), patch_size, patch_size)\n",
    "#x = autoencoder.normalize(x)\n",
    "#optimizer = mixed_precision.LossScaleOptimizer(tf.keras.optimizers.Adam(learning_rate=1e-4), loss_scale='dynamic')\n",
    "optimizer = tf.keras.optimizers.Adam(learning_rate=1e-4)\n",
    "\n",
    "model = autoencoder.model(optimizer=optimizer, loss=\"combined\")\n"
   ]
  },
  {
   "cell_type": "code",
   "execution_count": 13,
   "metadata": {},
   "outputs": [],
   "source": [
    "patches = np.concatenate([autoencoder.extract_patches(n_d) for n_d in x], axis=0)\n"
   ]
  },
  {
   "cell_type": "code",
   "execution_count": 14,
   "metadata": {},
   "outputs": [
    {
     "name": "stdout",
     "output_type": "stream",
     "text": [
      "finished split\n"
     ]
    }
   ],
   "source": [
    "# Splitting the data\n",
    "patches, val_data = train_test_split(patches, test_size=0.2, random_state=42)\n",
    "print(\"finished split\")"
   ]
  },
  {
   "cell_type": "code",
   "execution_count": 15,
   "metadata": {},
   "outputs": [
    {
     "name": "stdout",
     "output_type": "stream",
     "text": [
      "(266817, 64, 64, 3)\n"
     ]
    }
   ],
   "source": [
    "print(patches.shape)"
   ]
  },
  {
   "cell_type": "code",
   "execution_count": 16,
   "metadata": {},
   "outputs": [
    {
     "name": "stdout",
     "output_type": "stream",
     "text": [
      "[[[[52.47492312  1.85876859 15.70326169]]]]\n"
     ]
    }
   ],
   "source": [
    "min_val = 0\n",
    "max_val = np.max(patches, axis=(0,1,2), keepdims=True)\n",
    "print(max_val)\n",
    "patches = (patches - min_val) / (max_val - min_val)\n",
    "val_data = (val_data - min_val) / (max_val - min_val)"
   ]
  },
  {
   "cell_type": "code",
   "execution_count": 17,
   "metadata": {},
   "outputs": [],
   "source": [
    "np.save(\"/uio/hume/student-u37/fslippe/data/models/winter_2020_21_val_patches\", val_data)\n",
    "np.save(\"/uio/hume/student-u37/fslippe/data/models/winter_2020_21_train_patches\", patches)\n"
   ]
  },
  {
   "cell_type": "code",
   "execution_count": null,
   "metadata": {},
   "outputs": [],
   "source": [
    "### SAVE TRAIN TEST PATCHES \n",
    "# patches = np.load(\"/scratch/fslippe/modis/MOD02/training_data/normalized_trainingpatches_bands6,20,29_winter20_21.npy\")[::4]\n",
    "# val_data  = np.load(\"/scratch/fslippe/modis/MOD02/test_data/normalized_testpatches_bands6,20,29_winter20_21.npy\")[::4]\n",
    "# patches.shape\n",
    "\n",
    "# print(np.mean(patches, axis=(0,1,2)))"
   ]
  },
  {
   "cell_type": "code",
   "execution_count": 18,
   "metadata": {},
   "outputs": [
    {
     "name": "stderr",
     "output_type": "stream",
     "text": [
      "2023-09-25 17:31:52.884654: W tensorflow/core/framework/cpu_allocator_impl.cc:82] Allocation of 13114589184 exceeds 10% of free system memory.\n",
      "2023-09-25 17:32:01.708008: W tensorflow/core/framework/cpu_allocator_impl.cc:82] Allocation of 13114589184 exceeds 10% of free system memory.\n",
      "2023-09-25 17:32:16.323746: W tensorflow/core/common_runtime/bfc_allocator.cc:462] Allocator (GPU_0_bfc) ran out of memory trying to allocate 12.21GiB (rounded to 13114589184)requested by op _EagerConst\n",
      "If the cause is memory fragmentation maybe the environment variable 'TF_GPU_ALLOCATOR=cuda_malloc_async' will improve the situation. \n",
      "Current allocation summary follows.\n",
      "Current allocation summary follows.\n",
      "2023-09-25 17:32:16.323847: I tensorflow/core/common_runtime/bfc_allocator.cc:1010] BFCAllocator dump for GPU_0_bfc\n",
      "2023-09-25 17:32:16.323857: I tensorflow/core/common_runtime/bfc_allocator.cc:1017] Bin (256): \tTotal Chunks: 108, Chunks in use: 106. 27.0KiB allocated for chunks. 26.5KiB in use in bin. 9.1KiB client-requested in use in bin.\n",
      "2023-09-25 17:32:16.323864: I tensorflow/core/common_runtime/bfc_allocator.cc:1017] Bin (512): \tTotal Chunks: 21, Chunks in use: 20. 10.5KiB allocated for chunks. 10.0KiB in use in bin. 10.0KiB client-requested in use in bin.\n",
      "2023-09-25 17:32:16.323871: I tensorflow/core/common_runtime/bfc_allocator.cc:1017] Bin (1024): \tTotal Chunks: 10, Chunks in use: 9. 16.8KiB allocated for chunks. 15.2KiB in use in bin. 14.5KiB client-requested in use in bin.\n",
      "2023-09-25 17:32:16.323877: I tensorflow/core/common_runtime/bfc_allocator.cc:1017] Bin (2048): \tTotal Chunks: 1, Chunks in use: 1. 2.0KiB allocated for chunks. 2.0KiB in use in bin. 1.7KiB client-requested in use in bin.\n",
      "2023-09-25 17:32:16.323892: I tensorflow/core/common_runtime/bfc_allocator.cc:1017] Bin (4096): \tTotal Chunks: 0, Chunks in use: 0. 0B allocated for chunks. 0B in use in bin. 0B client-requested in use in bin.\n",
      "2023-09-25 17:32:16.323898: I tensorflow/core/common_runtime/bfc_allocator.cc:1017] Bin (8192): \tTotal Chunks: 3, Chunks in use: 3. 32.5KiB allocated for chunks. 32.5KiB in use in bin. 27.0KiB client-requested in use in bin.\n",
      "2023-09-25 17:32:16.323905: I tensorflow/core/common_runtime/bfc_allocator.cc:1017] Bin (16384): \tTotal Chunks: 9, Chunks in use: 9. 162.0KiB allocated for chunks. 162.0KiB in use in bin. 162.0KiB client-requested in use in bin.\n",
      "2023-09-25 17:32:16.323911: I tensorflow/core/common_runtime/bfc_allocator.cc:1017] Bin (32768): \tTotal Chunks: 3, Chunks in use: 3. 108.0KiB allocated for chunks. 108.0KiB in use in bin. 108.0KiB client-requested in use in bin.\n",
      "2023-09-25 17:32:16.323918: I tensorflow/core/common_runtime/bfc_allocator.cc:1017] Bin (65536): \tTotal Chunks: 9, Chunks in use: 9. 648.0KiB allocated for chunks. 648.0KiB in use in bin. 648.0KiB client-requested in use in bin.\n",
      "2023-09-25 17:32:16.323924: I tensorflow/core/common_runtime/bfc_allocator.cc:1017] Bin (131072): \tTotal Chunks: 3, Chunks in use: 3. 504.0KiB allocated for chunks. 504.0KiB in use in bin. 432.0KiB client-requested in use in bin.\n",
      "2023-09-25 17:32:16.323930: I tensorflow/core/common_runtime/bfc_allocator.cc:1017] Bin (262144): \tTotal Chunks: 8, Chunks in use: 8. 2.43MiB allocated for chunks. 2.43MiB in use in bin. 2.25MiB client-requested in use in bin.\n",
      "2023-09-25 17:32:16.323936: I tensorflow/core/common_runtime/bfc_allocator.cc:1017] Bin (524288): \tTotal Chunks: 7, Chunks in use: 7. 3.88MiB allocated for chunks. 3.88MiB in use in bin. 3.66MiB client-requested in use in bin.\n",
      "2023-09-25 17:32:16.323942: I tensorflow/core/common_runtime/bfc_allocator.cc:1017] Bin (1048576): \tTotal Chunks: 0, Chunks in use: 0. 0B allocated for chunks. 0B in use in bin. 0B client-requested in use in bin.\n",
      "2023-09-25 17:32:16.323947: I tensorflow/core/common_runtime/bfc_allocator.cc:1017] Bin (2097152): \tTotal Chunks: 0, Chunks in use: 0. 0B allocated for chunks. 0B in use in bin. 0B client-requested in use in bin.\n",
      "2023-09-25 17:32:16.323953: I tensorflow/core/common_runtime/bfc_allocator.cc:1017] Bin (4194304): \tTotal Chunks: 0, Chunks in use: 0. 0B allocated for chunks. 0B in use in bin. 0B client-requested in use in bin.\n",
      "2023-09-25 17:32:16.323959: I tensorflow/core/common_runtime/bfc_allocator.cc:1017] Bin (8388608): \tTotal Chunks: 1, Chunks in use: 0. 14.00MiB allocated for chunks. 0B in use in bin. 0B client-requested in use in bin.\n",
      "2023-09-25 17:32:16.323965: I tensorflow/core/common_runtime/bfc_allocator.cc:1017] Bin (16777216): \tTotal Chunks: 1, Chunks in use: 0. 17.50MiB allocated for chunks. 0B in use in bin. 0B client-requested in use in bin.\n",
      "2023-09-25 17:32:16.323975: I tensorflow/core/common_runtime/bfc_allocator.cc:1017] Bin (33554432): \tTotal Chunks: 0, Chunks in use: 0. 0B allocated for chunks. 0B in use in bin. 0B client-requested in use in bin.\n",
      "2023-09-25 17:32:16.323981: I tensorflow/core/common_runtime/bfc_allocator.cc:1017] Bin (67108864): \tTotal Chunks: 0, Chunks in use: 0. 0B allocated for chunks. 0B in use in bin. 0B client-requested in use in bin.\n",
      "2023-09-25 17:32:16.323986: I tensorflow/core/common_runtime/bfc_allocator.cc:1017] Bin (134217728): \tTotal Chunks: 0, Chunks in use: 0. 0B allocated for chunks. 0B in use in bin. 0B client-requested in use in bin.\n",
      "2023-09-25 17:32:16.323993: I tensorflow/core/common_runtime/bfc_allocator.cc:1017] Bin (268435456): \tTotal Chunks: 6, Chunks in use: 3. 20.80GiB allocated for chunks. 18.32GiB in use in bin. 18.32GiB client-requested in use in bin.\n",
      "2023-09-25 17:32:16.323998: I tensorflow/core/common_runtime/bfc_allocator.cc:1033] Bin for 12.21GiB was 256.00MiB, Chunk State: \n",
      "2023-09-25 17:32:16.324011: I tensorflow/core/common_runtime/bfc_allocator.cc:1039]   Size: 631.08MiB | Requested Size: 1.50MiB | in_use: 0 | bin_num: 20, prev:   Size: 12.21GiB | Requested Size: 12.21GiB | in_use: 1 | bin_num: -1\n",
      "2023-09-25 17:32:16.324018: I tensorflow/core/common_runtime/bfc_allocator.cc:1039]   Size: 935.92MiB | Requested Size: 3.38MiB | in_use: 0 | bin_num: 20, prev:   Size: 512B | Requested Size: 512B | in_use: 1 | bin_num: -1\n",
      "2023-09-25 17:32:16.324025: I tensorflow/core/common_runtime/bfc_allocator.cc:1039]   Size: 969.20MiB | Requested Size: 0B | in_use: 0 | bin_num: 20, prev:   Size: 3.05GiB | Requested Size: 3.05GiB | in_use: 1 | bin_num: -1\n",
      "2023-09-25 17:32:16.324029: I tensorflow/core/common_runtime/bfc_allocator.cc:1046] Next region of size 13776322560\n",
      "2023-09-25 17:32:16.324036: I tensorflow/core/common_runtime/bfc_allocator.cc:1066] InUse at 7fb03e000000 of size 13114589184 next 182\n",
      "2023-09-25 17:32:16.324046: I tensorflow/core/common_runtime/bfc_allocator.cc:1066] Free  at 7fb34bb0c000 of size 661733376 next 18446744073709551615\n",
      "2023-09-25 17:32:16.324051: I tensorflow/core/common_runtime/bfc_allocator.cc:1046] Next region of size 4294967296\n",
      "2023-09-25 17:32:16.324055: I tensorflow/core/common_runtime/bfc_allocator.cc:1066] InUse at 7fbf4a000000 of size 3278684160 next 86\n",
      "2023-09-25 17:32:16.324060: I tensorflow/core/common_runtime/bfc_allocator.cc:1066] InUse at 7fc00d6cc000 of size 294912 next 154\n",
      "2023-09-25 17:32:16.324065: I tensorflow/core/common_runtime/bfc_allocator.cc:1066] InUse at 7fc00d714000 of size 589824 next 156\n",
      "2023-09-25 17:32:16.324069: I tensorflow/core/common_runtime/bfc_allocator.cc:1066] InUse at 7fc00d7a4000 of size 512 next 158\n",
      "2023-09-25 17:32:16.324074: I tensorflow/core/common_runtime/bfc_allocator.cc:1066] InUse at 7fc00d7a4200 of size 589824 next 159\n",
      "2023-09-25 17:32:16.324079: I tensorflow/core/common_runtime/bfc_allocator.cc:1066] InUse at 7fc00d834200 of size 512 next 160\n",
      "2023-09-25 17:32:16.324083: I tensorflow/core/common_runtime/bfc_allocator.cc:1066] InUse at 7fc00d834400 of size 294912 next 161\n",
      "2023-09-25 17:32:16.324088: I tensorflow/core/common_runtime/bfc_allocator.cc:1066] InUse at 7fc00d87c400 of size 256 next 162\n",
      "2023-09-25 17:32:16.324092: I tensorflow/core/common_runtime/bfc_allocator.cc:1066] InUse at 7fc00d87c500 of size 73728 next 163\n",
      "2023-09-25 17:32:16.324097: I tensorflow/core/common_runtime/bfc_allocator.cc:1066] InUse at 7fc00d88e500 of size 256 next 164\n",
      "2023-09-25 17:32:16.324101: I tensorflow/core/common_runtime/bfc_allocator.cc:1066] InUse at 7fc00d88e600 of size 18432 next 165\n",
      "2023-09-25 17:32:16.324106: I tensorflow/core/common_runtime/bfc_allocator.cc:1066] InUse at 7fc00d892e00 of size 256 next 166\n",
      "2023-09-25 17:32:16.324111: I tensorflow/core/common_runtime/bfc_allocator.cc:1066] InUse at 7fc00d892f00 of size 1792 next 167\n",
      "2023-09-25 17:32:16.324118: I tensorflow/core/common_runtime/bfc_allocator.cc:1066] InUse at 7fc00d893600 of size 256 next 168\n",
      "2023-09-25 17:32:16.324125: I tensorflow/core/common_runtime/bfc_allocator.cc:1066] InUse at 7fc00d893700 of size 256 next 169\n",
      "2023-09-25 17:32:16.324129: I tensorflow/core/common_runtime/bfc_allocator.cc:1066] InUse at 7fc00d893800 of size 256 next 170\n",
      "2023-09-25 17:32:16.324212: I tensorflow/core/common_runtime/bfc_allocator.cc:1066] InUse at 7fc00d893900 of size 256 next 171\n",
      "2023-09-25 17:32:16.324263: I tensorflow/core/common_runtime/bfc_allocator.cc:1066] InUse at 7fc00d893a00 of size 256 next 172\n",
      "2023-09-25 17:32:16.324269: I tensorflow/core/common_runtime/bfc_allocator.cc:1066] InUse at 7fc00d893b00 of size 256 next 173\n",
      "2023-09-25 17:32:16.324273: I tensorflow/core/common_runtime/bfc_allocator.cc:1066] InUse at 7fc00d893c00 of size 256 next 174\n",
      "2023-09-25 17:32:16.324278: I tensorflow/core/common_runtime/bfc_allocator.cc:1066] InUse at 7fc00d893d00 of size 256 next 175\n",
      "2023-09-25 17:32:16.324282: I tensorflow/core/common_runtime/bfc_allocator.cc:1066] InUse at 7fc00d893e00 of size 256 next 176\n",
      "2023-09-25 17:32:16.324287: I tensorflow/core/common_runtime/bfc_allocator.cc:1066] InUse at 7fc00d893f00 of size 256 next 177\n",
      "2023-09-25 17:32:16.324299: I tensorflow/core/common_runtime/bfc_allocator.cc:1066] InUse at 7fc00d894000 of size 256 next 178\n",
      "2023-09-25 17:32:16.324304: I tensorflow/core/common_runtime/bfc_allocator.cc:1066] InUse at 7fc00d894100 of size 256 next 179\n",
      "2023-09-25 17:32:16.324308: I tensorflow/core/common_runtime/bfc_allocator.cc:1066] Free  at 7fc00d894200 of size 1536 next 66\n",
      "2023-09-25 17:32:16.324313: I tensorflow/core/common_runtime/bfc_allocator.cc:1066] InUse at 7fc00d894800 of size 256 next 222\n",
      "2023-09-25 17:32:16.324318: I tensorflow/core/common_runtime/bfc_allocator.cc:1066] Free  at 7fc00d894900 of size 18350080 next 211\n",
      "2023-09-25 17:32:16.324323: I tensorflow/core/common_runtime/bfc_allocator.cc:1066] InUse at 7fc00ea14900 of size 256 next 199\n",
      "2023-09-25 17:32:16.324328: I tensorflow/core/common_runtime/bfc_allocator.cc:1066] Free  at 7fc00ea14a00 of size 14682112 next 226\n",
      "2023-09-25 17:32:16.324333: I tensorflow/core/common_runtime/bfc_allocator.cc:1066] InUse at 7fc00f815200 of size 512 next 235\n",
      "2023-09-25 17:32:16.324338: I tensorflow/core/common_runtime/bfc_allocator.cc:1066] InUse at 7fc00f815400 of size 512 next 219\n",
      "2023-09-25 17:32:16.324343: I tensorflow/core/common_runtime/bfc_allocator.cc:1066] Free  at 7fc00f815600 of size 981379584 next 18446744073709551615\n",
      "2023-09-25 17:32:16.324353: I tensorflow/core/common_runtime/bfc_allocator.cc:1046] Next region of size 4294967296\n",
      "2023-09-25 17:32:16.324359: I tensorflow/core/common_runtime/bfc_allocator.cc:1066] InUse at 7fc10e000000 of size 3278684160 next 84\n",
      "2023-09-25 17:32:16.324364: I tensorflow/core/common_runtime/bfc_allocator.cc:1066] Free  at 7fc1d16cc000 of size 1016283136 next 18446744073709551615\n",
      "2023-09-25 17:32:16.324369: I tensorflow/core/common_runtime/bfc_allocator.cc:1046] Next region of size 2097152\n",
      "2023-09-25 17:32:16.324375: I tensorflow/core/common_runtime/bfc_allocator.cc:1066] InUse at 7fd45b200000 of size 1280 next 1\n",
      "2023-09-25 17:32:16.324381: I tensorflow/core/common_runtime/bfc_allocator.cc:1066] InUse at 7fd45b200500 of size 256 next 2\n",
      "2023-09-25 17:32:16.324386: I tensorflow/core/common_runtime/bfc_allocator.cc:1066] InUse at 7fd45b200600 of size 256 next 3\n",
      "2023-09-25 17:32:16.324391: I tensorflow/core/common_runtime/bfc_allocator.cc:1066] InUse at 7fd45b200700 of size 256 next 4\n",
      "2023-09-25 17:32:16.324395: I tensorflow/core/common_runtime/bfc_allocator.cc:1066] InUse at 7fd45b200800 of size 256 next 5\n",
      "2023-09-25 17:32:16.324400: I tensorflow/core/common_runtime/bfc_allocator.cc:1066] InUse at 7fd45b200900 of size 256 next 8\n",
      "2023-09-25 17:32:16.324405: I tensorflow/core/common_runtime/bfc_allocator.cc:1066] InUse at 7fd45b200a00 of size 256 next 9\n",
      "2023-09-25 17:32:16.324410: I tensorflow/core/common_runtime/bfc_allocator.cc:1066] InUse at 7fd45b200b00 of size 256 next 10\n",
      "2023-09-25 17:32:16.324415: I tensorflow/core/common_runtime/bfc_allocator.cc:1066] InUse at 7fd45b200c00 of size 256 next 22\n",
      "2023-09-25 17:32:16.324427: I tensorflow/core/common_runtime/bfc_allocator.cc:1066] InUse at 7fd45b200d00 of size 256 next 25\n",
      "2023-09-25 17:32:16.324432: I tensorflow/core/common_runtime/bfc_allocator.cc:1066] InUse at 7fd45b200e00 of size 256 next 26\n",
      "2023-09-25 17:32:16.324436: I tensorflow/core/common_runtime/bfc_allocator.cc:1066] InUse at 7fd45b200f00 of size 256 next 29\n",
      "2023-09-25 17:32:16.324441: I tensorflow/core/common_runtime/bfc_allocator.cc:1066] InUse at 7fd45b201000 of size 256 next 30\n",
      "2023-09-25 17:32:16.324446: I tensorflow/core/common_runtime/bfc_allocator.cc:1066] InUse at 7fd45b201100 of size 256 next 32\n",
      "2023-09-25 17:32:16.324450: I tensorflow/core/common_runtime/bfc_allocator.cc:1066] InUse at 7fd45b201200 of size 256 next 33\n",
      "2023-09-25 17:32:16.324455: I tensorflow/core/common_runtime/bfc_allocator.cc:1066] InUse at 7fd45b201300 of size 256 next 203\n",
      "2023-09-25 17:32:16.324460: I tensorflow/core/common_runtime/bfc_allocator.cc:1066] InUse at 7fd45b201400 of size 256 next 35\n",
      "2023-09-25 17:32:16.324465: I tensorflow/core/common_runtime/bfc_allocator.cc:1066] InUse at 7fd45b201500 of size 256 next 6\n",
      "2023-09-25 17:32:16.324469: I tensorflow/core/common_runtime/bfc_allocator.cc:1066] InUse at 7fd45b201600 of size 1792 next 7\n",
      "2023-09-25 17:32:16.324474: I tensorflow/core/common_runtime/bfc_allocator.cc:1066] InUse at 7fd45b201d00 of size 256 next 13\n",
      "2023-09-25 17:32:16.324479: I tensorflow/core/common_runtime/bfc_allocator.cc:1066] InUse at 7fd45b201e00 of size 256 next 16\n",
      "2023-09-25 17:32:16.324483: I tensorflow/core/common_runtime/bfc_allocator.cc:1066] InUse at 7fd45b201f00 of size 256 next 17\n",
      "2023-09-25 17:32:16.324488: I tensorflow/core/common_runtime/bfc_allocator.cc:1066] InUse at 7fd45b202000 of size 256 next 18\n",
      "2023-09-25 17:32:16.324493: I tensorflow/core/common_runtime/bfc_allocator.cc:1066] InUse at 7fd45b202100 of size 256 next 207\n",
      "2023-09-25 17:32:16.324498: I tensorflow/core/common_runtime/bfc_allocator.cc:1066] Free  at 7fd45b202200 of size 256 next 20\n",
      "2023-09-25 17:32:16.324502: I tensorflow/core/common_runtime/bfc_allocator.cc:1066] InUse at 7fd45b202300 of size 256 next 21\n",
      "2023-09-25 17:32:16.324507: I tensorflow/core/common_runtime/bfc_allocator.cc:1066] InUse at 7fd45b202400 of size 256 next 14\n",
      "2023-09-25 17:32:16.324512: I tensorflow/core/common_runtime/bfc_allocator.cc:1066] InUse at 7fd45b202500 of size 1792 next 15\n",
      "2023-09-25 17:32:16.324516: I tensorflow/core/common_runtime/bfc_allocator.cc:1066] InUse at 7fd45b202c00 of size 256 next 36\n",
      "2023-09-25 17:32:16.324521: I tensorflow/core/common_runtime/bfc_allocator.cc:1066] InUse at 7fd45b202d00 of size 256 next 37\n",
      "2023-09-25 17:32:16.324526: I tensorflow/core/common_runtime/bfc_allocator.cc:1066] InUse at 7fd45b202e00 of size 256 next 40\n",
      "2023-09-25 17:32:16.324531: I tensorflow/core/common_runtime/bfc_allocator.cc:1066] InUse at 7fd45b202f00 of size 256 next 41\n",
      "2023-09-25 17:32:16.324535: I tensorflow/core/common_runtime/bfc_allocator.cc:1066] InUse at 7fd45b203000 of size 256 next 44\n",
      "2023-09-25 17:32:16.324540: I tensorflow/core/common_runtime/bfc_allocator.cc:1066] InUse at 7fd45b203100 of size 256 next 45\n",
      "2023-09-25 17:32:16.324545: I tensorflow/core/common_runtime/bfc_allocator.cc:1066] InUse at 7fd45b203200 of size 256 next 47\n",
      "2023-09-25 17:32:16.324549: I tensorflow/core/common_runtime/bfc_allocator.cc:1066] InUse at 7fd45b203300 of size 256 next 48\n",
      "2023-09-25 17:32:16.324554: I tensorflow/core/common_runtime/bfc_allocator.cc:1066] InUse at 7fd45b203400 of size 256 next 210\n",
      "2023-09-25 17:32:16.324559: I tensorflow/core/common_runtime/bfc_allocator.cc:1066] InUse at 7fd45b203500 of size 256 next 50\n",
      "2023-09-25 17:32:16.324564: I tensorflow/core/common_runtime/bfc_allocator.cc:1066] InUse at 7fd45b203600 of size 256 next 51\n",
      "2023-09-25 17:32:16.324568: I tensorflow/core/common_runtime/bfc_allocator.cc:1066] InUse at 7fd45b203700 of size 256 next 52\n",
      "2023-09-25 17:32:16.324573: I tensorflow/core/common_runtime/bfc_allocator.cc:1066] InUse at 7fd45b203800 of size 512 next 53\n",
      "2023-09-25 17:32:16.324579: I tensorflow/core/common_runtime/bfc_allocator.cc:1066] InUse at 7fd45b203a00 of size 256 next 56\n",
      "2023-09-25 17:32:16.324583: I tensorflow/core/common_runtime/bfc_allocator.cc:1066] InUse at 7fd45b203b00 of size 256 next 57\n",
      "2023-09-25 17:32:16.324588: I tensorflow/core/common_runtime/bfc_allocator.cc:1066] InUse at 7fd45b203c00 of size 512 next 61\n",
      "2023-09-25 17:32:16.324593: I tensorflow/core/common_runtime/bfc_allocator.cc:1066] InUse at 7fd45b203e00 of size 512 next 62\n",
      "2023-09-25 17:32:16.324598: I tensorflow/core/common_runtime/bfc_allocator.cc:1066] InUse at 7fd45b204000 of size 512 next 64\n",
      "2023-09-25 17:32:16.324602: I tensorflow/core/common_runtime/bfc_allocator.cc:1066] InUse at 7fd45b204200 of size 512 next 65\n",
      "2023-09-25 17:32:16.324607: I tensorflow/core/common_runtime/bfc_allocator.cc:1066] Free  at 7fd45b204400 of size 512 next 230\n",
      "2023-09-25 17:32:16.324612: I tensorflow/core/common_runtime/bfc_allocator.cc:1066] InUse at 7fd45b204600 of size 256 next 233\n",
      "2023-09-25 17:32:16.324617: I tensorflow/core/common_runtime/bfc_allocator.cc:1066] Free  at 7fd45b204700 of size 256 next 67\n",
      "2023-09-25 17:32:16.324621: I tensorflow/core/common_runtime/bfc_allocator.cc:1066] InUse at 7fd45b204800 of size 256 next 68\n",
      "2023-09-25 17:32:16.324626: I tensorflow/core/common_runtime/bfc_allocator.cc:1066] InUse at 7fd45b204900 of size 512 next 71\n",
      "2023-09-25 17:32:16.324631: I tensorflow/core/common_runtime/bfc_allocator.cc:1066] InUse at 7fd45b204b00 of size 256 next 73\n",
      "2023-09-25 17:32:16.324635: I tensorflow/core/common_runtime/bfc_allocator.cc:1066] InUse at 7fd45b204c00 of size 256 next 74\n",
      "2023-09-25 17:32:16.324640: I tensorflow/core/common_runtime/bfc_allocator.cc:1066] InUse at 7fd45b204d00 of size 256 next 76\n",
      "2023-09-25 17:32:16.324645: I tensorflow/core/common_runtime/bfc_allocator.cc:1066] InUse at 7fd45b204e00 of size 256 next 78\n",
      "2023-09-25 17:32:16.324650: I tensorflow/core/common_runtime/bfc_allocator.cc:1066] InUse at 7fd45b204f00 of size 256 next 213\n",
      "2023-09-25 17:32:16.324654: I tensorflow/core/common_runtime/bfc_allocator.cc:1066] InUse at 7fd45b205000 of size 256 next 81\n",
      "2023-09-25 17:32:16.324659: I tensorflow/core/common_runtime/bfc_allocator.cc:1066] InUse at 7fd45b205100 of size 256 next 82\n",
      "2023-09-25 17:32:16.324664: I tensorflow/core/common_runtime/bfc_allocator.cc:1066] InUse at 7fd45b205200 of size 256 next 87\n",
      "2023-09-25 17:32:16.324668: I tensorflow/core/common_runtime/bfc_allocator.cc:1066] InUse at 7fd45b205300 of size 256 next 88\n",
      "2023-09-25 17:32:16.324673: I tensorflow/core/common_runtime/bfc_allocator.cc:1066] InUse at 7fd45b205400 of size 256 next 89\n",
      "2023-09-25 17:32:16.324678: I tensorflow/core/common_runtime/bfc_allocator.cc:1066] InUse at 7fd45b205500 of size 256 next 90\n",
      "2023-09-25 17:32:16.324683: I tensorflow/core/common_runtime/bfc_allocator.cc:1066] InUse at 7fd45b205600 of size 256 next 91\n",
      "2023-09-25 17:32:16.324687: I tensorflow/core/common_runtime/bfc_allocator.cc:1066] InUse at 7fd45b205700 of size 256 next 92\n",
      "2023-09-25 17:32:16.324692: I tensorflow/core/common_runtime/bfc_allocator.cc:1066] InUse at 7fd45b205800 of size 256 next 93\n",
      "2023-09-25 17:32:16.324697: I tensorflow/core/common_runtime/bfc_allocator.cc:1066] InUse at 7fd45b205900 of size 256 next 94\n",
      "2023-09-25 17:32:16.324701: I tensorflow/core/common_runtime/bfc_allocator.cc:1066] InUse at 7fd45b205a00 of size 256 next 96\n",
      "2023-09-25 17:32:16.324706: I tensorflow/core/common_runtime/bfc_allocator.cc:1066] InUse at 7fd45b205b00 of size 256 next 98\n",
      "2023-09-25 17:32:16.324711: I tensorflow/core/common_runtime/bfc_allocator.cc:1066] InUse at 7fd45b205c00 of size 256 next 80\n",
      "2023-09-25 17:32:16.324716: I tensorflow/core/common_runtime/bfc_allocator.cc:1066] InUse at 7fd45b205d00 of size 2048 next 12\n",
      "2023-09-25 17:32:16.324721: I tensorflow/core/common_runtime/bfc_allocator.cc:1066] InUse at 7fd45b206500 of size 9216 next 11\n",
      "2023-09-25 17:32:16.324728: I tensorflow/core/common_runtime/bfc_allocator.cc:1066] InUse at 7fd45b208900 of size 1792 next 95\n",
      "2023-09-25 17:32:16.324734: I tensorflow/core/common_runtime/bfc_allocator.cc:1066] InUse at 7fd45b209000 of size 1792 next 97\n",
      "2023-09-25 17:32:16.324738: I tensorflow/core/common_runtime/bfc_allocator.cc:1066] InUse at 7fd45b209700 of size 14848 next 77\n",
      "2023-09-25 17:32:16.324743: I tensorflow/core/common_runtime/bfc_allocator.cc:1066] InUse at 7fd45b20d100 of size 18432 next 24\n",
      "2023-09-25 17:32:16.324748: I tensorflow/core/common_runtime/bfc_allocator.cc:1066] InUse at 7fd45b211900 of size 18432 next 23\n",
      "2023-09-25 17:32:16.324753: I tensorflow/core/common_runtime/bfc_allocator.cc:1066] InUse at 7fd45b216100 of size 18432 next 31\n",
      "2023-09-25 17:32:16.324757: I tensorflow/core/common_runtime/bfc_allocator.cc:1066] InUse at 7fd45b21a900 of size 256 next 99\n",
      "2023-09-25 17:32:16.324762: I tensorflow/core/common_runtime/bfc_allocator.cc:1066] InUse at 7fd45b21aa00 of size 256 next 100\n",
      "2023-09-25 17:32:16.324766: I tensorflow/core/common_runtime/bfc_allocator.cc:1066] InUse at 7fd45b21ab00 of size 256 next 102\n",
      "2023-09-25 17:32:16.324771: I tensorflow/core/common_runtime/bfc_allocator.cc:1066] InUse at 7fd45b21ac00 of size 256 next 104\n",
      "2023-09-25 17:32:16.324776: I tensorflow/core/common_runtime/bfc_allocator.cc:1066] InUse at 7fd45b21ad00 of size 256 next 105\n",
      "2023-09-25 17:32:16.324781: I tensorflow/core/common_runtime/bfc_allocator.cc:1066] InUse at 7fd45b21ae00 of size 256 next 106\n",
      "2023-09-25 17:32:16.324785: I tensorflow/core/common_runtime/bfc_allocator.cc:1066] InUse at 7fd45b21af00 of size 256 next 107\n",
      "2023-09-25 17:32:16.324790: I tensorflow/core/common_runtime/bfc_allocator.cc:1066] InUse at 7fd45b21b000 of size 256 next 108\n",
      "2023-09-25 17:32:16.324795: I tensorflow/core/common_runtime/bfc_allocator.cc:1066] InUse at 7fd45b21b100 of size 256 next 110\n",
      "2023-09-25 17:32:16.324799: I tensorflow/core/common_runtime/bfc_allocator.cc:1066] InUse at 7fd45b21b200 of size 256 next 111\n",
      "2023-09-25 17:32:16.324804: I tensorflow/core/common_runtime/bfc_allocator.cc:1066] InUse at 7fd45b21b300 of size 256 next 112\n",
      "2023-09-25 17:32:16.324809: I tensorflow/core/common_runtime/bfc_allocator.cc:1066] InUse at 7fd45b21b400 of size 256 next 113\n",
      "2023-09-25 17:32:16.324814: I tensorflow/core/common_runtime/bfc_allocator.cc:1066] InUse at 7fd45b21b500 of size 512 next 114\n",
      "2023-09-25 17:32:16.324818: I tensorflow/core/common_runtime/bfc_allocator.cc:1066] InUse at 7fd45b21b700 of size 512 next 115\n",
      "2023-09-25 17:32:16.324823: I tensorflow/core/common_runtime/bfc_allocator.cc:1066] InUse at 7fd45b21b900 of size 512 next 116\n",
      "2023-09-25 17:32:16.324828: I tensorflow/core/common_runtime/bfc_allocator.cc:1066] InUse at 7fd45b21bb00 of size 512 next 117\n",
      "2023-09-25 17:32:16.324832: I tensorflow/core/common_runtime/bfc_allocator.cc:1066] InUse at 7fd45b21bd00 of size 512 next 118\n",
      "2023-09-25 17:32:16.324837: I tensorflow/core/common_runtime/bfc_allocator.cc:1066] InUse at 7fd45b21bf00 of size 512 next 120\n",
      "2023-09-25 17:32:16.324842: I tensorflow/core/common_runtime/bfc_allocator.cc:1066] InUse at 7fd45b21c100 of size 256 next 122\n",
      "2023-09-25 17:32:16.324846: I tensorflow/core/common_runtime/bfc_allocator.cc:1066] InUse at 7fd45b21c200 of size 256 next 124\n",
      "2023-09-25 17:32:16.324851: I tensorflow/core/common_runtime/bfc_allocator.cc:1066] InUse at 7fd45b21c300 of size 256 next 126\n",
      "2023-09-25 17:32:16.324856: I tensorflow/core/common_runtime/bfc_allocator.cc:1066] InUse at 7fd45b21c400 of size 1792 next 127\n",
      "2023-09-25 17:32:16.324861: I tensorflow/core/common_runtime/bfc_allocator.cc:1066] InUse at 7fd45b21cb00 of size 256 next 128\n",
      "2023-09-25 17:32:16.324865: I tensorflow/core/common_runtime/bfc_allocator.cc:1066] InUse at 7fd45b21cc00 of size 1792 next 129\n",
      "2023-09-25 17:32:16.324870: I tensorflow/core/common_runtime/bfc_allocator.cc:1066] InUse at 7fd45b21d300 of size 256 next 130\n",
      "2023-09-25 17:32:16.324875: I tensorflow/core/common_runtime/bfc_allocator.cc:1066] InUse at 7fd45b21d400 of size 1792 next 131\n",
      "2023-09-25 17:32:16.324879: I tensorflow/core/common_runtime/bfc_allocator.cc:1066] InUse at 7fd45b21db00 of size 256 next 132\n",
      "2023-09-25 17:32:16.324885: I tensorflow/core/common_runtime/bfc_allocator.cc:1066] InUse at 7fd45b21dc00 of size 256 next 134\n",
      "2023-09-25 17:32:16.324890: I tensorflow/core/common_runtime/bfc_allocator.cc:1066] InUse at 7fd45b21dd00 of size 256 next 135\n",
      "2023-09-25 17:32:16.324894: I tensorflow/core/common_runtime/bfc_allocator.cc:1066] InUse at 7fd45b21de00 of size 256 next 136\n",
      "2023-09-25 17:32:16.324899: I tensorflow/core/common_runtime/bfc_allocator.cc:1066] InUse at 7fd45b21df00 of size 256 next 138\n",
      "2023-09-25 17:32:16.324904: I tensorflow/core/common_runtime/bfc_allocator.cc:1066] InUse at 7fd45b21e000 of size 256 next 140\n",
      "2023-09-25 17:32:16.324908: I tensorflow/core/common_runtime/bfc_allocator.cc:1066] InUse at 7fd45b21e100 of size 256 next 142\n",
      "2023-09-25 17:32:16.324913: I tensorflow/core/common_runtime/bfc_allocator.cc:1066] InUse at 7fd45b21e200 of size 256 next 143\n",
      "2023-09-25 17:32:16.324918: I tensorflow/core/common_runtime/bfc_allocator.cc:1066] InUse at 7fd45b21e300 of size 256 next 144\n",
      "2023-09-25 17:32:16.324923: I tensorflow/core/common_runtime/bfc_allocator.cc:1066] InUse at 7fd45b21e400 of size 256 next 146\n",
      "2023-09-25 17:32:16.324927: I tensorflow/core/common_runtime/bfc_allocator.cc:1066] InUse at 7fd45b21e500 of size 256 next 148\n",
      "2023-09-25 17:32:16.324932: I tensorflow/core/common_runtime/bfc_allocator.cc:1066] InUse at 7fd45b21e600 of size 256 next 150\n",
      "2023-09-25 17:32:16.324937: I tensorflow/core/common_runtime/bfc_allocator.cc:1066] InUse at 7fd45b21e700 of size 256 next 151\n",
      "2023-09-25 17:32:16.324942: I tensorflow/core/common_runtime/bfc_allocator.cc:1066] InUse at 7fd45b21e800 of size 256 next 152\n",
      "2023-09-25 17:32:16.324947: I tensorflow/core/common_runtime/bfc_allocator.cc:1066] InUse at 7fd45b21e900 of size 512 next 153\n",
      "2023-09-25 17:32:16.324951: I tensorflow/core/common_runtime/bfc_allocator.cc:1066] InUse at 7fd45b21eb00 of size 512 next 155\n",
      "2023-09-25 17:32:16.324956: I tensorflow/core/common_runtime/bfc_allocator.cc:1066] InUse at 7fd45b21ed00 of size 512 next 157\n",
      "2023-09-25 17:32:16.324961: I tensorflow/core/common_runtime/bfc_allocator.cc:1066] InUse at 7fd45b21ef00 of size 512 next 28\n",
      "2023-09-25 17:32:16.324966: I tensorflow/core/common_runtime/bfc_allocator.cc:1066] InUse at 7fd45b21f100 of size 36864 next 27\n",
      "2023-09-25 17:32:16.324971: I tensorflow/core/common_runtime/bfc_allocator.cc:1066] InUse at 7fd45b228100 of size 18432 next 101\n",
      "2023-09-25 17:32:16.324976: I tensorflow/core/common_runtime/bfc_allocator.cc:1066] InUse at 7fd45b22c900 of size 18432 next 103\n",
      "2023-09-25 17:32:16.324981: I tensorflow/core/common_runtime/bfc_allocator.cc:1066] InUse at 7fd45b231100 of size 36864 next 75\n",
      "2023-09-25 17:32:16.324985: I tensorflow/core/common_runtime/bfc_allocator.cc:1066] InUse at 7fd45b23a100 of size 73728 next 39\n",
      "2023-09-25 17:32:16.324990: I tensorflow/core/common_runtime/bfc_allocator.cc:1066] InUse at 7fd45b24c100 of size 73728 next 38\n",
      "2023-09-25 17:32:16.324995: I tensorflow/core/common_runtime/bfc_allocator.cc:1066] InUse at 7fd45b25e100 of size 73728 next 46\n",
      "2023-09-25 17:32:16.324999: I tensorflow/core/common_runtime/bfc_allocator.cc:1066] InUse at 7fd45b270100 of size 73728 next 43\n",
      "2023-09-25 17:32:16.325004: I tensorflow/core/common_runtime/bfc_allocator.cc:1066] InUse at 7fd45b282100 of size 147456 next 42\n",
      "2023-09-25 17:32:16.325009: I tensorflow/core/common_runtime/bfc_allocator.cc:1066] InUse at 7fd45b2a6100 of size 73728 next 109\n",
      "2023-09-25 17:32:16.325014: I tensorflow/core/common_runtime/bfc_allocator.cc:1066] InUse at 7fd45b2b8100 of size 221184 next 63\n",
      "2023-09-25 17:32:16.325019: I tensorflow/core/common_runtime/bfc_allocator.cc:1066] InUse at 7fd45b2ee100 of size 294912 next 55\n",
      "2023-09-25 17:32:16.325023: I tensorflow/core/common_runtime/bfc_allocator.cc:1066] InUse at 7fd45b336100 of size 294912 next 54\n",
      "2023-09-25 17:32:16.325028: I tensorflow/core/common_runtime/bfc_allocator.cc:1066] InUse at 7fd45b37e100 of size 532224 next 18446744073709551615\n",
      "2023-09-25 17:32:16.325035: I tensorflow/core/common_runtime/bfc_allocator.cc:1046] Next region of size 4194304\n",
      "2023-09-25 17:32:16.325040: I tensorflow/core/common_runtime/bfc_allocator.cc:1066] InUse at 7fd45b400000 of size 294912 next 72\n",
      "2023-09-25 17:32:16.325058: I tensorflow/core/common_runtime/bfc_allocator.cc:1066] InUse at 7fd45b448000 of size 294912 next 60\n",
      "2023-09-25 17:32:16.325063: I tensorflow/core/common_runtime/bfc_allocator.cc:1066] InUse at 7fd45b490000 of size 589824 next 58\n",
      "2023-09-25 17:32:16.325068: I tensorflow/core/common_runtime/bfc_allocator.cc:1066] InUse at 7fd45b520000 of size 589824 next 70\n",
      "2023-09-25 17:32:16.325073: I tensorflow/core/common_runtime/bfc_allocator.cc:1066] InUse at 7fd45b5b0000 of size 589824 next 69\n",
      "2023-09-25 17:32:16.325077: I tensorflow/core/common_runtime/bfc_allocator.cc:1066] InUse at 7fd45b640000 of size 589824 next 119\n",
      "2023-09-25 17:32:16.325082: I tensorflow/core/common_runtime/bfc_allocator.cc:1066] InUse at 7fd45b6d0000 of size 294912 next 121\n",
      "2023-09-25 17:32:16.325087: I tensorflow/core/common_runtime/bfc_allocator.cc:1066] InUse at 7fd45b718000 of size 73728 next 123\n",
      "2023-09-25 17:32:16.325091: I tensorflow/core/common_runtime/bfc_allocator.cc:1066] InUse at 7fd45b72a000 of size 18432 next 125\n",
      "2023-09-25 17:32:16.325096: I tensorflow/core/common_runtime/bfc_allocator.cc:1066] InUse at 7fd45b72e800 of size 9216 next 133\n",
      "2023-09-25 17:32:16.325100: I tensorflow/core/common_runtime/bfc_allocator.cc:1066] InUse at 7fd45b730c00 of size 18432 next 137\n",
      "2023-09-25 17:32:16.325105: I tensorflow/core/common_runtime/bfc_allocator.cc:1066] InUse at 7fd45b735400 of size 18432 next 139\n",
      "2023-09-25 17:32:16.325109: I tensorflow/core/common_runtime/bfc_allocator.cc:1066] InUse at 7fd45b739c00 of size 36864 next 141\n",
      "2023-09-25 17:32:16.325114: I tensorflow/core/common_runtime/bfc_allocator.cc:1066] InUse at 7fd45b742c00 of size 73728 next 145\n",
      "2023-09-25 17:32:16.325119: I tensorflow/core/common_runtime/bfc_allocator.cc:1066] InUse at 7fd45b754c00 of size 73728 next 147\n",
      "2023-09-25 17:32:16.325123: I tensorflow/core/common_runtime/bfc_allocator.cc:1066] InUse at 7fd45b766c00 of size 147456 next 149\n",
      "2023-09-25 17:32:16.325128: I tensorflow/core/common_runtime/bfc_allocator.cc:1066] InUse at 7fd45b78ac00 of size 480256 next 18446744073709551615\n",
      "2023-09-25 17:32:16.325132: I tensorflow/core/common_runtime/bfc_allocator.cc:1071]      Summary of in-use Chunks by size: \n",
      "2023-09-25 17:32:16.325147: I tensorflow/core/common_runtime/bfc_allocator.cc:1074] 106 Chunks of size 256 totalling 26.5KiB\n",
      "2023-09-25 17:32:16.325153: I tensorflow/core/common_runtime/bfc_allocator.cc:1074] 20 Chunks of size 512 totalling 10.0KiB\n",
      "2023-09-25 17:32:16.325158: I tensorflow/core/common_runtime/bfc_allocator.cc:1074] 1 Chunks of size 1280 totalling 1.2KiB\n",
      "2023-09-25 17:32:16.325164: I tensorflow/core/common_runtime/bfc_allocator.cc:1074] 8 Chunks of size 1792 totalling 14.0KiB\n",
      "2023-09-25 17:32:16.325169: I tensorflow/core/common_runtime/bfc_allocator.cc:1074] 1 Chunks of size 2048 totalling 2.0KiB\n",
      "2023-09-25 17:32:16.325174: I tensorflow/core/common_runtime/bfc_allocator.cc:1074] 2 Chunks of size 9216 totalling 18.0KiB\n",
      "2023-09-25 17:32:16.325179: I tensorflow/core/common_runtime/bfc_allocator.cc:1074] 1 Chunks of size 14848 totalling 14.5KiB\n",
      "2023-09-25 17:32:16.325185: I tensorflow/core/common_runtime/bfc_allocator.cc:1074] 9 Chunks of size 18432 totalling 162.0KiB\n",
      "2023-09-25 17:32:16.325190: I tensorflow/core/common_runtime/bfc_allocator.cc:1074] 3 Chunks of size 36864 totalling 108.0KiB\n",
      "2023-09-25 17:32:16.325195: I tensorflow/core/common_runtime/bfc_allocator.cc:1074] 9 Chunks of size 73728 totalling 648.0KiB\n",
      "2023-09-25 17:32:16.325201: I tensorflow/core/common_runtime/bfc_allocator.cc:1074] 2 Chunks of size 147456 totalling 288.0KiB\n",
      "2023-09-25 17:32:16.325206: I tensorflow/core/common_runtime/bfc_allocator.cc:1074] 1 Chunks of size 221184 totalling 216.0KiB\n",
      "2023-09-25 17:32:16.325211: I tensorflow/core/common_runtime/bfc_allocator.cc:1074] 7 Chunks of size 294912 totalling 1.97MiB\n",
      "2023-09-25 17:32:16.325218: I tensorflow/core/common_runtime/bfc_allocator.cc:1074] 1 Chunks of size 480256 totalling 469.0KiB\n",
      "2023-09-25 17:32:16.325223: I tensorflow/core/common_runtime/bfc_allocator.cc:1074] 1 Chunks of size 532224 totalling 519.8KiB\n",
      "2023-09-25 17:32:16.325228: I tensorflow/core/common_runtime/bfc_allocator.cc:1074] 6 Chunks of size 589824 totalling 3.38MiB\n",
      "2023-09-25 17:32:16.325233: I tensorflow/core/common_runtime/bfc_allocator.cc:1074] 2 Chunks of size 3278684160 totalling 6.11GiB\n",
      "2023-09-25 17:32:16.325239: I tensorflow/core/common_runtime/bfc_allocator.cc:1074] 1 Chunks of size 13114589184 totalling 12.21GiB\n",
      "2023-09-25 17:32:16.325244: I tensorflow/core/common_runtime/bfc_allocator.cc:1078] Sum Total of in-use chunks: 18.33GiB\n",
      "2023-09-25 17:32:16.325250: I tensorflow/core/common_runtime/bfc_allocator.cc:1080] total_region_allocated_bytes_: 22372548608 memory_limit_: 22372548608 available bytes: 0 curr_region_allocation_bytes_: 17179869184\n",
      "2023-09-25 17:32:16.325261: I tensorflow/core/common_runtime/bfc_allocator.cc:1086] Stats: \n",
      "Limit:                     22372548608\n",
      "InUse:                     19680117760\n",
      "MaxInUse:                  19680117760\n",
      "NumAllocs:                      638813\n",
      "MaxAllocSize:              13114589184\n",
      "Reserved:                            0\n",
      "PeakReserved:                        0\n",
      "LargestFreeBlock:                    0\n",
      "\n",
      "2023-09-25 17:32:16.325275: W tensorflow/core/common_runtime/bfc_allocator.cc:474] ***********************************************************__****************___****************___*\n"
     ]
    },
    {
     "ename": "InternalError",
     "evalue": "Failed copying input tensor from /job:localhost/replica:0/task:0/device:CPU:0 to /job:localhost/replica:0/task:0/device:GPU:0 in order to run _EagerConst: Dst tensor is not initialized.",
     "output_type": "error",
     "traceback": [
      "\u001b[0;31m---------------------------------------------------------------------------\u001b[0m",
      "\u001b[0;31mInternalError\u001b[0m                             Traceback (most recent call last)",
      "\u001b[1;32m/uio/hume/student-u37/fslippe/master_project/code/new_autoencoder.ipynb Cell 14\u001b[0m line \u001b[0;36m3\n\u001b[1;32m      <a href='vscode-notebook-cell://ssh-remote%2Bmimi/uio/hume/student-u37/fslippe/master_project/code/new_autoencoder.ipynb#X11sdnNjb2RlLXJlbW90ZQ%3D%3D?line=0'>1</a>\u001b[0m \u001b[39m### STANDARD FIT\u001b[39;00m\n\u001b[1;32m      <a href='vscode-notebook-cell://ssh-remote%2Bmimi/uio/hume/student-u37/fslippe/master_project/code/new_autoencoder.ipynb#X11sdnNjb2RlLXJlbW90ZQ%3D%3D?line=1'>2</a>\u001b[0m gc\u001b[39m.\u001b[39mcollect()\n\u001b[0;32m----> <a href='vscode-notebook-cell://ssh-remote%2Bmimi/uio/hume/student-u37/fslippe/master_project/code/new_autoencoder.ipynb#X11sdnNjb2RlLXJlbW90ZQ%3D%3D?line=2'>3</a>\u001b[0m model\u001b[39m.\u001b[39;49mfit(patches, patches, epochs\u001b[39m=\u001b[39;49m\u001b[39m100\u001b[39;49m, batch_size\u001b[39m=\u001b[39;49m\u001b[39m32\u001b[39;49m)\n",
      "File \u001b[0;32m/opt/software/easybuild/software/TensorFlow/2.7.1-foss-2021b-CUDA-11.4.1/lib/python3.9/site-packages/keras/utils/traceback_utils.py:67\u001b[0m, in \u001b[0;36mfilter_traceback.<locals>.error_handler\u001b[0;34m(*args, **kwargs)\u001b[0m\n\u001b[1;32m     65\u001b[0m \u001b[39mexcept\u001b[39;00m \u001b[39mException\u001b[39;00m \u001b[39mas\u001b[39;00m e:  \u001b[39m# pylint: disable=broad-except\u001b[39;00m\n\u001b[1;32m     66\u001b[0m   filtered_tb \u001b[39m=\u001b[39m _process_traceback_frames(e\u001b[39m.\u001b[39m__traceback__)\n\u001b[0;32m---> 67\u001b[0m   \u001b[39mraise\u001b[39;00m e\u001b[39m.\u001b[39mwith_traceback(filtered_tb) \u001b[39mfrom\u001b[39;00m \u001b[39mNone\u001b[39;00m\n\u001b[1;32m     68\u001b[0m \u001b[39mfinally\u001b[39;00m:\n\u001b[1;32m     69\u001b[0m   \u001b[39mdel\u001b[39;00m filtered_tb\n",
      "File \u001b[0;32m/opt/software/easybuild/software/TensorFlow/2.7.1-foss-2021b-CUDA-11.4.1/lib/python3.9/site-packages/tensorflow/python/framework/constant_op.py:106\u001b[0m, in \u001b[0;36mconvert_to_eager_tensor\u001b[0;34m(value, ctx, dtype)\u001b[0m\n\u001b[1;32m    104\u001b[0m     dtype \u001b[39m=\u001b[39m dtypes\u001b[39m.\u001b[39mas_dtype(dtype)\u001b[39m.\u001b[39mas_datatype_enum\n\u001b[1;32m    105\u001b[0m ctx\u001b[39m.\u001b[39mensure_initialized()\n\u001b[0;32m--> 106\u001b[0m \u001b[39mreturn\u001b[39;00m ops\u001b[39m.\u001b[39;49mEagerTensor(value, ctx\u001b[39m.\u001b[39;49mdevice_name, dtype)\n",
      "\u001b[0;31mInternalError\u001b[0m: Failed copying input tensor from /job:localhost/replica:0/task:0/device:CPU:0 to /job:localhost/replica:0/task:0/device:GPU:0 in order to run _EagerConst: Dst tensor is not initialized."
     ]
    }
   ],
   "source": [
    "### STANDARD FIT\n",
    "gc.collect()\n",
    "model.fit(patches, patches, epochs=100, batch_size=32)\n"
   ]
  },
  {
   "cell_type": "code",
   "execution_count": null,
   "metadata": {},
   "outputs": [],
   "source": [
    "# #### FIT  USING TF.data API pipelining\n",
    "# patches = tf.data.Dataset.from_tensor_slices(patches)\n",
    "# patches = patches.batch(10)\n",
    "# def data_generator():\n",
    "#     \"\"\"Generator to yield data from files.\"\"\"\n",
    "#     #random.shuffle(file_list)  # Shuffle files at the beginning of each epoch\n",
    "#     for patches_chunk in patches:\n",
    "#         #data = np.load(file_name)\n",
    "#         for item in patches_chunk:\n",
    "#             yield item\n",
    "\n",
    "# # Define your dataset\n",
    "# dataset = tf.data.Dataset.from_generator(data_generator,\n",
    "#                                          output_signature=(tf.TensorSpec(shape=(...), dtype=tf.float32)))  # Fill in the shape and type\n",
    "# dataset = dataset.shuffle(buffer_size=10000)  # Shuffle data\n",
    "# dataset = dataset.batch(32)  # Batch data\n",
    "# dataset = dataset.repeat()  # Repeat dataset indefinitely\n",
    "# dataset = dataset.prefetch(buffer_size=tf.data.experimental.AUTOTUNE)  # Prefetch data\n",
    "# steps_per_epoch = len(total_data) // batch_size\n",
    "# model.fit(dataset, epochs=100, steps_per_epoch=steps_per_epoch, validation_data=(val_data, val_data))"
   ]
  },
  {
   "cell_type": "code",
   "execution_count": null,
   "metadata": {},
   "outputs": [],
   "source": [
    "#model.save(\"/uio/hume/student-u37/fslippe/data/models/winter_2020_21_autoencoder\")\n",
    "autoencoder.encoder.save(\"/uio/hume/student-u37/fslippe/data/models/winter_2020_21_band(6,20,29)_encoder\")\n",
    "autoencoder.decoder.save(\"/uio/hume/student-u37/fslippe/data/models/winter_2020_21_band(6,20,29)_decoder\")\n"
   ]
  },
  {
   "cell_type": "code",
   "execution_count": null,
   "metadata": {},
   "outputs": [],
   "source": []
  }
 ],
 "metadata": {
  "kernelspec": {
   "display_name": "base",
   "language": "python",
   "name": "python3"
  },
  "language_info": {
   "codemirror_mode": {
    "name": "ipython",
    "version": 3
   },
   "file_extension": ".py",
   "mimetype": "text/x-python",
   "name": "python",
   "nbconvert_exporter": "python",
   "pygments_lexer": "ipython3",
   "version": "3.9.16"
  },
  "orig_nbformat": 4
 },
 "nbformat": 4,
 "nbformat_minor": 2
}
